{
 "cells": [
  {
   "cell_type": "code",
   "execution_count": 1,
   "metadata": {
    "collapsed": true,
    "run_control": {
     "frozen": false,
     "read_only": false
    }
   },
   "outputs": [],
   "source": [
    "import math\n",
    "import warnings\n",
    "\n",
    "from IPython.display import display\n",
    "from matplotlib import pyplot as plt\n",
    "import numpy as np\n",
    "import pandas as pd\n",
    "import seaborn as sns\n",
    "from sklearn import linear_model\n",
    "import statsmodels.formula.api as smf\n",
    "\n",
    "# Display preferences.\n",
    "%matplotlib inline\n",
    "pd.options.display.float_format = '{:.3f}'.format\n",
    "\n",
    "# Suppress annoying harmless error.\n",
    "warnings.filterwarnings(\n",
    "    action=\"ignore\",\n",
    "    module=\"scipy\",\n",
    "    message=\"^internal gelsd\"\n",
    ")"
   ]
  },
  {
   "cell_type": "code",
   "execution_count": 2,
   "metadata": {
    "run_control": {
     "frozen": false,
     "read_only": false
    }
   },
   "outputs": [
    {
     "data": {
      "text/html": [
       "<div>\n",
       "<table border=\"1\" class=\"dataframe\">\n",
       "  <thead>\n",
       "    <tr style=\"text-align: right;\">\n",
       "      <th></th>\n",
       "      <th>Unnamed: 0</th>\n",
       "      <th>TV</th>\n",
       "      <th>Radio</th>\n",
       "      <th>Newspaper</th>\n",
       "      <th>Sales</th>\n",
       "    </tr>\n",
       "  </thead>\n",
       "  <tbody>\n",
       "    <tr>\n",
       "      <th>0</th>\n",
       "      <td>1</td>\n",
       "      <td>230.100</td>\n",
       "      <td>37.800</td>\n",
       "      <td>69.200</td>\n",
       "      <td>22.100</td>\n",
       "    </tr>\n",
       "    <tr>\n",
       "      <th>1</th>\n",
       "      <td>2</td>\n",
       "      <td>44.500</td>\n",
       "      <td>39.300</td>\n",
       "      <td>45.100</td>\n",
       "      <td>10.400</td>\n",
       "    </tr>\n",
       "    <tr>\n",
       "      <th>2</th>\n",
       "      <td>3</td>\n",
       "      <td>17.200</td>\n",
       "      <td>45.900</td>\n",
       "      <td>69.300</td>\n",
       "      <td>9.300</td>\n",
       "    </tr>\n",
       "    <tr>\n",
       "      <th>3</th>\n",
       "      <td>4</td>\n",
       "      <td>151.500</td>\n",
       "      <td>41.300</td>\n",
       "      <td>58.500</td>\n",
       "      <td>18.500</td>\n",
       "    </tr>\n",
       "    <tr>\n",
       "      <th>4</th>\n",
       "      <td>5</td>\n",
       "      <td>180.800</td>\n",
       "      <td>10.800</td>\n",
       "      <td>58.400</td>\n",
       "      <td>12.900</td>\n",
       "    </tr>\n",
       "  </tbody>\n",
       "</table>\n",
       "</div>"
      ],
      "text/plain": [
       "   Unnamed: 0      TV  Radio  Newspaper  Sales\n",
       "0           1 230.100 37.800     69.200 22.100\n",
       "1           2  44.500 39.300     45.100 10.400\n",
       "2           3  17.200 45.900     69.300  9.300\n",
       "3           4 151.500 41.300     58.500 18.500\n",
       "4           5 180.800 10.800     58.400 12.900"
      ]
     },
     "metadata": {},
     "output_type": "display_data"
    },
    {
     "name": "stdout",
     "output_type": "stream",
     "text": [
      "\n",
      "Coefficients: \n",
      " [[ 0.04576465  0.18853002 -0.00103749]]\n",
      "\n",
      "Intercept: \n",
      " [ 2.93888937]\n",
      "\n",
      "R-squared:\n",
      "0.897210638179\n"
     ]
    }
   ],
   "source": [
    "# Acquire, load, and preview the data.\n",
    "data = pd.read_csv('https://tf-curricula-prod.s3.amazonaws.com/data-science/Advertising.csv')\n",
    "display(data.head())\n",
    "\n",
    "# Instantiate and fit our model.\n",
    "regr = linear_model.LinearRegression()\n",
    "Y = data['Sales'].values.reshape(-1, 1)\n",
    "X = data[['TV','Radio','Newspaper']]\n",
    "regr.fit(X, Y)\n",
    "\n",
    "# Inspect the results.\n",
    "print('\\nCoefficients: \\n', regr.coef_)\n",
    "print('\\nIntercept: \\n', regr.intercept_)\n",
    "print('\\nR-squared:')\n",
    "print(regr.score(X, Y))"
   ]
  },
  {
   "cell_type": "code",
   "execution_count": 4,
   "metadata": {
    "run_control": {
     "frozen": false,
     "read_only": false
    }
   },
   "outputs": [
    {
     "data": {
      "image/png": "[encoded data removed]",
      "text/plain": [
       "<matplotlib.figure.Figure at 0x7f658b113cc0>"
      ]
     },
     "metadata": {},
     "output_type": "display_data"
    }
   ],
   "source": [
    "# Extract predicted values.\n",
    "predicted = regr.predict(X).ravel()\n",
    "actual = data['Sales']\n",
    "\n",
    "# Calculate the error, also called the residual.\n",
    "residual = actual - predicted\n",
    "\n",
    "# This looks a bit concerning.\n",
    "plt.hist(residual)\n",
    "plt.title('Residual counts')\n",
    "plt.xlabel('Residual')\n",
    "plt.ylabel('Count')\n",
    "plt.show()"
   ]
  },
  {
   "cell_type": "code",
   "execution_count": 10,
   "metadata": {},
   "outputs": [
    {
     "data": {
      "text/plain": [
       "array([[ 20.52397441],\n",
       "       [ 12.33785482],\n",
       "       [ 12.30767078],\n",
       "       [ 17.59782951],\n",
       "       [ 13.18867186],\n",
       "       [ 12.47834763],\n",
       "       [ 11.72975995],\n",
       "       [ 12.12295317],\n",
       "       [  3.72734086],\n",
       "       [ 12.55084872],\n",
       "       [  7.0322992 ],\n",
       "       [ 17.28512918],\n",
       "       [ 10.57712073],\n",
       "       [  8.82630048],\n",
       "       [ 18.43436638],\n",
       "       [ 20.81929952],\n",
       "       [ 12.82365674],\n",
       "       [ 23.22495716],\n",
       "       [  9.95168206],\n",
       "       [ 14.16607293],\n",
       "       [ 18.10076728],\n",
       "       [ 14.7405382 ],\n",
       "       [  6.4891503 ],\n",
       "       [ 16.5459329 ],\n",
       "       [  8.14651887],\n",
       "       [ 15.6100386 ],\n",
       "       [ 14.98951429],\n",
       "       [ 17.05167344],\n",
       "       [ 19.41053803],\n",
       "       [  9.14402389],\n",
       "       [ 21.6339338 ],\n",
       "       [ 11.3460929 ],\n",
       "       [  7.63888314],\n",
       "       [ 18.86426829],\n",
       "       [  7.57483051],\n",
       "       [ 17.00682618],\n",
       "       [ 23.40590052],\n",
       "       [ 15.62347779],\n",
       "       [  9.90868103],\n",
       "       [ 20.44761039],\n",
       "       [ 16.37766467],\n",
       "       [ 17.2959832 ],\n",
       "       [ 21.59580326],\n",
       "       [ 13.96385684],\n",
       "       [  8.88787996],\n",
       "       [ 15.16152314],\n",
       "       [  8.87338673],\n",
       "       [ 21.7226299 ],\n",
       "       [ 16.26362018],\n",
       "       [  8.1681656 ],\n",
       "       [ 12.63121132],\n",
       "       [  9.33981296],\n",
       "       [ 20.66297563],\n",
       "       [ 19.94469957],\n",
       "       [ 20.37443008],\n",
       "       [ 21.2926106 ],\n",
       "       [  8.52771254],\n",
       "       [ 12.77458802],\n",
       "       [ 21.89805198],\n",
       "       [ 18.13348698],\n",
       "       [  5.74215558],\n",
       "       [ 22.89067208],\n",
       "       [ 16.78426073],\n",
       "       [ 13.21069202],\n",
       "       [ 16.97773556],\n",
       "       [  7.84904532],\n",
       "       [  9.01603163],\n",
       "       [ 12.0370073 ],\n",
       "       [ 18.97657924],\n",
       "       [ 21.10891244],\n",
       "       [ 17.77949782],\n",
       "       [ 10.62693815],\n",
       "       [ 10.36684881],\n",
       "       [  9.90298206],\n",
       "       [ 17.32931197],\n",
       "       [ 11.85832174],\n",
       "       [  4.47758904],\n",
       "       [ 13.81190223],\n",
       "       [  8.81331353],\n",
       "       [  9.67530328],\n",
       "       [ 11.44592364],\n",
       "       [ 14.64794093],\n",
       "       [ 10.17840799],\n",
       "       [ 14.42184212],\n",
       "       [ 20.78136464],\n",
       "       [ 15.18140789],\n",
       "       [ 11.59870739],\n",
       "       [ 15.59378475],\n",
       "       [ 11.71127101],\n",
       "       [ 16.92225511],\n",
       "       [  9.99922965],\n",
       "       [  4.49631598],\n",
       "       [ 19.15639616],\n",
       "       [ 21.22757378],\n",
       "       [ 10.48212385],\n",
       "       [ 16.31492112],\n",
       "       [ 12.63571716],\n",
       "       [ 15.33707782],\n",
       "       [ 24.11860723],\n",
       "       [ 16.94035021],\n",
       "       [ 13.87595844],\n",
       "       [ 23.24248685],\n",
       "       [ 17.64409385],\n",
       "       [ 14.76221142],\n",
       "       [ 20.30110878],\n",
       "       [ 17.93641467],\n",
       "       [  6.12602215],\n",
       "       [  7.10850249],\n",
       "       [  3.58725841],\n",
       "       [ 19.69293106],\n",
       "       [ 14.7598741 ],\n",
       "       [ 21.14027498],\n",
       "       [ 13.88060985],\n",
       "       [ 16.40377623],\n",
       "       [ 15.30509593],\n",
       "       [ 12.91968895],\n",
       "       [ 11.97874744],\n",
       "       [  6.5707774 ],\n",
       "       [ 15.56609348],\n",
       "       [  6.82006767],\n",
       "       [ 14.41010605],\n",
       "       [  7.83807642],\n",
       "       [ 13.6264571 ],\n",
       "       [ 15.0827909 ],\n",
       "       [ 19.45441306],\n",
       "       [  9.12734958],\n",
       "       [ 10.57717411],\n",
       "       [  6.599669  ],\n",
       "       [ 22.25549161],\n",
       "       [  7.88410649],\n",
       "       [ 10.4276871 ],\n",
       "       [ 15.57779819],\n",
       "       [  8.44915012],\n",
       "       [ 19.26692307],\n",
       "       [ 11.8368039 ],\n",
       "       [ 14.00141385],\n",
       "       [ 11.45348627],\n",
       "       [ 20.85125198],\n",
       "       [  9.76842795],\n",
       "       [ 19.67547632],\n",
       "       [  9.48964097],\n",
       "       [ 18.39902932],\n",
       "       [ 19.24986927],\n",
       "       [  8.76480262],\n",
       "       [ 10.09133403],\n",
       "       [  9.70853872],\n",
       "       [ 15.29422368],\n",
       "       [ 23.26086103],\n",
       "       [ 12.26335941],\n",
       "       [  9.8272711 ],\n",
       "       [ 18.36720534],\n",
       "       [ 10.0095377 ],\n",
       "       [ 16.3600003 ],\n",
       "       [ 18.22390132],\n",
       "       [ 15.50161696],\n",
       "       [  5.3075589 ],\n",
       "       [ 15.38485192],\n",
       "       [ 10.0143112 ],\n",
       "       [ 10.38419866],\n",
       "       [ 12.39914823],\n",
       "       [ 14.21383298],\n",
       "       [ 13.55914568],\n",
       "       [ 14.94678206],\n",
       "       [ 17.35163608],\n",
       "       [ 11.0682946 ],\n",
       "       [ 14.22372138],\n",
       "       [ 10.82439531],\n",
       "       [ 13.36324677],\n",
       "       [ 17.1861428 ],\n",
       "       [ 17.9415563 ],\n",
       "       [  7.39497997],\n",
       "       [ 14.35827373],\n",
       "       [  7.60769238],\n",
       "       [ 11.97093887],\n",
       "       [ 13.74435742],\n",
       "       [ 24.78687031],\n",
       "       [ 19.9793727 ],\n",
       "       [ 12.1620464 ],\n",
       "       [ 16.01099722],\n",
       "       [ 12.38455495],\n",
       "       [ 10.5871997 ],\n",
       "       [ 13.92809918],\n",
       "       [  6.55467   ],\n",
       "       [ 24.13310013],\n",
       "       [ 18.53852096],\n",
       "       [ 20.80301059],\n",
       "       [  9.69137313],\n",
       "       [ 17.07644223],\n",
       "       [ 18.64430648],\n",
       "       [  6.05162411],\n",
       "       [ 12.4891591 ],\n",
       "       [  8.42401933],\n",
       "       [  4.46622956],\n",
       "       [ 18.48695797],\n",
       "       [ 16.49530044],\n",
       "       [  5.37034248],\n",
       "       [  8.16531236],\n",
       "       [ 12.78592082],\n",
       "       [ 23.76732149],\n",
       "       [ 15.17319554]])"
      ]
     },
     "execution_count": 10,
     "metadata": {},
     "output_type": "execute_result"
    }
   ],
   "source": [
    "regr.predict(X)"
   ]
  },
  {
   "cell_type": "code",
   "execution_count": 5,
   "metadata": {
    "run_control": {
     "frozen": false,
     "read_only": false
    }
   },
   "outputs": [
    {
     "data": {
      "image/png": "[encoded data removed]",
      "text/plain": [
       "<matplotlib.figure.Figure at 0x7f65a0cfb9e8>"
      ]
     },
     "metadata": {},
     "output_type": "display_data"
    }
   ],
   "source": [
    "plt.scatter(predicted, residual)\n",
    "plt.xlabel('Predicted')\n",
    "plt.ylabel('Residual')\n",
    "plt.axhline(y=0)\n",
    "plt.title('Residual vs. Predicted')\n",
    "plt.show()\n",
    "\n",
    "# Hm... looks a bit concerning."
   ]
  },
  {
   "cell_type": "markdown",
   "metadata": {},
   "source": [
    "## Drill: fixing assumptions\n",
    "\n",
    "Judging from the diagnostic plots, your data has a problem with both heteroscedasticity and multivariate non-normality.  Use the cell(s) below to see what you can do to fix it."
   ]
  },
  {
   "cell_type": "code",
   "execution_count": 18,
   "metadata": {},
   "outputs": [
    {
     "data": {
      "image/png": "[encoded data removed]",
      "text/plain": [
       "<matplotlib.figure.Figure at 0x7f658b0e3b38>"
      ]
     },
     "metadata": {},
     "output_type": "display_data"
    }
   ],
   "source": [
    "# Extract predicted values.\n",
    "predicted = regr.predict(X).ravel()\n",
    "actual = data['Sales']\n",
    "\n",
    "# Calculate the error, also called the residual.\n",
    "residual = actual - predicted\n",
    "\n",
    "# This looks a bit concerning.\n",
    "plt.hist(residual)\n",
    "plt.title('Residual counts')\n",
    "plt.xlabel('Residual')\n",
    "plt.ylabel('Count')\n",
    "plt.show()"
   ]
  },
  {
   "cell_type": "code",
   "execution_count": 21,
   "metadata": {},
   "outputs": [
    {
     "data": {
      "text/plain": [
       "130   -8.828\n",
       "Name: Sales, dtype: float64"
      ]
     },
     "execution_count": 21,
     "metadata": {},
     "output_type": "execute_result"
    }
   ],
   "source": [
    "residual[residual < -6]"
   ]
  },
  {
   "cell_type": "code",
   "execution_count": 22,
   "metadata": {},
   "outputs": [
    {
     "data": {
      "text/plain": [
       "TV           0.700\n",
       "Radio       39.600\n",
       "Newspaper    8.700\n",
       "Name: 130, dtype: float64"
      ]
     },
     "execution_count": 22,
     "metadata": {},
     "output_type": "execute_result"
    }
   ],
   "source": [
    "X.iloc[130,]"
   ]
  },
  {
   "cell_type": "code",
   "execution_count": 23,
   "metadata": {},
   "outputs": [
    {
     "name": "stderr",
     "output_type": "stream",
     "text": [
      "/opt/conda/lib/python3.5/site-packages/sklearn/utils/validation.py:395: DeprecationWarning: Passing 1d arrays as data is deprecated in 0.17 and will raise ValueError in 0.19. Reshape your data either using X.reshape(-1, 1) if your data has a single feature or X.reshape(1, -1) if it contains a single sample.\n",
      "  DeprecationWarning)\n"
     ]
    },
    {
     "data": {
      "text/plain": [
       "array([[ 10.4276871]])"
      ]
     },
     "execution_count": 23,
     "metadata": {},
     "output_type": "execute_result"
    }
   ],
   "source": [
    "regr.predict([0.700, 39.600, 8.700])"
   ]
  },
  {
   "cell_type": "code",
   "execution_count": 24,
   "metadata": {},
   "outputs": [
    {
     "data": {
      "text/plain": [
       "1.6000000000000001"
      ]
     },
     "execution_count": 24,
     "metadata": {},
     "output_type": "execute_result"
    }
   ],
   "source": [
    "actual.iloc[130,]"
   ]
  },
  {
   "cell_type": "code",
   "execution_count": 25,
   "metadata": {
    "collapsed": true
   },
   "outputs": [],
   "source": [
    "data['sum_ad'] = data['TV'] + data['Radio'] + data['Newspaper']"
   ]
  },
  {
   "cell_type": "code",
   "execution_count": 28,
   "metadata": {
    "scrolled": true
   },
   "outputs": [
    {
     "data": {
      "text/plain": [
       "<matplotlib.axes._subplots.AxesSubplot at 0x7f6588076080>"
      ]
     },
     "execution_count": 28,
     "metadata": {},
     "output_type": "execute_result"
    },
    {
     "data": {
      "image/png": "[encoded data removed]",
      "text/plain": [
       "<matplotlib.figure.Figure at 0x7f6588081a20>"
      ]
     },
     "metadata": {},
     "output_type": "display_data"
    }
   ],
   "source": [
    "data['sum_ad'].hist(bins=20)"
   ]
  },
  {
   "cell_type": "code",
   "execution_count": 31,
   "metadata": {
    "collapsed": true
   },
   "outputs": [],
   "source": [
    "import math"
   ]
  },
  {
   "cell_type": "code",
   "execution_count": 32,
   "metadata": {},
   "outputs": [],
   "source": [
    "data['log_Sales'] = data['Sales'].apply(lambda x: math.log(x))"
   ]
  },
  {
   "cell_type": "code",
   "execution_count": 34,
   "metadata": {},
   "outputs": [
    {
     "name": "stdout",
     "output_type": "stream",
     "text": [
      "\n",
      "Coefficients: \n",
      " [[ 0.0036697   0.01180192  0.00035437]]\n",
      "\n",
      "Intercept: \n",
      " [ 1.73900201]\n",
      "\n",
      "R-squared:\n",
      "0.799764371945\n"
     ]
    }
   ],
   "source": [
    "# Instantiate and fit our model.\n",
    "regr_log = linear_model.LinearRegression()\n",
    "Y_log = data['log_Sales'].values.reshape(-1, 1)\n",
    "X_log = data[['TV','Radio','Newspaper']]\n",
    "regr_log.fit(X_log, Y_log)\n",
    "\n",
    "# Inspect the results.\n",
    "print('\\nCoefficients: \\n', regr_log.coef_)\n",
    "print('\\nIntercept: \\n', regr_log.intercept_)\n",
    "print('\\nR-squared:')\n",
    "print(regr_log.score(X_log, Y_log))"
   ]
  },
  {
   "cell_type": "code",
   "execution_count": 35,
   "metadata": {},
   "outputs": [
    {
     "data": {
      "image/png": "[encoded data removed]",
      "text/plain": [
       "<matplotlib.figure.Figure at 0x7f6588012e10>"
      ]
     },
     "metadata": {},
     "output_type": "display_data"
    }
   ],
   "source": [
    "# Extract predicted values.\n",
    "predicted_log = regr_log.predict(X_log).ravel()\n",
    "actual_log = data['log_Sales']\n",
    "\n",
    "# Calculate the error, also called the residual.\n",
    "residual_log = actual_log - predicted_log\n",
    "\n",
    "# This looks a bit concerning.\n",
    "plt.hist(residual_log)\n",
    "plt.title('Residual counts')\n",
    "plt.xlabel('Residual')\n",
    "plt.ylabel('Count')\n",
    "plt.show()"
   ]
  },
  {
   "cell_type": "code",
   "execution_count": 44,
   "metadata": {
    "collapsed": true
   },
   "outputs": [],
   "source": [
    "data['sqrt_TV'] = data['TV'] ** 0.5"
   ]
  },
  {
   "cell_type": "code",
   "execution_count": 46,
   "metadata": {},
   "outputs": [
    {
     "data": {
      "text/plain": [
       "<matplotlib.collections.PathCollection at 0x7f6587c59748>"
      ]
     },
     "execution_count": 46,
     "metadata": {},
     "output_type": "execute_result"
    },
    {
     "data": {
      "image/png": "[encoded data removed]",
      "text/plain": [
       "<matplotlib.figure.Figure at 0x7f6587b90470>"
      ]
     },
     "metadata": {},
     "output_type": "display_data"
    }
   ],
   "source": [
    "plt.scatter(data['TV'], data['Sales'])"
   ]
  },
  {
   "cell_type": "code",
   "execution_count": 45,
   "metadata": {},
   "outputs": [
    {
     "data": {
      "text/plain": [
       "<matplotlib.collections.PathCollection at 0x7f6587bd36d8>"
      ]
     },
     "execution_count": 45,
     "metadata": {},
     "output_type": "execute_result"
    },
    {
     "data": {
      "image/png": "[encoded data removed]",
      "text/plain": [
       "<matplotlib.figure.Figure at 0x7f6587d4d438>"
      ]
     },
     "metadata": {},
     "output_type": "display_data"
    }
   ],
   "source": [
    "plt.scatter(data['sqrt_TV'], data['Sales'])"
   ]
  },
  {
   "cell_type": "code",
   "execution_count": 38,
   "metadata": {},
   "outputs": [
    {
     "data": {
      "text/plain": [
       "<matplotlib.collections.PathCollection at 0x7f6587e80d30>"
      ]
     },
     "execution_count": 38,
     "metadata": {},
     "output_type": "execute_result"
    },
    {
     "data": {
      "image/png": "[encoded data removed]",
      "text/plain": [
       "<matplotlib.figure.Figure at 0x7f6587dd1a20>"
      ]
     },
     "metadata": {},
     "output_type": "display_data"
    }
   ],
   "source": [
    "plt.scatter(data['Radio'], data['Sales'])"
   ]
  },
  {
   "cell_type": "code",
   "execution_count": 39,
   "metadata": {},
   "outputs": [
    {
     "data": {
      "text/plain": [
       "<matplotlib.collections.PathCollection at 0x7f65880e4cf8>"
      ]
     },
     "execution_count": 39,
     "metadata": {},
     "output_type": "execute_result"
    },
    {
     "data": {
      "image/png": "[encoded data removed]",
      "text/plain": [
       "<matplotlib.figure.Figure at 0x7f6587e64518>"
      ]
     },
     "metadata": {},
     "output_type": "display_data"
    }
   ],
   "source": [
    "plt.scatter(data['Newspaper'], data['Sales'])"
   ]
  },
  {
   "cell_type": "code",
   "execution_count": 47,
   "metadata": {},
   "outputs": [
    {
     "name": "stdout",
     "output_type": "stream",
     "text": [
      "\n",
      "Coefficients: \n",
      " [[  9.74947557e-01   1.94767873e-01  -5.25277959e-04]]\n",
      "\n",
      "Intercept: \n",
      " [-1.60927984]\n",
      "\n",
      "R-squared:\n",
      "0.928954905381\n"
     ]
    },
    {
     "data": {
      "image/png": "[encoded data removed]",
      "text/plain": [
       "<matplotlib.figure.Figure at 0x7f6587c84630>"
      ]
     },
     "metadata": {},
     "output_type": "display_data"
    }
   ],
   "source": [
    "# Instantiate and fit our model.\n",
    "regr_sqrt = linear_model.LinearRegression()\n",
    "Y_sqrt = data['Sales'].values.reshape(-1, 1)\n",
    "X_sqrt = data[['sqrt_TV','Radio','Newspaper']]\n",
    "regr_sqrt.fit(X_sqrt, Y_sqrt)\n",
    "\n",
    "# Inspect the results.\n",
    "print('\\nCoefficients: \\n', regr_sqrt.coef_)\n",
    "print('\\nIntercept: \\n', regr_sqrt.intercept_)\n",
    "print('\\nR-squared:')\n",
    "print(regr_sqrt.score(X_sqrt, Y_sqrt))\n",
    "\n",
    "# Extract predicted values.\n",
    "predicted_sqrt = regr_sqrt.predict(X_sqrt).ravel()\n",
    "actual_sqrt = data['log_Sales']\n",
    "\n",
    "# Calculate the error, also called the residual.\n",
    "residual_sqrt = actual_sqrt - predicted_sqrt\n",
    "\n",
    "# This looks a bit concerning.\n",
    "plt.hist(residual_sqrt)\n",
    "plt.title('Residual counts')\n",
    "plt.xlabel('Residual')\n",
    "plt.ylabel('Count')\n",
    "plt.show()"
   ]
  },
  {
   "cell_type": "code",
   "execution_count": 48,
   "metadata": {},
   "outputs": [
    {
     "data": {
      "image/png": "[encoded data removed]",
      "text/plain": [
       "<matplotlib.figure.Figure at 0x7f6587b900b8>"
      ]
     },
     "metadata": {},
     "output_type": "display_data"
    }
   ],
   "source": [
    "plt.scatter(predicted_sqrt, residual_sqrt)\n",
    "plt.xlabel('Predicted')\n",
    "plt.ylabel('Residual')\n",
    "plt.axhline(y=0)\n",
    "plt.title('Residual vs. Predicted')\n",
    "plt.show()\n",
    "\n",
    "# Hm... looks a bit concerning."
   ]
  },
  {
   "cell_type": "code",
   "execution_count": null,
   "metadata": {
    "collapsed": true
   },
   "outputs": [],
   "source": []
  }
 ],
 "metadata": {
  "hide_input": false,
  "kernelspec": {
   "display_name": "Python 3",
   "language": "python",
   "name": "python3"
  },
  "language_info": {
   "codemirror_mode": {
    "name": "ipython",
    "version": 3
   },
   "file_extension": ".py",
   "mimetype": "text/x-python",
   "name": "python",
   "nbconvert_exporter": "python",
   "pygments_lexer": "ipython3",
   "version": "3.6.5"
  },
  "toc": {
   "colors": {
    "hover_highlight": "#DAA520",
    "running_highlight": "#FF0000",
    "selected_highlight": "#FFD700"
   },
   "moveMenuLeft": true,
   "nav_menu": {
    "height": "59px",
    "width": "252px"
   },
   "navigate_menu": true,
   "number_sections": true,
   "sideBar": true,
   "threshold": 4,
   "toc_cell": false,
   "toc_section_display": "block",
   "toc_window_display": false
  }
 },
 "nbformat": 4,
 "nbformat_minor": 2
}
