{
 "cells": [
  {
   "cell_type": "code",
   "execution_count": 8,
   "metadata": {
    "collapsed": true
   },
   "outputs": [],
   "source": [
    "import matplotlib.pyplot as plt\n",
    "import numpy as np\n",
    "import pandas as pd  \n",
    "import seaborn as sns \n",
    "\n",
    "%matplotlib inline"
   ]
  },
  {
   "cell_type": "code",
   "execution_count": 9,
   "metadata": {},
   "outputs": [
    {
     "data": {
      "text/html": [
       "<div>\n",
       "<style>\n",
       "    .dataframe thead tr:only-child th {\n",
       "        text-align: right;\n",
       "    }\n",
       "\n",
       "    .dataframe thead th {\n",
       "        text-align: left;\n",
       "    }\n",
       "\n",
       "    .dataframe tbody tr th {\n",
       "        vertical-align: top;\n",
       "    }\n",
       "</style>\n",
       "<table border=\"1\" class=\"dataframe\">\n",
       "  <thead>\n",
       "    <tr style=\"text-align: right;\">\n",
       "      <th></th>\n",
       "      <th>YEAR</th>\n",
       "      <th>ID</th>\n",
       "      <th>INTID</th>\n",
       "      <th>FEEUSED</th>\n",
       "      <th>FEELEVEL</th>\n",
       "      <th>DATEINTV</th>\n",
       "      <th>LNGTHINV</th>\n",
       "      <th>INTAGE</th>\n",
       "      <th>INTETHN</th>\n",
       "      <th>MODE</th>\n",
       "      <th>...</th>\n",
       "      <th>SAMPCODE</th>\n",
       "      <th>SAMPLE</th>\n",
       "      <th>OVERSAMP</th>\n",
       "      <th>WTSS</th>\n",
       "      <th>WTSSNR</th>\n",
       "      <th>WTSSALL</th>\n",
       "      <th>WTCOMB</th>\n",
       "      <th>WTCOMBNR</th>\n",
       "      <th>VSTRAT</th>\n",
       "      <th>VPSU</th>\n",
       "    </tr>\n",
       "  </thead>\n",
       "  <tbody>\n",
       "    <tr>\n",
       "      <th>0</th>\n",
       "      <td>2012</td>\n",
       "      <td>1</td>\n",
       "      <td>49</td>\n",
       "      <td>1</td>\n",
       "      <td>75</td>\n",
       "      <td>721</td>\n",
       "      <td>69</td>\n",
       "      <td>60</td>\n",
       "      <td>1</td>\n",
       "      <td>1</td>\n",
       "      <td>...</td>\n",
       "      <td>601</td>\n",
       "      <td>10</td>\n",
       "      <td>1</td>\n",
       "      <td>2.621963</td>\n",
       "      <td>2.869532</td>\n",
       "      <td>2.621963</td>\n",
       "      <td>6.402159</td>\n",
       "      <td>7.006659</td>\n",
       "      <td>-1</td>\n",
       "      <td>-1</td>\n",
       "    </tr>\n",
       "    <tr>\n",
       "      <th>1</th>\n",
       "      <td>2012</td>\n",
       "      <td>2</td>\n",
       "      <td>150</td>\n",
       "      <td>1</td>\n",
       "      <td>75</td>\n",
       "      <td>624</td>\n",
       "      <td>53</td>\n",
       "      <td>32</td>\n",
       "      <td>1</td>\n",
       "      <td>1</td>\n",
       "      <td>...</td>\n",
       "      <td>601</td>\n",
       "      <td>10</td>\n",
       "      <td>1</td>\n",
       "      <td>3.495950</td>\n",
       "      <td>3.826043</td>\n",
       "      <td>3.495950</td>\n",
       "      <td>6.514477</td>\n",
       "      <td>7.129583</td>\n",
       "      <td>-1</td>\n",
       "      <td>-1</td>\n",
       "    </tr>\n",
       "    <tr>\n",
       "      <th>2</th>\n",
       "      <td>2012</td>\n",
       "      <td>3</td>\n",
       "      <td>150</td>\n",
       "      <td>1</td>\n",
       "      <td>75</td>\n",
       "      <td>627</td>\n",
       "      <td>77</td>\n",
       "      <td>32</td>\n",
       "      <td>1</td>\n",
       "      <td>1</td>\n",
       "      <td>...</td>\n",
       "      <td>601</td>\n",
       "      <td>10</td>\n",
       "      <td>1</td>\n",
       "      <td>1.747975</td>\n",
       "      <td>1.913021</td>\n",
       "      <td>1.747975</td>\n",
       "      <td>1.671130</td>\n",
       "      <td>1.828920</td>\n",
       "      <td>-1</td>\n",
       "      <td>-1</td>\n",
       "    </tr>\n",
       "    <tr>\n",
       "      <th>3</th>\n",
       "      <td>2012</td>\n",
       "      <td>4</td>\n",
       "      <td>49</td>\n",
       "      <td>1</td>\n",
       "      <td>20</td>\n",
       "      <td>527</td>\n",
       "      <td>78</td>\n",
       "      <td>60</td>\n",
       "      <td>1</td>\n",
       "      <td>1</td>\n",
       "      <td>...</td>\n",
       "      <td>601</td>\n",
       "      <td>10</td>\n",
       "      <td>1</td>\n",
       "      <td>1.235694</td>\n",
       "      <td>1.352370</td>\n",
       "      <td>1.235694</td>\n",
       "      <td>1.181370</td>\n",
       "      <td>1.292917</td>\n",
       "      <td>-1</td>\n",
       "      <td>-1</td>\n",
       "    </tr>\n",
       "    <tr>\n",
       "      <th>4</th>\n",
       "      <td>2012</td>\n",
       "      <td>5</td>\n",
       "      <td>235</td>\n",
       "      <td>1</td>\n",
       "      <td>75</td>\n",
       "      <td>620</td>\n",
       "      <td>149</td>\n",
       "      <td>62</td>\n",
       "      <td>1</td>\n",
       "      <td>1</td>\n",
       "      <td>...</td>\n",
       "      <td>601</td>\n",
       "      <td>10</td>\n",
       "      <td>1</td>\n",
       "      <td>0.873988</td>\n",
       "      <td>0.956511</td>\n",
       "      <td>0.873988</td>\n",
       "      <td>0.835565</td>\n",
       "      <td>0.914460</td>\n",
       "      <td>-1</td>\n",
       "      <td>-1</td>\n",
       "    </tr>\n",
       "  </tbody>\n",
       "</table>\n",
       "<p>5 rows × 1069 columns</p>\n",
       "</div>"
      ],
      "text/plain": [
       "   YEAR  ID  INTID  FEEUSED  FEELEVEL  DATEINTV  LNGTHINV  INTAGE  INTETHN  \\\n",
       "0  2012   1     49        1        75       721        69      60        1   \n",
       "1  2012   2    150        1        75       624        53      32        1   \n",
       "2  2012   3    150        1        75       627        77      32        1   \n",
       "3  2012   4     49        1        20       527        78      60        1   \n",
       "4  2012   5    235        1        75       620       149      62        1   \n",
       "\n",
       "   MODE  ...   SAMPCODE  SAMPLE  OVERSAMP      WTSS    WTSSNR   WTSSALL  \\\n",
       "0     1  ...        601      10         1  2.621963  2.869532  2.621963   \n",
       "1     1  ...        601      10         1  3.495950  3.826043  3.495950   \n",
       "2     1  ...        601      10         1  1.747975  1.913021  1.747975   \n",
       "3     1  ...        601      10         1  1.235694  1.352370  1.235694   \n",
       "4     1  ...        601      10         1  0.873988  0.956511  0.873988   \n",
       "\n",
       "     WTCOMB  WTCOMBNR  VSTRAT  VPSU  \n",
       "0  6.402159  7.006659      -1    -1  \n",
       "1  6.514477  7.129583      -1    -1  \n",
       "2  1.671130  1.828920      -1    -1  \n",
       "3  1.181370  1.292917      -1    -1  \n",
       "4  0.835565  0.914460      -1    -1  \n",
       "\n",
       "[5 rows x 1069 columns]"
      ]
     },
     "execution_count": 9,
     "metadata": {},
     "output_type": "execute_result"
    }
   ],
   "source": [
    "df = pd.read_table(\"ICPSR_35478/DS0001/35478-0001-Data.tsv\")\n",
    "df.head()"
   ]
  },
  {
   "cell_type": "code",
   "execution_count": 10,
   "metadata": {
    "collapsed": true
   },
   "outputs": [],
   "source": [
    "columns = ['YEAR', 'ID', 'AGE',\n",
    "    'GIVBLOOD','GIVHMLSS', 'RETCHNGE', 'CUTAHEAD', 'VOLCHRTY', 'GIVCHRTY', 'GIVSEAT', \n",
    "    'HELPAWAY', 'CARRIED', 'DIRECTNS', 'LOANITEM', 'SELFLESS', 'ACCPTOTH', 'OTHSHELP', \n",
    "    'CARESELF', 'PEOPTRBL', 'SELFFRST', 'VOLMONTH', \n",
    "    'MAWRKSLF', 'MAOCC10', 'MAIND10',\n",
    "    'SIBS', 'CHILDS',\n",
    "    'PAOCC10', 'PAWRKSLF', 'PAIND10', \n",
    "    'RINCOME', 'RINCOM06', 'REALRINC']\n",
    "df_int = df[columns]"
   ]
  },
  {
   "cell_type": "code",
   "execution_count": 24,
   "metadata": {},
   "outputs": [
    {
     "data": {
      "text/plain": [
       "<matplotlib.text.Text at 0x7f5e3431bfd0>"
      ]
     },
     "execution_count": 24,
     "metadata": {},
     "output_type": "execute_result"
    },
    {
     "data": {
      "image/png": "[encoded data removed]",
      "text/plain": [
       "<matplotlib.figure.Figure at 0x7f5e34222f28>"
      ]
     },
     "metadata": {},
     "output_type": "display_data"
    }
   ],
   "source": [
    "plt.hist(df_int['AGE'],bins=30)\n",
    "plt.ylabel(\"Count\")\n",
    "plt.xlabel(\"Age\")"
   ]
  },
  {
   "cell_type": "code",
   "execution_count": 42,
   "metadata": {},
   "outputs": [
    {
     "data": {
      "image/png": "[encoded data removed]",
      "text/plain": [
       "<matplotlib.figure.Figure at 0x7f5e3358d780>"
      ]
     },
     "metadata": {},
     "output_type": "display_data"
    }
   ],
   "source": [
    "df_int['AGE'].hist();"
   ]
  },
  {
   "cell_type": "code",
   "execution_count": 12,
   "metadata": {
    "collapsed": true
   },
   "outputs": [],
   "source": [
    "df_int = df_int[(df_int['AGE'] >= 18) & (df_int['AGE'] <= 66)]\n",
    "age_bins = pd.cut(df_int['AGE'],\n",
    "                  [18, 26, 34, 42, 50, 58, 66], \n",
    "                  include_lowest=True)\n",
    "df_int = df_int.assign(AGEBIN = age_bins)"
   ]
  },
  {
   "cell_type": "code",
   "execution_count": 30,
   "metadata": {},
   "outputs": [
    {
     "data": {
      "text/html": [
       "<div>\n",
       "<style>\n",
       "    .dataframe thead tr:only-child th {\n",
       "        text-align: right;\n",
       "    }\n",
       "\n",
       "    .dataframe thead th {\n",
       "        text-align: left;\n",
       "    }\n",
       "\n",
       "    .dataframe tbody tr th {\n",
       "        vertical-align: top;\n",
       "    }\n",
       "</style>\n",
       "<table border=\"1\" class=\"dataframe\">\n",
       "  <thead>\n",
       "    <tr style=\"text-align: right;\">\n",
       "      <th></th>\n",
       "      <th>GIVBLOOD</th>\n",
       "      <th>GIVHMLSS</th>\n",
       "      <th>RETCHNGE</th>\n",
       "      <th>CUTAHEAD</th>\n",
       "      <th>VOLCHRTY</th>\n",
       "      <th>GIVCHRTY</th>\n",
       "      <th>GIVSEAT</th>\n",
       "      <th>HELPAWAY</th>\n",
       "      <th>CARRIED</th>\n",
       "      <th>DIRECTNS</th>\n",
       "      <th>LOANITEM</th>\n",
       "    </tr>\n",
       "  </thead>\n",
       "  <tbody>\n",
       "    <tr>\n",
       "      <th>0</th>\n",
       "      <td>6</td>\n",
       "      <td>5</td>\n",
       "      <td>5</td>\n",
       "      <td>5</td>\n",
       "      <td>7</td>\n",
       "      <td>6</td>\n",
       "      <td>6</td>\n",
       "      <td>6</td>\n",
       "      <td>7</td>\n",
       "      <td>6</td>\n",
       "      <td>7</td>\n",
       "    </tr>\n",
       "    <tr>\n",
       "      <th>1</th>\n",
       "      <td>7</td>\n",
       "      <td>6</td>\n",
       "      <td>6</td>\n",
       "      <td>7</td>\n",
       "      <td>7</td>\n",
       "      <td>5</td>\n",
       "      <td>7</td>\n",
       "      <td>5</td>\n",
       "      <td>6</td>\n",
       "      <td>6</td>\n",
       "      <td>7</td>\n",
       "    </tr>\n",
       "    <tr>\n",
       "      <th>2</th>\n",
       "      <td>7</td>\n",
       "      <td>7</td>\n",
       "      <td>6</td>\n",
       "      <td>5</td>\n",
       "      <td>7</td>\n",
       "      <td>7</td>\n",
       "      <td>6</td>\n",
       "      <td>7</td>\n",
       "      <td>6</td>\n",
       "      <td>5</td>\n",
       "      <td>6</td>\n",
       "    </tr>\n",
       "    <tr>\n",
       "      <th>3</th>\n",
       "      <td>1</td>\n",
       "      <td>1</td>\n",
       "      <td>1</td>\n",
       "      <td>1</td>\n",
       "      <td>1</td>\n",
       "      <td>1</td>\n",
       "      <td>1</td>\n",
       "      <td>1</td>\n",
       "      <td>1</td>\n",
       "      <td>1</td>\n",
       "      <td>1</td>\n",
       "    </tr>\n",
       "    <tr>\n",
       "      <th>5</th>\n",
       "      <td>7</td>\n",
       "      <td>4</td>\n",
       "      <td>7</td>\n",
       "      <td>4</td>\n",
       "      <td>7</td>\n",
       "      <td>5</td>\n",
       "      <td>7</td>\n",
       "      <td>6</td>\n",
       "      <td>7</td>\n",
       "      <td>4</td>\n",
       "      <td>5</td>\n",
       "    </tr>\n",
       "  </tbody>\n",
       "</table>\n",
       "</div>"
      ],
      "text/plain": [
       "   GIVBLOOD  GIVHMLSS  RETCHNGE  CUTAHEAD  VOLCHRTY  GIVCHRTY  GIVSEAT  \\\n",
       "0         6         5         5         5         7         6        6   \n",
       "1         7         6         6         7         7         5        7   \n",
       "2         7         7         6         5         7         7        6   \n",
       "3         1         1         1         1         1         1        1   \n",
       "5         7         4         7         4         7         5        7   \n",
       "\n",
       "   HELPAWAY  CARRIED  DIRECTNS  LOANITEM  \n",
       "0         6        7         6         7  \n",
       "1         5        6         6         7  \n",
       "2         7        6         5         6  \n",
       "3         1        1         1         1  \n",
       "5         6        7         4         5  "
      ]
     },
     "execution_count": 30,
     "metadata": {},
     "output_type": "execute_result"
    }
   ],
   "source": [
    "df_int[actions_cols].apply(lambda x: , axis=1).head()"
   ]
  },
  {
   "cell_type": "code",
   "execution_count": 32,
   "metadata": {
    "collapsed": true
   },
   "outputs": [],
   "source": [
    "actions_cols = ['GIVBLOOD','GIVHMLSS', 'RETCHNGE', 'CUTAHEAD', 'VOLCHRTY', 'GIVCHRTY', 'GIVSEAT', \n",
    "    'HELPAWAY', 'CARRIED', 'DIRECTNS', 'LOANITEM']\n",
    "\n",
    "# TODO Shorten by an apply.\n",
    "df_int['present'] = df_int[actions_cols].apply(lambda x: (x >= 1) & (x <= 6)).apply(lambda x: x.all(), axis=1)"
   ]
  },
  {
   "cell_type": "code",
   "execution_count": 41,
   "metadata": {},
   "outputs": [
    {
     "data": {
      "image/png": "[encoded data removed]",
      "text/plain": [
       "<matplotlib.figure.Figure at 0x7f5e2b48c7f0>"
      ]
     },
     "metadata": {},
     "output_type": "display_data"
    }
   ],
   "source": [
    "df_actions = df_int[df_int['present']]\n",
    "actions_cols = ['AGEBIN', 'GIVBLOOD','GIVHMLSS', 'RETCHNGE', 'CUTAHEAD', 'VOLCHRTY', 'GIVCHRTY', 'GIVSEAT', \n",
    "    'HELPAWAY', 'CARRIED', 'DIRECTNS', 'LOANITEM']\n",
    "plt.figure(figsize=(10,6))\n",
    "sns.heatmap(df_actions[actions_cols].groupby('AGEBIN').sum().transpose(), cmap=\"BuGn_r\"); "
   ]
  },
  {
   "cell_type": "markdown",
   "metadata": {},
   "source": [
    "Self-employed 1\n",
    "Someone else 2\n",
    "\n",
    "Strongly agree 1\n",
    "Agree 2\n",
    "Neither agree nor disagree 3\n",
    "Disagree 4\n",
    "Strongly disagree 5\n",
    "\n",
    "MAWRKSLF\n",
    "PAWRKSLF\n",
    "\n",
    "OTHSHELP - PEOPLE SHOULD HELP LESS FORTUNATE OTHERS \n",
    "CARESELF - THOSE IN NEED HAVE TO TAKE CARE OF THEMSELVES "
   ]
  },
  {
   "cell_type": "code",
   "execution_count": 43,
   "metadata": {
    "collapsed": true
   },
   "outputs": [],
   "source": [
    "values_cols = ['OTHSHELP', 'CARESELF']\n",
    "\n",
    "df_int = df_int.assign(values_present=df_int[values_cols].apply(lambda x: (x >= 1) & (x <= 5)).apply(lambda x: x.all(), axis=1))\n",
    "\n",
    "parent_work = ['MAWRKSLF', 'PAWRKSLF']\n",
    "df_int = df_int.assign(work_self_present=df_int[parent_work].apply(lambda x: (x >= 1) & (x <= 2)).apply(lambda x: x.all(), axis=1))\n",
    "df_values = df_int[df_int['work_self_present'] & df_int['values_present']]"
   ]
  },
  {
   "cell_type": "code",
   "execution_count": 44,
   "metadata": {},
   "outputs": [
    {
     "data": {
      "text/plain": [
       "5     4\n",
       "9     4\n",
       "13    4\n",
       "15    4\n",
       "21    4\n",
       "Name: both_pa_wrk, dtype: int64"
      ]
     },
     "execution_count": 44,
     "metadata": {},
     "output_type": "execute_result"
    }
   ],
   "source": [
    "df_values = df_values.assign(both_pa_wrk=df_values['MAWRKSLF'] + df_values['PAWRKSLF'])\n",
    "df_values.head()['both_pa_wrk']"
   ]
  },
  {
   "cell_type": "code",
   "execution_count": 17,
   "metadata": {},
   "outputs": [
    {
     "data": {
      "text/html": [
       "<div>\n",
       "<style>\n",
       "    .dataframe thead tr:only-child th {\n",
       "        text-align: right;\n",
       "    }\n",
       "\n",
       "    .dataframe thead th {\n",
       "        text-align: left;\n",
       "    }\n",
       "\n",
       "    .dataframe tbody tr th {\n",
       "        vertical-align: top;\n",
       "    }\n",
       "</style>\n",
       "<table border=\"1\" class=\"dataframe\">\n",
       "  <thead>\n",
       "    <tr style=\"text-align: right;\">\n",
       "      <th></th>\n",
       "      <th>MAWRKSLF</th>\n",
       "      <th>PAWRKSLF</th>\n",
       "      <th>OTHSHELP</th>\n",
       "      <th>CARESELF</th>\n",
       "      <th>both_pa_wrk</th>\n",
       "    </tr>\n",
       "  </thead>\n",
       "  <tbody>\n",
       "    <tr>\n",
       "      <th>1</th>\n",
       "      <td>79.0</td>\n",
       "      <td>130.0</td>\n",
       "      <td>236</td>\n",
       "      <td>68</td>\n",
       "      <td>NaN</td>\n",
       "    </tr>\n",
       "    <tr>\n",
       "      <th>2</th>\n",
       "      <td>541.0</td>\n",
       "      <td>490.0</td>\n",
       "      <td>333</td>\n",
       "      <td>265</td>\n",
       "      <td>30.0</td>\n",
       "    </tr>\n",
       "    <tr>\n",
       "      <th>3</th>\n",
       "      <td>NaN</td>\n",
       "      <td>NaN</td>\n",
       "      <td>44</td>\n",
       "      <td>165</td>\n",
       "      <td>149.0</td>\n",
       "    </tr>\n",
       "    <tr>\n",
       "      <th>4</th>\n",
       "      <td>NaN</td>\n",
       "      <td>NaN</td>\n",
       "      <td>6</td>\n",
       "      <td>110</td>\n",
       "      <td>441.0</td>\n",
       "    </tr>\n",
       "    <tr>\n",
       "      <th>5</th>\n",
       "      <td>NaN</td>\n",
       "      <td>NaN</td>\n",
       "      <td>1</td>\n",
       "      <td>12</td>\n",
       "      <td>NaN</td>\n",
       "    </tr>\n",
       "  </tbody>\n",
       "</table>\n",
       "</div>"
      ],
      "text/plain": [
       "   MAWRKSLF  PAWRKSLF  OTHSHELP  CARESELF  both_pa_wrk\n",
       "1      79.0     130.0       236        68          NaN\n",
       "2     541.0     490.0       333       265         30.0\n",
       "3       NaN       NaN        44       165        149.0\n",
       "4       NaN       NaN         6       110        441.0\n",
       "5       NaN       NaN         1        12          NaN"
      ]
     },
     "execution_count": 17,
     "metadata": {},
     "output_type": "execute_result"
    }
   ],
   "source": [
    "df_values[['MAWRKSLF', 'PAWRKSLF', 'OTHSHELP', 'CARESELF', 'both_pa_wrk']].apply(lambda x: x.value_counts())"
   ]
  },
  {
   "cell_type": "code",
   "execution_count": 18,
   "metadata": {},
   "outputs": [
    {
     "data": {
      "text/html": [
       "<div>\n",
       "<style>\n",
       "    .dataframe thead tr:only-child th {\n",
       "        text-align: right;\n",
       "    }\n",
       "\n",
       "    .dataframe thead th {\n",
       "        text-align: left;\n",
       "    }\n",
       "\n",
       "    .dataframe tbody tr th {\n",
       "        vertical-align: top;\n",
       "    }\n",
       "</style>\n",
       "<table border=\"1\" class=\"dataframe\">\n",
       "  <thead>\n",
       "    <tr style=\"text-align: right;\">\n",
       "      <th></th>\n",
       "      <th>CARESELF</th>\n",
       "      <th>OTHSHELP</th>\n",
       "    </tr>\n",
       "    <tr>\n",
       "      <th>both_pa_wrk</th>\n",
       "      <th></th>\n",
       "      <th></th>\n",
       "    </tr>\n",
       "  </thead>\n",
       "  <tbody>\n",
       "    <tr>\n",
       "      <th>2</th>\n",
       "      <td>2.533333</td>\n",
       "      <td>1.633333</td>\n",
       "    </tr>\n",
       "    <tr>\n",
       "      <th>3</th>\n",
       "      <td>2.563758</td>\n",
       "      <td>1.657718</td>\n",
       "    </tr>\n",
       "    <tr>\n",
       "      <th>4</th>\n",
       "      <td>2.573696</td>\n",
       "      <td>1.739229</td>\n",
       "    </tr>\n",
       "  </tbody>\n",
       "</table>\n",
       "</div>"
      ],
      "text/plain": [
       "             CARESELF  OTHSHELP\n",
       "both_pa_wrk                    \n",
       "2            2.533333  1.633333\n",
       "3            2.563758  1.657718\n",
       "4            2.573696  1.739229"
      ]
     },
     "execution_count": 18,
     "metadata": {},
     "output_type": "execute_result"
    }
   ],
   "source": [
    "df_values.groupby('both_pa_wrk').mean()[['CARESELF', 'OTHSHELP']]"
   ]
  },
  {
   "cell_type": "code",
   "execution_count": 48,
   "metadata": {},
   "outputs": [
    {
     "data": {
      "image/png": "[encoded data removed]",
      "text/plain": [
       "<matplotlib.figure.Figure at 0x7f5e2af9a400>"
      ]
     },
     "metadata": {},
     "output_type": "display_data"
    }
   ],
   "source": [
    "fig, axs = plt.subplots(nrows=1, ncols=2, figsize=(10,5))\n",
    "fig.tight_layout(pad=5)\n",
    "\n",
    "labels = [\"Both Self-Employed\", \"One Self-Employed\", \"Neither Self-Employed\"]\n",
    "\n",
    "plt.subplot(1,2,1)\n",
    "bar_1 = sns.barplot(x=\"both_pa_wrk\", y=\"CARESELF\", data=df_values) \\\n",
    "   .set_title(\"Should others care for themselves?\")\n",
    "bar_1.axes.set_xticklabels(labels)\n",
    "plt.xticks(rotation=30)\n",
    "plt.ylabel(\"Mean Response\")\n",
    "plt.xlabel(\"\")\n",
    "plt.ylim(0,3)\n",
    "plt.subplot(1,2,2)\n",
    "bar_2 = sns.barplot(x=\"both_pa_wrk\", y=\"OTHSHELP\", data=df_values) \\\n",
    "   .set_title(\"Should we help those less fortunate than ourselves?\")\n",
    "bar_2.axes.set_xticklabels(labels)\n",
    "plt.xticks(rotation=30)\n",
    "plt.ylabel(\"Mean Response\")\n",
    "plt.xlabel(\"\")\n",
    "plt.ylim(0,3);"
   ]
  },
  {
   "cell_type": "code",
   "execution_count": 49,
   "metadata": {},
   "outputs": [
    {
     "data": {
      "image/png": "[encoded data removed]",
      "text/plain": [
       "<matplotlib.figure.Figure at 0x7f5e342ace10>"
      ]
     },
     "metadata": {},
     "output_type": "display_data"
    }
   ],
   "source": [
    "rows_accptoth = df_int[(df_int['ACCPTOTH'] >= 1) & (df_int['ACCPTOTH'] <= 6)]\n",
    "rows_accptoth['ACCPTOTH'].value_counts().sort_index()\n",
    "rows_accptoth_sibs = rows_accptoth[(rows_accptoth['SIBS'] <= 10)]\n",
    "\n",
    "means_childs_accpt = rows_accptoth_sibs.groupby('CHILDS').mean()['ACCPTOTH'][[0,1,2,3,4,5,6]]\n",
    "means_sibs_accpt = rows_accptoth_sibs.groupby('SIBS').mean()['ACCPTOTH']\n",
    "\n",
    "plt.figure(figsize=(10, 5))\n",
    "\n",
    "plt.subplot(1, 2, 1)\n",
    "plt.bar(means_childs_accpt.index, means_childs_accpt.values, color='purple')\n",
    "plt.ylabel('')\n",
    "plt.title('')\n",
    "\n",
    "plt.subplot(1, 2, 2)\n",
    "plt.bar(means_sibs_accpt.index, means_sibs_accpt.values, color='green')\n",
    "plt.ylabel('')\n",
    "plt.title('')\n",
    "plt.show()"
   ]
  },
  {
   "cell_type": "code",
   "execution_count": 51,
   "metadata": {},
   "outputs": [
    {
     "data": {
      "text/plain": [
       "CHILDS  SIBS\n",
       "0       0       3.038462\n",
       "        1       3.261364\n",
       "        2       3.164557\n",
       "        3       3.420000\n",
       "        4       3.653846\n",
       "        5       3.066667\n",
       "        6       2.928571\n",
       "        7       3.142857\n",
       "        8       2.800000\n",
       "        9       2.666667\n",
       "1       0       4.250000\n",
       "        1       3.156250\n",
       "        2       2.805556\n",
       "        3       3.000000\n",
       "        4       3.142857\n",
       "        5       3.000000\n",
       "        6       2.666667\n",
       "        7       3.666667\n",
       "        8       3.571429\n",
       "        9       4.000000\n",
       "        10      3.000000\n",
       "2       0       3.416667\n",
       "        1       2.888889\n",
       "        2       3.160000\n",
       "        3       2.913043\n",
       "        4       3.435897\n",
       "        5       2.869565\n",
       "        6       3.181818\n",
       "        7       3.538462\n",
       "        8       3.142857\n",
       "                  ...   \n",
       "4       5       2.285714\n",
       "        6       3.181818\n",
       "        7       2.666667\n",
       "        8       3.500000\n",
       "        9       4.500000\n",
       "        10      2.000000\n",
       "5       1       2.000000\n",
       "        2       3.000000\n",
       "        3       2.333333\n",
       "        4       2.333333\n",
       "        5       3.750000\n",
       "        6       3.000000\n",
       "        7       5.000000\n",
       "        8       4.000000\n",
       "        10      3.333333\n",
       "6       0       4.000000\n",
       "        2       3.000000\n",
       "        4       4.000000\n",
       "        5       3.500000\n",
       "        7       3.000000\n",
       "        8       1.500000\n",
       "        9       3.000000\n",
       "        10      2.000000\n",
       "7       2       1.000000\n",
       "        5       3.000000\n",
       "        9       3.000000\n",
       "8       2       2.000000\n",
       "        3       3.500000\n",
       "        9       3.000000\n",
       "9       4       1.000000\n",
       "Name: ACCPTOTH, Length: 78, dtype: float64"
      ]
     },
     "execution_count": 51,
     "metadata": {},
     "output_type": "execute_result"
    }
   ],
   "source": [
    "means_accpt = rows_accptoth_sibs.groupby(['CHILDS', 'SIBS'])['ACCPTOTH'].mean()\n",
    "means_accpt\n",
    "\n",
    "# Tall format"
   ]
  },
  {
   "cell_type": "code",
   "execution_count": 52,
   "metadata": {},
   "outputs": [
    {
     "data": {
      "text/html": [
       "<div>\n",
       "<style>\n",
       "    .dataframe thead tr:only-child th {\n",
       "        text-align: right;\n",
       "    }\n",
       "\n",
       "    .dataframe thead th {\n",
       "        text-align: left;\n",
       "    }\n",
       "\n",
       "    .dataframe tbody tr th {\n",
       "        vertical-align: top;\n",
       "    }\n",
       "</style>\n",
       "<table border=\"1\" class=\"dataframe\">\n",
       "  <thead>\n",
       "    <tr style=\"text-align: right;\">\n",
       "      <th>SIBS</th>\n",
       "      <th>0</th>\n",
       "      <th>1</th>\n",
       "      <th>2</th>\n",
       "      <th>3</th>\n",
       "      <th>4</th>\n",
       "      <th>5</th>\n",
       "      <th>6</th>\n",
       "      <th>7</th>\n",
       "      <th>8</th>\n",
       "      <th>9</th>\n",
       "      <th>10</th>\n",
       "    </tr>\n",
       "    <tr>\n",
       "      <th>CHILDS</th>\n",
       "      <th></th>\n",
       "      <th></th>\n",
       "      <th></th>\n",
       "      <th></th>\n",
       "      <th></th>\n",
       "      <th></th>\n",
       "      <th></th>\n",
       "      <th></th>\n",
       "      <th></th>\n",
       "      <th></th>\n",
       "      <th></th>\n",
       "    </tr>\n",
       "  </thead>\n",
       "  <tbody>\n",
       "    <tr>\n",
       "      <th>0</th>\n",
       "      <td>3.038462</td>\n",
       "      <td>3.261364</td>\n",
       "      <td>3.164557</td>\n",
       "      <td>3.420000</td>\n",
       "      <td>3.653846</td>\n",
       "      <td>3.066667</td>\n",
       "      <td>2.928571</td>\n",
       "      <td>3.142857</td>\n",
       "      <td>2.800000</td>\n",
       "      <td>2.666667</td>\n",
       "      <td>NaN</td>\n",
       "    </tr>\n",
       "    <tr>\n",
       "      <th>1</th>\n",
       "      <td>4.250000</td>\n",
       "      <td>3.156250</td>\n",
       "      <td>2.805556</td>\n",
       "      <td>3.000000</td>\n",
       "      <td>3.142857</td>\n",
       "      <td>3.000000</td>\n",
       "      <td>2.666667</td>\n",
       "      <td>3.666667</td>\n",
       "      <td>3.571429</td>\n",
       "      <td>4.000000</td>\n",
       "      <td>3.000000</td>\n",
       "    </tr>\n",
       "    <tr>\n",
       "      <th>2</th>\n",
       "      <td>3.416667</td>\n",
       "      <td>2.888889</td>\n",
       "      <td>3.160000</td>\n",
       "      <td>2.913043</td>\n",
       "      <td>3.435897</td>\n",
       "      <td>2.869565</td>\n",
       "      <td>3.181818</td>\n",
       "      <td>3.538462</td>\n",
       "      <td>3.142857</td>\n",
       "      <td>2.714286</td>\n",
       "      <td>4.333333</td>\n",
       "    </tr>\n",
       "    <tr>\n",
       "      <th>3</th>\n",
       "      <td>2.800000</td>\n",
       "      <td>2.375000</td>\n",
       "      <td>2.750000</td>\n",
       "      <td>3.333333</td>\n",
       "      <td>2.700000</td>\n",
       "      <td>3.333333</td>\n",
       "      <td>3.400000</td>\n",
       "      <td>2.444444</td>\n",
       "      <td>3.333333</td>\n",
       "      <td>3.333333</td>\n",
       "      <td>1.800000</td>\n",
       "    </tr>\n",
       "    <tr>\n",
       "      <th>4</th>\n",
       "      <td>3.400000</td>\n",
       "      <td>3.400000</td>\n",
       "      <td>2.615385</td>\n",
       "      <td>3.076923</td>\n",
       "      <td>3.166667</td>\n",
       "      <td>2.285714</td>\n",
       "      <td>3.181818</td>\n",
       "      <td>2.666667</td>\n",
       "      <td>3.500000</td>\n",
       "      <td>4.500000</td>\n",
       "      <td>2.000000</td>\n",
       "    </tr>\n",
       "    <tr>\n",
       "      <th>5</th>\n",
       "      <td>NaN</td>\n",
       "      <td>2.000000</td>\n",
       "      <td>3.000000</td>\n",
       "      <td>2.333333</td>\n",
       "      <td>2.333333</td>\n",
       "      <td>3.750000</td>\n",
       "      <td>3.000000</td>\n",
       "      <td>5.000000</td>\n",
       "      <td>4.000000</td>\n",
       "      <td>NaN</td>\n",
       "      <td>3.333333</td>\n",
       "    </tr>\n",
       "    <tr>\n",
       "      <th>6</th>\n",
       "      <td>4.000000</td>\n",
       "      <td>NaN</td>\n",
       "      <td>3.000000</td>\n",
       "      <td>NaN</td>\n",
       "      <td>4.000000</td>\n",
       "      <td>3.500000</td>\n",
       "      <td>NaN</td>\n",
       "      <td>3.000000</td>\n",
       "      <td>1.500000</td>\n",
       "      <td>3.000000</td>\n",
       "      <td>2.000000</td>\n",
       "    </tr>\n",
       "    <tr>\n",
       "      <th>7</th>\n",
       "      <td>NaN</td>\n",
       "      <td>NaN</td>\n",
       "      <td>1.000000</td>\n",
       "      <td>NaN</td>\n",
       "      <td>NaN</td>\n",
       "      <td>3.000000</td>\n",
       "      <td>NaN</td>\n",
       "      <td>NaN</td>\n",
       "      <td>NaN</td>\n",
       "      <td>3.000000</td>\n",
       "      <td>NaN</td>\n",
       "    </tr>\n",
       "    <tr>\n",
       "      <th>8</th>\n",
       "      <td>NaN</td>\n",
       "      <td>NaN</td>\n",
       "      <td>2.000000</td>\n",
       "      <td>3.500000</td>\n",
       "      <td>NaN</td>\n",
       "      <td>NaN</td>\n",
       "      <td>NaN</td>\n",
       "      <td>NaN</td>\n",
       "      <td>NaN</td>\n",
       "      <td>3.000000</td>\n",
       "      <td>NaN</td>\n",
       "    </tr>\n",
       "    <tr>\n",
       "      <th>9</th>\n",
       "      <td>NaN</td>\n",
       "      <td>NaN</td>\n",
       "      <td>NaN</td>\n",
       "      <td>NaN</td>\n",
       "      <td>1.000000</td>\n",
       "      <td>NaN</td>\n",
       "      <td>NaN</td>\n",
       "      <td>NaN</td>\n",
       "      <td>NaN</td>\n",
       "      <td>NaN</td>\n",
       "      <td>NaN</td>\n",
       "    </tr>\n",
       "  </tbody>\n",
       "</table>\n",
       "</div>"
      ],
      "text/plain": [
       "SIBS          0         1         2         3         4         5         6   \\\n",
       "CHILDS                                                                         \n",
       "0       3.038462  3.261364  3.164557  3.420000  3.653846  3.066667  2.928571   \n",
       "1       4.250000  3.156250  2.805556  3.000000  3.142857  3.000000  2.666667   \n",
       "2       3.416667  2.888889  3.160000  2.913043  3.435897  2.869565  3.181818   \n",
       "3       2.800000  2.375000  2.750000  3.333333  2.700000  3.333333  3.400000   \n",
       "4       3.400000  3.400000  2.615385  3.076923  3.166667  2.285714  3.181818   \n",
       "5            NaN  2.000000  3.000000  2.333333  2.333333  3.750000  3.000000   \n",
       "6       4.000000       NaN  3.000000       NaN  4.000000  3.500000       NaN   \n",
       "7            NaN       NaN  1.000000       NaN       NaN  3.000000       NaN   \n",
       "8            NaN       NaN  2.000000  3.500000       NaN       NaN       NaN   \n",
       "9            NaN       NaN       NaN       NaN  1.000000       NaN       NaN   \n",
       "\n",
       "SIBS          7         8         9         10  \n",
       "CHILDS                                          \n",
       "0       3.142857  2.800000  2.666667       NaN  \n",
       "1       3.666667  3.571429  4.000000  3.000000  \n",
       "2       3.538462  3.142857  2.714286  4.333333  \n",
       "3       2.444444  3.333333  3.333333  1.800000  \n",
       "4       2.666667  3.500000  4.500000  2.000000  \n",
       "5       5.000000  4.000000       NaN  3.333333  \n",
       "6       3.000000  1.500000  3.000000  2.000000  \n",
       "7            NaN       NaN  3.000000       NaN  \n",
       "8            NaN       NaN  3.000000       NaN  \n",
       "9            NaN       NaN       NaN       NaN  "
      ]
     },
     "execution_count": 52,
     "metadata": {},
     "output_type": "execute_result"
    }
   ],
   "source": [
    "means_accpt.unstack('SIBS')\n",
    "\n",
    "# Wide format"
   ]
  },
  {
   "cell_type": "code",
   "execution_count": 53,
   "metadata": {},
   "outputs": [
    {
     "data": {
      "text/plain": [
       "<matplotlib.axes._subplots.AxesSubplot at 0x7f5e2b159e80>"
      ]
     },
     "execution_count": 53,
     "metadata": {},
     "output_type": "execute_result"
    },
    {
     "data": {
      "image/png": "[encoded data removed]",
      "text/plain": [
       "<matplotlib.figure.Figure at 0x7f5e2b2aef98>"
      ]
     },
     "metadata": {},
     "output_type": "display_data"
    }
   ],
   "source": [
    "sns.heatmap(means_accpt.unstack('SIBS'))"
   ]
  },
  {
   "cell_type": "code",
   "execution_count": 54,
   "metadata": {},
   "outputs": [
    {
     "data": {
      "text/plain": [
       "<matplotlib.axes._subplots.AxesSubplot at 0x7f5e33df6240>"
      ]
     },
     "execution_count": 54,
     "metadata": {},
     "output_type": "execute_result"
    },
    {
     "data": {
      "image/png": "[encoded data removed]",
      "text/plain": [
       "<matplotlib.figure.Figure at 0x7f5e2b323400>"
      ]
     },
     "metadata": {},
     "output_type": "display_data"
    }
   ],
   "source": [
    "unstack_sibs = means_accpt.unstack('SIBS')\n",
    "unstack_sibs.plot.bar(stacked=True);"
   ]
  },
  {
   "cell_type": "code",
   "execution_count": 55,
   "metadata": {},
   "outputs": [
    {
     "data": {
      "text/plain": [
       "<matplotlib.axes._subplots.AxesSubplot at 0x7f5e335add68>"
      ]
     },
     "execution_count": 55,
     "metadata": {},
     "output_type": "execute_result"
    },
    {
     "data": {
      "image/png": "[encoded data removed]",
      "text/plain": [
       "<matplotlib.figure.Figure at 0x7f5e335dc208>"
      ]
     },
     "metadata": {},
     "output_type": "display_data"
    }
   ],
   "source": [
    "unstack_sibs.plot.area();"
   ]
  },
  {
   "cell_type": "code",
   "execution_count": null,
   "metadata": {
    "collapsed": true
   },
   "outputs": [],
   "source": []
  }
 ],
 "metadata": {
  "kernelspec": {
   "display_name": "Python [default]",
   "language": "python",
   "name": "python3"
  },
  "language_info": {
   "codemirror_mode": {
    "name": "ipython",
    "version": 3
   },
   "file_extension": ".py",
   "mimetype": "text/x-python",
   "name": "python",
   "nbconvert_exporter": "python",
   "pygments_lexer": "ipython3",
   "version": "3.6.2"
  }
 },
 "nbformat": 4,
 "nbformat_minor": 2
}
