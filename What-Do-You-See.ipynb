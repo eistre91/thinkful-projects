{
 "cells": [
  {
   "cell_type": "code",
   "execution_count": 1,
   "metadata": {},
   "outputs": [],
   "source": [
    "import matplotlib.pyplot as plt\n",
    "import numpy as np\n",
    "import pandas as pd  \n",
    "import seaborn as sns \n",
    "\n",
    "%matplotlib inline"
   ]
  },
  {
   "cell_type": "code",
   "execution_count": 2,
   "metadata": {
    "scrolled": false
   },
   "outputs": [
    {
     "data": {
      "text/html": [
       "<div>\n",
       "<style scoped>\n",
       "    .dataframe tbody tr th:only-of-type {\n",
       "        vertical-align: middle;\n",
       "    }\n",
       "\n",
       "    .dataframe tbody tr th {\n",
       "        vertical-align: top;\n",
       "    }\n",
       "\n",
       "    .dataframe thead th {\n",
       "        text-align: right;\n",
       "    }\n",
       "</style>\n",
       "<table border=\"1\" class=\"dataframe\">\n",
       "  <thead>\n",
       "    <tr style=\"text-align: right;\">\n",
       "      <th></th>\n",
       "      <th>YEAR</th>\n",
       "      <th>ID</th>\n",
       "      <th>INTID</th>\n",
       "      <th>FEEUSED</th>\n",
       "      <th>FEELEVEL</th>\n",
       "      <th>DATEINTV</th>\n",
       "      <th>LNGTHINV</th>\n",
       "      <th>INTAGE</th>\n",
       "      <th>INTETHN</th>\n",
       "      <th>MODE</th>\n",
       "      <th>...</th>\n",
       "      <th>SAMPCODE</th>\n",
       "      <th>SAMPLE</th>\n",
       "      <th>OVERSAMP</th>\n",
       "      <th>WTSS</th>\n",
       "      <th>WTSSNR</th>\n",
       "      <th>WTSSALL</th>\n",
       "      <th>WTCOMB</th>\n",
       "      <th>WTCOMBNR</th>\n",
       "      <th>VSTRAT</th>\n",
       "      <th>VPSU</th>\n",
       "    </tr>\n",
       "  </thead>\n",
       "  <tbody>\n",
       "    <tr>\n",
       "      <th>0</th>\n",
       "      <td>2012</td>\n",
       "      <td>1</td>\n",
       "      <td>49</td>\n",
       "      <td>1</td>\n",
       "      <td>75</td>\n",
       "      <td>721</td>\n",
       "      <td>69</td>\n",
       "      <td>60</td>\n",
       "      <td>1</td>\n",
       "      <td>1</td>\n",
       "      <td>...</td>\n",
       "      <td>601</td>\n",
       "      <td>10</td>\n",
       "      <td>1</td>\n",
       "      <td>2.621963</td>\n",
       "      <td>2.869532</td>\n",
       "      <td>2.621963</td>\n",
       "      <td>6.402159</td>\n",
       "      <td>7.006659</td>\n",
       "      <td>-1</td>\n",
       "      <td>-1</td>\n",
       "    </tr>\n",
       "    <tr>\n",
       "      <th>1</th>\n",
       "      <td>2012</td>\n",
       "      <td>2</td>\n",
       "      <td>150</td>\n",
       "      <td>1</td>\n",
       "      <td>75</td>\n",
       "      <td>624</td>\n",
       "      <td>53</td>\n",
       "      <td>32</td>\n",
       "      <td>1</td>\n",
       "      <td>1</td>\n",
       "      <td>...</td>\n",
       "      <td>601</td>\n",
       "      <td>10</td>\n",
       "      <td>1</td>\n",
       "      <td>3.495950</td>\n",
       "      <td>3.826043</td>\n",
       "      <td>3.495950</td>\n",
       "      <td>6.514477</td>\n",
       "      <td>7.129583</td>\n",
       "      <td>-1</td>\n",
       "      <td>-1</td>\n",
       "    </tr>\n",
       "    <tr>\n",
       "      <th>2</th>\n",
       "      <td>2012</td>\n",
       "      <td>3</td>\n",
       "      <td>150</td>\n",
       "      <td>1</td>\n",
       "      <td>75</td>\n",
       "      <td>627</td>\n",
       "      <td>77</td>\n",
       "      <td>32</td>\n",
       "      <td>1</td>\n",
       "      <td>1</td>\n",
       "      <td>...</td>\n",
       "      <td>601</td>\n",
       "      <td>10</td>\n",
       "      <td>1</td>\n",
       "      <td>1.747975</td>\n",
       "      <td>1.913021</td>\n",
       "      <td>1.747975</td>\n",
       "      <td>1.671130</td>\n",
       "      <td>1.828920</td>\n",
       "      <td>-1</td>\n",
       "      <td>-1</td>\n",
       "    </tr>\n",
       "    <tr>\n",
       "      <th>3</th>\n",
       "      <td>2012</td>\n",
       "      <td>4</td>\n",
       "      <td>49</td>\n",
       "      <td>1</td>\n",
       "      <td>20</td>\n",
       "      <td>527</td>\n",
       "      <td>78</td>\n",
       "      <td>60</td>\n",
       "      <td>1</td>\n",
       "      <td>1</td>\n",
       "      <td>...</td>\n",
       "      <td>601</td>\n",
       "      <td>10</td>\n",
       "      <td>1</td>\n",
       "      <td>1.235694</td>\n",
       "      <td>1.352370</td>\n",
       "      <td>1.235694</td>\n",
       "      <td>1.181370</td>\n",
       "      <td>1.292917</td>\n",
       "      <td>-1</td>\n",
       "      <td>-1</td>\n",
       "    </tr>\n",
       "    <tr>\n",
       "      <th>4</th>\n",
       "      <td>2012</td>\n",
       "      <td>5</td>\n",
       "      <td>235</td>\n",
       "      <td>1</td>\n",
       "      <td>75</td>\n",
       "      <td>620</td>\n",
       "      <td>149</td>\n",
       "      <td>62</td>\n",
       "      <td>1</td>\n",
       "      <td>1</td>\n",
       "      <td>...</td>\n",
       "      <td>601</td>\n",
       "      <td>10</td>\n",
       "      <td>1</td>\n",
       "      <td>0.873988</td>\n",
       "      <td>0.956511</td>\n",
       "      <td>0.873988</td>\n",
       "      <td>0.835565</td>\n",
       "      <td>0.914460</td>\n",
       "      <td>-1</td>\n",
       "      <td>-1</td>\n",
       "    </tr>\n",
       "  </tbody>\n",
       "</table>\n",
       "<p>5 rows × 1069 columns</p>\n",
       "</div>"
      ],
      "text/plain": [
       "   YEAR  ID  INTID  FEEUSED  FEELEVEL  DATEINTV  LNGTHINV  INTAGE  INTETHN  \\\n",
       "0  2012   1     49        1        75       721        69      60        1   \n",
       "1  2012   2    150        1        75       624        53      32        1   \n",
       "2  2012   3    150        1        75       627        77      32        1   \n",
       "3  2012   4     49        1        20       527        78      60        1   \n",
       "4  2012   5    235        1        75       620       149      62        1   \n",
       "\n",
       "   MODE  ...   SAMPCODE  SAMPLE  OVERSAMP      WTSS    WTSSNR   WTSSALL  \\\n",
       "0     1  ...        601      10         1  2.621963  2.869532  2.621963   \n",
       "1     1  ...        601      10         1  3.495950  3.826043  3.495950   \n",
       "2     1  ...        601      10         1  1.747975  1.913021  1.747975   \n",
       "3     1  ...        601      10         1  1.235694  1.352370  1.235694   \n",
       "4     1  ...        601      10         1  0.873988  0.956511  0.873988   \n",
       "\n",
       "     WTCOMB  WTCOMBNR  VSTRAT  VPSU  \n",
       "0  6.402159  7.006659      -1    -1  \n",
       "1  6.514477  7.129583      -1    -1  \n",
       "2  1.671130  1.828920      -1    -1  \n",
       "3  1.181370  1.292917      -1    -1  \n",
       "4  0.835565  0.914460      -1    -1  \n",
       "\n",
       "[5 rows x 1069 columns]"
      ]
     },
     "execution_count": 2,
     "metadata": {},
     "output_type": "execute_result"
    }
   ],
   "source": [
    "df = pd.read_table(\"ICPSR_35478/DS0001/35478-0001-Data.tsv\")\n",
    "df.head()"
   ]
  },
  {
   "cell_type": "markdown",
   "metadata": {},
   "source": [
    "Our main goal in the following visualizations is to explore some relationships between altruistic behavior and some other survery responses. To that end, we make a list of columns of interest below."
   ]
  },
  {
   "cell_type": "code",
   "execution_count": 3,
   "metadata": {},
   "outputs": [],
   "source": [
    "columns = ['YEAR', 'ID', 'AGE',\n",
    "    'GIVBLOOD','GIVHMLSS', 'RETCHNGE', 'CUTAHEAD', 'VOLCHRTY', 'GIVCHRTY', 'GIVSEAT', \n",
    "    'HELPAWAY', 'CARRIED', 'DIRECTNS', 'LOANITEM', 'SELFLESS', 'ACCPTOTH', 'OTHSHELP', \n",
    "    'CARESELF', 'PEOPTRBL', 'SELFFRST', 'VOLMONTH', \n",
    "    'MAWRKSLF', 'MAOCC10', 'MAIND10',\n",
    "    'SIBS', 'CHILDS',\n",
    "    'PAOCC10', 'PAWRKSLF', 'PAIND10', \n",
    "    'RINCOME', 'RINCOM06', 'REALRINC']\n",
    "df_int = df[columns]"
   ]
  },
  {
   "cell_type": "code",
   "execution_count": 4,
   "metadata": {},
   "outputs": [
    {
     "data": {
      "image/png": "[encoded data removed]",
      "text/plain": [
       "<Figure size 432x288 with 1 Axes>"
      ]
     },
     "metadata": {},
     "output_type": "display_data"
    }
   ],
   "source": [
    "df_int['AGE'].hist();"
   ]
  },
  {
   "cell_type": "markdown",
   "metadata": {},
   "source": [
    "We first look at the distribution of ages in the dataset. We see that we have a array of ages, from a bit before 18 through to 60+. We can further see that the ages in the survey have a bimodal character, there is a peak of ages in the bin that contains 30, and a peak in the bin a bit past 50. \n",
    "\n",
    "We next build a heatmap of reported altruistic activities in the survey across different age bins."
   ]
  },
  {
   "cell_type": "code",
   "execution_count": 5,
   "metadata": {},
   "outputs": [],
   "source": [
    "df_int = df_int[(df_int['AGE'] >= 18) & (df_int['AGE'] <= 66)]\n",
    "age_bins = pd.cut(df_int['AGE'],\n",
    "                  [18, 26, 34, 42, 50, 58, 66], \n",
    "                  include_lowest=True)\n",
    "df_int = df_int.assign(AGEBIN = age_bins)"
   ]
  },
  {
   "cell_type": "code",
   "execution_count": 6,
   "metadata": {},
   "outputs": [],
   "source": [
    "actions_cols = ['GIVBLOOD','GIVHMLSS', 'RETCHNGE', 'CUTAHEAD', 'VOLCHRTY', 'GIVCHRTY', 'GIVSEAT', \n",
    "    'HELPAWAY', 'CARRIED', 'DIRECTNS', 'LOANITEM']\n",
    "\n",
    "df_int['present'] = df_int[actions_cols].apply(lambda x: (x >= 1) & (x <= 6)) \\\n",
    "                                        .all(axis=1)"
   ]
  },
  {
   "cell_type": "code",
   "execution_count": 7,
   "metadata": {},
   "outputs": [
    {
     "data": {
      "image/png": "[encoded data removed]",
      "text/plain": [
       "<Figure size 720x432 with 2 Axes>"
      ]
     },
     "metadata": {},
     "output_type": "display_data"
    }
   ],
   "source": [
    "df_actions = df_int[df_int['present']]\n",
    "actions_cols = ['AGEBIN', 'GIVBLOOD','GIVHMLSS', 'RETCHNGE', 'CUTAHEAD', 'VOLCHRTY', 'GIVCHRTY', 'GIVSEAT', \n",
    "    'HELPAWAY', 'CARRIED', 'DIRECTNS', 'LOANITEM']\n",
    "plt.figure(figsize=(10,6))\n",
    "sns.heatmap(df_actions[actions_cols].groupby('AGEBIN').sum().transpose(), cmap=\"BuGn_r\"); "
   ]
  },
  {
   "cell_type": "markdown",
   "metadata": {},
   "source": [
    "To build this heatmap, we summed together a particular agebin's cumulative responses to an altruistic action question. The responses for each of these actions is a number 1-6, with 1 representing that the action is reported performed more than once a week, and 6 being that the action was not performed in the last year. The remaining numbers from 1 to 6 represent steadily decreasing frequency of the actions in the past year as the numbers increase from 1 to 6.\n",
    "\n",
    "Thus, the darker areas of this heatmap show areas in which the actions were reported as happening most frequently. Interestingly, we see that the first and the last age bin, the oldest and the youngest populations, report the highest levels of altruistic activity. As a side note, we also observe that GIVBLOOD, which is the frequency the respondent donated blood, appears to be the overall least frequent action performed."
   ]
  },
  {
   "cell_type": "markdown",
   "metadata": {},
   "source": [
    "We now turn to an exploration of the values described by columns OTHSHELP and CARESELF, people should help less fortunate others and those in need have to take care of themselves respectively. We look for a connection between these values and the type of employment of the respondent's parents, whether self-employed or employed by someone else."
   ]
  },
  {
   "cell_type": "code",
   "execution_count": 8,
   "metadata": {},
   "outputs": [],
   "source": [
    "values_cols = ['OTHSHELP', 'CARESELF']\n",
    "\n",
    "df_int['values_present'] = df_int[values_cols].apply(lambda x: (x >= 1) & (x <= 5)).all(axis=1)\n",
    "\n",
    "parent_work = ['MAWRKSLF', 'PAWRKSLF']\n",
    "df_int['work_self_present'] = df_int[parent_work].apply(lambda x: (x >= 1) & (x <= 2)).all(axis=1)\n",
    "df_values = df_int[df_int['work_self_present'] & df_int['values_present']]\n",
    "\n",
    "df_values = df_values.assign(both_pa_wrk=df_values['MAWRKSLF'] + df_values['PAWRKSLF'])"
   ]
  },
  {
   "cell_type": "code",
   "execution_count": 9,
   "metadata": {},
   "outputs": [
    {
     "data": {
      "image/png": "[encoded data removed]",
      "text/plain": [
       "<Figure size 720x360 with 2 Axes>"
      ]
     },
     "metadata": {},
     "output_type": "display_data"
    }
   ],
   "source": [
    "fig, axs = plt.subplots(nrows=1, ncols=2, figsize=(10,5))\n",
    "fig.tight_layout(pad=5)\n",
    "\n",
    "labels = [\"Both Self-Employed\", \"One Self-Employed\", \"Neither Self-Employed\"]\n",
    "\n",
    "plt.subplot(1,2,1)\n",
    "bar_1 = sns.barplot(x=\"both_pa_wrk\", y=\"CARESELF\", data=df_values) \\\n",
    "   .set_title(\"Should others care for themselves?\")\n",
    "bar_1.axes.set_xticklabels(labels)\n",
    "plt.xticks(rotation=30)\n",
    "plt.ylabel(\"Mean Response\")\n",
    "plt.xlabel(\"\")\n",
    "plt.ylim(0,3)\n",
    "\n",
    "plt.subplot(1,2,2)\n",
    "bar_2 = sns.barplot(x=\"both_pa_wrk\", y=\"OTHSHELP\", data=df_values) \\\n",
    "   .set_title(\"Should we help those less fortunate than ourselves?\")\n",
    "bar_2.axes.set_xticklabels(labels)\n",
    "plt.xticks(rotation=30)\n",
    "plt.ylabel(\"Mean Response\")\n",
    "plt.xlabel(\"\")\n",
    "plt.ylim(0,3);"
   ]
  },
  {
   "cell_type": "markdown",
   "metadata": {},
   "source": [
    "Respondents were asked to rate how strongly they agree with the values questions, 1 for strong agreement, 2 for agree, 3 for neutral, 4 for disagree, and 5 for strongly disgree. Thus, a higher mean response for these charts means overall that fewer people agreed with the value question. \n",
    "\n",
    "We compare responses to the value questions across whether one, both, or neither of the respondent's questions were reported to be self-employed. We don't see much of a difference in any group for either question. That is, these questions don't reveal any significant trend based on these respondent attributes.\n",
    "\n",
    "Finally, we look at one final value question, ACCPTOTH which asked the respondent how often they thought you should accept others even when they do things wrong, and across groups based on combinations of how many children the respondent had and how many siblings."
   ]
  },
  {
   "cell_type": "code",
   "execution_count": 10,
   "metadata": {},
   "outputs": [],
   "source": [
    "rows_accptoth = df_int[(df_int['ACCPTOTH'] >= 1) & (df_int['ACCPTOTH'] <= 6)]\n",
    "rows_accptoth_sib_chd = rows_accptoth[(rows_accptoth['SIBS'] <= 10) & (rows_accptoth['CHILDS'] < 5)]\n",
    "\n",
    "means_accpt = rows_accptoth_sib_chd.groupby(['CHILDS', 'SIBS'])['ACCPTOTH'].mean()"
   ]
  },
  {
   "cell_type": "code",
   "execution_count": 11,
   "metadata": {},
   "outputs": [
    {
     "data": {
      "image/png": "[encoded data removed]",
      "text/plain": [
       "<Figure size 432x288 with 1 Axes>"
      ]
     },
     "metadata": {},
     "output_type": "display_data"
    }
   ],
   "source": [
    "means_accpt.unstack('SIBS').plot.area(xticks=[0,1,2,3,4])\n",
    "plt.legend(loc='center left', bbox_to_anchor=(1.0, 0.5));"
   ]
  },
  {
   "cell_type": "markdown",
   "metadata": {},
   "source": [
    "As with other questions in this survey and our numerical interpretation, the interpretation is a bit counterintuitive. A smaller amount of area will correspond to a more frequent tendency to accept others when they do things that the respondents thinks are wrong. \n",
    "\n",
    "There appears to be an interesting increase of area for respondents with one child and no siblings, a greater likelihood of not accepting wrong behavior. There also appears to be some variation in some color bands, but it's hard to pick out an overall pattern. This suggests there might be some interest in deciphering the variation of various sibling/children combinations more by controlling for more factors, like variation in age in respondents."
   ]
  },
  {
   "cell_type": "markdown",
   "metadata": {},
   "source": [
    "### Data Dictionary"
   ]
  },
  {
   "cell_type": "markdown",
   "metadata": {},
   "source": [
    "GIVBLOOD - R DONATED BLOOD DURING THE PAST 12 MONTHS\n",
    "\n",
    "GIVHMLSS - R HAS GIVEN FOOD OR MONEY TO A HOMELESS PERSON \n",
    "\n",
    "RETCHNGE - R RETURNED MONEY AFTER GETTING TOO MUCH CHANGE \n",
    "\n",
    "CUTAHEAD - R ALLOWED A STRANGER TO GO AHEAD OF YOU IN LINE \n",
    "\n",
    "VOLCHRTY - R DONE VOLUNTEER WORK FOR A CHARITY \n",
    "\n",
    "GIVCHRTY - R HAS GIVEN MONEY TO A CHARITY \n",
    "\n",
    "GIVSEAT - R OFFERED SEAT TO A STRANGER DURING PAST 12 MONTHS \n",
    "\n",
    "HELPAWAY - R LOOKED AFTER PLANT OR PET OF OTHERS WHILE AWAY \n",
    "\n",
    "CARRIED - R CARRIED A STRANGER'S BELONGINGS \n",
    "\n",
    "DIRECTNS - R HAS GIVEN DIRECTIONS TO A STRANGER \n",
    "\n",
    "LOANITEM - R HAS LET SOMEONE BORROW A ITEM OF SOME VALUE\n",
    "\n",
    "MAWRKSLF - MOTHER SELF-EMP. OR WORKED FOR SOMEBODY\n",
    "\n",
    "PAWRKSLF - FATHER SELF-EMP. OR WORKED FOR SOMEBODY\n",
    "\n",
    "OTHSHELP - PEOPLE SHOULD HELP LESS FORTUNATE OTHERS \n",
    "\n",
    "CARESELF - THOSE IN NEED HAVE TO TAKE CARE OF THEMSELVES \n",
    "\n",
    "ACCPTOTH - R ACCEPT OTHERS EVEN WHEN THEY DO THINGS WRONG"
   ]
  },
  {
   "cell_type": "markdown",
   "metadata": {},
   "source": [
    "### Data Source"
   ]
  },
  {
   "cell_type": "markdown",
   "metadata": {},
   "source": [
    "Inter-university Consortium for Political and Social Research\n",
    "\n",
    "General Social Survey, 2012 Merged Data, Including a Cultural Module [United States]\n",
    "\n",
    "https://www.icpsr.umich.edu/icpsrweb/ICPSR/studies/35478"
   ]
  }
 ],
 "metadata": {
  "kernelspec": {
   "display_name": "Python 3",
   "language": "python",
   "name": "python3"
  },
  "language_info": {
   "codemirror_mode": {
    "name": "ipython",
    "version": 3
   },
   "file_extension": ".py",
   "mimetype": "text/x-python",
   "name": "python",
   "nbconvert_exporter": "python",
   "pygments_lexer": "ipython3",
   "version": "3.6.5"
  }
 },
 "nbformat": 4,
 "nbformat_minor": 2
}
