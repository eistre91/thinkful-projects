{
 "cells": [
  {
   "cell_type": "code",
   "execution_count": 2,
   "metadata": {
    "collapsed": true
   },
   "outputs": [],
   "source": [
    "import numpy as np\n",
    "import statistics as pys"
   ]
  },
  {
   "cell_type": "markdown",
   "metadata": {},
   "source": [
    "1) Greg was 14, Marcia was 12, Peter was 11, Jan was 10, Bobby was 8, and Cindy was 6 when they started playing the Brady kids on The Brady Bunch. Cousin Oliver was 8 years old when he joined the show. What are the mean, median, and mode of the kids' ages when they first appeared on the show? What are the variance, standard deviation, and standard error?"
   ]
  },
  {
   "cell_type": "code",
   "execution_count": 3,
   "metadata": {},
   "outputs": [
    {
     "name": "stdout",
     "output_type": "stream",
     "text": [
      "Mean:  9.85714285714\n",
      "Median:  10.0\n",
      "Mode:  8\n",
      "Variance:  6.40816326531\n",
      "Standard Deviation:  2.73426232761\n",
      "Standard Error:  1.03345401972\n"
     ]
    }
   ],
   "source": [
    "ages = [14, 12, 11, 10, 8, 6, 8]\n",
    "print(\"Mean: \", np.mean(ages))\n",
    "print(\"Median: \", np.median(ages))\n",
    "print(\"Mode: \", pys.mode(ages))\n",
    "print(\"Variance: \", np.var(ages))\n",
    "print(\"Standard Deviation: \", np.std(ages, ddof=1))\n",
    "print(\"Standard Error: \", np.std(ages,ddof=1)/np.sqrt(len(ages)))"
   ]
  },
  {
   "cell_type": "markdown",
   "metadata": {},
   "source": [
    "2) Using these estimates, if you had to choose only one estimate of central tendency and one estimate of variance to describe the data, which would you pick and why?"
   ]
  },
  {
   "cell_type": "markdown",
   "metadata": {},
   "source": [
    "Mean, Standard Deviation"
   ]
  },
  {
   "cell_type": "markdown",
   "metadata": {},
   "source": [
    "3) Next, Cindy has a birthday. Update your estimates- what changed, and what didn't?\n"
   ]
  },
  {
   "cell_type": "code",
   "execution_count": 17,
   "metadata": {},
   "outputs": [
    {
     "name": "stdout",
     "output_type": "stream",
     "text": [
      "Mean:  10.0\n",
      "Median:  10.0\n",
      "Mode:  8\n",
      "Variance:  5.428571428571429\n",
      "Standard Deviation:  2.516611478423583\n",
      "Standard Error:  0.9511897312113418\n"
     ]
    }
   ],
   "source": [
    "ages = [14, 12, 11, 10, 8, 7, 8]\n",
    "print(\"Mean: \", np.mean(ages))\n",
    "print(\"Median: \", np.median(ages))\n",
    "print(\"Mode: \", pys.mode(ages))\n",
    "print(\"Variance: \", np.var(ages))\n",
    "print(\"Standard Deviation: \", np.std(ages, ddof=1))\n",
    "print(\"Standard Error: \", np.std(ages,ddof=1)/np.sqrt(len(ages)))"
   ]
  },
  {
   "cell_type": "markdown",
   "metadata": {},
   "source": [
    "4) Nobody likes Cousin Oliver. Maybe the network should have used an even younger actor. Replace Cousin Oliver with 1-year-old Jessica, then recalculate again. Does this change your choice of central tendency or variance estimation methods?\n"
   ]
  },
  {
   "cell_type": "code",
   "execution_count": 20,
   "metadata": {},
   "outputs": [
    {
     "name": "stdout",
     "output_type": "stream",
     "text": [
      "Mean:  8.857142857142858\n",
      "Median:  10.0\n",
      "Mode:  None\n",
      "Variance:  16.122448979591837\n",
      "Standard Deviation:  4.3369947901195145\n",
      "Standard Error:  1.6392299502912862\n"
     ]
    }
   ],
   "source": [
    "ages = [14, 12, 11, 10, 8, 6, 1]\n",
    "print(\"Mean: \", np.mean(ages))\n",
    "print(\"Median: \", np.median(ages))\n",
    "try:\n",
    "    print(\"Mode: \", pys.mode(ages))\n",
    "except:\n",
    "    print(\"Mode: \", \"None\")\n",
    "print(\"Variance: \", np.var(ages))\n",
    "print(\"Standard Deviation: \", np.std(ages, ddof=1))\n",
    "print(\"Standard Error: \", np.std(ages,ddof=1)/np.sqrt(len(ages)))"
   ]
  },
  {
   "cell_type": "markdown",
   "metadata": {},
   "source": [
    "On the 50th anniversary of The Brady Bunch, four different magazines asked their readers whether they were fans of the show. The answers were: \n",
    "TV Guide 20% fans \n",
    "Entertainment Weekly 23% fans \n",
    "Pop Culture Today 17% fans \n",
    "SciPhi Phanatic 5% fans\n",
    "\n",
    "Based on these numbers, what percentage of adult Americans would you estimate were Brady Bunch fans on the 50th anniversary of the show?"
   ]
  },
  {
   "cell_type": "markdown",
   "metadata": {},
   "source": []
  }
 ],
 "metadata": {
  "kernelspec": {
   "display_name": "Python [default]",
   "language": "python",
   "name": "python3"
  },
  "language_info": {
   "codemirror_mode": {
    "name": "ipython",
    "version": 3
   },
   "file_extension": ".py",
   "mimetype": "text/x-python",
   "name": "python",
   "nbconvert_exporter": "python",
   "pygments_lexer": "ipython3",
   "version": "3.6.2"
  }
 },
 "nbformat": 4,
 "nbformat_minor": 2
}
