{
 "cells": [
  {
   "cell_type": "markdown",
   "metadata": {},
   "source": [
    "In each of the scenarios, find possible shortcomings of the theoretical or actual data sources to answer the given question. What could be done to either adjust the analysis or reframe the question so that you can answer it accurately?"
   ]
  },
  {
   "cell_type": "markdown",
   "metadata": {},
   "source": [
    "Data Source: Amsterdam availability data scraped from AirBnB on December 24th. \n",
    "\n",
    "Question: What are the popular neighborhoods in Amsterdam?"
   ]
  },
  {
   "cell_type": "markdown",
   "metadata": {},
   "source": [
    "The popular neighborhoods are going to be influenced by the close proximity of Christmas. It's very possible that the popular neighborhoods during winter and Christmas are different from the overall popular areas. It would make sense to limit the conclusions of this data source to what are popular neighborhoods in Amsterdam during the Christmas holidays."
   ]
  },
  {
   "cell_type": "markdown",
   "metadata": {},
   "source": [
    "Data Source: Mental health services use on September 12, 2001 in San Francisco, CA and New York City, NY. \n",
    "\n",
    "Question: How do patterns of mental health service use vary between cities?"
   ]
  },
  {
   "cell_type": "markdown",
   "metadata": {},
   "source": [
    "New York City would be expected to have a large increase of mental health service use the day after September 11. There wouldn't be any valuable information to glean comparing the two cities given the traumatic events. The data may be usable in comparison with New York City at a similar time in the past to see the response to the events as captured by mental health service use."
   ]
  },
  {
   "cell_type": "markdown",
   "metadata": {},
   "source": [
    "Data Source: Armenian Pub Survey. \n",
    "\n",
    "Question: What are the most common reasons Armenians visit local pubs?"
   ]
  },
  {
   "cell_type": "markdown",
   "metadata": {},
   "source": [
    "Almost all of the people surveyed are students, and this is likely to bias the results."
   ]
  },
  {
   "cell_type": "markdown",
   "metadata": {},
   "source": [
    "### Notes\n",
    "\n",
    "Bias - Limited sample\n",
    "\n",
    "Quality -  Are there are a lot of unexplained blanks? Is it unevenly distributed across time? Does the volume fluctuate seemingly without cause?\n",
    "\n",
    "What was the situation under which data was collected?\n",
    "\n",
    "Adjust or limit conclusions"
   ]
  }
 ],
 "metadata": {
  "kernelspec": {
   "display_name": "Python 3",
   "language": "python",
   "name": "python3"
  },
  "language_info": {
   "codemirror_mode": {
    "name": "ipython",
    "version": 3
   },
   "file_extension": ".py",
   "mimetype": "text/x-python",
   "name": "python",
   "nbconvert_exporter": "python",
   "pygments_lexer": "ipython3",
   "version": "3.6.5"
  }
 },
 "nbformat": 4,
 "nbformat_minor": 2
}
