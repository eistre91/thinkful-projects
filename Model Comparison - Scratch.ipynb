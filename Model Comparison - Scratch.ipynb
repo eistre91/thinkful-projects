{
 "cells": [
  {
   "cell_type": "code",
   "execution_count": 77,
   "metadata": {
    "collapsed": true
   },
   "outputs": [],
   "source": [
    "import pandas as pd\n",
    "import numpy as np\n",
    "import matplotlib.pyplot as plt\n",
    "import seaborn as sns \n",
    "\n",
    "from sklearn.model_selection import train_test_split\n",
    "from sklearn import neighbors\n",
    "from sklearn.linear_model import LinearRegression"
   ]
  },
  {
   "cell_type": "code",
   "execution_count": 2,
   "metadata": {
    "collapsed": true
   },
   "outputs": [],
   "source": [
    "# https://www.kaggle.com/ruslankl/mice-protein-expression/data\n",
    "df = pd.read_csv('Data_Cortex_Nuclear.csv')"
   ]
  },
  {
   "cell_type": "code",
   "execution_count": 3,
   "metadata": {},
   "outputs": [
    {
     "data": {
      "text/html": [
       "<div>\n",
       "<style>\n",
       "    .dataframe thead tr:only-child th {\n",
       "        text-align: right;\n",
       "    }\n",
       "\n",
       "    .dataframe thead th {\n",
       "        text-align: left;\n",
       "    }\n",
       "\n",
       "    .dataframe tbody tr th {\n",
       "        vertical-align: top;\n",
       "    }\n",
       "</style>\n",
       "<table border=\"1\" class=\"dataframe\">\n",
       "  <thead>\n",
       "    <tr style=\"text-align: right;\">\n",
       "      <th></th>\n",
       "      <th>MouseID</th>\n",
       "      <th>DYRK1A_N</th>\n",
       "      <th>ITSN1_N</th>\n",
       "      <th>BDNF_N</th>\n",
       "      <th>NR1_N</th>\n",
       "      <th>NR2A_N</th>\n",
       "      <th>pAKT_N</th>\n",
       "      <th>pBRAF_N</th>\n",
       "      <th>pCAMKII_N</th>\n",
       "      <th>pCREB_N</th>\n",
       "      <th>...</th>\n",
       "      <th>pCFOS_N</th>\n",
       "      <th>SYP_N</th>\n",
       "      <th>H3AcK18_N</th>\n",
       "      <th>EGR1_N</th>\n",
       "      <th>H3MeK4_N</th>\n",
       "      <th>CaNA_N</th>\n",
       "      <th>Genotype</th>\n",
       "      <th>Treatment</th>\n",
       "      <th>Behavior</th>\n",
       "      <th>class</th>\n",
       "    </tr>\n",
       "  </thead>\n",
       "  <tbody>\n",
       "    <tr>\n",
       "      <th>0</th>\n",
       "      <td>309_1</td>\n",
       "      <td>0.503644</td>\n",
       "      <td>0.747193</td>\n",
       "      <td>0.430175</td>\n",
       "      <td>2.816329</td>\n",
       "      <td>5.990152</td>\n",
       "      <td>0.218830</td>\n",
       "      <td>0.177565</td>\n",
       "      <td>2.373744</td>\n",
       "      <td>0.232224</td>\n",
       "      <td>...</td>\n",
       "      <td>0.108336</td>\n",
       "      <td>0.427099</td>\n",
       "      <td>0.114783</td>\n",
       "      <td>0.131790</td>\n",
       "      <td>0.128186</td>\n",
       "      <td>1.675652</td>\n",
       "      <td>Control</td>\n",
       "      <td>Memantine</td>\n",
       "      <td>C/S</td>\n",
       "      <td>c-CS-m</td>\n",
       "    </tr>\n",
       "    <tr>\n",
       "      <th>1</th>\n",
       "      <td>309_2</td>\n",
       "      <td>0.514617</td>\n",
       "      <td>0.689064</td>\n",
       "      <td>0.411770</td>\n",
       "      <td>2.789514</td>\n",
       "      <td>5.685038</td>\n",
       "      <td>0.211636</td>\n",
       "      <td>0.172817</td>\n",
       "      <td>2.292150</td>\n",
       "      <td>0.226972</td>\n",
       "      <td>...</td>\n",
       "      <td>0.104315</td>\n",
       "      <td>0.441581</td>\n",
       "      <td>0.111974</td>\n",
       "      <td>0.135103</td>\n",
       "      <td>0.131119</td>\n",
       "      <td>1.743610</td>\n",
       "      <td>Control</td>\n",
       "      <td>Memantine</td>\n",
       "      <td>C/S</td>\n",
       "      <td>c-CS-m</td>\n",
       "    </tr>\n",
       "    <tr>\n",
       "      <th>2</th>\n",
       "      <td>309_3</td>\n",
       "      <td>0.509183</td>\n",
       "      <td>0.730247</td>\n",
       "      <td>0.418309</td>\n",
       "      <td>2.687201</td>\n",
       "      <td>5.622059</td>\n",
       "      <td>0.209011</td>\n",
       "      <td>0.175722</td>\n",
       "      <td>2.283337</td>\n",
       "      <td>0.230247</td>\n",
       "      <td>...</td>\n",
       "      <td>0.106219</td>\n",
       "      <td>0.435777</td>\n",
       "      <td>0.111883</td>\n",
       "      <td>0.133362</td>\n",
       "      <td>0.127431</td>\n",
       "      <td>1.926427</td>\n",
       "      <td>Control</td>\n",
       "      <td>Memantine</td>\n",
       "      <td>C/S</td>\n",
       "      <td>c-CS-m</td>\n",
       "    </tr>\n",
       "    <tr>\n",
       "      <th>3</th>\n",
       "      <td>309_4</td>\n",
       "      <td>0.442107</td>\n",
       "      <td>0.617076</td>\n",
       "      <td>0.358626</td>\n",
       "      <td>2.466947</td>\n",
       "      <td>4.979503</td>\n",
       "      <td>0.222886</td>\n",
       "      <td>0.176463</td>\n",
       "      <td>2.152301</td>\n",
       "      <td>0.207004</td>\n",
       "      <td>...</td>\n",
       "      <td>0.111262</td>\n",
       "      <td>0.391691</td>\n",
       "      <td>0.130405</td>\n",
       "      <td>0.147444</td>\n",
       "      <td>0.146901</td>\n",
       "      <td>1.700563</td>\n",
       "      <td>Control</td>\n",
       "      <td>Memantine</td>\n",
       "      <td>C/S</td>\n",
       "      <td>c-CS-m</td>\n",
       "    </tr>\n",
       "    <tr>\n",
       "      <th>4</th>\n",
       "      <td>309_5</td>\n",
       "      <td>0.434940</td>\n",
       "      <td>0.617430</td>\n",
       "      <td>0.358802</td>\n",
       "      <td>2.365785</td>\n",
       "      <td>4.718679</td>\n",
       "      <td>0.213106</td>\n",
       "      <td>0.173627</td>\n",
       "      <td>2.134014</td>\n",
       "      <td>0.192158</td>\n",
       "      <td>...</td>\n",
       "      <td>0.110694</td>\n",
       "      <td>0.434154</td>\n",
       "      <td>0.118481</td>\n",
       "      <td>0.140314</td>\n",
       "      <td>0.148380</td>\n",
       "      <td>1.839730</td>\n",
       "      <td>Control</td>\n",
       "      <td>Memantine</td>\n",
       "      <td>C/S</td>\n",
       "      <td>c-CS-m</td>\n",
       "    </tr>\n",
       "  </tbody>\n",
       "</table>\n",
       "<p>5 rows × 82 columns</p>\n",
       "</div>"
      ],
      "text/plain": [
       "  MouseID  DYRK1A_N   ITSN1_N    BDNF_N     NR1_N    NR2A_N    pAKT_N  \\\n",
       "0   309_1  0.503644  0.747193  0.430175  2.816329  5.990152  0.218830   \n",
       "1   309_2  0.514617  0.689064  0.411770  2.789514  5.685038  0.211636   \n",
       "2   309_3  0.509183  0.730247  0.418309  2.687201  5.622059  0.209011   \n",
       "3   309_4  0.442107  0.617076  0.358626  2.466947  4.979503  0.222886   \n",
       "4   309_5  0.434940  0.617430  0.358802  2.365785  4.718679  0.213106   \n",
       "\n",
       "    pBRAF_N  pCAMKII_N   pCREB_N   ...     pCFOS_N     SYP_N  H3AcK18_N  \\\n",
       "0  0.177565   2.373744  0.232224   ...    0.108336  0.427099   0.114783   \n",
       "1  0.172817   2.292150  0.226972   ...    0.104315  0.441581   0.111974   \n",
       "2  0.175722   2.283337  0.230247   ...    0.106219  0.435777   0.111883   \n",
       "3  0.176463   2.152301  0.207004   ...    0.111262  0.391691   0.130405   \n",
       "4  0.173627   2.134014  0.192158   ...    0.110694  0.434154   0.118481   \n",
       "\n",
       "     EGR1_N  H3MeK4_N    CaNA_N  Genotype  Treatment  Behavior   class  \n",
       "0  0.131790  0.128186  1.675652   Control  Memantine       C/S  c-CS-m  \n",
       "1  0.135103  0.131119  1.743610   Control  Memantine       C/S  c-CS-m  \n",
       "2  0.133362  0.127431  1.926427   Control  Memantine       C/S  c-CS-m  \n",
       "3  0.147444  0.146901  1.700563   Control  Memantine       C/S  c-CS-m  \n",
       "4  0.140314  0.148380  1.839730   Control  Memantine       C/S  c-CS-m  \n",
       "\n",
       "[5 rows x 82 columns]"
      ]
     },
     "execution_count": 3,
     "metadata": {},
     "output_type": "execute_result"
    }
   ],
   "source": [
    "df.head()"
   ]
  },
  {
   "cell_type": "code",
   "execution_count": 5,
   "metadata": {},
   "outputs": [
    {
     "data": {
      "text/plain": [
       "array(['Memantine', 'Saline'], dtype=object)"
      ]
     },
     "execution_count": 5,
     "metadata": {},
     "output_type": "execute_result"
    }
   ],
   "source": [
    "df['Treatment'].unique()"
   ]
  },
  {
   "cell_type": "code",
   "execution_count": 6,
   "metadata": {
    "collapsed": true
   },
   "outputs": [],
   "source": [
    "df['Treated'] = df['Treatment'] == 'Memantine'"
   ]
  },
  {
   "cell_type": "code",
   "execution_count": 8,
   "metadata": {},
   "outputs": [
    {
     "data": {
      "text/plain": [
       "array(['Control', 'Ts65Dn'], dtype=object)"
      ]
     },
     "execution_count": 8,
     "metadata": {},
     "output_type": "execute_result"
    }
   ],
   "source": [
    "df['Genotype'].unique()"
   ]
  },
  {
   "cell_type": "code",
   "execution_count": 9,
   "metadata": {
    "collapsed": true
   },
   "outputs": [],
   "source": [
    "df['Normal_Geno'] = df['Genotype'] == 'Control'"
   ]
  },
  {
   "cell_type": "code",
   "execution_count": 10,
   "metadata": {},
   "outputs": [
    {
     "data": {
      "text/plain": [
       "0        True\n",
       "1        True\n",
       "2        True\n",
       "3        True\n",
       "4        True\n",
       "5        True\n",
       "6        True\n",
       "7        True\n",
       "8        True\n",
       "9        True\n",
       "10       True\n",
       "11       True\n",
       "12       True\n",
       "13       True\n",
       "14       True\n",
       "15       True\n",
       "16       True\n",
       "17       True\n",
       "18       True\n",
       "19       True\n",
       "20       True\n",
       "21       True\n",
       "22       True\n",
       "23       True\n",
       "24       True\n",
       "25       True\n",
       "26       True\n",
       "27       True\n",
       "28       True\n",
       "29       True\n",
       "        ...  \n",
       "1050    False\n",
       "1051    False\n",
       "1052    False\n",
       "1053    False\n",
       "1054    False\n",
       "1055    False\n",
       "1056    False\n",
       "1057    False\n",
       "1058    False\n",
       "1059    False\n",
       "1060    False\n",
       "1061    False\n",
       "1062    False\n",
       "1063    False\n",
       "1064    False\n",
       "1065    False\n",
       "1066    False\n",
       "1067    False\n",
       "1068    False\n",
       "1069    False\n",
       "1070    False\n",
       "1071    False\n",
       "1072    False\n",
       "1073    False\n",
       "1074    False\n",
       "1075    False\n",
       "1076    False\n",
       "1077    False\n",
       "1078    False\n",
       "1079    False\n",
       "Name: Normal_Geno, Length: 1080, dtype: bool"
      ]
     },
     "execution_count": 10,
     "metadata": {},
     "output_type": "execute_result"
    }
   ],
   "source": [
    "df['Normal_Geno']"
   ]
  },
  {
   "cell_type": "code",
   "execution_count": 15,
   "metadata": {},
   "outputs": [
    {
     "data": {
      "text/plain": [
       "GFAP_N          0.013233\n",
       "ARC_N           0.014276\n",
       "pS6_N           0.014276\n",
       "ERBB4_N         0.015071\n",
       "BAX_N           0.018826\n",
       "pGSK3B_N        0.019308\n",
       "pCFOS_N         0.023863\n",
       "SNCA_N          0.024150\n",
       "nNOS_N          0.024919\n",
       "CREB_N          0.026370\n",
       "GluR4_N         0.026885\n",
       "pBRAF_N         0.027042\n",
       "BCL2_N          0.027417\n",
       "RSK_N           0.028138\n",
       "SHH_N           0.028989\n",
       "NUMB_N          0.029296\n",
       "BAD_N           0.029537\n",
       "P3525_N         0.030015\n",
       "RRP1_N          0.031896\n",
       "pCREB_N         0.032587\n",
       "JNK_N           0.033901\n",
       "GluR3_N         0.034886\n",
       "CDK5_N          0.037380\n",
       "EGR1_N          0.040406\n",
       "MEK_N           0.041075\n",
       "pAKT_N          0.041634\n",
       "pMEK_N          0.046164\n",
       "BDNF_N          0.049383\n",
       "pJNK_N          0.051978\n",
       "PKCA_N          0.052236\n",
       "                  ...   \n",
       "pMTOR_N         0.122446\n",
       "AKT_N           0.127434\n",
       "S6_N            0.137440\n",
       "pP70S6_N        0.156170\n",
       "P70S6_N         0.172838\n",
       "Ubiquitin_N     0.173580\n",
       "AcetylH3K9_N    0.185309\n",
       "pNR2A_N         0.188013\n",
       "BRAF_N          0.216388\n",
       "GSK3B_N         0.244752\n",
       "pCASP9_N        0.248132\n",
       "DYRK1A_N        0.249362\n",
       "ITSN1_N         0.251640\n",
       "PSD95_N         0.254395\n",
       "pNR2B_N         0.270737\n",
       "SOD1_N          0.280568\n",
       "CaNA_N          0.317126\n",
       "ELK_N           0.335786\n",
       "pERK_N          0.345309\n",
       "NR1_N           0.347293\n",
       "ADARB1_N        0.361743\n",
       "Bcatenin_N      0.435742\n",
       "pELK_N          0.466904\n",
       "pPKCAB_N        0.481780\n",
       "Normal_Geno     0.499459\n",
       "Treated         0.499459\n",
       "pPKCG_N         0.578442\n",
       "ERK_N           0.653397\n",
       "NR2A_N          0.933100\n",
       "pCAMKII_N       1.295169\n",
       "Length: 79, dtype: float64"
      ]
     },
     "execution_count": 15,
     "metadata": {},
     "output_type": "execute_result"
    }
   ],
   "source": [
    "df.std().sort_values()"
   ]
  },
  {
   "cell_type": "code",
   "execution_count": 66,
   "metadata": {
    "scrolled": true
   },
   "outputs": [
    {
     "data": {
      "text/plain": [
       "987   NaN\n",
       "988   NaN\n",
       "989   NaN\n",
       "Name: pCAMKII_N, dtype: float64"
      ]
     },
     "execution_count": 66,
     "metadata": {},
     "output_type": "execute_result"
    }
   ],
   "source": [
    "df['pCAMKII_N'][df['pCAMKII_N'].isnull()]"
   ]
  },
  {
   "cell_type": "code",
   "execution_count": 43,
   "metadata": {},
   "outputs": [],
   "source": [
    "remove_sparse = df.drop([987, 988, 989])"
   ]
  },
  {
   "cell_type": "code",
   "execution_count": 148,
   "metadata": {},
   "outputs": [],
   "source": [
    "target = remove_sparse['pCAMKII_N']\n",
    "features = remove_sparse.drop(['MouseID', 'Genotype', 'Treatment', 'Behavior', 'class', 'Treated', 'Normal_Geno', 'BCL2_N',\n",
    "                   'pCFOS_N', 'H3MeK4_N', 'EGR1_N', 'BAD_N', 'H3AcK18_N', 'ELK_N', 'MEK_N', \n",
    "                    'Bcatenin_N', 'pCAMKII_N', 'CAMKII_N', 'pS6_N'], axis=1)\n",
    "feature_columns = features.columns"
   ]
  },
  {
   "cell_type": "code",
   "execution_count": 149,
   "metadata": {
    "scrolled": true
   },
   "outputs": [
    {
     "data": {
      "text/plain": [
       "DYRK1A_N           False\n",
       "ITSN1_N            False\n",
       "BDNF_N             False\n",
       "NR1_N              False\n",
       "NR2A_N             False\n",
       "pAKT_N             False\n",
       "pBRAF_N            False\n",
       "pCREB_N            False\n",
       "pELK_N             False\n",
       "pERK_N             False\n",
       "pJNK_N             False\n",
       "PKCA_N             False\n",
       "pMEK_N             False\n",
       "pNR1_N             False\n",
       "pNR2A_N            False\n",
       "pNR2B_N            False\n",
       "pPKCAB_N           False\n",
       "pRSK_N             False\n",
       "AKT_N              False\n",
       "BRAF_N             False\n",
       "CREB_N             False\n",
       "ERK_N              False\n",
       "GSK3B_N            False\n",
       "JNK_N              False\n",
       "TRKA_N             False\n",
       "RSK_N              False\n",
       "APP_N              False\n",
       "SOD1_N             False\n",
       "MTOR_N             False\n",
       "P38_N              False\n",
       "                   ...  \n",
       "RAPTOR_N           False\n",
       "TIAM1_N            False\n",
       "pP70S6_N           False\n",
       "NUMB_N             False\n",
       "P70S6_N            False\n",
       "pGSK3B_N           False\n",
       "pPKCG_N            False\n",
       "CDK5_N             False\n",
       "S6_N               False\n",
       "ADARB1_N           False\n",
       "AcetylH3K9_N       False\n",
       "RRP1_N             False\n",
       "BAX_N              False\n",
       "ARC_N              False\n",
       "ERBB4_N            False\n",
       "nNOS_N             False\n",
       "Tau_N              False\n",
       "GFAP_N             False\n",
       "GluR3_N            False\n",
       "GluR4_N            False\n",
       "IL1B_N             False\n",
       "P3525_N            False\n",
       "pCASP9_N           False\n",
       "PSD95_N            False\n",
       "SNCA_N             False\n",
       "Ubiquitin_N        False\n",
       "pGSK3B_Tyr216_N    False\n",
       "SHH_N              False\n",
       "SYP_N              False\n",
       "CaNA_N             False\n",
       "Length: 65, dtype: bool"
      ]
     },
     "execution_count": 149,
     "metadata": {},
     "output_type": "execute_result"
    }
   ],
   "source": [
    "features.isnull().any(axis=0)"
   ]
  },
  {
   "cell_type": "code",
   "execution_count": 150,
   "metadata": {
    "scrolled": true
   },
   "outputs": [
    {
     "data": {
      "text/html": [
       "<div>\n",
       "<style>\n",
       "    .dataframe thead tr:only-child th {\n",
       "        text-align: right;\n",
       "    }\n",
       "\n",
       "    .dataframe thead th {\n",
       "        text-align: left;\n",
       "    }\n",
       "\n",
       "    .dataframe tbody tr th {\n",
       "        vertical-align: top;\n",
       "    }\n",
       "</style>\n",
       "<table border=\"1\" class=\"dataframe\">\n",
       "  <thead>\n",
       "    <tr style=\"text-align: right;\">\n",
       "      <th></th>\n",
       "      <th>DYRK1A_N</th>\n",
       "      <th>ITSN1_N</th>\n",
       "      <th>BDNF_N</th>\n",
       "      <th>NR1_N</th>\n",
       "      <th>NR2A_N</th>\n",
       "      <th>pAKT_N</th>\n",
       "      <th>pBRAF_N</th>\n",
       "      <th>pCREB_N</th>\n",
       "      <th>pELK_N</th>\n",
       "      <th>pERK_N</th>\n",
       "      <th>...</th>\n",
       "      <th>IL1B_N</th>\n",
       "      <th>P3525_N</th>\n",
       "      <th>pCASP9_N</th>\n",
       "      <th>PSD95_N</th>\n",
       "      <th>SNCA_N</th>\n",
       "      <th>Ubiquitin_N</th>\n",
       "      <th>pGSK3B_Tyr216_N</th>\n",
       "      <th>SHH_N</th>\n",
       "      <th>SYP_N</th>\n",
       "      <th>CaNA_N</th>\n",
       "    </tr>\n",
       "  </thead>\n",
       "  <tbody>\n",
       "  </tbody>\n",
       "</table>\n",
       "<p>0 rows × 65 columns</p>\n",
       "</div>"
      ],
      "text/plain": [
       "Empty DataFrame\n",
       "Columns: [DYRK1A_N, ITSN1_N, BDNF_N, NR1_N, NR2A_N, pAKT_N, pBRAF_N, pCREB_N, pELK_N, pERK_N, pJNK_N, PKCA_N, pMEK_N, pNR1_N, pNR2A_N, pNR2B_N, pPKCAB_N, pRSK_N, AKT_N, BRAF_N, CREB_N, ERK_N, GSK3B_N, JNK_N, TRKA_N, RSK_N, APP_N, SOD1_N, MTOR_N, P38_N, pMTOR_N, DSCR1_N, AMPKA_N, NR2B_N, pNUMB_N, RAPTOR_N, TIAM1_N, pP70S6_N, NUMB_N, P70S6_N, pGSK3B_N, pPKCG_N, CDK5_N, S6_N, ADARB1_N, AcetylH3K9_N, RRP1_N, BAX_N, ARC_N, ERBB4_N, nNOS_N, Tau_N, GFAP_N, GluR3_N, GluR4_N, IL1B_N, P3525_N, pCASP9_N, PSD95_N, SNCA_N, Ubiquitin_N, pGSK3B_Tyr216_N, SHH_N, SYP_N, CaNA_N]\n",
       "Index: []\n",
       "\n",
       "[0 rows x 65 columns]"
      ]
     },
     "execution_count": 150,
     "metadata": {},
     "output_type": "execute_result"
    }
   ],
   "source": [
    "features[features.isnull().any(axis=1)]"
   ]
  },
  {
   "cell_type": "code",
   "execution_count": 151,
   "metadata": {
    "collapsed": true
   },
   "outputs": [],
   "source": [
    "norm_features = features.copy()\n",
    "for column in features.columns:\n",
    "    norm_features[column] = (norm_features[column] - norm_features[column].mean()) /\\\n",
    "                                norm_features[column].std()"
   ]
  },
  {
   "cell_type": "code",
   "execution_count": 152,
   "metadata": {},
   "outputs": [
    {
     "data": {
      "text/html": [
       "<div>\n",
       "<style>\n",
       "    .dataframe thead tr:only-child th {\n",
       "        text-align: right;\n",
       "    }\n",
       "\n",
       "    .dataframe thead th {\n",
       "        text-align: left;\n",
       "    }\n",
       "\n",
       "    .dataframe tbody tr th {\n",
       "        vertical-align: top;\n",
       "    }\n",
       "</style>\n",
       "<table border=\"1\" class=\"dataframe\">\n",
       "  <thead>\n",
       "    <tr style=\"text-align: right;\">\n",
       "      <th></th>\n",
       "      <th>DYRK1A_N</th>\n",
       "      <th>ITSN1_N</th>\n",
       "      <th>BDNF_N</th>\n",
       "      <th>NR1_N</th>\n",
       "      <th>NR2A_N</th>\n",
       "      <th>pAKT_N</th>\n",
       "      <th>pBRAF_N</th>\n",
       "      <th>pCREB_N</th>\n",
       "      <th>pELK_N</th>\n",
       "      <th>pERK_N</th>\n",
       "      <th>...</th>\n",
       "      <th>IL1B_N</th>\n",
       "      <th>P3525_N</th>\n",
       "      <th>pCASP9_N</th>\n",
       "      <th>PSD95_N</th>\n",
       "      <th>SNCA_N</th>\n",
       "      <th>Ubiquitin_N</th>\n",
       "      <th>pGSK3B_Tyr216_N</th>\n",
       "      <th>SHH_N</th>\n",
       "      <th>SYP_N</th>\n",
       "      <th>CaNA_N</th>\n",
       "    </tr>\n",
       "  </thead>\n",
       "  <tbody>\n",
       "    <tr>\n",
       "      <th>0</th>\n",
       "      <td>0.312131</td>\n",
       "      <td>0.516974</td>\n",
       "      <td>2.249492</td>\n",
       "      <td>1.494587</td>\n",
       "      <td>2.300094</td>\n",
       "      <td>-0.344380</td>\n",
       "      <td>-0.158307</td>\n",
       "      <td>0.602995</td>\n",
       "      <td>0.690193</td>\n",
       "      <td>0.411232</td>\n",
       "      <td>...</td>\n",
       "      <td>-1.173090</td>\n",
       "      <td>-1.454381</td>\n",
       "      <td>0.220950</td>\n",
       "      <td>-0.865781</td>\n",
       "      <td>-2.132759</td>\n",
       "      <td>-1.117809</td>\n",
       "      <td>-0.178071</td>\n",
       "      <td>-1.307380</td>\n",
       "      <td>-0.286439</td>\n",
       "      <td>1.065234</td>\n",
       "    </tr>\n",
       "    <tr>\n",
       "      <th>1</th>\n",
       "      <td>0.356137</td>\n",
       "      <td>0.285970</td>\n",
       "      <td>1.876794</td>\n",
       "      <td>1.417377</td>\n",
       "      <td>1.973104</td>\n",
       "      <td>-0.517166</td>\n",
       "      <td>-0.333903</td>\n",
       "      <td>0.441838</td>\n",
       "      <td>0.359164</td>\n",
       "      <td>0.431793</td>\n",
       "      <td>...</td>\n",
       "      <td>-0.854243</td>\n",
       "      <td>-1.118116</td>\n",
       "      <td>0.496359</td>\n",
       "      <td>-0.906097</td>\n",
       "      <td>-2.070143</td>\n",
       "      <td>-1.319724</td>\n",
       "      <td>0.010357</td>\n",
       "      <td>-0.908911</td>\n",
       "      <td>-0.068686</td>\n",
       "      <td>1.279274</td>\n",
       "    </tr>\n",
       "    <tr>\n",
       "      <th>2</th>\n",
       "      <td>0.334345</td>\n",
       "      <td>0.449630</td>\n",
       "      <td>2.009197</td>\n",
       "      <td>1.122775</td>\n",
       "      <td>1.905610</td>\n",
       "      <td>-0.580221</td>\n",
       "      <td>-0.226470</td>\n",
       "      <td>0.542328</td>\n",
       "      <td>0.284072</td>\n",
       "      <td>0.380657</td>\n",
       "      <td>...</td>\n",
       "      <td>-0.205367</td>\n",
       "      <td>-1.194374</td>\n",
       "      <td>0.463405</td>\n",
       "      <td>-0.858103</td>\n",
       "      <td>-2.134337</td>\n",
       "      <td>-1.394720</td>\n",
       "      <td>-0.016893</td>\n",
       "      <td>-1.140676</td>\n",
       "      <td>-0.155962</td>\n",
       "      <td>1.855077</td>\n",
       "    </tr>\n",
       "    <tr>\n",
       "      <th>3</th>\n",
       "      <td>0.065353</td>\n",
       "      <td>-0.000103</td>\n",
       "      <td>0.800636</td>\n",
       "      <td>0.488573</td>\n",
       "      <td>1.216985</td>\n",
       "      <td>-0.246965</td>\n",
       "      <td>-0.199091</td>\n",
       "      <td>-0.170918</td>\n",
       "      <td>0.356400</td>\n",
       "      <td>0.108230</td>\n",
       "      <td>...</td>\n",
       "      <td>-1.172623</td>\n",
       "      <td>-1.335614</td>\n",
       "      <td>-0.256738</td>\n",
       "      <td>-1.092073</td>\n",
       "      <td>-1.651043</td>\n",
       "      <td>-1.432823</td>\n",
       "      <td>-0.159772</td>\n",
       "      <td>-1.194923</td>\n",
       "      <td>-0.818837</td>\n",
       "      <td>1.143695</td>\n",
       "    </tr>\n",
       "    <tr>\n",
       "      <th>4</th>\n",
       "      <td>0.036614</td>\n",
       "      <td>0.001303</td>\n",
       "      <td>0.804198</td>\n",
       "      <td>0.197285</td>\n",
       "      <td>0.937461</td>\n",
       "      <td>-0.481864</td>\n",
       "      <td>-0.303951</td>\n",
       "      <td>-0.626507</td>\n",
       "      <td>0.161806</td>\n",
       "      <td>0.014642</td>\n",
       "      <td>...</td>\n",
       "      <td>-0.561298</td>\n",
       "      <td>-1.313297</td>\n",
       "      <td>-0.054648</td>\n",
       "      <td>-0.888418</td>\n",
       "      <td>-1.665882</td>\n",
       "      <td>-1.389384</td>\n",
       "      <td>0.323064</td>\n",
       "      <td>-0.729522</td>\n",
       "      <td>-0.180366</td>\n",
       "      <td>1.582017</td>\n",
       "    </tr>\n",
       "  </tbody>\n",
       "</table>\n",
       "<p>5 rows × 65 columns</p>\n",
       "</div>"
      ],
      "text/plain": [
       "   DYRK1A_N   ITSN1_N    BDNF_N     NR1_N    NR2A_N    pAKT_N   pBRAF_N  \\\n",
       "0  0.312131  0.516974  2.249492  1.494587  2.300094 -0.344380 -0.158307   \n",
       "1  0.356137  0.285970  1.876794  1.417377  1.973104 -0.517166 -0.333903   \n",
       "2  0.334345  0.449630  2.009197  1.122775  1.905610 -0.580221 -0.226470   \n",
       "3  0.065353 -0.000103  0.800636  0.488573  1.216985 -0.246965 -0.199091   \n",
       "4  0.036614  0.001303  0.804198  0.197285  0.937461 -0.481864 -0.303951   \n",
       "\n",
       "    pCREB_N    pELK_N    pERK_N    ...       IL1B_N   P3525_N  pCASP9_N  \\\n",
       "0  0.602995  0.690193  0.411232    ...    -1.173090 -1.454381  0.220950   \n",
       "1  0.441838  0.359164  0.431793    ...    -0.854243 -1.118116  0.496359   \n",
       "2  0.542328  0.284072  0.380657    ...    -0.205367 -1.194374  0.463405   \n",
       "3 -0.170918  0.356400  0.108230    ...    -1.172623 -1.335614 -0.256738   \n",
       "4 -0.626507  0.161806  0.014642    ...    -0.561298 -1.313297 -0.054648   \n",
       "\n",
       "    PSD95_N    SNCA_N  Ubiquitin_N  pGSK3B_Tyr216_N     SHH_N     SYP_N  \\\n",
       "0 -0.865781 -2.132759    -1.117809        -0.178071 -1.307380 -0.286439   \n",
       "1 -0.906097 -2.070143    -1.319724         0.010357 -0.908911 -0.068686   \n",
       "2 -0.858103 -2.134337    -1.394720        -0.016893 -1.140676 -0.155962   \n",
       "3 -1.092073 -1.651043    -1.432823        -0.159772 -1.194923 -0.818837   \n",
       "4 -0.888418 -1.665882    -1.389384         0.323064 -0.729522 -0.180366   \n",
       "\n",
       "     CaNA_N  \n",
       "0  1.065234  \n",
       "1  1.279274  \n",
       "2  1.855077  \n",
       "3  1.143695  \n",
       "4  1.582017  \n",
       "\n",
       "[5 rows x 65 columns]"
      ]
     },
     "execution_count": 152,
     "metadata": {},
     "output_type": "execute_result"
    }
   ],
   "source": [
    "norm_features.head()"
   ]
  },
  {
   "cell_type": "code",
   "execution_count": 153,
   "metadata": {},
   "outputs": [],
   "source": [
    "model_df = pd.concat([norm_features, target], axis=1)"
   ]
  },
  {
   "cell_type": "code",
   "execution_count": 154,
   "metadata": {},
   "outputs": [
    {
     "data": {
      "text/html": [
       "<div>\n",
       "<style>\n",
       "    .dataframe thead tr:only-child th {\n",
       "        text-align: right;\n",
       "    }\n",
       "\n",
       "    .dataframe thead th {\n",
       "        text-align: left;\n",
       "    }\n",
       "\n",
       "    .dataframe tbody tr th {\n",
       "        vertical-align: top;\n",
       "    }\n",
       "</style>\n",
       "<table border=\"1\" class=\"dataframe\">\n",
       "  <thead>\n",
       "    <tr style=\"text-align: right;\">\n",
       "      <th></th>\n",
       "      <th>DYRK1A_N</th>\n",
       "      <th>ITSN1_N</th>\n",
       "      <th>BDNF_N</th>\n",
       "      <th>NR1_N</th>\n",
       "      <th>NR2A_N</th>\n",
       "      <th>pAKT_N</th>\n",
       "      <th>pBRAF_N</th>\n",
       "      <th>pCREB_N</th>\n",
       "      <th>pELK_N</th>\n",
       "      <th>pERK_N</th>\n",
       "      <th>...</th>\n",
       "      <th>P3525_N</th>\n",
       "      <th>pCASP9_N</th>\n",
       "      <th>PSD95_N</th>\n",
       "      <th>SNCA_N</th>\n",
       "      <th>Ubiquitin_N</th>\n",
       "      <th>pGSK3B_Tyr216_N</th>\n",
       "      <th>SHH_N</th>\n",
       "      <th>SYP_N</th>\n",
       "      <th>CaNA_N</th>\n",
       "      <th>pCAMKII_N</th>\n",
       "    </tr>\n",
       "  </thead>\n",
       "  <tbody>\n",
       "    <tr>\n",
       "      <th>0</th>\n",
       "      <td>0.312131</td>\n",
       "      <td>0.516974</td>\n",
       "      <td>2.249492</td>\n",
       "      <td>1.494587</td>\n",
       "      <td>2.300094</td>\n",
       "      <td>-0.344380</td>\n",
       "      <td>-0.158307</td>\n",
       "      <td>0.602995</td>\n",
       "      <td>0.690193</td>\n",
       "      <td>0.411232</td>\n",
       "      <td>...</td>\n",
       "      <td>-1.454381</td>\n",
       "      <td>0.220950</td>\n",
       "      <td>-0.865781</td>\n",
       "      <td>-2.132759</td>\n",
       "      <td>-1.117809</td>\n",
       "      <td>-0.178071</td>\n",
       "      <td>-1.307380</td>\n",
       "      <td>-0.286439</td>\n",
       "      <td>1.065234</td>\n",
       "      <td>2.373744</td>\n",
       "    </tr>\n",
       "    <tr>\n",
       "      <th>1</th>\n",
       "      <td>0.356137</td>\n",
       "      <td>0.285970</td>\n",
       "      <td>1.876794</td>\n",
       "      <td>1.417377</td>\n",
       "      <td>1.973104</td>\n",
       "      <td>-0.517166</td>\n",
       "      <td>-0.333903</td>\n",
       "      <td>0.441838</td>\n",
       "      <td>0.359164</td>\n",
       "      <td>0.431793</td>\n",
       "      <td>...</td>\n",
       "      <td>-1.118116</td>\n",
       "      <td>0.496359</td>\n",
       "      <td>-0.906097</td>\n",
       "      <td>-2.070143</td>\n",
       "      <td>-1.319724</td>\n",
       "      <td>0.010357</td>\n",
       "      <td>-0.908911</td>\n",
       "      <td>-0.068686</td>\n",
       "      <td>1.279274</td>\n",
       "      <td>2.292150</td>\n",
       "    </tr>\n",
       "    <tr>\n",
       "      <th>2</th>\n",
       "      <td>0.334345</td>\n",
       "      <td>0.449630</td>\n",
       "      <td>2.009197</td>\n",
       "      <td>1.122775</td>\n",
       "      <td>1.905610</td>\n",
       "      <td>-0.580221</td>\n",
       "      <td>-0.226470</td>\n",
       "      <td>0.542328</td>\n",
       "      <td>0.284072</td>\n",
       "      <td>0.380657</td>\n",
       "      <td>...</td>\n",
       "      <td>-1.194374</td>\n",
       "      <td>0.463405</td>\n",
       "      <td>-0.858103</td>\n",
       "      <td>-2.134337</td>\n",
       "      <td>-1.394720</td>\n",
       "      <td>-0.016893</td>\n",
       "      <td>-1.140676</td>\n",
       "      <td>-0.155962</td>\n",
       "      <td>1.855077</td>\n",
       "      <td>2.283337</td>\n",
       "    </tr>\n",
       "    <tr>\n",
       "      <th>3</th>\n",
       "      <td>0.065353</td>\n",
       "      <td>-0.000103</td>\n",
       "      <td>0.800636</td>\n",
       "      <td>0.488573</td>\n",
       "      <td>1.216985</td>\n",
       "      <td>-0.246965</td>\n",
       "      <td>-0.199091</td>\n",
       "      <td>-0.170918</td>\n",
       "      <td>0.356400</td>\n",
       "      <td>0.108230</td>\n",
       "      <td>...</td>\n",
       "      <td>-1.335614</td>\n",
       "      <td>-0.256738</td>\n",
       "      <td>-1.092073</td>\n",
       "      <td>-1.651043</td>\n",
       "      <td>-1.432823</td>\n",
       "      <td>-0.159772</td>\n",
       "      <td>-1.194923</td>\n",
       "      <td>-0.818837</td>\n",
       "      <td>1.143695</td>\n",
       "      <td>2.152301</td>\n",
       "    </tr>\n",
       "    <tr>\n",
       "      <th>4</th>\n",
       "      <td>0.036614</td>\n",
       "      <td>0.001303</td>\n",
       "      <td>0.804198</td>\n",
       "      <td>0.197285</td>\n",
       "      <td>0.937461</td>\n",
       "      <td>-0.481864</td>\n",
       "      <td>-0.303951</td>\n",
       "      <td>-0.626507</td>\n",
       "      <td>0.161806</td>\n",
       "      <td>0.014642</td>\n",
       "      <td>...</td>\n",
       "      <td>-1.313297</td>\n",
       "      <td>-0.054648</td>\n",
       "      <td>-0.888418</td>\n",
       "      <td>-1.665882</td>\n",
       "      <td>-1.389384</td>\n",
       "      <td>0.323064</td>\n",
       "      <td>-0.729522</td>\n",
       "      <td>-0.180366</td>\n",
       "      <td>1.582017</td>\n",
       "      <td>2.134014</td>\n",
       "    </tr>\n",
       "  </tbody>\n",
       "</table>\n",
       "<p>5 rows × 66 columns</p>\n",
       "</div>"
      ],
      "text/plain": [
       "   DYRK1A_N   ITSN1_N    BDNF_N     NR1_N    NR2A_N    pAKT_N   pBRAF_N  \\\n",
       "0  0.312131  0.516974  2.249492  1.494587  2.300094 -0.344380 -0.158307   \n",
       "1  0.356137  0.285970  1.876794  1.417377  1.973104 -0.517166 -0.333903   \n",
       "2  0.334345  0.449630  2.009197  1.122775  1.905610 -0.580221 -0.226470   \n",
       "3  0.065353 -0.000103  0.800636  0.488573  1.216985 -0.246965 -0.199091   \n",
       "4  0.036614  0.001303  0.804198  0.197285  0.937461 -0.481864 -0.303951   \n",
       "\n",
       "    pCREB_N    pELK_N    pERK_N    ...       P3525_N  pCASP9_N   PSD95_N  \\\n",
       "0  0.602995  0.690193  0.411232    ...     -1.454381  0.220950 -0.865781   \n",
       "1  0.441838  0.359164  0.431793    ...     -1.118116  0.496359 -0.906097   \n",
       "2  0.542328  0.284072  0.380657    ...     -1.194374  0.463405 -0.858103   \n",
       "3 -0.170918  0.356400  0.108230    ...     -1.335614 -0.256738 -1.092073   \n",
       "4 -0.626507  0.161806  0.014642    ...     -1.313297 -0.054648 -0.888418   \n",
       "\n",
       "     SNCA_N  Ubiquitin_N  pGSK3B_Tyr216_N     SHH_N     SYP_N    CaNA_N  \\\n",
       "0 -2.132759    -1.117809        -0.178071 -1.307380 -0.286439  1.065234   \n",
       "1 -2.070143    -1.319724         0.010357 -0.908911 -0.068686  1.279274   \n",
       "2 -2.134337    -1.394720        -0.016893 -1.140676 -0.155962  1.855077   \n",
       "3 -1.651043    -1.432823        -0.159772 -1.194923 -0.818837  1.143695   \n",
       "4 -1.665882    -1.389384         0.323064 -0.729522 -0.180366  1.582017   \n",
       "\n",
       "   pCAMKII_N  \n",
       "0   2.373744  \n",
       "1   2.292150  \n",
       "2   2.283337  \n",
       "3   2.152301  \n",
       "4   2.134014  \n",
       "\n",
       "[5 rows x 66 columns]"
      ]
     },
     "execution_count": 154,
     "metadata": {},
     "output_type": "execute_result"
    }
   ],
   "source": [
    "model_df.head()"
   ]
  },
  {
   "cell_type": "code",
   "execution_count": 155,
   "metadata": {},
   "outputs": [],
   "source": [
    "train, test = train_test_split(model_df, test_size=0.2, random_state=42)"
   ]
  },
  {
   "cell_type": "code",
   "execution_count": 156,
   "metadata": {},
   "outputs": [
    {
     "data": {
      "text/plain": [
       "LinearRegression(copy_X=True, fit_intercept=True, n_jobs=1, normalize=False)"
      ]
     },
     "execution_count": 156,
     "metadata": {},
     "output_type": "execute_result"
    }
   ],
   "source": [
    "regr = LinearRegression()\n",
    "Y = train['pCAMKII_N']\n",
    "X = train[feature_columns]\n",
    "regr.fit(X, Y)"
   ]
  },
  {
   "cell_type": "code",
   "execution_count": 157,
   "metadata": {},
   "outputs": [
    {
     "data": {
      "text/plain": [
       "Index(['DYRK1A_N', 'ITSN1_N', 'BDNF_N', 'NR1_N', 'NR2A_N', 'pAKT_N', 'pBRAF_N',\n",
       "       'pCREB_N', 'pELK_N', 'pERK_N', 'pJNK_N', 'PKCA_N', 'pMEK_N', 'pNR1_N',\n",
       "       'pNR2A_N', 'pNR2B_N', 'pPKCAB_N', 'pRSK_N', 'AKT_N', 'BRAF_N', 'CREB_N',\n",
       "       'ERK_N', 'GSK3B_N', 'JNK_N', 'TRKA_N', 'RSK_N', 'APP_N', 'SOD1_N',\n",
       "       'MTOR_N', 'P38_N', 'pMTOR_N', 'DSCR1_N', 'AMPKA_N', 'NR2B_N', 'pNUMB_N',\n",
       "       'RAPTOR_N', 'TIAM1_N', 'pP70S6_N', 'NUMB_N', 'P70S6_N', 'pGSK3B_N',\n",
       "       'pPKCG_N', 'CDK5_N', 'S6_N', 'ADARB1_N', 'AcetylH3K9_N', 'RRP1_N',\n",
       "       'BAX_N', 'ARC_N', 'ERBB4_N', 'nNOS_N', 'Tau_N', 'GFAP_N', 'GluR3_N',\n",
       "       'GluR4_N', 'IL1B_N', 'P3525_N', 'pCASP9_N', 'PSD95_N', 'SNCA_N',\n",
       "       'Ubiquitin_N', 'pGSK3B_Tyr216_N', 'SHH_N', 'SYP_N', 'CaNA_N'],\n",
       "      dtype='object')"
      ]
     },
     "execution_count": 157,
     "metadata": {},
     "output_type": "execute_result"
    }
   ],
   "source": [
    "X.columns"
   ]
  },
  {
   "cell_type": "code",
   "execution_count": 160,
   "metadata": {},
   "outputs": [
    {
     "name": "stdout",
     "output_type": "stream",
     "text": [
      "\n",
      "Coefficients: \n",
      " [-0.02071039 -0.29450221  0.14364432  0.45486433  0.30919335  0.01669719\n",
      " -0.07345681 -0.13383048 -0.00503953 -0.04292259  0.05758382  0.13120332\n",
      "  0.04588192 -0.27854837  0.90286403 -0.16911885 -0.12150551  0.28264741\n",
      "  0.13385445  0.38393706  0.03422738 -0.22063121 -0.12999889 -0.22462298\n",
      " -0.01364525 -0.14588097  0.3055455  -0.34111231 -0.16124403 -0.07328264\n",
      "  0.02222447  0.01524395 -0.26671369  0.0231472   0.31217987 -0.25354422\n",
      "  0.03347084  0.46767916 -0.1949917  -0.03559136  0.15550561 -0.16503118\n",
      "  0.01802685  0.12467946 -0.16301318  0.15878304 -0.1696258   0.01490609\n",
      "  0.20371183 -0.04327173 -0.0961403  -0.11782632 -0.1774806  -0.00188973\n",
      "  0.01942921  0.12701804 -0.04339275 -0.22090458  0.00387708 -0.13825472\n",
      "  0.32962603  0.24177977 -0.00758257  0.11662013 -0.46208518]\n",
      "\n",
      "Intercept: \n",
      " 3.53323269785\n",
      "\n",
      "R-squared:\n",
      "0.867884919924\n"
     ]
    }
   ],
   "source": [
    "# https://stackoverflow.com/questions/34649969/how-to-find-the-features-names-of-the-coefficients-using-scikit-linear-regressio\n",
    "#print(list(zip(regr.coef_, feature_columns)))\n",
    "print('\\nCoefficients: \\n', regr.coef_)\n",
    "print('\\nIntercept: \\n', regr.intercept_)\n",
    "print('\\nR-squared:')\n",
    "print(regr.score(X, Y))"
   ]
  },
  {
   "cell_type": "code",
   "execution_count": 163,
   "metadata": {},
   "outputs": [
    {
     "data": {
      "text/plain": [
       "KNeighborsRegressor(algorithm='auto', leaf_size=30, metric='minkowski',\n",
       "          metric_params=None, n_jobs=1, n_neighbors=2, p=2,\n",
       "          weights='uniform')"
      ]
     },
     "execution_count": 163,
     "metadata": {},
     "output_type": "execute_result"
    }
   ],
   "source": [
    "knn = neighbors.KNeighborsRegressor(n_neighbors=2)\n",
    "Y = train['pCAMKII_N']\n",
    "X = train[feature_columns]\n",
    "knn.fit(X, Y)"
   ]
  },
  {
   "cell_type": "code",
   "execution_count": 164,
   "metadata": {},
   "outputs": [
    {
     "name": "stdout",
     "output_type": "stream",
     "text": [
      "\n",
      "R-squared:\n",
      "0.991857244372\n"
     ]
    }
   ],
   "source": [
    "print('\\nR-squared:')\n",
    "print(knn.score(X, Y))"
   ]
  },
  {
   "cell_type": "code",
   "execution_count": 175,
   "metadata": {
    "collapsed": true
   },
   "outputs": [],
   "source": [
    "def compute_RSS(model, data, feature_list):\n",
    "    predictions = model.predict(data[feature_list])\n",
    "    squared_residuals = (data['pCAMKII_N'] - predictions) ** 2\n",
    "    return squared_residuals.sum()"
   ]
  },
  {
   "cell_type": "code",
   "execution_count": 203,
   "metadata": {
    "collapsed": true
   },
   "outputs": [],
   "source": [
    "# feature_columns\n",
    "def forward_selection(data, validation_data, k):\n",
    "    tuned_list = []\n",
    "    best_regr = None\n",
    "    feature_list = list(feature_columns.copy())\n",
    "    Y = data['pCAMKII_N']\n",
    "    for i in range(k):\n",
    "        best_feature = None\n",
    "        best_RSS = float(\"inf\")\n",
    "        for feature in feature_list:\n",
    "            test_list = tuned_list.copy()\n",
    "            test_list.append(feature)\n",
    "            test_regr = LinearRegression()\n",
    "            X = data[test_list]\n",
    "            test_regr.fit(X, Y)\n",
    "            test_RSS = compute_RSS(test_regr, validation_data, test_list)\n",
    "            if test_RSS < best_RSS:\n",
    "                best_RSS = test_RSS\n",
    "                best_feature = feature\n",
    "        print(\"add\", feature)\n",
    "        tuned_list.append(feature)\n",
    "        feature_list.remove(feature)\n",
    "        best_regr = LinearRegression()\n",
    "        best_regr.fit(X, Y) \n",
    "    return best_regr, tuned_list"
   ]
  },
  {
   "cell_type": "code",
   "execution_count": 243,
   "metadata": {
    "collapsed": true
   },
   "outputs": [],
   "source": [
    "X_test = test[feature_columns]\n",
    "Y_test = test['pCAMKII_N']\n",
    "X_train = train[feature_columns]\n",
    "Y_train = train['pCAMKII_N']"
   ]
  },
  {
   "cell_type": "code",
   "execution_count": 244,
   "metadata": {},
   "outputs": [
    {
     "name": "stdout",
     "output_type": "stream",
     "text": [
      "add CaNA_N\n",
      "add SYP_N\n",
      "add SHH_N\n",
      "add pGSK3B_Tyr216_N\n",
      "add Ubiquitin_N\n",
      "add SNCA_N\n",
      "add PSD95_N\n",
      "add pCASP9_N\n",
      "add P3525_N\n",
      "add IL1B_N\n",
      "add GluR4_N\n",
      "add GluR3_N\n",
      "add GFAP_N\n",
      "add Tau_N\n",
      "add nNOS_N\n",
      "add ERBB4_N\n",
      "add ARC_N\n",
      "add BAX_N\n",
      "add RRP1_N\n",
      "add AcetylH3K9_N\n",
      "add ADARB1_N\n",
      "add S6_N\n",
      "add CDK5_N\n",
      "add pPKCG_N\n",
      "add pGSK3B_N\n",
      "add P70S6_N\n",
      "add NUMB_N\n",
      "add pP70S6_N\n",
      "add TIAM1_N\n",
      "add RAPTOR_N\n",
      "add pNUMB_N\n",
      "add NR2B_N\n",
      "add AMPKA_N\n",
      "add DSCR1_N\n",
      "add pMTOR_N\n",
      "add P38_N\n",
      "add MTOR_N\n",
      "add SOD1_N\n",
      "add APP_N\n",
      "add RSK_N\n",
      "add TRKA_N\n",
      "add JNK_N\n",
      "add GSK3B_N\n",
      "add ERK_N\n",
      "add CREB_N\n",
      "add BRAF_N\n",
      "add AKT_N\n",
      "add pRSK_N\n",
      "add pPKCAB_N\n",
      "add pNR2B_N\n",
      "add pNR2A_N\n",
      "add pNR1_N\n",
      "add pMEK_N\n",
      "add PKCA_N\n",
      "add pJNK_N\n",
      "add pERK_N\n",
      "add pELK_N\n",
      "add pCREB_N\n",
      "add pBRAF_N\n",
      "add pAKT_N\n",
      "add NR2A_N\n",
      "add NR1_N\n",
      "add BDNF_N\n",
      "add ITSN1_N\n",
      "add DYRK1A_N\n"
     ]
    }
   ],
   "source": [
    "best_regr, tuned_list = forward_selection(train, test, len(feature_columns))"
   ]
  },
  {
   "cell_type": "code",
   "execution_count": 245,
   "metadata": {},
   "outputs": [
    {
     "name": "stdout",
     "output_type": "stream",
     "text": [
      "\n",
      "Coefficients: \n",
      " [-0.46208518  0.11662013 -0.00758257  0.24177977  0.32962603 -0.13825472\n",
      "  0.00387708 -0.22090458 -0.04339275  0.12701804  0.01942921 -0.00188973\n",
      " -0.1774806  -0.11782632 -0.0961403  -0.04327173  0.20371183  0.01490609\n",
      " -0.1696258   0.15878304 -0.16301318  0.12467946  0.01802685 -0.16503118\n",
      "  0.15550561 -0.03559136 -0.1949917   0.46767916  0.03347084 -0.25354422\n",
      "  0.31217987  0.0231472  -0.26671369  0.01524395  0.02222447 -0.07328264\n",
      " -0.16124403 -0.34111231  0.3055455  -0.14588097 -0.01364525 -0.22462298\n",
      " -0.12999889 -0.22063121  0.03422738  0.38393706  0.13385445  0.28264741\n",
      " -0.12150551 -0.16911885  0.90286403 -0.27854837  0.04588192  0.13120332\n",
      "  0.05758382 -0.04292259 -0.00503953 -0.13383048 -0.07345681  0.01669719\n",
      "  0.30919335  0.45486433  0.14364432 -0.29450221 -0.02071039]\n",
      "\n",
      "Intercept: \n",
      " 3.53323269785\n",
      "\n",
      "R-squared:\n",
      "-1.47584108329\n"
     ]
    }
   ],
   "source": [
    "# https://stackoverflow.com/questions/34649969/how-to-find-the-features-names-of-the-coefficients-using-scikit-linear-regressio\n",
    "#print(list(zip(regr.coef_, feature_columns)))\n",
    "print('\\nCoefficients: \\n', best_regr.coef_)\n",
    "print('\\nIntercept: \\n', best_regr.intercept_)\n",
    "print('\\nR-squared:')\n",
    "print(best_regr.score(X_test, Y_test))"
   ]
  },
  {
   "cell_type": "code",
   "execution_count": 336,
   "metadata": {
    "scrolled": true
   },
   "outputs": [
    {
     "name": "stdout",
     "output_type": "stream",
     "text": [
      "add CaNA_N\n",
      "add SYP_N\n",
      "add SHH_N\n",
      "add pGSK3B_Tyr216_N\n",
      "add Ubiquitin_N\n",
      "add SNCA_N\n",
      "add PSD95_N\n",
      "add pCASP9_N\n",
      "add P3525_N\n",
      "add IL1B_N\n",
      "add GluR4_N\n",
      "add GluR3_N\n",
      "add GFAP_N\n",
      "add Tau_N\n",
      "add nNOS_N\n",
      "add ERBB4_N\n",
      "add ARC_N\n",
      "add BAX_N\n",
      "add RRP1_N\n",
      "add AcetylH3K9_N\n",
      "add ADARB1_N\n",
      "add S6_N\n",
      "add CDK5_N\n",
      "add pPKCG_N\n",
      "add pGSK3B_N\n",
      "add P70S6_N\n",
      "add NUMB_N\n",
      "add pP70S6_N\n",
      "add TIAM1_N\n",
      "add RAPTOR_N\n",
      "add pNUMB_N\n",
      "add NR2B_N\n",
      "add AMPKA_N\n",
      "add DSCR1_N\n",
      "add pMTOR_N\n",
      "add P38_N\n",
      "add MTOR_N\n",
      "add SOD1_N\n",
      "add APP_N\n",
      "add RSK_N\n",
      "add TRKA_N\n",
      "add JNK_N\n",
      "add GSK3B_N\n",
      "add ERK_N\n",
      "add CREB_N\n",
      "add BRAF_N\n",
      "add AKT_N\n",
      "add pRSK_N\n",
      "add pPKCAB_N\n",
      "add pNR2B_N\n",
      "add pNR2A_N\n",
      "add pNR1_N\n",
      "add pMEK_N\n",
      "add PKCA_N\n",
      "add pJNK_N\n",
      "add pERK_N\n",
      "add pELK_N\n",
      "add pCREB_N\n",
      "add pBRAF_N\n",
      "add pAKT_N\n",
      "add NR2A_N\n",
      "add NR1_N\n",
      "add BDNF_N\n",
      "add ITSN1_N\n",
      "add DYRK1A_N\n"
     ]
    }
   ],
   "source": [
    "best_regr, tuned_list = forward_selection(train, test, len(feature_columns))"
   ]
  },
  {
   "cell_type": "code",
   "execution_count": 337,
   "metadata": {},
   "outputs": [],
   "source": [
    "X_test = test[tuned_list]\n",
    "Y_test = test['pCAMKII_N']\n",
    "X_train = train[tuned_list]\n",
    "Y_train = train['pCAMKII_N']"
   ]
  },
  {
   "cell_type": "code",
   "execution_count": 338,
   "metadata": {},
   "outputs": [
    {
     "name": "stdout",
     "output_type": "stream",
     "text": [
      "\n",
      "Coefficients: \n",
      " [-0.46208518  0.11662013 -0.00758257  0.24177977  0.32962603 -0.13825472\n",
      "  0.00387708 -0.22090458 -0.04339275  0.12701804  0.01942921 -0.00188973\n",
      " -0.1774806  -0.11782632 -0.0961403  -0.04327173  0.20371183  0.01490609\n",
      " -0.1696258   0.15878304 -0.16301318  0.12467946  0.01802685 -0.16503118\n",
      "  0.15550561 -0.03559136 -0.1949917   0.46767916  0.03347084 -0.25354422\n",
      "  0.31217987  0.0231472  -0.26671369  0.01524395  0.02222447 -0.07328264\n",
      " -0.16124403 -0.34111231  0.3055455  -0.14588097 -0.01364525 -0.22462298\n",
      " -0.12999889 -0.22063121  0.03422738  0.38393706  0.13385445  0.28264741\n",
      " -0.12150551 -0.16911885  0.90286403 -0.27854837  0.04588192  0.13120332\n",
      "  0.05758382 -0.04292259 -0.00503953 -0.13383048 -0.07345681  0.01669719\n",
      "  0.30919335  0.45486433  0.14364432 -0.29450221 -0.02071039]\n",
      "\n",
      "Intercept: \n",
      " 3.53323269785\n",
      "\n",
      "R-squared:\n",
      "0.848279515842\n"
     ]
    }
   ],
   "source": [
    "# https://stackoverflow.com/questions/34649969/how-to-find-the-features-names-of-the-coefficients-using-scikit-linear-regressio\n",
    "#print(list(zip(regr.coef_, feature_columns)))\n",
    "print('\\nCoefficients: \\n', best_regr.coef_)\n",
    "print('\\nIntercept: \\n', best_regr.intercept_)\n",
    "print('\\nR-squared:')\n",
    "print(best_regr.score(X_test, Y_test))"
   ]
  },
  {
   "cell_type": "code",
   "execution_count": 276,
   "metadata": {},
   "outputs": [
    {
     "data": {
      "text/plain": [
       "KNeighborsRegressor(algorithm='auto', leaf_size=30, metric='minkowski',\n",
       "          metric_params=None, n_jobs=1, n_neighbors=2, p=2,\n",
       "          weights='uniform')"
      ]
     },
     "execution_count": 276,
     "metadata": {},
     "output_type": "execute_result"
    }
   ],
   "source": [
    "knn = neighbors.KNeighborsRegressor(n_neighbors=2)\n",
    "knn.fit(X_train, Y_train)"
   ]
  },
  {
   "cell_type": "code",
   "execution_count": 277,
   "metadata": {},
   "outputs": [
    {
     "name": "stdout",
     "output_type": "stream",
     "text": [
      "\n",
      "R-squared:\n",
      "0.886848246269\n"
     ]
    }
   ],
   "source": [
    "print('\\nR-squared:')\n",
    "print(knn.score(X_test, Y_test))"
   ]
  },
  {
   "cell_type": "code",
   "execution_count": 300,
   "metadata": {},
   "outputs": [
    {
     "data": {
      "text/plain": [
       "KNeighborsRegressor(algorithm='auto', leaf_size=30, metric='minkowski',\n",
       "          metric_params=None, n_jobs=1, n_neighbors=2, p=2,\n",
       "          weights='distance')"
      ]
     },
     "execution_count": 300,
     "metadata": {},
     "output_type": "execute_result"
    }
   ],
   "source": [
    "knn = neighbors.KNeighborsRegressor(n_neighbors=2, weights='distance')\n",
    "knn.fit(X_train, Y_train)"
   ]
  },
  {
   "cell_type": "code",
   "execution_count": 301,
   "metadata": {},
   "outputs": [
    {
     "name": "stdout",
     "output_type": "stream",
     "text": [
      "\n",
      "R-squared:\n",
      "0.895124577264\n"
     ]
    }
   ],
   "source": [
    "print('\\nR-squared:')\n",
    "print(knn.score(X_test, Y_test))"
   ]
  }
 ],
 "metadata": {
  "kernelspec": {
   "display_name": "Python [default]",
   "language": "python",
   "name": "python3"
  },
  "language_info": {
   "codemirror_mode": {
    "name": "ipython",
    "version": 3
   },
   "file_extension": ".py",
   "mimetype": "text/x-python",
   "name": "python",
   "nbconvert_exporter": "python",
   "pygments_lexer": "ipython3",
   "version": "3.6.2"
  }
 },
 "nbformat": 4,
 "nbformat_minor": 2
}
