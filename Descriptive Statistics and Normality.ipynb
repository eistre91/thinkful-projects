{
 "cells": [
  {
   "cell_type": "code",
   "execution_count": 1,
   "metadata": {},
   "outputs": [],
   "source": [
    "import numpy as np\n",
    "import matplotlib.pyplot as plt\n",
    "%matplotlib inline"
   ]
  },
  {
   "cell_type": "markdown",
   "metadata": {},
   "source": [
    "Generate a random variable with 100 datapoints using the code distributionvar = np.random.distributionname([arguments], 100), replacing distributionvar with an appropriate variable name and distributionname with the name of the distribution you’ve chosen, and filling in the empty space in the parentheses with your chosen values for the appropriate parameters. If you feel uncertain about how to do this, go back to the “Other Distributions” assignment for examples of code to use as a starting point.\n",
    "\n",
    "Graph the variable using a histogram.\n",
    "\n",
    "Compute the mean and standard deviation and plot them as vertical lines on the histogram. (Hint: the “When Does It Break?” assignment you just completed can help you here.)\n",
    "\n",
    "Evaluate whether the descriptive statistics provided useful information about the variable. Can you identify any common characteristics of the distributions that could be usefully described using the mean and/or standard deviation, versus the ones that could not?"
   ]
  },
  {
   "cell_type": "code",
   "execution_count": 2,
   "metadata": {},
   "outputs": [
    {
     "data": {
      "text/plain": [
       "<matplotlib.lines.Line2D at 0x1c9a677d6a0>"
      ]
     },
     "execution_count": 2,
     "metadata": {},
     "output_type": "execute_result"
    },
    {
     "data": {
      "image/png": "[encoded data removed]",
      "text/plain": [
       "<Figure size 432x288 with 1 Axes>"
      ]
     },
     "metadata": {},
     "output_type": "display_data"
    }
   ],
   "source": [
    "weibull = np.random.weibull(5, 100)\n",
    "plt.hist(weibull)\n",
    "\n",
    "mean = weibull.mean()\n",
    "std = weibull.std()\n",
    "\n",
    "plt.axvline(mean, color='b', linestyle='solid', linewidth=2)\n",
    "plt.axvline(mean + std, color='b', linestyle='dashed', linewidth=2)\n",
    "plt.axvline(mean - std, color='b', linestyle='dashed', linewidth=2)"
   ]
  },
  {
   "cell_type": "markdown",
   "metadata": {},
   "source": [
    "Yes, the mean and standard deviation do provide useful information."
   ]
  },
  {
   "cell_type": "code",
   "execution_count": 3,
   "metadata": {},
   "outputs": [
    {
     "data": {
      "text/plain": [
       "<matplotlib.lines.Line2D at 0x1c9a6a579b0>"
      ]
     },
     "execution_count": 3,
     "metadata": {},
     "output_type": "execute_result"
    },
    {
     "data": {
      "image/png": "[encoded data removed]",
      "text/plain": [
       "<Figure size 432x288 with 1 Axes>"
      ]
     },
     "metadata": {},
     "output_type": "display_data"
    }
   ],
   "source": [
    "wald = np.random.wald(1,2,100)\n",
    "plt.hist(wald)\n",
    "\n",
    "mean = wald.mean()\n",
    "std = wald.std()\n",
    "\n",
    "plt.axvline(mean, color='b', linestyle='solid', linewidth=2)\n",
    "plt.axvline(mean + std, color='b', linestyle='dashed', linewidth=2)\n",
    "plt.axvline(mean - std, color='b', linestyle='dashed', linewidth=2) "
   ]
  },
  {
   "cell_type": "markdown",
   "metadata": {},
   "source": [
    "No, the mean and standard deviation do not provide useful information. It would seem the mean and standard deviation only roughly describe a portion of the data, but fail to accomodate the second mode in the bin around 2 and the extra value way out at 5."
   ]
  },
  {
   "cell_type": "code",
   "execution_count": 4,
   "metadata": {},
   "outputs": [
    {
     "data": {
      "text/plain": [
       "<matplotlib.lines.Line2D at 0x1c9a6ad49e8>"
      ]
     },
     "execution_count": 4,
     "metadata": {},
     "output_type": "execute_result"
    },
    {
     "data": {
      "image/png": "[encoded data removed]",
      "text/plain": [
       "<Figure size 432x288 with 1 Axes>"
      ]
     },
     "metadata": {},
     "output_type": "display_data"
    }
   ],
   "source": [
    "rayleigh = np.random.rayleigh(2,100)\n",
    "plt.hist(rayleigh)\n",
    "\n",
    "mean = rayleigh.mean()\n",
    "std = rayleigh.std()\n",
    "\n",
    "plt.axvline(mean, color='b', linestyle='solid', linewidth=2)\n",
    "plt.axvline(mean + std, color='b', linestyle='dashed', linewidth=2)\n",
    "plt.axvline(mean - std, color='b', linestyle='dashed', linewidth=2) "
   ]
  },
  {
   "cell_type": "markdown",
   "metadata": {},
   "source": [
    "Yes, the mean and standard deviation do provide some useful information, though it doesn't seem perfect. There's more skew to the right side, and there's still a fair amount of values out there that could be missed. Also there's some slight bimodal nature to this distribution."
   ]
  },
  {
   "cell_type": "code",
   "execution_count": 5,
   "metadata": {},
   "outputs": [
    {
     "data": {
      "text/plain": [
       "<matplotlib.lines.Line2D at 0x1c9a6b525f8>"
      ]
     },
     "execution_count": 5,
     "metadata": {},
     "output_type": "execute_result"
    },
    {
     "data": {
      "image/png": "[encoded data removed]",
      "text/plain": [
       "<Figure size 432x288 with 1 Axes>"
      ]
     },
     "metadata": {},
     "output_type": "display_data"
    }
   ],
   "source": [
    "noncentral_chisquare = np.random.noncentral_chisquare(5,10,100)\n",
    "plt.hist(noncentral_chisquare)\n",
    "\n",
    "mean = noncentral_chisquare.mean()\n",
    "std = noncentral_chisquare.std()\n",
    "\n",
    "plt.axvline(mean, color='b', linestyle='solid', linewidth=2)\n",
    "plt.axvline(mean + std, color='b', linestyle='dashed', linewidth=2)\n",
    "plt.axvline(mean - std, color='b', linestyle='dashed', linewidth=2) "
   ]
  },
  {
   "cell_type": "markdown",
   "metadata": {},
   "source": [
    "Yes, the mean and standard deviation do provide useful information. It's almost a great fit for part of the data, but the fit is weakened by the existence of the skew in the right tail."
   ]
  },
  {
   "cell_type": "code",
   "execution_count": 6,
   "metadata": {},
   "outputs": [
    {
     "data": {
      "text/plain": [
       "<matplotlib.lines.Line2D at 0x1c9a6bd2160>"
      ]
     },
     "execution_count": 6,
     "metadata": {},
     "output_type": "execute_result"
    },
    {
     "data": {
      "image/png": "[encoded data removed]",
      "text/plain": [
       "<Figure size 432x288 with 1 Axes>"
      ]
     },
     "metadata": {},
     "output_type": "display_data"
    }
   ],
   "source": [
    "gumbel = np.random.gumbel(1,5,100)\n",
    "plt.hist(gumbel)\n",
    "\n",
    "mean = gumbel.mean()\n",
    "std = gumbel.std()\n",
    "\n",
    "plt.axvline(mean, color='b', linestyle='solid', linewidth=2)\n",
    "plt.axvline(mean + std, color='b', linestyle='dashed', linewidth=2)\n",
    "plt.axvline(mean - std, color='b', linestyle='dashed', linewidth=2) "
   ]
  },
  {
   "cell_type": "markdown",
   "metadata": {},
   "source": [
    "Yes, the mean and standard deviation do provide useful information. This fits pretty well except for the outlier values out at the bin around 25."
   ]
  },
  {
   "cell_type": "code",
   "execution_count": 7,
   "metadata": {},
   "outputs": [
    {
     "data": {
      "text/plain": [
       "<matplotlib.lines.Line2D at 0x1c9a6c3f940>"
      ]
     },
     "execution_count": 7,
     "metadata": {},
     "output_type": "execute_result"
    },
    {
     "data": {
      "image/png": "[encoded data removed]",
      "text/plain": [
       "<Figure size 432x288 with 1 Axes>"
      ]
     },
     "metadata": {},
     "output_type": "display_data"
    }
   ],
   "source": [
    "hypergeometric = np.random.hypergeometric(10,100,5,100)\n",
    "plt.hist(hypergeometric)\n",
    "\n",
    "mean = hypergeometric.mean()\n",
    "std = hypergeometric.std()\n",
    "\n",
    "plt.axvline(mean, color='b', linestyle='solid', linewidth=2)\n",
    "plt.axvline(mean + std, color='b', linestyle='dashed', linewidth=2)\n",
    "plt.axvline(mean - std, color='b', linestyle='dashed', linewidth=2) "
   ]
  },
  {
   "cell_type": "markdown",
   "metadata": {},
   "source": [
    "Yes, the mean and standard deviation do not provide useful information. This is a discrete distribution and it looks nothing like a normal distribution. There is no clustering of values in this distribution."
   ]
  },
  {
   "cell_type": "markdown",
   "metadata": {},
   "source": [
    "The common characteristics of the distributions that are reasonably described by a mean and standard deviation have a cluster of values around the mean. Further, the values occur less frequently the further away from the mean they are."
   ]
  },
  {
   "cell_type": "markdown",
   "metadata": {},
   "source": [
    "Generate two normally-distributed variables, one with a mean of 5 and standard deviation of 0.5, and the other with a mean of 10 and standard deviation of 1.\n",
    "\n",
    "Add them together to create a third variable.\n",
    "\n",
    "Graph the third variable using a histogram.\n",
    "\n",
    "Compute the mean and standard deviation and plot them as vertical lines on the histogram.\n",
    "\n",
    "Evaluate the descriptive statistics against the data."
   ]
  },
  {
   "cell_type": "code",
   "execution_count": 8,
   "metadata": {},
   "outputs": [
    {
     "data": {
      "text/plain": [
       "<matplotlib.lines.Line2D at 0x1c9a6cb4f98>"
      ]
     },
     "execution_count": 8,
     "metadata": {},
     "output_type": "execute_result"
    },
    {
     "data": {
      "image/png": "[encoded data removed]",
      "text/plain": [
       "<Figure size 432x288 with 1 Axes>"
      ]
     },
     "metadata": {},
     "output_type": "display_data"
    }
   ],
   "source": [
    "normal1 = np.random.normal(5,0.5,1000)\n",
    "normal2 = np.random.normal(10,1,1000)\n",
    "normal3 = normal1 + normal2\n",
    "\n",
    "plt.hist(normal3)\n",
    "mean = normal3.mean()\n",
    "std = normal3.std()\n",
    "\n",
    "plt.axvline(mean, color='b', linestyle='solid', linewidth=2)\n",
    "plt.axvline(mean + std, color='b', linestyle='dashed', linewidth=2)\n",
    "plt.axvline(mean - std, color='b', linestyle='dashed', linewidth=2) "
   ]
  },
  {
   "cell_type": "markdown",
   "metadata": {},
   "source": [
    "It looks like the summation of two normal variables centered around the y axis is also normal, so mean and standard deviation describe the \n",
    "very well."
   ]
  }
 ],
 "metadata": {
  "kernelspec": {
   "display_name": "Python 3",
   "language": "python",
   "name": "python3"
  },
  "language_info": {
   "codemirror_mode": {
    "name": "ipython",
    "version": 3
   },
   "file_extension": ".py",
   "mimetype": "text/x-python",
   "name": "python",
   "nbconvert_exporter": "python",
   "pygments_lexer": "ipython3",
   "version": "3.6.5"
  }
 },
 "nbformat": 4,
 "nbformat_minor": 2
}
