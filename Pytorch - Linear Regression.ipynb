{
 "cells": [
  {
   "cell_type": "code",
   "execution_count": 1,
   "metadata": {},
   "outputs": [],
   "source": [
    "import numpy as np\n",
    "import matplotlib.pyplot as plt\n",
    "import torch"
   ]
  },
  {
   "cell_type": "markdown",
   "metadata": {},
   "source": [
    "Coefficient 2\n",
    "Bias/Intercept 1\n",
    "Equation y = 2x+1"
   ]
  },
  {
   "cell_type": "code",
   "execution_count": 2,
   "metadata": {},
   "outputs": [],
   "source": [
    "x_values = [i for i in range(11)]"
   ]
  },
  {
   "cell_type": "code",
   "execution_count": 3,
   "metadata": {},
   "outputs": [
    {
     "data": {
      "text/plain": [
       "[0, 1, 2, 3, 4, 5, 6, 7, 8, 9, 10]"
      ]
     },
     "execution_count": 3,
     "metadata": {},
     "output_type": "execute_result"
    }
   ],
   "source": [
    "x_values"
   ]
  },
  {
   "cell_type": "code",
   "execution_count": 4,
   "metadata": {},
   "outputs": [
    {
     "data": {
      "text/plain": [
       "(11,)"
      ]
     },
     "execution_count": 4,
     "metadata": {},
     "output_type": "execute_result"
    }
   ],
   "source": [
    "x_train = np.array(x_values, dtype=np.float32)\n",
    "x_train.shape"
   ]
  },
  {
   "cell_type": "code",
   "execution_count": 5,
   "metadata": {},
   "outputs": [
    {
     "data": {
      "text/plain": [
       "(11, 1)"
      ]
     },
     "execution_count": 5,
     "metadata": {},
     "output_type": "execute_result"
    }
   ],
   "source": [
    "x_train = x_train.reshape(-1, 1)\n",
    "x_train.shape"
   ]
  },
  {
   "cell_type": "code",
   "execution_count": 6,
   "metadata": {},
   "outputs": [],
   "source": [
    "y_values = [2 * i + 1 for i in x_values]"
   ]
  },
  {
   "cell_type": "code",
   "execution_count": 8,
   "metadata": {},
   "outputs": [
    {
     "data": {
      "text/plain": [
       "(11, 1)"
      ]
     },
     "execution_count": 8,
     "metadata": {},
     "output_type": "execute_result"
    }
   ],
   "source": [
    "y_train = np.array(y_values, dtype=np.float32)\n",
    "y_train = y_train.reshape(-1, 1)\n",
    "y_train.shape"
   ]
  },
  {
   "cell_type": "code",
   "execution_count": 10,
   "metadata": {},
   "outputs": [
    {
     "data": {
      "text/plain": [
       "array([[ 1.],\n",
       "       [ 3.],\n",
       "       [ 5.],\n",
       "       [ 7.],\n",
       "       [ 9.],\n",
       "       [11.],\n",
       "       [13.],\n",
       "       [15.],\n",
       "       [17.],\n",
       "       [19.],\n",
       "       [21.]], dtype=float32)"
      ]
     },
     "execution_count": 10,
     "metadata": {},
     "output_type": "execute_result"
    }
   ],
   "source": [
    "y_train"
   ]
  },
  {
   "cell_type": "code",
   "execution_count": 11,
   "metadata": {},
   "outputs": [],
   "source": [
    "import torch\n",
    "import torch.nn as nn\n",
    "from torch.autograd import Variable"
   ]
  },
  {
   "cell_type": "code",
   "execution_count": 13,
   "metadata": {},
   "outputs": [],
   "source": [
    "# input dimension is x, output dimension is y\n",
    "class LinearRegressionModel(nn.Module):\n",
    "    def __init__(self, input_size, output_size):\n",
    "        super(LinearRegressionModel, self).__init__()\n",
    "        self.linear = nn.Linear(input_dim, output_dim)\n",
    "        \n",
    "    def forward(self, x):\n",
    "        out = self.linear(x)\n",
    "        return out"
   ]
  },
  {
   "cell_type": "markdown",
   "metadata": {},
   "source": [
    "### Instantiate Model Class"
   ]
  },
  {
   "cell_type": "code",
   "execution_count": 15,
   "metadata": {},
   "outputs": [],
   "source": [
    "input_dim = 1\n",
    "output_dim = 1\n",
    "\n",
    "model = LinearRegressionModel(input_dim, output_dim)"
   ]
  },
  {
   "cell_type": "markdown",
   "metadata": {},
   "source": [
    "### Instantiate Loss Class"
   ]
  },
  {
   "cell_type": "markdown",
   "metadata": {},
   "source": [
    "MSE Loss: Mean Squared Error"
   ]
  },
  {
   "cell_type": "code",
   "execution_count": 17,
   "metadata": {},
   "outputs": [],
   "source": [
    "criterion = nn.MSELoss()"
   ]
  },
  {
   "cell_type": "markdown",
   "metadata": {},
   "source": [
    "### Instantiate Optimizer Class"
   ]
  },
  {
   "cell_type": "markdown",
   "metadata": {},
   "source": [
    "$ \\theta = \\theta - \\eta * \\nabla_\\theta $"
   ]
  },
  {
   "cell_type": "markdown",
   "metadata": {},
   "source": [
    "$\\theta$ : parameters (our variables)\n",
    "\n",
    "$\\eta$ : learning rate (how fast we want to learn)\n",
    "\n",
    "$\\nabla_\\theta$ : parameters' gradients"
   ]
  },
  {
   "cell_type": "markdown",
   "metadata": {},
   "source": [
    "Or\n",
    "\n",
    "parameters = parameters - learning_rate * parameters_gradients"
   ]
  },
  {
   "cell_type": "code",
   "execution_count": 18,
   "metadata": {},
   "outputs": [],
   "source": [
    "learning_rate = 0.01\n",
    "\n",
    "optimizer = torch.optim.SGD(model.parameters(), lr=learning_rate)"
   ]
  },
  {
   "cell_type": "markdown",
   "metadata": {},
   "source": [
    "### Train Model"
   ]
  },
  {
   "cell_type": "markdown",
   "metadata": {},
   "source": [
    "Process\n",
    "\n",
    "1. Convert inputs/labels to variables\n",
    "2. Clear gradient buffets (buffers?)\n",
    "3. Get output given inputs\n",
    "4. Get loss\n",
    "5. Get gradients w.r.t. parameters\n",
    "6. Update parameters using gradients\n",
    "7. REPEAT"
   ]
  },
  {
   "cell_type": "code",
   "execution_count": 19,
   "metadata": {},
   "outputs": [],
   "source": [
    "epochs = 100"
   ]
  },
  {
   "cell_type": "code",
   "execution_count": 20,
   "metadata": {
    "scrolled": true
   },
   "outputs": [
    {
     "name": "stdout",
     "output_type": "stream",
     "text": [
      "epoch 1, loss 177.41822814941406\n",
      "epoch 2, loss 14.528583526611328\n",
      "epoch 3, loss 1.2415492534637451\n",
      "epoch 4, loss 0.1571379154920578\n",
      "epoch 5, loss 0.06806215643882751\n",
      "epoch 6, loss 0.060179565101861954\n",
      "epoch 7, loss 0.058926597237586975\n",
      "epoch 8, loss 0.05822118744254112\n",
      "epoch 9, loss 0.05756707489490509\n",
      "epoch 10, loss 0.056923963129520416\n",
      "epoch 11, loss 0.056288279592990875\n",
      "epoch 12, loss 0.05565967410802841\n",
      "epoch 13, loss 0.05503818020224571\n",
      "epoch 14, loss 0.054423537105321884\n",
      "epoch 15, loss 0.053815748542547226\n",
      "epoch 16, loss 0.053214870393276215\n",
      "epoch 17, loss 0.05262066051363945\n",
      "epoch 18, loss 0.05203293636441231\n",
      "epoch 19, loss 0.05145193636417389\n",
      "epoch 20, loss 0.050877440720796585\n",
      "epoch 21, loss 0.05030927434563637\n",
      "epoch 22, loss 0.04974745586514473\n",
      "epoch 23, loss 0.049191948026418686\n",
      "epoch 24, loss 0.048642635345458984\n",
      "epoch 25, loss 0.04809940233826637\n",
      "epoch 26, loss 0.04756234586238861\n",
      "epoch 27, loss 0.047031186521053314\n",
      "epoch 28, loss 0.04650605097413063\n",
      "epoch 29, loss 0.04598665609955788\n",
      "epoch 30, loss 0.04547320306301117\n",
      "epoch 31, loss 0.04496540129184723\n",
      "epoch 32, loss 0.04446323961019516\n",
      "epoch 33, loss 0.043966714292764664\n",
      "epoch 34, loss 0.04347585141658783\n",
      "epoch 35, loss 0.042990364134311676\n",
      "epoch 36, loss 0.042510226368904114\n",
      "epoch 37, loss 0.04203548654913902\n",
      "epoch 38, loss 0.04156612232327461\n",
      "epoch 39, loss 0.041101936250925064\n",
      "epoch 40, loss 0.04064292460680008\n",
      "epoch 41, loss 0.040189120918512344\n",
      "epoch 42, loss 0.03974029794335365\n",
      "epoch 43, loss 0.03929654136300087\n",
      "epoch 44, loss 0.038857702165842056\n",
      "epoch 45, loss 0.038423843681812286\n",
      "epoch 46, loss 0.03799471631646156\n",
      "epoch 47, loss 0.0375705361366272\n",
      "epoch 48, loss 0.03715091571211815\n",
      "epoch 49, loss 0.03673611581325531\n",
      "epoch 50, loss 0.03632582351565361\n",
      "epoch 51, loss 0.03592021390795708\n",
      "epoch 52, loss 0.035519156605005264\n",
      "epoch 53, loss 0.03512239456176758\n",
      "epoch 54, loss 0.03473027050495148\n",
      "epoch 55, loss 0.03434237837791443\n",
      "epoch 56, loss 0.033958934247493744\n",
      "epoch 57, loss 0.033579763025045395\n",
      "epoch 58, loss 0.033204689621925354\n",
      "epoch 59, loss 0.032833993434906006\n",
      "epoch 60, loss 0.03246729075908661\n",
      "epoch 61, loss 0.03210467845201492\n",
      "epoch 62, loss 0.03174624219536781\n",
      "epoch 63, loss 0.031391680240631104\n",
      "epoch 64, loss 0.0310410987585783\n",
      "epoch 65, loss 0.03069448284804821\n",
      "epoch 66, loss 0.030351735651493073\n",
      "epoch 67, loss 0.03001284785568714\n",
      "epoch 68, loss 0.029677676036953926\n",
      "epoch 69, loss 0.029346255585551262\n",
      "epoch 70, loss 0.029018539935350418\n",
      "epoch 71, loss 0.02869442105293274\n",
      "epoch 72, loss 0.028374146670103073\n",
      "epoch 73, loss 0.028057264164090157\n",
      "epoch 74, loss 0.027743857353925705\n",
      "epoch 75, loss 0.027434123679995537\n",
      "epoch 76, loss 0.027127785608172417\n",
      "epoch 77, loss 0.0268248338252306\n",
      "epoch 78, loss 0.026525311172008514\n",
      "epoch 79, loss 0.026229066774249077\n",
      "epoch 80, loss 0.025936132296919823\n",
      "epoch 81, loss 0.025646572932600975\n",
      "epoch 82, loss 0.02536015398800373\n",
      "epoch 83, loss 0.025077007710933685\n",
      "epoch 84, loss 0.0247968602925539\n",
      "epoch 85, loss 0.024520007893443108\n",
      "epoch 86, loss 0.024246210232377052\n",
      "epoch 87, loss 0.023975437507033348\n",
      "epoch 88, loss 0.02370765618979931\n",
      "epoch 89, loss 0.023442985489964485\n",
      "epoch 90, loss 0.023181241005659103\n",
      "epoch 91, loss 0.022922368720173836\n",
      "epoch 92, loss 0.022666342556476593\n",
      "epoch 93, loss 0.022413231432437897\n",
      "epoch 94, loss 0.022162988781929016\n",
      "epoch 95, loss 0.02191552333533764\n",
      "epoch 96, loss 0.021670721471309662\n",
      "epoch 97, loss 0.021428750827908516\n",
      "epoch 98, loss 0.021189488470554352\n",
      "epoch 99, loss 0.020952828228473663\n",
      "epoch 100, loss 0.02071884088218212\n"
     ]
    },
    {
     "name": "stderr",
     "output_type": "stream",
     "text": [
      "C:\\Users\\e.istre91\\Anaconda3\\envs\\pyt-gpu\\lib\\site-packages\\ipykernel\\__main__.py:23: UserWarning: invalid index of a 0-dim tensor. This will be an error in PyTorch 0.5. Use tensor.item() to convert a 0-dim tensor to a Python number\n"
     ]
    }
   ],
   "source": [
    "for epoch in range(epochs):\n",
    "    epoch += 1\n",
    "    \n",
    "    # Convert numpy array to torch Variable\n",
    "    inputs = Variable(torch.from_numpy(x_train))\n",
    "    labels = Variable(torch.from_numpy(y_train))\n",
    "    \n",
    "    # Clear gradients w.r.t. parameters\n",
    "    optimizer.zero_grad()\n",
    "    \n",
    "    # Forward to get output\n",
    "    outputs = model(inputs)\n",
    "    \n",
    "    # Calculate Loss\n",
    "    loss = criterion(outputs, labels)\n",
    "    \n",
    "    # Getting gradients w.r.t. parameters\n",
    "    loss.backward()\n",
    "    \n",
    "    # Updating parameters\n",
    "    optimizer.step()\n",
    "    \n",
    "    print('epoch {}, loss {}'.format(epoch, loss.data[0]))"
   ]
  },
  {
   "cell_type": "code",
   "execution_count": 22,
   "metadata": {},
   "outputs": [
    {
     "data": {
      "text/plain": [
       "array([[ 0.7322416],\n",
       "       [ 2.7708013],\n",
       "       [ 4.809361 ],\n",
       "       [ 6.8479204],\n",
       "       [ 8.88648  ],\n",
       "       [10.92504  ],\n",
       "       [12.963599 ],\n",
       "       [15.002159 ],\n",
       "       [17.040718 ],\n",
       "       [19.079277 ],\n",
       "       [21.117838 ]], dtype=float32)"
      ]
     },
     "execution_count": 22,
     "metadata": {},
     "output_type": "execute_result"
    }
   ],
   "source": [
    "predicted = model(Variable(torch.from_numpy(x_train))).data.numpy()\n",
    "predicted"
   ]
  },
  {
   "cell_type": "code",
   "execution_count": 23,
   "metadata": {},
   "outputs": [
    {
     "data": {
      "text/plain": [
       "array([[ 1.],\n",
       "       [ 3.],\n",
       "       [ 5.],\n",
       "       [ 7.],\n",
       "       [ 9.],\n",
       "       [11.],\n",
       "       [13.],\n",
       "       [15.],\n",
       "       [17.],\n",
       "       [19.],\n",
       "       [21.]], dtype=float32)"
      ]
     },
     "execution_count": 23,
     "metadata": {},
     "output_type": "execute_result"
    }
   ],
   "source": [
    "y_train"
   ]
  },
  {
   "cell_type": "code",
   "execution_count": 25,
   "metadata": {},
   "outputs": [
    {
     "data": {
      "image/png": "[encoded data removed]",
      "text/plain": [
       "<Figure size 432x288 with 1 Axes>"
      ]
     },
     "metadata": {},
     "output_type": "display_data"
    }
   ],
   "source": [
    "plt.clf()\n",
    "\n",
    "plt.plot(x_train, y_train, 'go', label='True data', alpha=0.5)\n",
    "\n",
    "plt.plot(x_train, predicted, '--', label='Predictions', alpha=0.5)\n",
    "\n",
    "plt.legend(loc='best')\n",
    "plt.show()"
   ]
  },
  {
   "cell_type": "markdown",
   "metadata": {},
   "source": [
    "### Save Model"
   ]
  },
  {
   "cell_type": "code",
   "execution_count": null,
   "metadata": {},
   "outputs": [],
   "source": [
    "save_model = False\n",
    "if save_model is True:\n",
    "    # Saves only parameters\n",
    "    # alpha & beta\n",
    "    torch.save(model.state_dict(), 'awesome_model.pkl')"
   ]
  },
  {
   "cell_type": "code",
   "execution_count": null,
   "metadata": {},
   "outputs": [],
   "source": [
    "load_model = False\n",
    "if load_model is True:\n",
    "    model.load_state_dict(torch.load('awesome_model.pkl'))"
   ]
  },
  {
   "cell_type": "markdown",
   "metadata": {},
   "source": [
    "### GPU\n",
    "\n",
    "2 things must be on gpu\n",
    " - model\n",
    " - variables"
   ]
  },
  {
   "cell_type": "code",
   "execution_count": 26,
   "metadata": {
    "scrolled": true
   },
   "outputs": [
    {
     "name": "stdout",
     "output_type": "stream",
     "text": [
      "epoch 1, loss 191.89048767089844\n",
      "epoch 2, loss 16.033597946166992\n",
      "epoch 3, loss 1.6852434873580933\n",
      "epoch 4, loss 0.5106783509254456\n",
      "epoch 5, loss 0.41070544719696045\n",
      "epoch 6, loss 0.3984297811985016\n",
      "epoch 7, loss 0.3933533728122711\n",
      "epoch 8, loss 0.38890978693962097\n",
      "epoch 9, loss 0.3845627009868622\n",
      "epoch 10, loss 0.3802678883075714\n",
      "epoch 11, loss 0.3760213851928711\n",
      "epoch 12, loss 0.37182244658470154\n",
      "epoch 13, loss 0.36767056584358215\n",
      "epoch 14, loss 0.36356475949287415\n",
      "epoch 15, loss 0.3595049977302551\n",
      "epoch 16, loss 0.3554903566837311\n",
      "epoch 17, loss 0.3515208065509796\n",
      "epoch 18, loss 0.3475952446460724\n",
      "epoch 19, loss 0.3437137305736542\n",
      "epoch 20, loss 0.3398754894733429\n",
      "epoch 21, loss 0.3360801935195923\n",
      "epoch 22, loss 0.33232709765434265\n",
      "epoch 23, loss 0.3286161422729492\n",
      "epoch 24, loss 0.3249466121196747\n",
      "epoch 25, loss 0.3213178217411041\n",
      "epoch 26, loss 0.3177298605442047\n",
      "epoch 27, loss 0.3141818046569824\n",
      "epoch 28, loss 0.3106732666492462\n",
      "epoch 29, loss 0.30720406770706177\n",
      "epoch 30, loss 0.30377358198165894\n",
      "epoch 31, loss 0.30038151144981384\n",
      "epoch 32, loss 0.29702723026275635\n",
      "epoch 33, loss 0.29371029138565063\n",
      "epoch 34, loss 0.29043054580688477\n",
      "epoch 35, loss 0.2871873080730438\n",
      "epoch 36, loss 0.28398022055625916\n",
      "epoch 37, loss 0.2808091342449188\n",
      "epoch 38, loss 0.27767327427864075\n",
      "epoch 39, loss 0.2745726406574249\n",
      "epoch 40, loss 0.2715063691139221\n",
      "epoch 41, loss 0.2684747278690338\n",
      "epoch 42, loss 0.26547667384147644\n",
      "epoch 43, loss 0.2625121474266052\n",
      "epoch 44, loss 0.2595806419849396\n",
      "epoch 45, loss 0.25668197870254517\n",
      "epoch 46, loss 0.2538156509399414\n",
      "epoch 47, loss 0.25098130106925964\n",
      "epoch 48, loss 0.24817867577075958\n",
      "epoch 49, loss 0.24540728330612183\n",
      "epoch 50, loss 0.24266691505908966\n",
      "epoch 51, loss 0.23995696008205414\n",
      "epoch 52, loss 0.23727752268314362\n",
      "epoch 53, loss 0.23462794721126556\n",
      "epoch 54, loss 0.23200789093971252\n",
      "epoch 55, loss 0.2294171005487442\n",
      "epoch 56, loss 0.2268550843000412\n",
      "epoch 57, loss 0.2243218868970871\n",
      "epoch 58, loss 0.22181688249111176\n",
      "epoch 59, loss 0.21933989226818085\n",
      "epoch 60, loss 0.21689067780971527\n",
      "epoch 61, loss 0.21446853876113892\n",
      "epoch 62, loss 0.21207374334335327\n",
      "epoch 63, loss 0.20970533788204193\n",
      "epoch 64, loss 0.20736375451087952\n",
      "epoch 65, loss 0.20504814386367798\n",
      "epoch 66, loss 0.20275841653347015\n",
      "epoch 67, loss 0.20049422979354858\n",
      "epoch 68, loss 0.19825531542301178\n",
      "epoch 69, loss 0.196041539311409\n",
      "epoch 70, loss 0.1938522905111313\n",
      "epoch 71, loss 0.19168740510940552\n",
      "epoch 72, loss 0.18954697251319885\n",
      "epoch 73, loss 0.1874304860830307\n",
      "epoch 74, loss 0.1853373497724533\n",
      "epoch 75, loss 0.183267742395401\n",
      "epoch 76, loss 0.18122118711471558\n",
      "epoch 77, loss 0.17919762432575226\n",
      "epoch 78, loss 0.17719650268554688\n",
      "epoch 79, loss 0.17521770298480988\n",
      "epoch 80, loss 0.1732611507177353\n",
      "epoch 81, loss 0.1713263839483261\n",
      "epoch 82, loss 0.1694132387638092\n",
      "epoch 83, loss 0.1675213724374771\n",
      "epoch 84, loss 0.1656506210565567\n",
      "epoch 85, loss 0.16380098462104797\n",
      "epoch 86, loss 0.16197173297405243\n",
      "epoch 87, loss 0.16016311943531036\n",
      "epoch 88, loss 0.15837451815605164\n",
      "epoch 89, loss 0.1566060185432434\n",
      "epoch 90, loss 0.15485729277133942\n",
      "epoch 91, loss 0.1531279981136322\n",
      "epoch 92, loss 0.15141794085502625\n",
      "epoch 93, loss 0.14972707629203796\n",
      "epoch 94, loss 0.14805512130260468\n",
      "epoch 95, loss 0.14640189707279205\n",
      "epoch 96, loss 0.14476698637008667\n",
      "epoch 97, loss 0.14315031468868256\n",
      "epoch 98, loss 0.14155183732509613\n",
      "epoch 99, loss 0.13997116684913635\n",
      "epoch 100, loss 0.13840824365615845\n"
     ]
    },
    {
     "name": "stderr",
     "output_type": "stream",
     "text": [
      "C:\\Users\\e.istre91\\Anaconda3\\envs\\pyt-gpu\\lib\\site-packages\\ipykernel\\__main__.py:91: UserWarning: invalid index of a 0-dim tensor. This will be an error in PyTorch 0.5. Use tensor.item() to convert a 0-dim tensor to a Python number\n"
     ]
    }
   ],
   "source": [
    "import torch\n",
    "import torch.nn as nn\n",
    "from torch.autograd import Variable\n",
    "import numpy as np\n",
    "\n",
    "x_values = [i for i in range(11)]\n",
    "x_train = np.array(x_values, dtype=np.float32)\n",
    "x_train = x_train.reshape(-1, 1)\n",
    "\n",
    "y_values = [2*i + 1 for i in x_values]\n",
    "y_train = np.array(y_values, dtype=np.float32)\n",
    "y_train = y_train.reshape(-1, 1)\n",
    "\n",
    "'''\n",
    "CREATE MODEL CLASS\n",
    "'''\n",
    "class LinearRegressionModel(nn.Module):\n",
    "    def __init__(self, input_dim, output_dim):\n",
    "        super(LinearRegressionModel, self).__init__()\n",
    "        self.linear = nn.Linear(input_dim, output_dim)  \n",
    "    \n",
    "    def forward(self, x):\n",
    "        out = self.linear(x)\n",
    "        return out\n",
    "\n",
    "'''\n",
    "INSTANTIATE MODEL CLASS\n",
    "'''\n",
    "input_dim = 1\n",
    "output_dim = 1\n",
    "\n",
    "model = LinearRegressionModel(input_dim, output_dim)\n",
    "\n",
    "\n",
    "#######################\n",
    "#  USE GPU FOR MODEL  #\n",
    "#######################\n",
    "\n",
    "model.cuda()\n",
    "\n",
    "'''\n",
    "INSTANTIATE LOSS CLASS\n",
    "'''\n",
    "\n",
    "criterion = nn.MSELoss()\n",
    "\n",
    "'''\n",
    "INSTANTIATE OPTIMIZER CLASS\n",
    "'''\n",
    "\n",
    "learning_rate = 0.01\n",
    "\n",
    "optimizer = torch.optim.SGD(model.parameters(), lr=learning_rate)\n",
    "\n",
    "'''\n",
    "TRAIN THE MODEL\n",
    "'''\n",
    "epochs = 100\n",
    "for epoch in range(epochs):\n",
    "    epoch += 1\n",
    "    # Convert numpy array to torch Variable\n",
    "    \n",
    "    #######################\n",
    "    #  USE GPU FOR MODEL  #\n",
    "    #######################\n",
    "    if torch.cuda.is_available():\n",
    "        inputs = Variable(torch.from_numpy(x_train).cuda())\n",
    "        \n",
    "    #######################\n",
    "    #  USE GPU FOR MODEL  #\n",
    "    #######################\n",
    "    if torch.cuda.is_available():\n",
    "        labels = Variable(torch.from_numpy(y_train).cuda())\n",
    "        \n",
    "    # Clear gradients w.r.t. parameters\n",
    "    optimizer.zero_grad() \n",
    "    \n",
    "    # Forward to get output\n",
    "    outputs = model(inputs)\n",
    "    \n",
    "    # Calculate Loss\n",
    "    loss = criterion(outputs, labels)\n",
    "    \n",
    "    # Getting gradients w.r.t. parameters\n",
    "    loss.backward()\n",
    "    \n",
    "    # Updating parameters\n",
    "    optimizer.step()\n",
    "    \n",
    "    # Logging\n",
    "    print('epoch {}, loss {}'.format(epoch, loss.data[0]))"
   ]
  },
  {
   "cell_type": "code",
   "execution_count": null,
   "metadata": {},
   "outputs": [],
   "source": []
  }
 ],
 "metadata": {
  "kernelspec": {
   "display_name": "Python [conda env:pyt-gpu]",
   "language": "python",
   "name": "conda-env-pyt-gpu-py"
  },
  "language_info": {
   "codemirror_mode": {
    "name": "ipython",
    "version": 3
   },
   "file_extension": ".py",
   "mimetype": "text/x-python",
   "name": "python",
   "nbconvert_exporter": "python",
   "pygments_lexer": "ipython3",
   "version": "3.6.6"
  }
 },
 "nbformat": 4,
 "nbformat_minor": 2
}
