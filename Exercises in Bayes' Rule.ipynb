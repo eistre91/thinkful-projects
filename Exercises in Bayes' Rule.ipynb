{
 "cells": [
  {
   "cell_type": "markdown",
   "metadata": {},
   "source": [
    "A diagnostic test has a 98% probability of giving a positive result when applied to a person suffering from Thripshaw's Disease, and 10% probability of giving a (false) positive when applied to a non-sufferer. It is estimated that 0.5 % of the population are sufferers. Suppose that the test is now administered to a person whose disease status is unknown. Calculate the probability that the test will:\n",
    "\n",
    "    Be positive\n",
    "    Correctly diagnose a sufferer of Thripshaw's\n",
    "    Correctly identify a non-sufferer of Thripshaw's\n",
    "    Misclassify the person\n"
   ]
  },
  {
   "cell_type": "markdown",
   "metadata": {},
   "source": [
    "Intuitive Estimates:\n",
    "\n",
    "Be positive - 10%\n",
    "\n",
    "Correctly diagnose a sufferer of Thripshaw's - 98%\n",
    "\n",
    "Correctly identify a non-sufferer of Thripshaw's - 90% \n",
    "\n",
    "Misclassify the person - 10%"
   ]
  },
  {
   "cell_type": "markdown",
   "metadata": {},
   "source": [
    "T = Have Thripshaw's\n",
    "R = Positive test result\n",
    "\n",
    "P(R) = (P(R|T)P(T) + P(R|~T)P(~T))\n",
    "\n",
    "P(R|T) = .98\n",
    "\n",
    "P(R|~T) = .10\n",
    "\n",
    "P(T) = .005\n",
    "\n",
    "P(~T) = .995\n",
    "\n",
    "P(T|R) = P(R|T) * P(T) / P(R)\n",
    "\n",
    "P(~T|R) = P(R|~T) * P(~T) / P(R)\n",
    "\n",
    "P(~R) = 1 - P(R)\n",
    "\n",
    "P(~R|T) = .02\n",
    "\n",
    "P(~R|~T) = .90\n",
    "\n",
    "P(T|~R) = P(~R|T) * P(T) / P(~R)\n",
    "\n",
    "P(~T|~R) = P(~R|~T) * P(~T) / P(~R)"
   ]
  },
  {
   "cell_type": "code",
   "execution_count": 5,
   "metadata": {},
   "outputs": [
    {
     "name": "stdout",
     "output_type": "stream",
     "text": [
      "Be Positive:  0.1044\n",
      "Correctly Diagnose a sufferer of Thripshaw's:  0.98\n",
      "Correctly identify a non-sufferer of Thripshaw's:  0.9\n",
      "Fail to diagnose a sufferer of Thripshaw's:  0.00011165698972755695\n",
      "Fail to identify a non-sufferer of Thripshaw's:  0.9530651340996168\n",
      "Misclassify the person:  0.09960000000000002\n",
      "Classify the person:  0.9004\n"
     ]
    }
   ],
   "source": [
    "T = .005\n",
    "not_T = .995\n",
    "R_given_T = .98\n",
    "R_given_not_T = .10\n",
    "\n",
    "R = R_given_T * T + R_given_not_T * not_T\n",
    "not_R = 1 - R\n",
    "\n",
    "T_given_R = R_given_T * T / R\n",
    "not_T_given_R = R_given_not_T * not_T / R\n",
    "\n",
    "not_R_given_T = .02\n",
    "not_R_given_not_T = .90\n",
    "\n",
    "T_given_not_R = not_R_given_T * T / not_R\n",
    "not_T_given_not_R = not_R_given_not_T * not_T / not_R\n",
    "\n",
    "print(\"Be Positive: \", R)\n",
    "print(\"Correctly Diagnose a sufferer of Thripshaw's: \", R_given_T)\n",
    "print(\"Correctly identify a non-sufferer of Thripshaw's: \", (1 - R_given_not_T))\n",
    "\n",
    "print(\"Fail to diagnose a sufferer of Thripshaw's: \", T_given_not_R)\n",
    "print(\"Fail to identify a non-sufferer of Thripshaw's: \", not_T_given_R)\n",
    "\n",
    "classify = R_given_T * T + not_R_given_not_T * not_T\n",
    "print(\"Misclassify the person: \", 1 - classify)\n",
    "\n",
    "print(\"Classify the person: \", R_given_T * T + (1 - R_given_not_T) * not_T)"
   ]
  },
  {
   "cell_type": "code",
   "execution_count": null,
   "metadata": {
    "collapsed": true
   },
   "outputs": [],
   "source": []
  }
 ],
 "metadata": {
  "kernelspec": {
   "display_name": "Python [default]",
   "language": "python",
   "name": "python3"
  },
  "language_info": {
   "codemirror_mode": {
    "name": "ipython",
    "version": 3
   },
   "file_extension": ".py",
   "mimetype": "text/x-python",
   "name": "python",
   "nbconvert_exporter": "python",
   "pygments_lexer": "ipython3",
   "version": "3.6.2"
  }
 },
 "nbformat": 4,
 "nbformat_minor": 2
}
