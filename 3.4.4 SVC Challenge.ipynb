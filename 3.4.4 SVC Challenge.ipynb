{
 "cells": [
  {
   "cell_type": "code",
   "execution_count": 1,
   "metadata": {
    "run_control": {
     "frozen": false,
     "read_only": false
    }
   },
   "outputs": [],
   "source": [
    "import numpy as np\n",
    "import pandas as pd\n",
    "import scipy\n",
    "import matplotlib.pyplot as plt\n",
    "import seaborn as sns\n",
    "%matplotlib inline"
   ]
  },
  {
   "cell_type": "code",
   "execution_count": 2,
   "metadata": {
    "run_control": {
     "frozen": false,
     "read_only": false
    }
   },
   "outputs": [],
   "source": [
    "raw_data = pd.read_csv('epi_r.csv')"
   ]
  },
  {
   "cell_type": "code",
   "execution_count": 3,
   "metadata": {
    "run_control": {
     "frozen": false,
     "read_only": false
    },
    "scrolled": true
   },
   "outputs": [
    {
     "data": {
      "text/plain": [
       "count    20052.000000\n",
       "mean         3.714467\n",
       "std          1.340829\n",
       "min          0.000000\n",
       "25%          3.750000\n",
       "50%          4.375000\n",
       "75%          4.375000\n",
       "max          5.000000\n",
       "Name: rating, dtype: float64"
      ]
     },
     "execution_count": 3,
     "metadata": {},
     "output_type": "execute_result"
    }
   ],
   "source": [
    "raw_data.rating.describe()"
   ]
  },
  {
   "cell_type": "markdown",
   "metadata": {
    "run_control": {
     "frozen": false,
     "read_only": false
    }
   },
   "source": [
    "Lastly, we could take our regression problem and turn it into a classifier. With this number of features and a discontinuous outcome, we might have better luck thinking of this as a classification problem. We could make it simpler still by instead of classifying on each possible value, group reviews to some decided high and low values.\n",
    "\n",
    "__And that is your challenge.__\n",
    "\n",
    "Transform this regression problem into a binary classifier and clean up the feature set. You can choose whether or not to include nutritional information, but try to cut your feature set down to the 30 most valuable features.\n",
    "\n",
    "Good luck!"
   ]
  },
  {
   "cell_type": "code",
   "execution_count": 4,
   "metadata": {},
   "outputs": [
    {
     "data": {
      "text/html": [
       "<div>\n",
       "<style scoped>\n",
       "    .dataframe tbody tr th:only-of-type {\n",
       "        vertical-align: middle;\n",
       "    }\n",
       "\n",
       "    .dataframe tbody tr th {\n",
       "        vertical-align: top;\n",
       "    }\n",
       "\n",
       "    .dataframe thead th {\n",
       "        text-align: right;\n",
       "    }\n",
       "</style>\n",
       "<table border=\"1\" class=\"dataframe\">\n",
       "  <thead>\n",
       "    <tr style=\"text-align: right;\">\n",
       "      <th></th>\n",
       "      <th>rating</th>\n",
       "      <th>calories</th>\n",
       "      <th>protein</th>\n",
       "      <th>fat</th>\n",
       "      <th>sodium</th>\n",
       "      <th>#cakeweek</th>\n",
       "      <th>#wasteless</th>\n",
       "      <th>22-minute meals</th>\n",
       "      <th>3-ingredient recipes</th>\n",
       "      <th>30 days of groceries</th>\n",
       "      <th>...</th>\n",
       "      <th>yellow squash</th>\n",
       "      <th>yogurt</th>\n",
       "      <th>yonkers</th>\n",
       "      <th>yuca</th>\n",
       "      <th>zucchini</th>\n",
       "      <th>cookbooks</th>\n",
       "      <th>leftovers</th>\n",
       "      <th>snack</th>\n",
       "      <th>snack week</th>\n",
       "      <th>turkey</th>\n",
       "    </tr>\n",
       "  </thead>\n",
       "  <tbody>\n",
       "    <tr>\n",
       "      <th>0.01</th>\n",
       "      <td>0.0</td>\n",
       "      <td>18.00</td>\n",
       "      <td>0.00</td>\n",
       "      <td>0.00</td>\n",
       "      <td>1.00</td>\n",
       "      <td>0.0</td>\n",
       "      <td>0.0</td>\n",
       "      <td>0.0</td>\n",
       "      <td>0.0</td>\n",
       "      <td>0.0</td>\n",
       "      <td>...</td>\n",
       "      <td>0.0</td>\n",
       "      <td>0.0</td>\n",
       "      <td>0.0</td>\n",
       "      <td>0.0</td>\n",
       "      <td>0.0</td>\n",
       "      <td>0.0</td>\n",
       "      <td>0.0</td>\n",
       "      <td>0.0</td>\n",
       "      <td>0.0</td>\n",
       "      <td>0.0</td>\n",
       "    </tr>\n",
       "    <tr>\n",
       "      <th>0.99</th>\n",
       "      <td>5.0</td>\n",
       "      <td>3238.64</td>\n",
       "      <td>171.22</td>\n",
       "      <td>207.64</td>\n",
       "      <td>5676.64</td>\n",
       "      <td>0.0</td>\n",
       "      <td>0.0</td>\n",
       "      <td>0.0</td>\n",
       "      <td>0.0</td>\n",
       "      <td>0.0</td>\n",
       "      <td>...</td>\n",
       "      <td>0.0</td>\n",
       "      <td>1.0</td>\n",
       "      <td>0.0</td>\n",
       "      <td>0.0</td>\n",
       "      <td>1.0</td>\n",
       "      <td>0.0</td>\n",
       "      <td>0.0</td>\n",
       "      <td>0.0</td>\n",
       "      <td>0.0</td>\n",
       "      <td>1.0</td>\n",
       "    </tr>\n",
       "  </tbody>\n",
       "</table>\n",
       "<p>2 rows × 679 columns</p>\n",
       "</div>"
      ],
      "text/plain": [
       "      rating  calories  protein     fat   sodium  #cakeweek  #wasteless  \\\n",
       "0.01     0.0     18.00     0.00    0.00     1.00        0.0         0.0   \n",
       "0.99     5.0   3238.64   171.22  207.64  5676.64        0.0         0.0   \n",
       "\n",
       "      22-minute meals  3-ingredient recipes  30 days of groceries   ...    \\\n",
       "0.01              0.0                   0.0                   0.0   ...     \n",
       "0.99              0.0                   0.0                   0.0   ...     \n",
       "\n",
       "      yellow squash  yogurt  yonkers  yuca  zucchini  cookbooks  leftovers  \\\n",
       "0.01            0.0     0.0      0.0   0.0       0.0        0.0        0.0   \n",
       "0.99            0.0     1.0      0.0   0.0       1.0        0.0        0.0   \n",
       "\n",
       "      snack  snack week  turkey  \n",
       "0.01    0.0         0.0     0.0  \n",
       "0.99    0.0         0.0     1.0  \n",
       "\n",
       "[2 rows x 679 columns]"
      ]
     },
     "execution_count": 4,
     "metadata": {},
     "output_type": "execute_result"
    }
   ],
   "source": [
    "raw_data.quantile([.01, .99])"
   ]
  },
  {
   "cell_type": "code",
   "execution_count": 5,
   "metadata": {},
   "outputs": [],
   "source": [
    "feature_df = raw_data[raw_data['calories'] < 3238.64].copy()\n",
    "feature_df = feature_df[feature_df['sodium'] < 5676.64].copy()\n",
    "feature_df = feature_df[feature_df['protein'] < 171.22].copy()\n",
    "feature_df = feature_df[feature_df['fat'] < 207.64].copy()"
   ]
  },
  {
   "cell_type": "code",
   "execution_count": 6,
   "metadata": {},
   "outputs": [
    {
     "data": {
      "text/plain": [
       "<matplotlib.axes._subplots.AxesSubplot at 0x23a4eaf57f0>"
      ]
     },
     "execution_count": 6,
     "metadata": {},
     "output_type": "execute_result"
    },
    {
     "data": {
      "image/png": "[encoded data removed]",
      "text/plain": [
       "<Figure size 432x288 with 4 Axes>"
      ]
     },
     "metadata": {},
     "output_type": "display_data"
    }
   ],
   "source": [
    "fig, axes = plt.subplots(2, 2)\n",
    "axes_f = axes.flatten()\n",
    "feature_df['sodium'].hist(ax=axes_f[0])\n",
    "feature_df['protein'].hist(ax=axes_f[1])\n",
    "feature_df['fat'].hist(ax=axes_f[2])\n",
    "feature_df['calories'].hist(ax=axes_f[3])"
   ]
  },
  {
   "cell_type": "code",
   "execution_count": 7,
   "metadata": {
    "scrolled": true
   },
   "outputs": [
    {
     "data": {
      "text/plain": [
       "0.1      2.0\n",
       "0.9    636.7\n",
       "dtype: float64"
      ]
     },
     "execution_count": 7,
     "metadata": {},
     "output_type": "execute_result"
    }
   ],
   "source": [
    "feature_df.sum(numeric_only=True) \\\n",
    "          .drop(['rating', 'sodium', 'fat', 'calories', 'protein']) \\\n",
    "          .quantile([.1, .9])"
   ]
  },
  {
   "cell_type": "code",
   "execution_count": 8,
   "metadata": {},
   "outputs": [],
   "source": [
    "frequent_columns = feature_df.sum(numeric_only=True) \\\n",
    "        [feature_df.sum(numeric_only=True)>500].index"
   ]
  },
  {
   "cell_type": "code",
   "execution_count": 9,
   "metadata": {},
   "outputs": [],
   "source": [
    "feature_df = feature_df[frequent_columns]"
   ]
  },
  {
   "cell_type": "code",
   "execution_count": 10,
   "metadata": {},
   "outputs": [],
   "source": [
    "feature_df.iloc[:, 5:] = feature_df.iloc[:, 5:].astype('uint8')"
   ]
  },
  {
   "cell_type": "code",
   "execution_count": 11,
   "metadata": {},
   "outputs": [
    {
     "data": {
      "text/html": [
       "<div>\n",
       "<style scoped>\n",
       "    .dataframe tbody tr th:only-of-type {\n",
       "        vertical-align: middle;\n",
       "    }\n",
       "\n",
       "    .dataframe tbody tr th {\n",
       "        vertical-align: top;\n",
       "    }\n",
       "\n",
       "    .dataframe thead th {\n",
       "        text-align: right;\n",
       "    }\n",
       "</style>\n",
       "<table border=\"1\" class=\"dataframe\">\n",
       "  <thead>\n",
       "    <tr style=\"text-align: right;\">\n",
       "      <th></th>\n",
       "      <th>rating</th>\n",
       "      <th>calories</th>\n",
       "      <th>protein</th>\n",
       "      <th>fat</th>\n",
       "      <th>sodium</th>\n",
       "      <th>alcoholic</th>\n",
       "      <th>appetizer</th>\n",
       "      <th>apple</th>\n",
       "      <th>backyard bbq</th>\n",
       "      <th>bake</th>\n",
       "      <th>...</th>\n",
       "      <th>summer</th>\n",
       "      <th>thanksgiving</th>\n",
       "      <th>tomato</th>\n",
       "      <th>tree nut free</th>\n",
       "      <th>vegan</th>\n",
       "      <th>vegetable</th>\n",
       "      <th>vegetarian</th>\n",
       "      <th>vinegar</th>\n",
       "      <th>wheat/gluten-free</th>\n",
       "      <th>winter</th>\n",
       "    </tr>\n",
       "  </thead>\n",
       "  <tbody>\n",
       "    <tr>\n",
       "      <th>0</th>\n",
       "      <td>2.500</td>\n",
       "      <td>426.0</td>\n",
       "      <td>30.0</td>\n",
       "      <td>7.0</td>\n",
       "      <td>559.0</td>\n",
       "      <td>0.0</td>\n",
       "      <td>0.0</td>\n",
       "      <td>1.0</td>\n",
       "      <td>0.0</td>\n",
       "      <td>0.0</td>\n",
       "      <td>...</td>\n",
       "      <td>0.0</td>\n",
       "      <td>0.0</td>\n",
       "      <td>1.0</td>\n",
       "      <td>0.0</td>\n",
       "      <td>0.0</td>\n",
       "      <td>1.0</td>\n",
       "      <td>0.0</td>\n",
       "      <td>0.0</td>\n",
       "      <td>0.0</td>\n",
       "      <td>0.0</td>\n",
       "    </tr>\n",
       "    <tr>\n",
       "      <th>1</th>\n",
       "      <td>4.375</td>\n",
       "      <td>403.0</td>\n",
       "      <td>18.0</td>\n",
       "      <td>23.0</td>\n",
       "      <td>1439.0</td>\n",
       "      <td>0.0</td>\n",
       "      <td>0.0</td>\n",
       "      <td>0.0</td>\n",
       "      <td>0.0</td>\n",
       "      <td>1.0</td>\n",
       "      <td>...</td>\n",
       "      <td>0.0</td>\n",
       "      <td>0.0</td>\n",
       "      <td>0.0</td>\n",
       "      <td>0.0</td>\n",
       "      <td>0.0</td>\n",
       "      <td>0.0</td>\n",
       "      <td>0.0</td>\n",
       "      <td>0.0</td>\n",
       "      <td>0.0</td>\n",
       "      <td>1.0</td>\n",
       "    </tr>\n",
       "    <tr>\n",
       "      <th>2</th>\n",
       "      <td>3.750</td>\n",
       "      <td>165.0</td>\n",
       "      <td>6.0</td>\n",
       "      <td>7.0</td>\n",
       "      <td>165.0</td>\n",
       "      <td>0.0</td>\n",
       "      <td>0.0</td>\n",
       "      <td>0.0</td>\n",
       "      <td>0.0</td>\n",
       "      <td>0.0</td>\n",
       "      <td>...</td>\n",
       "      <td>0.0</td>\n",
       "      <td>0.0</td>\n",
       "      <td>0.0</td>\n",
       "      <td>0.0</td>\n",
       "      <td>0.0</td>\n",
       "      <td>1.0</td>\n",
       "      <td>0.0</td>\n",
       "      <td>0.0</td>\n",
       "      <td>0.0</td>\n",
       "      <td>0.0</td>\n",
       "    </tr>\n",
       "    <tr>\n",
       "      <th>4</th>\n",
       "      <td>3.125</td>\n",
       "      <td>547.0</td>\n",
       "      <td>20.0</td>\n",
       "      <td>32.0</td>\n",
       "      <td>452.0</td>\n",
       "      <td>0.0</td>\n",
       "      <td>0.0</td>\n",
       "      <td>0.0</td>\n",
       "      <td>0.0</td>\n",
       "      <td>1.0</td>\n",
       "      <td>...</td>\n",
       "      <td>0.0</td>\n",
       "      <td>0.0</td>\n",
       "      <td>0.0</td>\n",
       "      <td>0.0</td>\n",
       "      <td>0.0</td>\n",
       "      <td>1.0</td>\n",
       "      <td>1.0</td>\n",
       "      <td>0.0</td>\n",
       "      <td>0.0</td>\n",
       "      <td>0.0</td>\n",
       "    </tr>\n",
       "    <tr>\n",
       "      <th>5</th>\n",
       "      <td>4.375</td>\n",
       "      <td>948.0</td>\n",
       "      <td>19.0</td>\n",
       "      <td>79.0</td>\n",
       "      <td>1042.0</td>\n",
       "      <td>0.0</td>\n",
       "      <td>0.0</td>\n",
       "      <td>0.0</td>\n",
       "      <td>0.0</td>\n",
       "      <td>0.0</td>\n",
       "      <td>...</td>\n",
       "      <td>1.0</td>\n",
       "      <td>0.0</td>\n",
       "      <td>1.0</td>\n",
       "      <td>0.0</td>\n",
       "      <td>0.0</td>\n",
       "      <td>0.0</td>\n",
       "      <td>0.0</td>\n",
       "      <td>0.0</td>\n",
       "      <td>0.0</td>\n",
       "      <td>0.0</td>\n",
       "    </tr>\n",
       "  </tbody>\n",
       "</table>\n",
       "<p>5 rows × 87 columns</p>\n",
       "</div>"
      ],
      "text/plain": [
       "   rating  calories  protein   fat  sodium  alcoholic  appetizer  apple  \\\n",
       "0   2.500     426.0     30.0   7.0   559.0        0.0        0.0    1.0   \n",
       "1   4.375     403.0     18.0  23.0  1439.0        0.0        0.0    0.0   \n",
       "2   3.750     165.0      6.0   7.0   165.0        0.0        0.0    0.0   \n",
       "4   3.125     547.0     20.0  32.0   452.0        0.0        0.0    0.0   \n",
       "5   4.375     948.0     19.0  79.0  1042.0        0.0        0.0    0.0   \n",
       "\n",
       "   backyard bbq  bake   ...    summer  thanksgiving  tomato  tree nut free  \\\n",
       "0           0.0   0.0   ...       0.0           0.0     1.0            0.0   \n",
       "1           0.0   1.0   ...       0.0           0.0     0.0            0.0   \n",
       "2           0.0   0.0   ...       0.0           0.0     0.0            0.0   \n",
       "4           0.0   1.0   ...       0.0           0.0     0.0            0.0   \n",
       "5           0.0   0.0   ...       1.0           0.0     1.0            0.0   \n",
       "\n",
       "   vegan  vegetable  vegetarian  vinegar  wheat/gluten-free  winter  \n",
       "0    0.0        1.0         0.0      0.0                0.0     0.0  \n",
       "1    0.0        0.0         0.0      0.0                0.0     1.0  \n",
       "2    0.0        1.0         0.0      0.0                0.0     0.0  \n",
       "4    0.0        1.0         1.0      0.0                0.0     0.0  \n",
       "5    0.0        0.0         0.0      0.0                0.0     0.0  \n",
       "\n",
       "[5 rows x 87 columns]"
      ]
     },
     "execution_count": 11,
     "metadata": {},
     "output_type": "execute_result"
    }
   ],
   "source": [
    "feature_df.head()"
   ]
  },
  {
   "cell_type": "code",
   "execution_count": 12,
   "metadata": {},
   "outputs": [],
   "source": [
    "feature_df['top_notch'] = feature_df['rating'] >= 4"
   ]
  },
  {
   "cell_type": "code",
   "execution_count": 13,
   "metadata": {},
   "outputs": [
    {
     "data": {
      "text/plain": [
       "8420"
      ]
     },
     "execution_count": 13,
     "metadata": {},
     "output_type": "execute_result"
    }
   ],
   "source": [
    "feature_df['top_notch'].sum()"
   ]
  },
  {
   "cell_type": "code",
   "execution_count": 14,
   "metadata": {},
   "outputs": [
    {
     "data": {
      "text/html": [
       "<div>\n",
       "<style scoped>\n",
       "    .dataframe tbody tr th:only-of-type {\n",
       "        vertical-align: middle;\n",
       "    }\n",
       "\n",
       "    .dataframe tbody tr th {\n",
       "        vertical-align: top;\n",
       "    }\n",
       "\n",
       "    .dataframe thead th {\n",
       "        text-align: right;\n",
       "    }\n",
       "</style>\n",
       "<table border=\"1\" class=\"dataframe\">\n",
       "  <thead>\n",
       "    <tr style=\"text-align: right;\">\n",
       "      <th></th>\n",
       "      <th>rating</th>\n",
       "      <th>calories</th>\n",
       "      <th>protein</th>\n",
       "      <th>fat</th>\n",
       "      <th>sodium</th>\n",
       "      <th>alcoholic</th>\n",
       "      <th>appetizer</th>\n",
       "      <th>apple</th>\n",
       "      <th>backyard bbq</th>\n",
       "      <th>bake</th>\n",
       "      <th>...</th>\n",
       "      <th>summer</th>\n",
       "      <th>thanksgiving</th>\n",
       "      <th>tomato</th>\n",
       "      <th>tree nut free</th>\n",
       "      <th>vegan</th>\n",
       "      <th>vegetable</th>\n",
       "      <th>vegetarian</th>\n",
       "      <th>vinegar</th>\n",
       "      <th>wheat/gluten-free</th>\n",
       "      <th>winter</th>\n",
       "    </tr>\n",
       "    <tr>\n",
       "      <th>top_notch</th>\n",
       "      <th></th>\n",
       "      <th></th>\n",
       "      <th></th>\n",
       "      <th></th>\n",
       "      <th></th>\n",
       "      <th></th>\n",
       "      <th></th>\n",
       "      <th></th>\n",
       "      <th></th>\n",
       "      <th></th>\n",
       "      <th></th>\n",
       "      <th></th>\n",
       "      <th></th>\n",
       "      <th></th>\n",
       "      <th></th>\n",
       "      <th></th>\n",
       "      <th></th>\n",
       "      <th></th>\n",
       "      <th></th>\n",
       "      <th></th>\n",
       "      <th></th>\n",
       "    </tr>\n",
       "  </thead>\n",
       "  <tbody>\n",
       "    <tr>\n",
       "      <th>False</th>\n",
       "      <td>2.842971</td>\n",
       "      <td>398.157455</td>\n",
       "      <td>15.998724</td>\n",
       "      <td>21.605159</td>\n",
       "      <td>467.854167</td>\n",
       "      <td>0.052012</td>\n",
       "      <td>0.063634</td>\n",
       "      <td>0.032455</td>\n",
       "      <td>0.033588</td>\n",
       "      <td>0.223073</td>\n",
       "      <td>...</td>\n",
       "      <td>0.201672</td>\n",
       "      <td>0.055130</td>\n",
       "      <td>0.103458</td>\n",
       "      <td>0.334751</td>\n",
       "      <td>0.107851</td>\n",
       "      <td>0.117063</td>\n",
       "      <td>0.360402</td>\n",
       "      <td>0.032455</td>\n",
       "      <td>0.247874</td>\n",
       "      <td>0.157313</td>\n",
       "    </tr>\n",
       "    <tr>\n",
       "      <th>True</th>\n",
       "      <td>4.525238</td>\n",
       "      <td>460.241805</td>\n",
       "      <td>19.400238</td>\n",
       "      <td>26.433967</td>\n",
       "      <td>536.360451</td>\n",
       "      <td>0.026128</td>\n",
       "      <td>0.068765</td>\n",
       "      <td>0.034561</td>\n",
       "      <td>0.049881</td>\n",
       "      <td>0.245606</td>\n",
       "      <td>...</td>\n",
       "      <td>0.211520</td>\n",
       "      <td>0.090618</td>\n",
       "      <td>0.108907</td>\n",
       "      <td>0.370428</td>\n",
       "      <td>0.081829</td>\n",
       "      <td>0.098337</td>\n",
       "      <td>0.348219</td>\n",
       "      <td>0.037886</td>\n",
       "      <td>0.245962</td>\n",
       "      <td>0.164608</td>\n",
       "    </tr>\n",
       "  </tbody>\n",
       "</table>\n",
       "<p>2 rows × 87 columns</p>\n",
       "</div>"
      ],
      "text/plain": [
       "             rating    calories    protein        fat      sodium  alcoholic  \\\n",
       "top_notch                                                                      \n",
       "False      2.842971  398.157455  15.998724  21.605159  467.854167   0.052012   \n",
       "True       4.525238  460.241805  19.400238  26.433967  536.360451   0.026128   \n",
       "\n",
       "           appetizer     apple  backyard bbq      bake    ...       summer  \\\n",
       "top_notch                                                 ...                \n",
       "False       0.063634  0.032455      0.033588  0.223073    ...     0.201672   \n",
       "True        0.068765  0.034561      0.049881  0.245606    ...     0.211520   \n",
       "\n",
       "           thanksgiving    tomato  tree nut free     vegan  vegetable  \\\n",
       "top_notch                                                               \n",
       "False          0.055130  0.103458       0.334751  0.107851   0.117063   \n",
       "True           0.090618  0.108907       0.370428  0.081829   0.098337   \n",
       "\n",
       "           vegetarian   vinegar  wheat/gluten-free    winter  \n",
       "top_notch                                                     \n",
       "False        0.360402  0.032455           0.247874  0.157313  \n",
       "True         0.348219  0.037886           0.245962  0.164608  \n",
       "\n",
       "[2 rows x 87 columns]"
      ]
     },
     "execution_count": 14,
     "metadata": {},
     "output_type": "execute_result"
    }
   ],
   "source": [
    "feature_df.groupby('top_notch').mean()"
   ]
  },
  {
   "cell_type": "code",
   "execution_count": 15,
   "metadata": {},
   "outputs": [],
   "source": [
    "feature_df['norm_calories'] = (feature_df['calories'] - feature_df['calories'].mean()) /\\\n",
    "                                feature_df['calories'].std()\n",
    "feature_df['norm_protein'] = (feature_df['protein'] - feature_df['protein'].mean()) /\\\n",
    "                                feature_df['protein'].std()\n",
    "feature_df['norm_fat'] = (feature_df['fat'] - feature_df['fat'].mean()) /\\\n",
    "                                feature_df['fat'].std()\n",
    "feature_df['norm_sodium'] = (feature_df['sodium'] - feature_df['sodium'].mean()) /\\\n",
    "                                feature_df['sodium'].std()   \n",
    "feature_df = feature_df.drop(['calories', 'fat', 'protein', 'sodium'], axis=1)"
   ]
  },
  {
   "cell_type": "code",
   "execution_count": 16,
   "metadata": {},
   "outputs": [],
   "source": [
    "top_notch_means = feature_df.groupby('top_notch').mean().drop(['rating'],axis=1)\n",
    "col_batch = np.absolute(top_notch_means.iloc[0] - top_notch_means.iloc[1]) \\\n",
    "    .sort_values(ascending=False)[:30].index"
   ]
  },
  {
   "cell_type": "code",
   "execution_count": 17,
   "metadata": {},
   "outputs": [
    {
     "data": {
      "text/plain": [
       "Index(['norm_fat', 'norm_calories', 'norm_protein', 'norm_sodium',\n",
       "       'bon appétit', 'soy free', 'peanut free', 'gourmet', 'quick & easy',\n",
       "       'tree nut free', 'thanksgiving', 'drink', 'fall', 'dinner', 'roast',\n",
       "       'cocktail party', 'dessert', 'vegan', 'alcoholic', 'bake', 'christmas',\n",
       "       'grill/barbecue', 'fruit', 'vegetable', 'side', 'pasta', 'pescatarian',\n",
       "       'backyard bbq', 'dairy free', 'vegetarian'],\n",
       "      dtype='object')"
      ]
     },
     "execution_count": 17,
     "metadata": {},
     "output_type": "execute_result"
    }
   ],
   "source": [
    "col_batch"
   ]
  },
  {
   "cell_type": "code",
   "execution_count": 18,
   "metadata": {},
   "outputs": [],
   "source": [
    "from sklearn.model_selection import train_test_split\n",
    "from sklearn.model_selection import cross_val_score\n",
    "train, test = train_test_split(feature_df, test_size=0.2, random_state=42)\n",
    "X_test = test[col_batch]\n",
    "Y_test = test['top_notch']\n",
    "X_train = train[col_batch]\n",
    "Y_train = train['top_notch']"
   ]
  },
  {
   "cell_type": "code",
   "execution_count": 19,
   "metadata": {},
   "outputs": [
    {
     "data": {
      "text/plain": [
       "SVC(C=1.0, cache_size=200, class_weight=None, coef0=0.0,\n",
       "  decision_function_shape='ovr', degree=3, gamma='auto', kernel='rbf',\n",
       "  max_iter=-1, probability=False, random_state=None, shrinking=True,\n",
       "  tol=0.001, verbose=False)"
      ]
     },
     "execution_count": 19,
     "metadata": {},
     "output_type": "execute_result"
    }
   ],
   "source": [
    "from sklearn.svm import SVC\n",
    "svc = SVC()\n",
    "svc.fit(X_train,Y_train)"
   ]
  },
  {
   "cell_type": "code",
   "execution_count": 20,
   "metadata": {},
   "outputs": [
    {
     "name": "stdout",
     "output_type": "stream",
     "text": [
      "0.25 0.5833602584814217 0.5791343669250646\n",
      "0.5 0.5895799676898223 0.5862403100775194\n",
      "1 0.5945072697899838 0.5927002583979328\n",
      "2 0.6026655896607431 0.5981912144702842\n",
      "4 0.6087237479806139 0.5998062015503876\n",
      "8 0.6187399030694669 0.601421188630491\n",
      "16 0.6274636510500807 0.5936692506459949\n"
     ]
    }
   ],
   "source": [
    "c_values = [.25, .5, 1, 2, 4, 8, 16]\n",
    "for c in c_values:\n",
    "    svc = SVC(C=c)\n",
    "    svc.fit(X_train, Y_train)\n",
    "    print(c, svc.score(X_train, Y_train), svc.score(X_test, Y_test))"
   ]
  },
  {
   "cell_type": "code",
   "execution_count": 28,
   "metadata": {},
   "outputs": [
    {
     "data": {
      "text/plain": [
       "SVC(C=2, cache_size=200, class_weight=None, coef0=0.0,\n",
       "  decision_function_shape='ovr', degree=3, gamma='auto', kernel='rbf',\n",
       "  max_iter=-1, probability=False, random_state=None, shrinking=True,\n",
       "  tol=0.001, verbose=False)"
      ]
     },
     "execution_count": 28,
     "metadata": {},
     "output_type": "execute_result"
    }
   ],
   "source": [
    "svc = SVC(C=2)\n",
    "svc.fit(X_train, Y_train)"
   ]
  },
  {
   "cell_type": "code",
   "execution_count": 29,
   "metadata": {},
   "outputs": [
    {
     "data": {
      "text/plain": [
       "0.6026655896607431"
      ]
     },
     "execution_count": 29,
     "metadata": {},
     "output_type": "execute_result"
    }
   ],
   "source": [
    "svc.score(X_train, Y_train)"
   ]
  },
  {
   "cell_type": "code",
   "execution_count": 30,
   "metadata": {},
   "outputs": [
    {
     "data": {
      "text/plain": [
       "0.5981912144702842"
      ]
     },
     "execution_count": 30,
     "metadata": {},
     "output_type": "execute_result"
    }
   ],
   "source": [
    "svc.score(X_test, Y_test)"
   ]
  },
  {
   "cell_type": "markdown",
   "metadata": {
    "run_control": {
     "frozen": false,
     "read_only": false
    }
   },
   "source": [
    "    When you've finished that, also take a moment to think about bias. Is there anything in this dataset that makes you think it could be biased, perhaps extremely so?\n",
    "\n",
    "    There is. Several things in fact, but most glaringly is that we don't actually have a random sample. It could be, and probably is, that the people more likely to choose some kinds of recipes are more likely to give high reviews.\n",
    "\n",
    "    After all, people who eat chocolate _might_ just be happier people."
   ]
  },
  {
   "cell_type": "markdown",
   "metadata": {},
   "source": [
    "A lot of the features that have the most variance relative to the \"top_notch\" feature I created for classifying have to do with very particular dietary preferences/restrictions. For example, soy free, peanut free, vegan, vegetarian, etc. \n",
    "\n",
    "The most concerning things for bias is that the ratings don't seem to be dsitributed in any reasonable way from 0 to 5, suggesting that the website draws very particular kinds of visitors. \n",
    "\n",
    "I wouldn't try to generalize this model outside of the users of this website."
   ]
  }
 ],
 "metadata": {
  "hide_input": false,
  "kernelspec": {
   "display_name": "Python 3",
   "language": "python",
   "name": "python3"
  },
  "language_info": {
   "codemirror_mode": {
    "name": "ipython",
    "version": 3
   },
   "file_extension": ".py",
   "mimetype": "text/x-python",
   "name": "python",
   "nbconvert_exporter": "python",
   "pygments_lexer": "ipython3",
   "version": "3.6.5"
  },
  "toc": {
   "colors": {
    "hover_highlight": "#DAA520",
    "running_highlight": "#FF0000",
    "selected_highlight": "#FFD700"
   },
   "moveMenuLeft": true,
   "nav_menu": {
    "height": "12px",
    "width": "252px"
   },
   "navigate_menu": true,
   "number_sections": true,
   "sideBar": true,
   "threshold": 4,
   "toc_cell": false,
   "toc_section_display": "block",
   "toc_window_display": false
  }
 },
 "nbformat": 4,
 "nbformat_minor": 2
}
