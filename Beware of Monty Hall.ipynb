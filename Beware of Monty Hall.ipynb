{
 "cells": [
  {
   "cell_type": "markdown",
   "metadata": {},
   "source": [
    "You are on a game show and given the choice of whatever is behind three doors. Behind one door is a fantastic prize (some examples use a car, others use cash) while behind the other two doors is a dud (some examples say a goat, others say it's just empty). You pick a door. Then the host opens one of the other two doors to reveal a dud. But here's the wrinkle: the host now gives you the opportunity to switch your door. What should you do?"
   ]
  },
  {
   "cell_type": "markdown",
   "metadata": {},
   "source": [
    "D1, D2, D3 are the chances that the prize is behind each respective door.\n",
    "\n",
    "Given no other information, the priors should be equal, that is\n",
    "\n",
    "P(D1) = 1/3\n",
    "\n",
    "P(D2) = 1/3\n",
    "\n",
    "P(D3) = 1/3\n",
    "\n",
    "Once a door is revealed, we now know a bit more information and can update our probabilities. So for example, let's say we pick D1. We've thus made a choice with a 1/3 chance of being correct. Then let's say D3 is revealed. Then we need to calculate the probability that D2 has the prize given that D3 doesn't. \n",
    "\n",
    "P(D2|~D3) = P(~D3|D2) P(D2) / P(~D3)\n",
    "\n",
    "P(D2|~D3) = 1 * 1/3 / 2/3 = 1/2\n",
    "\n",
    "So the probability that D2 has the prize now is 1/2. \n",
    "\n",
    "However, we also have some information about what the host would do. The door that the prize is behind, the host would have never chosen. And since we're on D1, we know that the host can't choose ours. \n",
    "\n",
    "(I used the wiki to get me thinking about the host's knowledge.)\n",
    "\n",
    "If we had chosen correctly in the first place, the host would open D3 with the same probability as D2.\n",
    "P(H3|S1, D1) = 1/2\n",
    "\n",
    "If we had failed to choose correctly, and the prize was behind D2, then the host was forced to open D3.\n",
    "P(H3|S1, D2) = 1\n",
    "\n",
    "And if in fact the prize was behind D3, the host would not have opened that door.\n",
    "P(H3|S1, D3) = 0\n",
    "\n",
    "(I'm using the wiki now because I'm not sure how to proceed, but I want to work through it.)\n",
    "\n",
    "By Bayes' theorem and value of P(D2)\n",
    "\n",
    "P(D2|H3, S1) = P(H3,S1|D2) P(D2) / P(H3,S1) = P(H3,S1|D2)/3P(H3,S1)\n",
    "\n",
    "The identity \n",
    "\n",
    "P(A, B|C)P(C) = P(A|B,C)P(B,C)\n",
    "\n",
    "is used to find that P(H3, S1|D2) is 3P(H3|S1,D2)P(S1,D2). Plugging this back into our Bayes' theorem result we get the following:\n",
    "\n",
    "P(H3|S1,D2)P(S1,D2)/P(H3,S1).\n",
    "\n",
    "P(H3|S1,D2) is equal to 1 and Bayes' theorem is used again to calculate the other probabilities in the expression.\n",
    "\n",
    "P(S1,D2) = P(S1|D2)P(D2) = 1/3 * 1/3 = 1/9\n",
    "\n",
    "P(H3,S1) = P(H3|S1)P(S1) = 1/2 * 1/3 = 1/6\n",
    "\n",
    "Then the final probability for D2 given the information we discovered from the host's reveal is 1/9 / 1/6 or 2/3. Thus it is a better choice to switch to D2, then to stay on D1.\n",
    "\n",
    "\n",
    "\n"
   ]
  }
 ],
 "metadata": {
  "kernelspec": {
   "display_name": "Python 3",
   "language": "python",
   "name": "python3"
  },
  "language_info": {
   "codemirror_mode": {
    "name": "ipython",
    "version": 3
   },
   "file_extension": ".py",
   "mimetype": "text/x-python",
   "name": "python",
   "nbconvert_exporter": "python",
   "pygments_lexer": "ipython3",
   "version": "3.6.5"
  }
 },
 "nbformat": 4,
 "nbformat_minor": 2
}
