{
 "cells": [
  {
   "cell_type": "code",
   "execution_count": 1,
   "metadata": {
    "collapsed": true
   },
   "outputs": [],
   "source": [
    "import pandas as pd\n",
    "import numpy as np\n",
    "import matplotlib.pyplot as plt\n",
    "import seaborn as sns \n",
    "from sklearn.model_selection import train_test_split\n",
    "from sklearn.ensemble import GradientBoostingClassifier"
   ]
  },
  {
   "cell_type": "code",
   "execution_count": 2,
   "metadata": {},
   "outputs": [],
   "source": [
    "airline = pd.read_csv(\"2008.csv\", usecols=[\"Month\", \"UniqueCarrier\", \"Origin\", \"Dest\", \n",
    "                                           \"DepDelay\", \"AirTime\", \"Distance\"])\n",
    "airline = airline.sample(frac=.1)"
   ]
  },
  {
   "cell_type": "code",
   "execution_count": 3,
   "metadata": {},
   "outputs": [
    {
     "name": "stdout",
     "output_type": "stream",
     "text": [
      "<class 'pandas.core.frame.DataFrame'>\n",
      "Int64Index: 700973 entries, 3887887 to 1406442\n",
      "Data columns (total 7 columns):\n",
      "Month            700973 non-null int64\n",
      "UniqueCarrier    700973 non-null object\n",
      "AirTime          685612 non-null float64\n",
      "DepDelay         687522 non-null float64\n",
      "Origin           700973 non-null object\n",
      "Dest             700973 non-null object\n",
      "Distance         700973 non-null int64\n",
      "dtypes: float64(2), int64(2), object(3)\n",
      "memory usage: 42.8+ MB\n"
     ]
    }
   ],
   "source": [
    "airline.info()"
   ]
  },
  {
   "cell_type": "code",
   "execution_count": 4,
   "metadata": {},
   "outputs": [
    {
     "data": {
      "text/html": [
       "<div>\n",
       "<style>\n",
       "    .dataframe thead tr:only-child th {\n",
       "        text-align: right;\n",
       "    }\n",
       "\n",
       "    .dataframe thead th {\n",
       "        text-align: left;\n",
       "    }\n",
       "\n",
       "    .dataframe tbody tr th {\n",
       "        vertical-align: top;\n",
       "    }\n",
       "</style>\n",
       "<table border=\"1\" class=\"dataframe\">\n",
       "  <thead>\n",
       "    <tr style=\"text-align: right;\">\n",
       "      <th></th>\n",
       "      <th>Month</th>\n",
       "      <th>UniqueCarrier</th>\n",
       "      <th>AirTime</th>\n",
       "      <th>DepDelay</th>\n",
       "      <th>Origin</th>\n",
       "      <th>Dest</th>\n",
       "      <th>Distance</th>\n",
       "    </tr>\n",
       "  </thead>\n",
       "  <tbody>\n",
       "    <tr>\n",
       "      <th>3887887</th>\n",
       "      <td>7</td>\n",
       "      <td>US</td>\n",
       "      <td>122.0</td>\n",
       "      <td>39.0</td>\n",
       "      <td>PHL</td>\n",
       "      <td>TPA</td>\n",
       "      <td>920</td>\n",
       "    </tr>\n",
       "    <tr>\n",
       "      <th>4833325</th>\n",
       "      <td>8</td>\n",
       "      <td>DL</td>\n",
       "      <td>142.0</td>\n",
       "      <td>2.0</td>\n",
       "      <td>MIA</td>\n",
       "      <td>JFK</td>\n",
       "      <td>1090</td>\n",
       "    </tr>\n",
       "    <tr>\n",
       "      <th>6575255</th>\n",
       "      <td>12</td>\n",
       "      <td>XE</td>\n",
       "      <td>118.0</td>\n",
       "      <td>106.0</td>\n",
       "      <td>STL</td>\n",
       "      <td>EWR</td>\n",
       "      <td>872</td>\n",
       "    </tr>\n",
       "    <tr>\n",
       "      <th>1292460</th>\n",
       "      <td>3</td>\n",
       "      <td>XE</td>\n",
       "      <td>69.0</td>\n",
       "      <td>85.0</td>\n",
       "      <td>CMH</td>\n",
       "      <td>EWR</td>\n",
       "      <td>462</td>\n",
       "    </tr>\n",
       "    <tr>\n",
       "      <th>4420846</th>\n",
       "      <td>8</td>\n",
       "      <td>OO</td>\n",
       "      <td>55.0</td>\n",
       "      <td>5.0</td>\n",
       "      <td>MKE</td>\n",
       "      <td>CLE</td>\n",
       "      <td>328</td>\n",
       "    </tr>\n",
       "  </tbody>\n",
       "</table>\n",
       "</div>"
      ],
      "text/plain": [
       "         Month UniqueCarrier  AirTime  DepDelay Origin Dest  Distance\n",
       "3887887      7            US    122.0      39.0    PHL  TPA       920\n",
       "4833325      8            DL    142.0       2.0    MIA  JFK      1090\n",
       "6575255     12            XE    118.0     106.0    STL  EWR       872\n",
       "1292460      3            XE     69.0      85.0    CMH  EWR       462\n",
       "4420846      8            OO     55.0       5.0    MKE  CLE       328"
      ]
     },
     "execution_count": 4,
     "metadata": {},
     "output_type": "execute_result"
    }
   ],
   "source": [
    "airline.head()"
   ]
  },
  {
   "cell_type": "code",
   "execution_count": 5,
   "metadata": {},
   "outputs": [],
   "source": [
    "airline['UniqueCarrier'] = airline['UniqueCarrier'].astype('category')\n",
    "airline['Origin'] = airline['Origin'].astype('category')\n",
    "airline['Dest'] = airline['Dest'].astype('category')"
   ]
  },
  {
   "cell_type": "code",
   "execution_count": 6,
   "metadata": {},
   "outputs": [
    {
     "name": "stdout",
     "output_type": "stream",
     "text": [
      "<class 'pandas.core.frame.DataFrame'>\n",
      "Int64Index: 700973 entries, 3887887 to 1406442\n",
      "Data columns (total 7 columns):\n",
      "Month            700973 non-null int64\n",
      "UniqueCarrier    700973 non-null category\n",
      "AirTime          685612 non-null float64\n",
      "DepDelay         687522 non-null float64\n",
      "Origin           700973 non-null category\n",
      "Dest             700973 non-null category\n",
      "Distance         700973 non-null int64\n",
      "dtypes: category(3), float64(2), int64(2)\n",
      "memory usage: 30.1 MB\n"
     ]
    }
   ],
   "source": [
    "airline.info()"
   ]
  },
  {
   "cell_type": "code",
   "execution_count": 7,
   "metadata": {},
   "outputs": [],
   "source": [
    "airline['Late'] = airline['DepDelay'] > 30"
   ]
  },
  {
   "cell_type": "code",
   "execution_count": 8,
   "metadata": {
    "collapsed": true
   },
   "outputs": [],
   "source": [
    "airline = airline.drop(['DepDelay'], axis=1)"
   ]
  },
  {
   "cell_type": "code",
   "execution_count": 9,
   "metadata": {
    "collapsed": true
   },
   "outputs": [],
   "source": [
    "carriers = pd.get_dummies(airline['UniqueCarrier'], prefix='Carrier_')\n",
    "origins = pd.get_dummies(airline['Origin'], prefix='Origin_')\n",
    "dests = pd.get_dummies(airline['Dest'], prefix='Dest_')"
   ]
  },
  {
   "cell_type": "code",
   "execution_count": 10,
   "metadata": {},
   "outputs": [],
   "source": [
    "airline = airline.drop(['UniqueCarrier', 'Origin', 'Dest'], axis=1)"
   ]
  },
  {
   "cell_type": "code",
   "execution_count": 11,
   "metadata": {},
   "outputs": [],
   "source": [
    "airline = pd.concat([carriers, origins, dests, airline], axis=1)"
   ]
  },
  {
   "cell_type": "code",
   "execution_count": 12,
   "metadata": {
    "collapsed": true
   },
   "outputs": [],
   "source": [
    "airtime_mean = airline['AirTime'].mean()\n",
    "airline['AirTime'] = airline['AirTime'].fillna(airtime_mean)"
   ]
  },
  {
   "cell_type": "code",
   "execution_count": 13,
   "metadata": {
    "collapsed": true
   },
   "outputs": [],
   "source": [
    "train, test = train_test_split(airline, test_size=0.25, random_state=42)"
   ]
  },
  {
   "cell_type": "code",
   "execution_count": 14,
   "metadata": {
    "collapsed": true
   },
   "outputs": [],
   "source": [
    "feat_cols = airline.drop(['Late'], axis=1).columns"
   ]
  },
  {
   "cell_type": "code",
   "execution_count": 17,
   "metadata": {},
   "outputs": [
    {
     "name": "stdout",
     "output_type": "stream",
     "text": [
      "      Iter       Train Loss   Remaining Time \n",
      "         1           0.7218            1.86m\n",
      "         2           0.7208            1.83m\n",
      "         3           0.7197            1.83m\n",
      "         4           0.7186            1.77m\n",
      "         5           0.7179            1.77m\n",
      "         6           0.7172            1.75m\n",
      "         7           0.7165            1.74m\n",
      "         8           0.7160            1.71m\n",
      "         9           0.7155            1.69m\n",
      "        10           0.7141            1.68m\n",
      "        20           0.7101            1.49m\n",
      "        30           0.7066            1.36m\n",
      "        40           0.7042            1.16m\n",
      "        50           0.7026           57.55s\n",
      "        60           0.7010           46.23s\n",
      "        70           0.6999           34.60s\n",
      "        80           0.6986           23.23s\n",
      "        90           0.6979           11.56s\n",
      "       100           0.6967            0.00s\n"
     ]
    },
    {
     "data": {
      "text/plain": [
       "GradientBoostingClassifier(criterion='friedman_mse', init=None,\n",
       "              learning_rate=0.1, loss='deviance', max_depth=3,\n",
       "              max_features=100, max_leaf_nodes=None,\n",
       "              min_impurity_decrease=0.0, min_impurity_split=None,\n",
       "              min_samples_leaf=1, min_samples_split=2,\n",
       "              min_weight_fraction_leaf=0.0, n_estimators=100,\n",
       "              presort='auto', random_state=None, subsample=1.0,\n",
       "              verbose=True, warm_start=False)"
      ]
     },
     "execution_count": 17,
     "metadata": {},
     "output_type": "execute_result"
    }
   ],
   "source": [
    "gbc = GradientBoostingClassifier(max_features=100, verbose=True)\n",
    "Y = train['Late']\n",
    "X = train[feat_cols]\n",
    "gbc.fit(X, Y)"
   ]
  },
  {
   "cell_type": "code",
   "execution_count": 18,
   "metadata": {
    "collapsed": true
   },
   "outputs": [],
   "source": [
    "Y_test = test['Late']\n",
    "X_test = test[feat_cols]"
   ]
  },
  {
   "cell_type": "code",
   "execution_count": 19,
   "metadata": {},
   "outputs": [
    {
     "data": {
      "text/plain": [
       "0.88217000296729131"
      ]
     },
     "execution_count": 19,
     "metadata": {},
     "output_type": "execute_result"
    }
   ],
   "source": [
    "gbc.score(X_test, Y_test)"
   ]
  }
 ],
 "metadata": {
  "kernelspec": {
   "display_name": "Python [default]",
   "language": "python",
   "name": "python3"
  },
  "language_info": {
   "codemirror_mode": {
    "name": "ipython",
    "version": 3
   },
   "file_extension": ".py",
   "mimetype": "text/x-python",
   "name": "python",
   "nbconvert_exporter": "python",
   "pygments_lexer": "ipython3",
   "version": "3.6.2"
  }
 },
 "nbformat": 4,
 "nbformat_minor": 2
}
