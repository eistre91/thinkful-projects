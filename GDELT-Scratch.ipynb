{
 "cells": [
  {
   "cell_type": "code",
   "execution_count": null,
   "metadata": {
    "collapsed": true
   },
   "outputs": [],
   "source": [
    "import pandas as pd\n",
    "\n",
    "data = \"D:/GDELT.MASTERREDUCEDV2.1979-2013/GDELT.MASTERREDUCEDV2.TXT\"\n",
    "data_csv = \"D:/GDELT.MASTERREDUCEDV2.1979-2013/20161108.export.CSV\""
   ]
  },
  {
   "cell_type": "code",
   "execution_count": 1,
   "metadata": {
    "collapsed": true
   },
   "outputs": [],
   "source": [
    "def mem_usage(pandas_obj):\n",
    "    if isinstance(pandas_obj,pd.DataFrame):\n",
    "        usage_b = pandas_obj.memory_usage(deep=True).sum()\n",
    "    else: # we assume if not a df it's a series\n",
    "        usage_b = pandas_obj.memory_usage(deep=True)\n",
    "    usage_mb = usage_b / 1024 # convert bytes to megabytes\n",
    "    return \"{:03.2f} KB\".format(usage_mb)"
   ]
  },
  {
   "cell_type": "code",
   "execution_count": 2,
   "metadata": {},
   "outputs": [
    {
     "ename": "NameError",
     "evalue": "name 'pd' is not defined",
     "output_type": "error",
     "traceback": [
      "\u001b[1;31m---------------------------------------------------------------------------\u001b[0m",
      "\u001b[1;31mNameError\u001b[0m                                 Traceback (most recent call last)",
      "\u001b[1;32m<ipython-input-2-902641e806da>\u001b[0m in \u001b[0;36m<module>\u001b[1;34m()\u001b[0m\n\u001b[1;32m----> 1\u001b[1;33m \u001b[0mdf\u001b[0m \u001b[1;33m=\u001b[0m \u001b[0mpd\u001b[0m\u001b[1;33m.\u001b[0m\u001b[0mread_csv\u001b[0m\u001b[1;33m(\u001b[0m\u001b[0mdata\u001b[0m\u001b[1;33m,\u001b[0m \u001b[0msep\u001b[0m\u001b[1;33m=\u001b[0m\u001b[1;34m'\\t'\u001b[0m\u001b[1;33m,\u001b[0m \u001b[0mnrows\u001b[0m\u001b[1;33m=\u001b[0m\u001b[1;36m100\u001b[0m\u001b[1;33m)\u001b[0m\u001b[1;33m\u001b[0m\u001b[0m\n\u001b[0m",
      "\u001b[1;31mNameError\u001b[0m: name 'pd' is not defined"
     ]
    }
   ],
   "source": [
    "df = pd.read_csv(data, sep='\\t', nrows=100)"
   ]
  },
  {
   "cell_type": "code",
   "execution_count": null,
   "metadata": {
    "collapsed": true
   },
   "outputs": [],
   "source": [
    "df.head()"
   ]
  },
  {
   "cell_type": "code",
   "execution_count": null,
   "metadata": {
    "collapsed": true,
    "scrolled": true
   },
   "outputs": [],
   "source": [
    "df.columns"
   ]
  },
  {
   "cell_type": "code",
   "execution_count": null,
   "metadata": {
    "collapsed": true
   },
   "outputs": [],
   "source": [
    "with open(data, 'r') as f:\n",
    "    read_line = f.readline()\n",
    "    print(read_line)\n",
    "    read_line2 = f.readline()\n",
    "    print(read_line2)\n",
    "    read_line3 = f.readline()\n",
    "    print(read_line3)"
   ]
  },
  {
   "cell_type": "code",
   "execution_count": null,
   "metadata": {
    "collapsed": true
   },
   "outputs": [],
   "source": [
    "columns = [\"GLOBALEVENTID\",\"SQLDATE\",\"MonthYear\",\"Year\",\"FractionDate\",\"Actor1Code\",\"Actor1Name\",\"Actor1CountryCode\",\"Actor1KnownGroupCode\",\"Actor1EthnicCode\",\"Actor1Religion1Code\",\"Actor1Religion2Code\",\"Actor1Type1Code\",\"Actor1Type2Code\",\"Actor1Type3Code\",\"Actor2Code\",\"Actor2Name\",\"Actor2CountryCode\",\"Actor2KnownGroupCode\",\"Actor2EthnicCode\",\"Actor2Religion1Code\",\"Actor2Religion2Code\",\"Actor2Type1Code\",\"Actor2Type2Code\",\"Actor2Type3Code\",\"IsRootEvent\",\"EventCode\",\"EventBaseCode\",\"EventRootCode\",\"QuadClass\",\"GoldsteinScale\",\"NumMentions\",\"NumSources\",\"NumArticles\",\"AvgTone\",\"Actor1Geo_Type\",\"Actor1Geo_FullName\",\"Actor1Geo_CountryCode\",\"Actor1Geo_ADM1Code\",\"Actor1Geo_Lat\",\"Actor1Geo_Long\",\"Actor1Geo_FeatureID\",\"Actor2Geo_Type\",\"Actor2Geo_FullName\",\"Actor2Geo_CountryCode\",\"Actor2Geo_ADM1Code\",\"Actor2Geo_Lat\",\"Actor2Geo_Long\",\"Actor2Geo_FeatureID\",\"ActionGeo_Type\",\"ActionGeo_FullName\",\"ActionGeo_CountryCode\",\"ActionGeo_ADM1Code\",\"ActionGeo_Lat\",\"ActionGeo_Long\",\"ActionGeo_FeatureID\",\"DATEADDED\",\"SOURCEURL\"]\n",
    "\n",
    "df_small = pd.read_csv(data_csv, sep='\\t', names=columns, low_memory=False)"
   ]
  },
  {
   "cell_type": "code",
   "execution_count": null,
   "metadata": {
    "collapsed": true
   },
   "outputs": [],
   "source": [
    "df_small.head()"
   ]
  },
  {
   "cell_type": "code",
   "execution_count": null,
   "metadata": {
    "collapsed": true
   },
   "outputs": [],
   "source": [
    "df_small.info(memory_usage='deep')"
   ]
  },
  {
   "cell_type": "code",
   "execution_count": null,
   "metadata": {
    "collapsed": true,
    "scrolled": true
   },
   "outputs": [],
   "source": [
    "df_small['IsRootEvent']"
   ]
  },
  {
   "cell_type": "code",
   "execution_count": null,
   "metadata": {
    "collapsed": true
   },
   "outputs": [],
   "source": [
    "df_int = df_small.select_dtypes(include=['int64'])\n",
    "df_float = df_small.select_dtypes(include=['float64'])"
   ]
  },
  {
   "cell_type": "code",
   "execution_count": null,
   "metadata": {
    "collapsed": true
   },
   "outputs": [],
   "source": [
    "df_int.head()"
   ]
  },
  {
   "cell_type": "code",
   "execution_count": null,
   "metadata": {
    "collapsed": true,
    "scrolled": true
   },
   "outputs": [],
   "source": [
    "converted_int = df_int.apply(pd.to_numeric,downcast='unsigned')\n",
    "\n",
    "print(mem_usage(df_int))\n",
    "print(mem_usage(converted_int))\n",
    "\n",
    "converted_int.info(memory_usage='deep')"
   ]
  },
  {
   "cell_type": "code",
   "execution_count": null,
   "metadata": {
    "collapsed": true,
    "scrolled": true
   },
   "outputs": [],
   "source": [
    "converted_float = df_float.apply(pd.to_numeric,downcast='float')\n",
    "\n",
    "print(mem_usage(df_float))\n",
    "print(mem_usage(converted_float))\n",
    "\n",
    "converted_int.info(memory_usage='deep')"
   ]
  },
  {
   "cell_type": "code",
   "execution_count": null,
   "metadata": {
    "collapsed": true
   },
   "outputs": [],
   "source": [
    "df_obj = df_small.select_dtypes(include='object')\n",
    "df_obj.head()"
   ]
  },
  {
   "cell_type": "code",
   "execution_count": null,
   "metadata": {
    "collapsed": true,
    "scrolled": true
   },
   "outputs": [],
   "source": [
    "len(df_obj['Actor1Geo_FullName'].unique())"
   ]
  },
  {
   "cell_type": "code",
   "execution_count": null,
   "metadata": {
    "collapsed": true
   },
   "outputs": [],
   "source": [
    "df_obj.info(memory_usage='deep')"
   ]
  },
  {
   "cell_type": "code",
   "execution_count": null,
   "metadata": {
    "collapsed": true
   },
   "outputs": [],
   "source": [
    "converted_obj = pd.DataFrame()\n",
    "\n",
    "for col in df_obj.columns:\n",
    "    num_unique_values = len(df_obj[col].unique())\n",
    "    num_total_values = len(df_obj[col])\n",
    "    if num_unique_values / num_total_values < 0.5:\n",
    "        converted_obj.loc[:,col] = df_obj[col].astype('category')\n",
    "    else:\n",
    "        converted_obj.loc[:,col] = df_obj[col]\n",
    "        \n",
    "print(mem_usage(df_obj))\n",
    "print(mem_usage(converted_obj))\n",
    "\n",
    "converted_obj.info(memory_usage='deep')"
   ]
  },
  {
   "cell_type": "code",
   "execution_count": null,
   "metadata": {
    "collapsed": true
   },
   "outputs": [],
   "source": [
    "dtype_dict = {'GLOBALEVENTID': 'uint32',\n",
    " #'SQLDATE': 'datetime64',\n",
    " #'MonthYear',\n",
    " #'Year',\n",
    " #'FractionDate',\n",
    " 'Actor1Code': 'category',\n",
    " 'Actor1Name': 'str',\n",
    " 'Actor1CountryCode': 'category',\n",
    " 'Actor1KnownGroupCode': 'category',\n",
    " 'Actor1EthnicCode': 'category',\n",
    " 'Actor1Religion1Code': 'category',\n",
    " 'Actor1Religion2Code': 'category',\n",
    " 'Actor1Type1Code': 'category',\n",
    " 'Actor1Type2Code': 'category',\n",
    " 'Actor1Type3Code': 'category',\n",
    " 'Actor2Code': 'category',\n",
    " 'Actor2Name': 'str',\n",
    " 'Actor2CountryCode': 'category',\n",
    " 'Actor2KnownGroupCode': 'category',\n",
    " 'Actor2EthnicCode': 'category',\n",
    " 'Actor2Religion1Code': 'category',\n",
    " 'Actor2Religion2Code': 'category',\n",
    " 'Actor2Type1Code': 'category',\n",
    " 'Actor2Type2Code': 'category',\n",
    " 'Actor2Type3Code': 'category',\n",
    " 'IsRootEvent': 'bool_',\n",
    " 'EventCode': 'str',\n",
    " 'EventBaseCode': 'str',\n",
    " 'EventRootCode': 'str',\n",
    " 'QuadClass': 'uint8',\n",
    " 'GoldsteinScale': 'float32',\n",
    " 'NumMentions': 'uint16',\n",
    " 'NumSources': 'uint16',\n",
    " 'NumArticles': 'uint16',\n",
    " 'AvgTone': 'float32',\n",
    " 'Actor1Geo_Type': 'uint8',\n",
    " 'Actor1Geo_FullName': 'str',\n",
    " 'Actor1Geo_CountryCode': 'category',\n",
    " 'Actor1Geo_ADM1Code': 'category',\n",
    " 'Actor1Geo_Lat': 'float32',\n",
    " 'Actor1Geo_Long': 'float32',\n",
    " 'Actor1Geo_FeatureID': 'category', # not sure\n",
    " 'Actor2Geo_Type': 'uint8',\n",
    " 'Actor2Geo_FullName': 'str',\n",
    " 'Actor2Geo_CountryCode': 'category',\n",
    " 'Actor2Geo_ADM1Code': 'category',\n",
    " 'Actor2Geo_Lat': 'float32',\n",
    " 'Actor2Geo_Long': 'float32',\n",
    " 'Actor2Geo_FeatureID': 'category',\n",
    " 'ActionGeo_Type': 'uint8',\n",
    " 'ActionGeo_FullName': 'str',\n",
    " 'ActionGeo_CountryCode': 'category',\n",
    " 'ActionGeo_ADM1Code': 'category',\n",
    " 'ActionGeo_Lat': 'float32',\n",
    " 'ActionGeo_Long': 'float32',\n",
    " 'ActionGeo_FeatureID': 'category',\n",
    " #'DATEADDED',\n",
    " #'SOURCEURL'\n",
    "}"
   ]
  },
  {
   "cell_type": "code",
   "execution_count": null,
   "metadata": {
    "collapsed": true
   },
   "outputs": [],
   "source": [
    "dtype_dict.keys()"
   ]
  },
  {
   "cell_type": "code",
   "execution_count": null,
   "metadata": {
    "collapsed": true
   },
   "outputs": [],
   "source": [
    "usecols = ['GLOBALEVENTID', 'SQLDATE', 'Actor1Code', 'Actor1Name', 'Actor1CountryCode', 'Actor1KnownGroupCode', 'Actor1EthnicCode', 'Actor1Religion1Code', 'Actor1Religion2Code', 'Actor1Type1Code', 'Actor1Type2Code', 'Actor1Type3Code', 'Actor2Code', 'Actor2Name', 'Actor2CountryCode', 'Actor2KnownGroupCode', 'Actor2EthnicCode', 'Actor2Religion1Code', 'Actor2Religion2Code', 'Actor2Type1Code', 'Actor2Type2Code', 'Actor2Type3Code', 'IsRootEvent', 'EventCode', 'EventBaseCode', 'EventRootCode', 'QuadClass', 'GoldsteinScale', 'NumMentions', 'NumSources', 'NumArticles', 'AvgTone', 'Actor1Geo_Type', 'Actor1Geo_FullName', 'Actor1Geo_CountryCode', 'Actor1Geo_ADM1Code', 'Actor1Geo_Lat', 'Actor1Geo_Long', 'Actor1Geo_FeatureID', 'Actor2Geo_Type', 'Actor2Geo_FullName', 'Actor2Geo_CountryCode', 'Actor2Geo_ADM1Code', 'Actor2Geo_Lat', 'Actor2Geo_Long', 'Actor2Geo_FeatureID', 'ActionGeo_Type', 'ActionGeo_FullName', 'ActionGeo_CountryCode', 'ActionGeo_ADM1Code', 'ActionGeo_Lat', 'ActionGeo_Long', 'ActionGeo_FeatureID']\n",
    "\n",
    "df_small = pd.read_csv(data_csv, sep='\\t', names=columns, \\\n",
    "                      usecols=usecols, dtype=dtype_dict, parse_dates=['SQLDATE'])"
   ]
  },
  {
   "cell_type": "code",
   "execution_count": null,
   "metadata": {
    "collapsed": true
   },
   "outputs": [],
   "source": [
    "df_small.info(memory_usage='deep')"
   ]
  },
  {
   "cell_type": "code",
   "execution_count": null,
   "metadata": {
    "collapsed": true
   },
   "outputs": [],
   "source": [
    "df_us = df_small[df_small['ActionGeo_CountryCode'] == 'US']"
   ]
  },
  {
   "cell_type": "code",
   "execution_count": null,
   "metadata": {
    "collapsed": true
   },
   "outputs": [],
   "source": [
    "df_us.info(memory_usage='deep')"
   ]
  },
  {
   "cell_type": "code",
   "execution_count": null,
   "metadata": {
    "collapsed": true
   },
   "outputs": [],
   "source": [
    "df_small['SQLDATE'].unique()"
   ]
  },
  {
   "cell_type": "markdown",
   "metadata": {},
   "source": [
    "### EventID and Date Attributes\n",
    "\n",
    "    GlobalEventID (integer) \n",
    "    \n",
    "    Day (integer) YYYYMMDD\n",
    "    \n",
    "    MonthYear (integer) YYYYMM\n",
    "    \n",
    "    Year (integer) YYYY\n",
    "    \n",
    "    FractionDate (numeric) YYYY.FFFF (FFFF is the percentage of the year completed by the day, (MONTH * 30 + DAY) / 365)"
   ]
  },
  {
   "cell_type": "markdown",
   "metadata": {},
   "source": [
    "### Actor Attributes\n",
    "    \n",
    "Attributes and characteristics of the two actors involved in the event. Raw CAMEO code for each actor, its proper name, and associated attributes. Array of coded attributes indicating grographic, ethnic, and religious affiliation and the actor's role in the environment (political elite, military officer, rebel, etc).\n",
    "\n",
    "    Actor1Code (character of factor) complete raw CAMEO code for Actor1 (includes geographic, class, ethnic, religious, and type classes). May be blank if system was unable to identify an Actor1.\n",
    "    \n",
    "    Actor1Name (character) The actual name of the Actor 1. \n",
    "    \n",
    "    Actor1CountryCode (character or factor) 3-character CAMEO code for the country of affiliation of Actor1.\n",
    "    \n",
    "    Actor1KnownGroupCode (character or factor) If Actor1 is a known organization with its own code.\n",
    "    \n",
    "    Actor1EthnicCode (character or factor) If source document specifies the ethnic affiliation of Actor1 and that ethnic group has a CAMEO entry, the CAMEO code is entered here.\n",
    "    \n",
    "    Actor1Religion1Code (character or factor) Religous affiliation, and CAMEO entry, the CAMEO code is entered here.\n",
    "    \n",
    "    Actor1Religion2Code (character or factor) If multiple religious codes are specified for Actor1 this contains the secondary code. (Catholic is Christianity as Code1 and Catholicism as Code2)\n",
    "    \n",
    "    Actor1Type1Code (character or factor) 3-character CAMEO code of the CAMEO \"type\" or \"role\" of Actor1, if specified. Police Forces, Government, or broad role like Education, Elites, or organizational class like Non-Governmental Movement. Moderate or radical may refer to the operational strategy of a group.\n",
    "    \n",
    "    Actor1Type2Code (character or factor) extra type code\n",
    "    \n",
    "    Actor1Type3Code (character or factor) extra type code\n",
    "    \n",
    "All fields repeated for Actor2."
   ]
  },
  {
   "cell_type": "markdown",
   "metadata": {},
   "source": [
    "### Event Action Attributes\n",
    "\n",
    "What Actor1 did to Actor2 and mechanisms for assessing the \"importance\" or immediate-term \"impact\" of an event. \n",
    "\n",
    "    IsRootEvent (logical or binary or byte) Flag can be used as a proxy for the rough importance of an event to create subsets of the event stream.\n",
    "    \n",
    "    EventCode (character or factor) raw CAMEO action code describing the action that Actor1 performed upon Actor2\n",
    "    \n",
    "    EventBaseCode (character or factor) CAMEO event codes are defined in a three-level taxonomy. 0251 \"Appeal for easing of administrative sanctions\" has an EventBaseCode of \"025\"\n",
    "    \n",
    "    EventRootCode (character or factor) Root-level category the event code falls under. \"0251\" has a root code of \"02\".\n",
    "    \n",
    "    QuadClass (integer) CAMEO event taxonomy is ultimately organized under four primary classifications: Verbal Cooperation, Material Cooperation, Verbal Conflict, and Material Conflict. This is the primary classification for the event type. 1, 2, 3, 4, are each value as listed before.\n",
    "    \n",
    "    GoldsteinScale (numeric) Each CAMEO event code has a numeric score from -10 to +10, capturing theoretical potential impact this event has on the stability of a country. Based on type of event and not on the specifics of the actual event record being recorded. \n",
    "    \n",
    "    NumMentions (integer) Number of mentions of this event across all source documents. The more discussion of an event, the more likely it is to be significant. Should be normalized by the average or other measure of the universe of events during the time period of interest. \n",
    "    \n",
    "    NumSources (integer) Number of information sources containing one or more mentions of this event. \n",
    "    \n",
    "    NumArticles (integer) Number of source documents containing one or more mentions of this event.\n",
    "    \n",
    "    AvgTone (numeric) Average \"tone\" of all documents containing one or more mentions of this event. -100 (extremely negative) to +100 (extremely positive). Common values between -10 and +10, 0 indicating neutral. Can be used as a method of filtering the \"context\" of events as a subtle measure of the importance of an event and as a proxy for the \"impact\" of the event. "
   ]
  },
  {
   "cell_type": "markdown",
   "metadata": {},
   "source": [
    "### Event Geography\n",
    "\n",
    "Two possible filtering methods for events in or relating to a specific country. Actor_CountryCode but we may not have codes for the actors. The other option is Geo_CountryCode and ActorGeo_CountryCode.\n",
    "\n",
    "    Actor1Geo_Type (integer) Geographic resolution of the match type: 1 = Country, 2 = USSTATE, 3 = USCITY, 4 = WORLDCITY, 5 = WORLDSTATE. 1, 2, and 5 will provide latitude/longitude pair as centroid of country or state, but FeatureID will be blank.\n",
    "    \n",
    "    Actor1Geo_Fullname (character) human-readable name of the location. The name used in the text itself so it may contain multiple spellings of the same location. FeatureID to determine if two names refer to the same place.\n",
    "    \n",
    "    Actor1Geo_CountryCode (character) 2-character FIPS10-4 country code.\n",
    "    \n",
    "    Actor1Geo_ADM1Code (character) 2-character FIPS10-4 country code followed by 2-character FIPS10-4 administrative division 1 (ADM1) code for the administrative division housing the landmark. In US, this is the 2-charcter shortform of the state's name.\n",
    "    \n",
    "    Actor1Geo_Lat (numeric) centroid latitude\n",
    "    \n",
    "    Actor1Geo_Long (numeric) centroid longitude\n",
    "    \n",
    "    Actor1Geo_FeatureID (signed integer) GNS or GNIS FeatureID for this location. http://www.dlib.org/dlib/september12/leetaru/09leetaru.htm \n",
    "    \n",
    "These codes are repeated for Actor2 and Action prefixes."
   ]
  },
  {
   "cell_type": "markdown",
   "metadata": {},
   "source": [
    "### Data Management Fields\n",
    "\n",
    "    DATEADDED (integer) date the event was added to the database\n",
    "    \n",
    "    SOURCEURL (character) Beginning from April 1, 2013. Lists URL of the news article the event was found in."
   ]
  },
  {
   "cell_type": "code",
   "execution_count": null,
   "metadata": {
    "collapsed": true
   },
   "outputs": [],
   "source": [
    "cameo_to_text = {\"01\": \"MAKE PUBLIC STATEMENT\",\n",
    "\"010\": \"Make statement, not specified below\",\n",
    "\"011\": \"Decline comment\",\n",
    "\"012\": \"Make pessimistic comment\",\n",
    "\"013\": \"Make optimistic comment\",\n",
    "\"014\": \"Consider policy option\",\n",
    "\"015\": \"Acknowledge or claim responsibility\",\n",
    "\"016\": \"Deny responsibility\",\n",
    "\"017\": \"Engage in symbolic act\",\n",
    "\"018\": \"Make empathetic comment\",\n",
    "\"019\": \"Express accord\",\n",
    "\"02\": \"APPEAL\",\n",
    "\"020\": \"Make an appeal or request, not specified below\",\n",
    "\"021\": \"Appeal for material cooperation, not specified below\",\n",
    "\"0211\": \"Appeal for economic cooperation\",\n",
    "\"0212\": \"Appeal for military cooperation\",\n",
    "\"0213\": \"Appeal for judicial cooperation\",\n",
    "\"0214\": \"Appeal for intelligence\",\n",
    "\"022\": \"Appeal for diplomatic cooperation (such as policy support)\",\n",
    "\"023\": \"Appeal for aid, not specified below\",\n",
    "\"0231\": \"Appeal for economic aid\",\n",
    "\"0232\": \"Appeal for military aid\",\n",
    "\"0233\": \"Appeal for humanitarian aid\",\n",
    "\"0234\": \"Appeal for military protection or peacekeeping\",\n",
    "\"024\": \"Appeal for political reform, not specified below\",\n",
    "\"0241\": \"Appeal for change in leadership\",\n",
    "\"0242\": \"Appeal for policy change\",\n",
    "\"0243\": \"Appeal for rights\",\n",
    "\"0244\": \"Appeal for change in institutions, regime\",\n",
    "\"025\": \"Appeal to yield, not specified below\",\n",
    "\"0251\": \"Appeal for easing of administrative sanctions\",\n",
    "\"0252\": \"Appeal for easing of political dissent\",\n",
    "\"0253\": \"Appeal for release of persons or property\",\n",
    "\"0254\": \"Appeal for easing of economic sanctions, boycott, or embargo\",\n",
    "\"0255\": \"Appeal for target to allow international involvement (non-mediation)\",\n",
    "\"0256\": \"Appeal for de-escalation of military engagement\",\n",
    "\"026\": \"Appeal to others to meet or negotiate\",\n",
    "\"027\": \"Appeal to others to settle dispute\",\n",
    "\"028\": \"Appeal to engage in or accept mediation\",\n",
    "\"03\": \"EXPRESS INTENT TO COOPERATE\",\n",
    "\"030\": \"Express intent to cooperate, not specified below\",\n",
    "\"031\": \"Express intent to engage in material cooperation, not specified below\",\n",
    "\"0311\": \"Express intent to cooperate economically\",\n",
    "\"0312\": \"Express intent to cooperate militarily\",\n",
    "\"0313\": \"Express intent to cooperate on judicial matters\",\n",
    "\"0314\": \"Express intent to cooperate on intelligence\",\n",
    "\"032\": \"Express intent to engage in diplomatic cooperation (such as policy support)\",\n",
    "\"033\": \"Express intent to provide material aid, not specified below\",\n",
    "\"0331\": \"Express intent to provide economic aid\",\n",
    "\"0332\": \"Express intent to provide military aid\",\n",
    "\"0333\": \"Express intent to provide humanitarian aid\",\n",
    "\"0334\": \"Express intent to provide military protection or peacekeeping\",\n",
    "\"034\": \"Express intent to institute political reform, not specified below\",\n",
    "\"0341\": \"Express intent to change leadership\",\n",
    "\"0342\": \"Express intent to change policy\",\n",
    "\"0343\": \"Express intent to provide rights\",\n",
    "\"0344\": \"Express intent to change institutions, regime\",\n",
    "\"035\": \"Express intent to yield, not specified below\",\n",
    "\"0351\": \"Express intent to ease administrative sanctions\",\n",
    "\"0352\": \"Express intent to ease popular dissent\",\n",
    "\"0353\": \"Express intent to release persons or property\",\n",
    "\"0354\": \"Express intent to ease economic sanctions, boycott, or embargo\",\n",
    "\"0355\": \"Express intent to allow international involvement (non-mediation)\",\n",
    "\"0356\": \"Express intent to de-escalate military engagement\",\n",
    "\"036\": \"Express intent to meet or negotiate\",\n",
    "\"037\": \"Express intent to settle dispute\",\n",
    "\"038\": \"Express intent to accept mediation\",\n",
    "\"039\": \"Express intent to mediate\",\n",
    "\"04\": \"CONSULT\",\n",
    "\"040\": \"Consult, not specified below\",\n",
    "\"041\": \"Discuss by telephone\",\n",
    "\"042\": \"Make a visit\",\n",
    "\"043\": \"Host a visit\",\n",
    "\"044\": \"Meet at a 'third' location\",\n",
    "\"045\": \"Mediate\",\n",
    "\"046\": \"Engage in negotiation\",\n",
    "\"05\": \"ENGAGE IN DIPLOMATIC COOPERATION\",\n",
    "\"050\": \"Engage in diplomatic cooperation, not specified below\",\n",
    "\"051\": \"Praise or endorse\",\n",
    "\"052\": \"Defend verbally\",\n",
    "\"053\": \"Rally support on behalf of\",\n",
    "\"054\": \"Grant diplomatic recognition\",\n",
    "\"055\": \"Apologize\",\n",
    "\"056\": \"Forgive\",\n",
    "\"057\": \"Sign formal agreement\",\n",
    "\"06\": \"ENGAGE IN MATERIAL COOPERATION\",\n",
    "\"060\": \"Engage in material cooperation, not specified below\",\n",
    "\"061\": \"Cooperate economically\",\n",
    "\"062\": \"Cooperate militarily\",\n",
    "\"063\": \"Engage in judicial cooperation\",\n",
    "\"064\": \"Share intelligence or information\",\n",
    "\"07\": \"PROVIDE AID\",\n",
    "\"070\": \"Provide aid, not specified below\",\n",
    "\"071\": \"Provide economic aid\",\n",
    "\"072\": \"Provide military aid\",\n",
    "\"073\": \"Provide humanitarian aid\",\n",
    "\"074\": \"Provide military protection or peacekeeping\",\n",
    "\"075\": \"Grant asylum\",\n",
    "\"08\": \"YIELD\",\n",
    "\"080\": \"Yield, not specified below\",\n",
    "\"081\": \"Ease administrative sanctions, not specified below\",\n",
    "\"0811\": \"Ease restrictions on political freedoms\",\n",
    "\"0812\": \"Ease ban on political parties or politicians\",\n",
    "\"0813\": \"Ease curfew\",\n",
    "\"0814\": \"Ease state of emergency or martial law\",\n",
    "\"082\": \"Ease political dissent\",\n",
    "\"083\": \"Accede to requests or demands for political reform, not specified below\",\n",
    "\"0831\": \"Accede to demands for change in leadership\",\n",
    "\"0832\": \"Accede to demands for change in policy\",\n",
    "\"0833\": \"Accede to demands for rights\",\n",
    "\"0834\": \"Accede to demands for change in institutions, regime\",\n",
    "\"084\": \"Return, release, not specified below\",\n",
    "\"0841\": \"Return, release person(s)\",\n",
    "\"0842\": \"Return, release property\",\n",
    "\"085\": \"Ease economic sanctions, boycott, embargo\",\n",
    "\"086\": \"Allow international involvement, not specified below\",\n",
    "\"0861\": \"Receive deployment of peacekeepers\",\n",
    "\"0862\": \"Receive inspectors\",\n",
    "\"0863\": \"Allow humanitarian access\",\n",
    "\"087\": \"De-escalate military engagement\",\n",
    "\"0871\": \"Declare truce, ceasefire\",\n",
    "\"0872\": \"Ease military blockade\",\n",
    "\"0873\": \"Demobilize armed forces\",\n",
    "\"0874\": \"Retreat or surrender militarily\",\n",
    "\"09\": \"INVESTIGATE\",\n",
    "\"090\": \"Investigate, not specified below\",\n",
    "\"091\": \"Investigate crime, corruption\",\n",
    "\"092\": \"Investigate human rights abuses\",\n",
    "\"093\": \"Investigate military action\",\n",
    "\"094\": \"Investigate war crimes\",\n",
    "\"10\": \"DEMAND\",\n",
    "\"100\": \"Demand, not specified below\",\n",
    "\"101\": \"Demand material cooperation, not specified below\",\n",
    "\"1011\": \"Demand economic cooperation\",\n",
    "\"1012\": \"Demand military cooperation\",\n",
    "\"1013\": \"Demand judicial cooperation\",\n",
    "\"1014\": \"Demand intelligence cooperation\",\n",
    "\"102\": \"Demand diplomatic cooperation (such as policy support)\",\n",
    "\"103\": \"Demand material aid, not specified below\",\n",
    "\"1031\": \"Demand economic aid\",\n",
    "\"1032\": \"Demand military aid\",\n",
    "\"1033\": \"Demand humanitarian aid\",\n",
    "\"1034\": \"Demand military protection or peacekeeping\",\n",
    "\"104\": \"Demand political reform, not specified below\",\n",
    "\"1041\": \"Demand change in leadership\",\n",
    "\"1042\": \"Demand policy change\",\n",
    "\"1043\": \"Demand rights\",\n",
    "\"1044\": \"Demand change in institutions, regime\",\n",
    "\"105\": \"Demand that target yields, not specified below\",\n",
    "\"1051\": \"Demand easing of administrative sanctions\",\n",
    "\"1052\": \"Demand easing of political dissent\",\n",
    "\"1053\": \"Demand release of persons or property\",\n",
    "\"1054\": \"Demand easing of economic sanctions, boycott, or embargo\",\n",
    "\"1055\": \"Demand that target allows international involvement (non-mediation)\",\n",
    "\"1056\": \"Demand de-escalation of military engagement\",\n",
    "\"106\": \"Demand meeting, negotiation\",\n",
    "\"107\": \"Demand settling of dispute\",\n",
    "\"108\": \"Demand mediation\",\n",
    "\"11\": \"DISAPPROVE\",\n",
    "\"110\": \"Disapprove, not specified below\",\n",
    "\"111\": \"Criticize or denounce\",\n",
    "\"112\": \"Accuse, not specified below\",\n",
    "\"1121\": \"Accuse of crime, corruption\",\n",
    "\"1122\": \"Accuse of human rights abuses\",\n",
    "\"1123\": \"Accuse of aggression\",\n",
    "\"1124\": \"Accuse of war crimes\",\n",
    "\"1125\": \"Accuse of espionage, treason\",\n",
    "\"113\": \"Rally opposition against\",\n",
    "\"114\": \"Complain o\u000ecially\",\n",
    "\"115\": \"Bring lawsuit against\",\n",
    "\"116\": \"Find guilty or liable (legally)\",\n",
    "\"12\": \"REJECT\",\n",
    "\"120\": \"Reject, not specified below\",\n",
    "\"121\": \"Reject material cooperation\",\n",
    "\"1211\": \"Reject economic cooperation\",\n",
    "\"1212\": \"Reject military cooperation\",\n",
    "\"122\": \"Reject request or demand for material aid, not specified below\",\n",
    "\"1221\": \"Reject request for economic aid\",\n",
    "\"1222\": \"Reject request for military aid\",\n",
    "\"1223\": \"Reject request for humanitarian aid\",\n",
    "\"1224\": \"Reject request for military protection or peacekeeping\",\n",
    "\"123\": \"Reject request or demand for political reform, not specified below\",\n",
    "\"1231\": \"Reject request for change in leadership\",\n",
    "\"1232\": \"Reject request for policy change\",\n",
    "\"1233\": \"Reject request for rights\",\n",
    "\"1234\": \"Reject request for change in institutions, regime\",\n",
    "\"124\": \"Refuse to yield, not specified below\",\n",
    "\"1241\": \"Refuse to ease administrative sanctions\",\n",
    "\"1242\": \"Refuse to ease popular dissent\",\n",
    "\"1243\": \"Refuse to release persons or property\",\n",
    "\"1244\": \"Refuse to ease economic sanctions, boycott, or embargo\",\n",
    "\"1245\": \"Refuse to allow international involvement (non mediation)\",\n",
    "\"1246\": \"Refuse to de-escalate military engagement\",\n",
    "\"125\": \"Reject proposal to meet, discuss, or negotiate\",\n",
    "\"126\": \"Reject mediation\",\n",
    "\"127\": \"Reject plan, agreement to settle dispute\",\n",
    "\"128\": \"Defy norms, law\",\n",
    "\"129\": \"Veto\",\n",
    "\"13\": \"THREATEN\",\n",
    "\"130\": \"Threaten, not specified below\",\n",
    "\"131\": \"Threaten non-force, not specified below\",\n",
    "\"1311\": \"Threaten to reduce or stop aid\",\n",
    "\"1312\": \"Threaten with sanctions, boycott, embargo\",\n",
    "\"1313\": \"Threaten to reduce or break relations\",\n",
    "\"132\": \"Threaten with administrative sanctions, not specified below\",\n",
    "\"1321\": \"Threaten with restrictions on political freedoms\",\n",
    "\"1322\": \"Threaten to ban political parties or politicians\",\n",
    "\"1323\": \"Threaten to impose curfew\",\n",
    "\"1324\": \"Threaten to impose state of emergency or martial law\",\n",
    "\"133\": \"Threaten with political dissent, protest\",\n",
    "\"134\": \"Threaten to halt negotiations\",\n",
    "\"135\": \"Threaten to halt mediation\",\n",
    "\"136\": \"Threaten to halt international involvement (non-mediation)\",\n",
    "\"137\": \"Threaten with repression\",\n",
    "\"138\": \"Threaten with military force, not specified below\",\n",
    "\"1381\": \"Threaten blockade\",\n",
    "\"1382\": \"Threaten occupation\",\n",
    "\"1383\": \"Threaten unconventional violence\",\n",
    "\"1384\": \"Threaten conventional attack\",\n",
    "\"1385\": \"Threaten attack with WMD\",\n",
    "\"139\": \"Give ultimatum\",\n",
    "\"14\": \"PROTEST\",\n",
    "\"140\": \"Engage in political dissent, not specified below\",\n",
    "\"141\": \"Demonstrate or rally, not specified below\",\n",
    "\"1411\": \"Demonstrate for leadership change\",\n",
    "\"1412\": \"Demonstrate for policy change\",\n",
    "\"1413\": \"Demonstrate for rights\",\n",
    "\"1414\": \"Demonstrate for change in institutions, regime\",\n",
    "\"142\": \"Conduct hunger strike, not specified below\",\n",
    "\"1421\": \"Conduct hunger strike for leadership change\",\n",
    "\"1422\": \"Conduct hunger strike for policy change\",\n",
    "\"1423\": \"Conduct hunger strike for rights\",\n",
    "\"1424\": \"Conduct hunger strike for change in institutions, regime\",\n",
    "\"143\": \"Conduct strike or boycott, not specified below\",\n",
    "\"1431\": \"Conduct strike or boycott for leadership change\",\n",
    "\"1432\": \"Conduct strike or boycott for policy change\",\n",
    "\"1433\": \"Conduct strike or boycott for rights\",\n",
    "\"1434\": \"Conduct strike or boycott for change in institutions, regime\",\n",
    "\"144\": \"Obstruct passage, block, not specified below\",\n",
    "\"1441\": \"Obstruct passage to demand leadership change\",\n",
    "\"1442\": \"Obstruct passage to demand policy change\",\n",
    "\"1443\": \"Obstruct passage to demand rights\",\n",
    "\"1444\": \"Obstruct passage to demand change in institutions, regime\",\n",
    "\"145\": \"Protest violently, riot, not specified below\",\n",
    "\"1451\": \"Engage in violent protest for leadership change\",\n",
    "\"1452\": \"Engage in violent protest for policy change\",\n",
    "\"1453\": \"Engage in violent protest for rights\",\n",
    "\"1454\": \"Engage in violent protest for change in institutions, regime\",\n",
    "\"15\": \"EXHIBIT FORCE POSTURE\",\n",
    "\"150\": \"Demonstrate military or police power, not specified below\",\n",
    "\"151\": \"Increase police alert status\",\n",
    "\"152\": \"Increase military alert status\",\n",
    "\"153\": \"Mobilize or increase police power\",\n",
    "\"154\": \"Mobilize or increase armed forces\",\n",
    "\"155\": \"Mobilize or increase cyber-forces\",\n",
    "\"16\": \"REDUCE RELATIONS\",\n",
    "\"160\": \"Reduce relations, not specified below\",\n",
    "\"161\": \"Reduce or break diplomatic relations\",\n",
    "\"162\": \"Reduce or stop material aid, not specified below\",\n",
    "\"1621\": \"Reduce or stop economic assistance\",\n",
    "\"1622\": \"Reduce or stop military assistance\",\n",
    "\"1623\": \"Reduce or stop humanitarian assistance\",\n",
    "\"163\": \"Impose embargo, boycott, or sanctions\",\n",
    "\"164\": \"Halt negotiations\",\n",
    "\"165\": \"Halt mediation\",\n",
    "\"166\": \"Expel or withdraw, not specified below\",\n",
    "\"1661\": \"Expel or withdraw peacekeepers\",\n",
    "\"1662\": \"Expel or withdraw inspectors, observers\",\n",
    "\"1663\": \"Expel or withdraw aid agencies\",\n",
    "\"17\": \"COERCE\",\n",
    "\"170\": \"Coerce, not specified below\",\n",
    "\"171\": \"Seize or damage property, not specified below\",\n",
    "\"1711\": \"Confiscate property\",\n",
    "\"1712\": \"Destroy property\",\n",
    "\"172\": \"Impose administrative sanctions, not specified below\",\n",
    "\"1721\": \"Impose restrictions on political freedoms\",\n",
    "\"1722\": \"Ban political parties or politicians\",\n",
    "\"1723\": \"Impose curfew\",\n",
    "\"1724\": \"Impose state of emergency or martial law\",\n",
    "\"173\": \"Arrest, detain, or charge with legal action\",\n",
    "\"174\": \"Expel or deport individuals\",\n",
    "\"175\": \"Use tactics of violent repression\",\n",
    "\"176\": \"Attack cybernetically\",\n",
    "\"18\": \"ASSAULT\",\n",
    "\"180\": \"Use unconventional violence, not specified below\",\n",
    "\"181\": \"Abduct, hijack, or take hostage\",\n",
    "\"182\": \"Physically assault, not specified below\",\n",
    "\"1821\": \"Sexually assault\",\n",
    "\"1822\": \"Torture\",\n",
    "\"1823\": \"Kill by physical assault\",\n",
    "\"183\": \"Conduct suicide, car, or other non-military bombing, not specified below\",\n",
    "\"1831\": \"Carry out suicide bombing\",\n",
    "\"1832\": \"Carry out vehicular bombing\",\n",
    "\"1833\": \"Carry out roadside bombing\",\n",
    "\"1834\": \"Carry out location bombing\",\n",
    "\"184\": \"Use as human shield\",\n",
    "\"185\": \"Attempt to assassinate\",\n",
    "\"186\": \"Assassinate\",\n",
    "\"19\": \"FIGHT\",\n",
    "\"190\": \"Use conventional military force, not specified below\",\n",
    "\"191\": \"Impose blockade, restrict movement\",\n",
    "\"192\": \"Occupy territory\",\n",
    "\"193\": \"Fight with small arms and light weapons\",\n",
    "\"194\": \"Fight with artillery and tanks\",\n",
    "\"195\": \"Employ aerial weapons, not specified below\",\n",
    "\"1951\": \"Employ precision-guided aerial munitions\",\n",
    "\"1952\": \"Employ remotely piloted aerial munitions\",\n",
    "\"196\": \"Violate ceasefire\",\n",
    "\"20\": \"USE UNCONVENTIONAL MASS VIOLENCE\",\n",
    "\"200\": \"Use unconventional mass violence, not specified below\",\n",
    "\"201\": \"Engage in mass expulsion\",\n",
    "\"202\": \"Engage in mass killings\",\n",
    "\"203\": \"Engage in ethnic cleansing\",\n",
    "\"204\": \"Use weapons of mass destruction, not specified below\",\n",
    "\"2041\": \"Use chemical, biological, or radiological weapons\",\n",
    "\"2042\": \"Detonate nuclear weapons\"}"
   ]
  },
  {
   "cell_type": "code",
   "execution_count": null,
   "metadata": {
    "collapsed": true
   },
   "outputs": [],
   "source": []
  }
 ],
 "metadata": {
  "kernelspec": {
   "display_name": "Python [default]",
   "language": "python",
   "name": "python3"
  },
  "language_info": {
   "codemirror_mode": {
    "name": "ipython",
    "version": 3
   },
   "file_extension": ".py",
   "mimetype": "text/x-python",
   "name": "python",
   "nbconvert_exporter": "python",
   "pygments_lexer": "ipython3",
   "version": "3.6.2"
  }
 },
 "nbformat": 4,
 "nbformat_minor": 2
}
