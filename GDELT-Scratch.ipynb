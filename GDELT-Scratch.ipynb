{
 "cells": [
  {
   "cell_type": "markdown",
   "metadata": {},
   "source": [
    "### EventID and Date Attributes\n",
    "\n",
    "    GlobalEventID (integer) \n",
    "    \n",
    "    Day (integer) YYYYMMDD\n",
    "    \n",
    "    MonthYear (integer) YYYYMM\n",
    "    \n",
    "    Year (integer) YYYY\n",
    "    \n",
    "    FractionDate (numeric) YYYY.FFFF (FFFF is the percentage of the year completed by the day, (MONTH * 30 + DAY) / 365)"
   ]
  },
  {
   "cell_type": "markdown",
   "metadata": {},
   "source": [
    "### Actor Attributes\n",
    "    \n",
    "Attributes and characteristics of the two actors involved in the event. Raw CAMEO code for each actor, its proper name, and associated attributes. Array of coded attributes indicating grographic, ethnic, and religious affiliation and the actor's role in the environment (political elite, military officer, rebel, etc).\n",
    "\n",
    "    Actor1Code (character of factor) complete raw CAMEO code for Actor1 (includes geographic, class, ethnic, religious, and type classes). May be blank if system was unable to identify an Actor1.\n",
    "    \n",
    "    Actor1Name (character) The actual name of the Actor 1. \n",
    "    \n",
    "    Actor1CountryCode (character or factor) 3-character CAMEO code for the country of affiliation of Actor1.\n",
    "    \n",
    "    Actor1KnownGroupCode (character or factor) If Actor1 is a known organization with its own code.\n",
    "    \n",
    "    Actor1EthnicCode (character or factor) If source document specifies the ethnic affiliation of Actor1 and that ethnic group has a CAMEO entry, the CAMEO code is entered here.\n",
    "    \n",
    "    Actor1Religion1Code (character or factor) Religous affiliation, and CAMEO entry, the CAMEO code is entered here.\n",
    "    \n",
    "    Actor1Religion2Code (character or factor) If multiple religious codes are specified for Actor1 this contains the secondary code. (Catholic is Christianity as Code1 and Catholicism as Code2)\n",
    "    \n",
    "    Actor1Type1Code (character or factor) 3-character CAMEO code of the CAMEO \"type\" or \"role\" of Actor1, if specified. Police Forces, Government, or broad role like Education, Elites, or organizational class like Non-Governmental Movement. Moderate or radical may refer to the operational strategy of a group.\n",
    "    \n",
    "    Actor1Type2Code (character or factor) extra type code\n",
    "    \n",
    "    Actor1Type3Code (character or factor) extra type code\n",
    "    \n",
    "All fields repeated for Actor2."
   ]
  },
  {
   "cell_type": "markdown",
   "metadata": {},
   "source": [
    "### Event Action Attributes\n",
    "\n",
    "What Actor1 did to Actor2 and mechanisms for assessing the \"importance\" or immediate-term \"impact\" of an event. \n",
    "\n",
    "    IsRootEvent (logical or binary or byte) Flag can be used as a proxy for the rough importance of an event to create subsets of the event stream.\n",
    "    \n",
    "    EventCode (character or factor) raw CAMEO action code describing the action that Actor1 performed upon Actor2\n",
    "    \n",
    "    EventBaseCode (character or factor) CAMEO event codes are defined in a three-level taxonomy. 0251 \"Appeal for easing of administrative sanctions\" has an EventBaseCode of \"025\"\n",
    "    \n",
    "    EventRootCode (character or factor) Root-level category the event code falls under. \"0251\" has a root code of \"02\".\n",
    "    \n",
    "    QuadClass (integer) CAMEO event taxonomy is ultimately organized under four primary classifications: Verbal Cooperation, Material Cooperation, Verbal Conflict, and Material Conflict. This is the primary classification for the event type. 1, 2, 3, 4, are each value as listed before.\n",
    "    \n",
    "    GoldsteinScale (numeric) Each CAMEO event code has a numeric score from -10 to +10, capturing theoretical potential impact this event has on the stability of a country. Based on type of event and not on the specifics of the actual event record being recorded. \n",
    "    \n",
    "    NumMentions (integer) Number of mentions of this event across all source documents. The more discussion of an event, the more likely it is to be significant. Should be normalized by the average or other measure of the universe of events during the time period of interest. \n",
    "    \n",
    "    NumSources (integer) Number of information sources containing one or more mentions of this event. \n",
    "    \n",
    "    NumArticles (integer) Number of source documents containing one or more mentions of this event.\n",
    "    \n",
    "    AvgTone (numeric) Average \"tone\" of all documents containing one or more mentions of this event. -100 (extremely negative) to +100 (extremely positive). Common values between -10 and +10, 0 indicating neutral. Can be used as a method of filtering the \"context\" of events as a subtle measure of the importance of an event and as a proxy for the \"impact\" of the event. "
   ]
  },
  {
   "cell_type": "markdown",
   "metadata": {},
   "source": [
    "### Event Geography\n",
    "\n",
    "Two possible filtering methods for events in or relating to a specific country. Actor_CountryCode but we may not have codes for the actors. The other option is Geo_CountryCode and ActorGeo_CountryCode.\n",
    "\n",
    "    Actor1Geo_Type (integer) Geographic resolution of the match type: 1 = Country, 2 = USSTATE, 3 = USCITY, 4 = WORLDCITY, 5 = WORLDSTATE. 1, 2, and 5 will provide latitude/longitude pair as centroid of country or state, but FeatureID will be blank.\n",
    "    \n",
    "    Actor1Geo_Fullname (character) human-readable name of the location. The name used in the text itself so it may contain multiple spellings of the same location. FeatureID to determine if two names refer to the same place.\n",
    "    \n",
    "    Actor1Geo_CountryCode (character) 2-character FIPS10-4 country code.\n",
    "    \n",
    "    Actor1Geo_ADM1Code (character) 2-character FIPS10-4 country code followed by 2-character FIPS10-4 administrative division 1 (ADM1) code for the administrative division housing the landmark. In US, this is the 2-charcter shortform of the state's name.\n",
    "    \n",
    "    Actor1Geo_Lat (numeric) centroid latitude\n",
    "    \n",
    "    Actor1Geo_Long (numeric) centroid longitude\n",
    "    \n",
    "    Actor1Geo_FeatureID (signed integer) GNS or GNIS FeatureID for this location. http://www.dlib.org/dlib/september12/leetaru/09leetaru.htm \n",
    "    \n",
    "These codes are repeated for Actor2 and Action prefixes."
   ]
  },
  {
   "cell_type": "markdown",
   "metadata": {},
   "source": [
    "### Data Management Fields\n",
    "\n",
    "    DATEADDED (integer) date the event was added to the database\n",
    "    \n",
    "    SOURCEURL (character) Beginning from April 1, 2013. Lists URL of the news article the event was found in."
   ]
  }
 ],
 "metadata": {
  "kernelspec": {
   "display_name": "Python 3",
   "language": "python",
   "name": "python3"
  },
  "language_info": {
   "codemirror_mode": {
    "name": "ipython",
    "version": 3
   },
   "file_extension": ".py",
   "mimetype": "text/x-python",
   "name": "python",
   "nbconvert_exporter": "python",
   "pygments_lexer": "ipython3",
   "version": "3.6.5"
  }
 },
 "nbformat": 4,
 "nbformat_minor": 2
}
