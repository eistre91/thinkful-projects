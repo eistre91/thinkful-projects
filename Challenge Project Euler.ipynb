{
 "cells": [
  {
   "cell_type": "code",
   "execution_count": 9,
   "metadata": {
    "collapsed": true
   },
   "outputs": [],
   "source": [
    "import numpy as np\n",
    "\n",
    "def multiples(n):\n",
    "    lst = []\n",
    "    for i in range(1, n):\n",
    "        if i % 3 == 0:\n",
    "          lst.append(i)\n",
    "        elif i % 5 == 0:\n",
    "          lst.append(i)\n",
    "    return np.sum(lst)"
   ]
  },
  {
   "cell_type": "code",
   "execution_count": 10,
   "metadata": {},
   "outputs": [
    {
     "data": {
      "text/plain": [
       "233168"
      ]
     },
     "execution_count": 10,
     "metadata": {},
     "output_type": "execute_result"
    }
   ],
   "source": [
    "multiples(1000)"
   ]
  },
  {
   "cell_type": "code",
   "execution_count": 90,
   "metadata": {},
   "outputs": [],
   "source": [
    "# fibo(0) = 1\n",
    "# fibo(1) = 2\n",
    "# fibo(2) = 3\n",
    "# fibo(3) = 5\n",
    "\n",
    "# tail recursion or a loop approach would be more effective for this problem\n",
    "fibo_seq = [] \n",
    "even = []\n",
    "def fibo(n):\n",
    "    if n == 0:\n",
    "        fibo_seq[n] = 1\n",
    "        return 1\n",
    "    if n == 1:\n",
    "        fibo_seq[n] = 2\n",
    "        return 2\n",
    "    term = fibo(n-1) + fibo(n-2)\n",
    "    fibo_seq[n] = term\n",
    "    if term % 2 == 0:\n",
    "        even[n] = term\n",
    "    return term    \n",
    "\n",
    "def start_fibo(n):\n",
    "    global fibo_seq, even\n",
    "    fibo_seq = [None for i in range(n+1)]\n",
    "    even = [0 for i in range(n+1)]\n",
    "    even[1] = 2\n",
    "    if n == 0:\n",
    "        fibo_seq[n] = 1\n",
    "        return 1\n",
    "    if n == 1:\n",
    "        fibo_seq[n] = 2\n",
    "        return 2\n",
    "    term = fibo(n-1) + fibo(n-2)\n",
    "    fibo_seq[n] = term\n",
    "    if term % 2 == 0:\n",
    "        even[n] = term\n",
    "    return term "
   ]
  },
  {
   "cell_type": "code",
   "execution_count": 116,
   "metadata": {
    "collapsed": true
   },
   "outputs": [],
   "source": [
    "limit = 4000000\n",
    "fib_seq = [1, 2]\n",
    "even = [2]\n",
    "def tail_fib(n, a = 1, b = 2):\n",
    "    global fib_seq, even\n",
    "    if n == 0:\n",
    "        return a\n",
    "    if n == 1:\n",
    "        return b\n",
    "    term = a + b\n",
    "    if term > limit:\n",
    "        print(\"limit reached\")\n",
    "        return np.sum(even)\n",
    "    else:\n",
    "        fib_seq.append(term)\n",
    "        if term % 2 == 0:\n",
    "            even.append(term)\n",
    "    return tail_fib(n - 1, b, term)"
   ]
  },
  {
   "cell_type": "code",
   "execution_count": 117,
   "metadata": {},
   "outputs": [
    {
     "name": "stdout",
     "output_type": "stream",
     "text": [
      "limit reached\n"
     ]
    },
    {
     "data": {
      "text/plain": [
       "4613732"
      ]
     },
     "execution_count": 117,
     "metadata": {},
     "output_type": "execute_result"
    }
   ],
   "source": [
    "tail_fib(1000)"
   ]
  },
  {
   "cell_type": "code",
   "execution_count": 63,
   "metadata": {},
   "outputs": [
    {
     "data": {
      "text/plain": [
       "[1, 2, 3, 5, 8, 13, 21, 34, 55, 89, 144]"
      ]
     },
     "execution_count": 63,
     "metadata": {},
     "output_type": "execute_result"
    }
   ],
   "source": [
    "fibo_seq"
   ]
  },
  {
   "cell_type": "code",
   "execution_count": 64,
   "metadata": {},
   "outputs": [
    {
     "data": {
      "text/plain": [
       "[0, 2, 0, 0, 8, 0, 0, 34, 0, 0, 144]"
      ]
     },
     "execution_count": 64,
     "metadata": {},
     "output_type": "execute_result"
    }
   ],
   "source": [
    "even"
   ]
  },
  {
   "cell_type": "code",
   "execution_count": 122,
   "metadata": {},
   "outputs": [
    {
     "data": {
      "text/plain": [
       "2.0"
      ]
     },
     "execution_count": 122,
     "metadata": {},
     "output_type": "execute_result"
    }
   ],
   "source": [
    "np.floor(np.sqrt(5))"
   ]
  },
  {
   "cell_type": "code",
   "execution_count": null,
   "metadata": {
    "collapsed": true
   },
   "outputs": [],
   "source": [
    "def prime_factors(n):\n",
    "    r = np.floor(np.sqrt(n))\n",
    "    for i in range(1, r):\n",
    "        "
   ]
  },
  {
   "cell_type": "code",
   "execution_count": 149,
   "metadata": {},
   "outputs": [],
   "source": [
    "prime_list = []\n",
    "def is_prime(n):\n",
    "    global prime_list\n",
    "    r = np.int_(np.floor(np.sqrt(n)))\n",
    "    for prime in prime_list:\n",
    "        if n % prime == 0:\n",
    "            return False\n",
    "    return True\n",
    "\n",
    "def primes(n):\n",
    "    global prime_list\n",
    "    for i in range(2, n+1):\n",
    "        if is_prime(i):\n",
    "            prime_list.append(i)\n",
    "    return prime_list\n",
    "    \n",
    "def largest_prime_f(n):\n",
    "    global prime_list\n",
    "    r = np.int_(np.floor(np.sqrt(n)))\n",
    "    primes(r)\n",
    "    rel = []\n",
    "    for prime in prime_list:\n",
    "        if n % prime == 0:\n",
    "            rel.append(prime)\n",
    "        if prime > r:\n",
    "            break\n",
    "    return np.max(rel)"
   ]
  },
  {
   "cell_type": "code",
   "execution_count": 150,
   "metadata": {},
   "outputs": [
    {
     "data": {
      "text/plain": [
       "29"
      ]
     },
     "execution_count": 150,
     "metadata": {},
     "output_type": "execute_result"
    }
   ],
   "source": [
    "largest_prime_f(13195)"
   ]
  },
  {
   "cell_type": "code",
   "execution_count": 151,
   "metadata": {},
   "outputs": [
    {
     "data": {
      "text/plain": [
       "6857"
      ]
     },
     "execution_count": 151,
     "metadata": {},
     "output_type": "execute_result"
    }
   ],
   "source": [
    "largest_prime_f(600851475143)"
   ]
  },
  {
   "cell_type": "code",
   "execution_count": null,
   "metadata": {
    "collapsed": true
   },
   "outputs": [],
   "source": []
  }
 ],
 "metadata": {
  "kernelspec": {
   "display_name": "Python [default]",
   "language": "python",
   "name": "python3"
  },
  "language_info": {
   "codemirror_mode": {
    "name": "ipython",
    "version": 3
   },
   "file_extension": ".py",
   "mimetype": "text/x-python",
   "name": "python",
   "nbconvert_exporter": "python",
   "pygments_lexer": "ipython3",
   "version": "3.6.2"
  }
 },
 "nbformat": 4,
 "nbformat_minor": 2
}
