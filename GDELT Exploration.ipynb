{
 "cells": [
  {
   "cell_type": "code",
   "execution_count": 2,
   "metadata": {},
   "outputs": [
    {
     "ename": "ModuleNotFoundError",
     "evalue": "No module named 'GDELT_utils'",
     "traceback": [
      "\u001b[1;31m---------------------------------------------------------------------------\u001b[0m",
      "\u001b[1;31mModuleNotFoundError\u001b[0m                       Traceback (most recent call last)",
      "\u001b[1;32m<ipython-input-2-3dbf3a7e1729>\u001b[0m in \u001b[0;36m<module>\u001b[1;34m()\u001b[0m\n\u001b[0;32m      8\u001b[0m \u001b[0mget_ipython\u001b[0m\u001b[1;33m(\u001b[0m\u001b[1;33m)\u001b[0m\u001b[1;33m.\u001b[0m\u001b[0mrun_line_magic\u001b[0m\u001b[1;33m(\u001b[0m\u001b[1;34m'matplotlib'\u001b[0m\u001b[1;33m,\u001b[0m \u001b[1;34m'inline'\u001b[0m\u001b[1;33m)\u001b[0m\u001b[1;33m\u001b[0m\u001b[0m\n\u001b[0;32m      9\u001b[0m \u001b[1;33m\u001b[0m\u001b[0m\n\u001b[1;32m---> 10\u001b[1;33m \u001b[1;32mfrom\u001b[0m \u001b[0mGDELT_utils\u001b[0m \u001b[1;32mimport\u001b[0m \u001b[0mcolumns\u001b[0m\u001b[1;33m,\u001b[0m \u001b[0musecols\u001b[0m\u001b[1;33m,\u001b[0m \u001b[0mdtype_dict\u001b[0m\u001b[1;33m,\u001b[0m \u001b[0mcameo_dict\u001b[0m\u001b[1;33m,\u001b[0m \u001b[0mmap_cameo_to_text\u001b[0m\u001b[1;33m,\u001b[0m \u001b[0mstate_dict\u001b[0m\u001b[1;33m\u001b[0m\u001b[0m\n\u001b[0m",
      "\u001b[1;31mModuleNotFoundError\u001b[0m: No module named 'GDELT_utils'"
     ],
     "output_type": "error"
    }
   ],
   "source": [
    "import pandas as pd\n",
    "import numpy as np\n",
    "import matplotlib.pyplot as plt\n",
    "from mpl_toolkits.basemap import Basemap as Basemap\n",
    "from matplotlib.colors import rgb2hex, Normalize\n",
    "from matplotlib.patches import Polygon\n",
    "from matplotlib.colorbar import ColorbarBase\n",
    "%matplotlib inline\n",
    "\n",
    "from GDELT_utils import columns, usecols, dtype_dict, cameo_dict, map_cameo_to_text, state_dict"
   ]
  },
  {
   "cell_type": "code",
   "execution_count": null,
   "metadata": {},
   "outputs": [],
   "source": []
  },
  {
   "cell_type": "code",
   "execution_count": null,
   "metadata": {},
   "outputs": [],
   "source": [
    "columns[49] # Had set as Integer, but there was no NaN "
   ]
  },
  {
   "cell_type": "code",
   "execution_count": null,
   "metadata": {},
   "outputs": [],
   "source": [
    "df_2008 = pd.read_csv(data_2008, sep='\\t', names=columns[:57], \\\n",
    "                      usecols=usecols, dtype=dtype_dict, parse_dates=['SQLDATE'])\n",
    "df_2016 = pd.read_csv(data_2016, sep='\\t', names=columns, \\\n",
    "                      usecols=usecols, dtype=dtype_dict, parse_dates=['SQLDATE'])"
   ]
  },
  {
   "cell_type": "code",
   "execution_count": null,
   "metadata": {},
   "outputs": [],
   "source": [
    "# Credit: https://www.dataquest.io/blog/pandas-big-data/ \n",
    "def mem_usage(pandas_obj):\n",
    "    if isinstance(pandas_obj,pd.DataFrame):\n",
    "        usage_b = pandas_obj.memory_usage(deep=True).sum()\n",
    "    else: \n",
    "        usage_b = pandas_obj.memory_usage(deep=True)\n",
    "    usage_mb = usage_b / 1024 ** 2 \n",
    "    return \"{:03.2f} MB\".format(usage_mb)"
   ]
  },
  {
   "cell_type": "code",
   "execution_count": null,
   "metadata": {},
   "outputs": [],
   "source": [
    "print(mem_usage(df_2008))\n",
    "print(mem_usage(df_2016))"
   ]
  },
  {
   "cell_type": "code",
   "execution_count": null,
   "metadata": {},
   "outputs": [],
   "source": [
    "df_2008_us = df_2008[df_2008['ActionGeo_CountryCode'] == 'US']\n",
    "df_2016_us = df_2016[df_2016['ActionGeo_CountryCode'] == 'US']"
   ]
  },
  {
   "cell_type": "code",
   "execution_count": null,
   "metadata": {},
   "outputs": [],
   "source": [
    "df_2008_us['SQLDATE'].unique()"
   ]
  },
  {
   "cell_type": "code",
   "execution_count": null,
   "metadata": {},
   "outputs": [],
   "source": [
    "df_2016_us['SQLDATE'].unique()"
   ]
  },
  {
   "cell_type": "code",
   "execution_count": null,
   "metadata": {},
   "outputs": [],
   "source": [
    "df_2016_us['SQLDATE'].value_counts() # make into barplot"
   ]
  },
  {
   "cell_type": "code",
   "execution_count": null,
   "metadata": {},
   "outputs": [],
   "source": [
    "election_day_2008 = np.datetime64('2008-11-04')\n",
    "df_2008_usel = df_2008_us[df_2008_us['SQLDATE'] == election_day_2008]\n",
    "election_day_2016 = np.datetime64('2016-11-08')\n",
    "df_2016_usel = df_2016_us[df_2016_us['SQLDATE'] == election_day_2016]"
   ]
  },
  {
   "cell_type": "code",
   "execution_count": null,
   "metadata": {},
   "outputs": [],
   "source": [
    "print(df_2008_usel['AvgTone'].mean())\n",
    "print(df_2016_usel['AvgTone'].mean())"
   ]
  },
  {
   "cell_type": "code",
   "execution_count": null,
   "metadata": {},
   "outputs": [],
   "source": [
    "sorted_event_codes = np.sort(df_2008_usel['EventCode'].unique())"
   ]
  },
  {
   "cell_type": "code",
   "execution_count": null,
   "metadata": {},
   "outputs": [],
   "source": [
    "vmap_cameo_to_text = np.vectorize(map_cameo_to_text)\n",
    "vmap_cameo_to_text(sorted_event_codes)"
   ]
  },
  {
   "cell_type": "code",
   "execution_count": null,
   "metadata": {},
   "outputs": [],
   "source": [
    "df_2008_usel['Actor1Code'].unique()"
   ]
  },
  {
   "cell_type": "code",
   "execution_count": null,
   "metadata": {},
   "outputs": [],
   "source": [
    "list(np.sort(df_2008_usel['ActionGeo_ADM1Code'].unique()))"
   ]
  },
  {
   "cell_type": "code",
   "execution_count": null,
   "metadata": {},
   "outputs": [],
   "source": [
    "df_2008_usel['ActionGeo_ADM1Code'] \\\n",
    "            .isin(list(np.sort(df_2008_usel['ActionGeo_ADM1Code'].unique())))"
   ]
  },
  {
   "cell_type": "code",
   "execution_count": null,
   "metadata": {},
   "outputs": [],
   "source": [
    "df_2008_usel['AvgTone']"
   ]
  },
  {
   "cell_type": "code",
   "execution_count": null,
   "metadata": {},
   "outputs": [],
   "source": [
    "#df_2008_usel.groupby('ActionGeo_ADM1Code').boxplot(column=\"AvgTone\")\n",
    "# implement in seaborn\n",
    "#   use hue as grouper (won't need to groupby)"
   ]
  },
  {
   "cell_type": "code",
   "execution_count": null,
   "metadata": {},
   "outputs": [],
   "source": [
    "# normalize by average to have the two maps comparable"
   ]
  },
  {
   "cell_type": "code",
   "execution_count": null,
   "metadata": {
    "scrolled": false
   },
   "outputs": [],
   "source": [
    "avgtone_2008 = df_2008_usel.groupby('ActionGeo_ADM1Code')['AvgTone'] \\\n",
    "            .mean()[np.sort(df_2008_usel['ActionGeo_ADM1Code'].unique())] \\\n",
    "            .rename(state_dict)\n",
    "avgtone_2016 = df_2016_usel.groupby('ActionGeo_ADM1Code')['AvgTone'] \\\n",
    "            .mean()[np.sort(df_2016_usel['ActionGeo_ADM1Code'].unique())] \\\n",
    "            .rename(state_dict)\n",
    "        \n",
    "print(avgtone_2008, avgtone_2008.min(), avgtone_2008.max())\n",
    "print(avgtone_2016, avgtone_2016.min(), avgtone_2016.max())"
   ]
  },
  {
   "cell_type": "code",
   "execution_count": null,
   "metadata": {},
   "outputs": [],
   "source": [
    "fig, ax = plt.subplots()\n",
    "\n",
    "# Lambert Conformal map of lower 48 states.\n",
    "m = Basemap(llcrnrlon=-119,llcrnrlat=20,urcrnrlon=-64,urcrnrlat=49,\n",
    "            projection='lcc',lat_1=33,lat_2=45,lon_0=-95)\n",
    "\n",
    "# Mercator projection, for Alaska and Hawaii\n",
    "m_ = Basemap(llcrnrlon=-190,llcrnrlat=20,urcrnrlon=-143,urcrnrlat=46,\n",
    "projection='merc',lat_ts=20) # do not change these numbers\n",
    "\n",
    "#%% ---------   draw state boundaries  ----------------------------------------\n",
    "## data from U.S Census Bureau\n",
    "## http://www.census.gov/geo/www/cob/st2000.html\n",
    "shp_info = m.readshapefile('st99_d00','states',drawbounds=True,\n",
    "                           linewidth=0.45,color='gray')\n",
    "shp_info_ = m_.readshapefile('st99_d00','states',drawbounds=False)\n",
    "\n",
    "avgtone_2008_dict = avgtone_2008.to_dict()\n",
    "\n",
    "#%% -------- choose a color for each state based on population density. -------\n",
    "colors={}\n",
    "statenames=[]\n",
    "cmap = plt.cm.hot # use 'reversed hot' colormap\n",
    "vmin = 4.5; vmax = 7.6 # set range.\n",
    "norm = Normalize(vmin=vmin, vmax=vmax)\n",
    "for shapedict in m.states_info:\n",
    "    statename = shapedict['NAME']\n",
    "    # skip DC and Puerto Rico.\n",
    "    if statename not in ['District of Columbia','Puerto Rico']:\n",
    "        tone = avgtone_2008_dict[statename]\n",
    "        # calling colormap with value between 0 and 1 returns\n",
    "        # rgba value.  Invert color range (hot colors are high\n",
    "        # population), take sqrt root to spread out colors more.\n",
    "        colors[statename] = cmap(np.sqrt((tone-vmin)/(vmax-vmin)))[:3]\n",
    "    statenames.append(statename)\n",
    "    \n",
    "#%% ---------  cycle through state names, color each one.  --------------------\n",
    "for nshape,seg in enumerate(m.states):\n",
    "    # skip DC and Puerto Rico.\n",
    "    if statenames[nshape] not in ['Puerto Rico', 'District of Columbia']:\n",
    "        color = rgb2hex(colors[statenames[nshape]])\n",
    "        poly = Polygon(seg,facecolor=color,edgecolor=color)\n",
    "    ax.add_patch(poly)\n",
    "\n",
    "AREA_1 = 0.005  # exclude small Hawaiian islands that are smaller than AREA_1\n",
    "AREA_2 = AREA_1 * 30.0  # exclude Alaskan islands that are smaller than AREA_2\n",
    "AK_SCALE = 0.19  # scale down Alaska to show as a map inset\n",
    "HI_OFFSET_X = -1900000  # X coordinate offset amount to move Hawaii \"beneath\" Texas\n",
    "HI_OFFSET_Y = 250000    # similar to above: Y offset for Hawaii\n",
    "AK_OFFSET_X = -250000   # X offset for Alaska (These four values are obtained\n",
    "AK_OFFSET_Y = -750000 # via manual trial and error, thus changing them is not recommended.)\n",
    "\n",
    "for nshape, shapedict in enumerate(m_.states_info):  # plot Alaska and Hawaii as map insets\n",
    "    if shapedict['NAME'] in ['Alaska', 'Hawaii']:\n",
    "        seg = m_.states[int(shapedict['SHAPENUM'] - 1)]\n",
    "        if shapedict['NAME'] == 'Hawaii' and float(shapedict['AREA']) > AREA_1:\n",
    "            seg = [(x + HI_OFFSET_X, y + HI_OFFSET_Y) for x, y in seg]\n",
    "            color = rgb2hex(colors[statenames[nshape]])\n",
    "        elif shapedict['NAME'] == 'Alaska' and float(shapedict['AREA']) > AREA_2:\n",
    "            seg = [(x*AK_SCALE + AK_OFFSET_X, y*AK_SCALE + AK_OFFSET_Y)\\\n",
    "                   for x, y in seg]\n",
    "            color = rgb2hex(colors[statenames[nshape]])\n",
    "        poly = Polygon(seg, facecolor=color, edgecolor='gray', linewidth=.45)\n",
    "        ax.add_patch(poly)\n",
    "\n",
    "ax.set_title('Average Tone of News on Election Day 2008')\n",
    "\n",
    "#%% ---------  Plot bounding boxes for Alaska and Hawaii insets  --------------\n",
    "light_gray = [0.8]*3  # define light gray color RGB\n",
    "x1,y1 = m_([-190,-183,-180,-180,-175,-171,-171],[29,29,26,26,26,22,20])\n",
    "x2,y2 = m_([-180,-180,-177],[26,23,20])  # these numbers are fine-tuned manually\n",
    "m_.plot(x1,y1,color=light_gray,linewidth=0.8)  # do not change them drastically\n",
    "m_.plot(x2,y2,color=light_gray,linewidth=0.8)\n",
    "\n",
    "#%% ---------   Show color bar  ---------------------------------------\n",
    "ax_c = fig.add_axesdata:image/png;base64,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([0.9, 0.1, 0.03, 0.8])\n",
    "cb = ColorbarBase(ax_c,cmap=cmap,norm=norm,orientation='vertical',\n",
    "                  label=r'[average positivity]')\n",
    "\n",
    "plt.show()\n",
    "\n",
    "# verbal hypothesis about the stand out color states\n",
    "#   talk out hypothesis, don't need to prove"
   ]
  },
  {
   "cell_type": "code",
   "execution_count": null,
   "metadata": {},
   "outputs": [],
   "source": [
    "avgtone_2016_inv = avgtone_2016 * -1\n",
    "print(avgtone_2016_inv.min(), avgtone_2016_inv.max())"
   ]
  },
  {
   "cell_type": "code",
   "execution_count": null,
   "metadata": {},
   "outputs": [],
   "source": [
    "fig, ax = plt.subplots()\n",
    "\n",
    "# Lambert Conformal map of lower 48 states.\n",
    "m = Basemap(llcrnrlon=-119,llcrnrlat=20,urcrnrlon=-64,urcrnrlat=49,\n",
    "            projection='lcc',lat_1=33,lat_2=45,lon_0=-95)\n",
    "\n",
    "# Mercator projection, for Alaska and Hawaii\n",
    "m_ = Basemap(llcrnrlon=-190,llcrnrlat=20,urcrnrlon=-143,urcrnrlat=46,\n",
    "projection='merc',lat_ts=20) # do not change these numbers\n",
    "\n",
    "#%% ---------   draw state boundaries  ----------------------------------------\n",
    "## data from U.S Census Bureau\n",
    "## http://www.census.gov/geo/www/cob/st2000.html\n",
    "shp_info = m.readshapefile('st99_d00','states',drawbounds=True,\n",
    "                           linewidth=0.45,color='gray')\n",
    "shp_info_ = m_.readshapefile('st99_d00','states',drawbounds=False)\n",
    "\n",
    "avgtone_2016_dict = avgtone_2016.to_dict()\n",
    "\n",
    "#%% -------- choose a color for each state based on population density. -------\n",
    "colors={}\n",
    "statenames=[]\n",
    "cmap = plt.cm.hot # use 'reversed hot' colormap\n",
    "vmin = -4.5; vmax = -0.2 # set range.\n",
    "norm = Normalize(vmin=vmin, vmax=vmax)\n",
    "for shapedict in m.states_info:\n",
    "    statename = shapedict['NAME']\n",
    "    # skip DC and Puerto Rico.\n",
    "    if statename not in ['District of Columbia','Puerto Rico']:\n",
    "        tone = avgtone_2016_dict[statename]\n",
    "        # calling colormap with value between 0 and 1 returns\n",
    "        # rgba value.  Invert color range (hot colors are high\n",
    "        # population), take sqrt root to spread out colors more.\n",
    "        colors[statename] = cmap(np.sqrt((tone-vmin)/(vmax-vmin)))[:3]\n",
    "    statenames.append(statename)\n",
    "    \n",
    "#%% ---------  cycle through state names, color each one.  --------------------\n",
    "for nshape,seg in enumerate(m.states):\n",
    "    # skip DC and Puerto Rico.\n",
    "    if statenames[nshape] not in ['Puerto Rico', 'District of Columbia']:\n",
    "        color = rgb2hex(colors[statenames[nshape]])\n",
    "        poly = Polygon(seg,facecolor=color,edgecolor=color)\n",
    "    ax.add_patch(poly)\n",
    "\n",
    "AREA_1 = 0.005  # exclude small Hawaiian islands that are smaller than AREA_1\n",
    "AREA_2 = AREA_1 * 30.0  # exclude Alaskan islands that are smaller than AREA_2\n",
    "AK_SCALE = 0.19  # scale down Alaska to show as a map inset\n",
    "HI_OFFSET_X = -1900000  # X coordinate offset amount to move Hawaii \"beneath\" Texas\n",
    "HI_OFFSET_Y = 250000    # similar to above: Y offset for Hawaii\n",
    "AK_OFFSET_X = -250000   # X offset for Alaska (These four values are obtained\n",
    "AK_OFFSET_Y = -750000 # via manual trial and error, thus changing them is not recommended.)\n",
    "\n",
    "for nshape, shapedict in enumerate(m_.states_info):  # plot Alaska and Hawaii as map insets\n",
    "    if shapedict['NAME'] in ['Alaska', 'Hawaii']:\n",
    "        seg = m_.states[int(shapedict['SHAPENUM'] - 1)]\n",
    "        if shapedict['NAME'] == 'Hawaii' and float(shapedict['AREA']) > AREA_1:\n",
    "            seg = [(x + HI_OFFSET_X, y + HI_OFFSET_Y) for x, y in seg]\n",
    "            color = rgb2hex(colors[statenames[nshape]])\n",
    "        elif shapedict['NAME'] == 'Alaska' and float(shapedict['AREA']) > AREA_2:\n",
    "            seg = [(x*AK_SCALE + AK_OFFSET_X, y*AK_SCALE + AK_OFFSET_Y)\\\n",
    "                   for x, y in seg]\n",
    "            color = rgb2hex(colors[statenames[nshape]])\n",
    "        poly = Polygon(seg, facecolor=color, edgecolor='gray', linewidth=.45)\n",
    "        ax.add_patch(poly)\n",
    "\n",
    "ax.set_title('Average Tone of News on Election Day 2016')\n",
    "\n",
    "#%% ---------  Plot bounding boxes for Alaska and Hawaii insets  --------------\n",
    "light_gray = [0.8]*3  # define light gray color RGB\n",
    "x1,y1 = m_([-190,-183,-180,-180,-175,-171,-171],[29,29,26,26,26,22,20])\n",
    "x2,y2 = m_([-180,-180,-177],[26,23,20])  # these numbers are fine-tuned manually\n",
    "m_.plot(x1,y1,color=light_gray,linewidth=0.8)  # do not change them drastically\n",
    "m_.plot(x2,y2,color=light_gray,linewidth=0.8)\n",
    "\n",
    "#%% ---------   Show color bar  ---------------------------------------\n",
    "ax_c = fig.add_axes([0.9, 0.1, 0.03, 0.8])\n",
    "cb = ColorbarBase(ax_c,cmap=cmap,norm=norm,orientation='vertical',\n",
    "                  label=r'[population per $\\mathregular{km^2}$]')\n",
    "\n",
    "plt.show()"
   ]
  },
  {
   "cell_type": "code",
   "execution_count": null,
   "metadata": {},
   "outputs": [],
   "source": []
  }
 ],
 "metadata": {
  "kernelspec": {
   "display_name": "Python 3",
   "language": "python",
   "name": "python3"
  },
  "language_info": {
   "codemirror_mode": {
    "name": "ipython",
    "version": 3
   },
   "file_extension": ".py",
   "mimetype": "text/x-python",
   "name": "python",
   "nbconvert_exporter": "python",
   "pygments_lexer": "ipython3",
   "version": "3.6.5"
  }
 },
 "nbformat": 4,
 "nbformat_minor": 2
}
