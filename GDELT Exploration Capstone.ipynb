{
 "cells": [
  {
   "cell_type": "code",
   "execution_count": 1,
   "metadata": {
    "collapsed": true
   },
   "outputs": [],
   "source": [
    "import pandas as pd\n",
    "import numpy as np\n",
    "import matplotlib.pyplot as plt\n",
    "from mpl_toolkits.basemap import Basemap as Basemap\n",
    "from matplotlib.colors import rgb2hex, Normalize\n",
    "from matplotlib.patches import Polygon\n",
    "from matplotlib.colorbar import ColorbarBase\n",
    "%matplotlib inline\n",
    "\n",
    "from GDELT_utils import columns, usecols, dtype_dict, cameo_dict, map_cameo_to_text, state_dict"
   ]
  },
  {
   "cell_type": "code",
   "execution_count": 2,
   "metadata": {
    "collapsed": true
   },
   "outputs": [],
   "source": [
    "data_2008 = \"D:/GDELT.MASTERREDUCEDV2.1979-2013/200811.CSV\"\n",
    "data_2016 = \"D:/GDELT.MASTERREDUCEDV2.1979-2013/20161108.export.CSV\""
   ]
  },
  {
   "cell_type": "code",
   "execution_count": 3,
   "metadata": {},
   "outputs": [
    {
     "data": {
      "text/plain": [
       "'ActionGeo_Type'"
      ]
     },
     "execution_count": 3,
     "metadata": {},
     "output_type": "execute_result"
    }
   ],
   "source": [
    "columns[49]"
   ]
  },
  {
   "cell_type": "code",
   "execution_count": 4,
   "metadata": {
    "collapsed": true
   },
   "outputs": [],
   "source": [
    "df_2008 = pd.read_csv(data_2008, sep='\\t', names=columns[:57], \\\n",
    "                      usecols=usecols, dtype=dtype_dict, parse_dates=['SQLDATE'])\n",
    "df_2016 = pd.read_csv(data_2016, sep='\\t', names=columns, \\\n",
    "                      usecols=usecols, dtype=dtype_dict, parse_dates=['SQLDATE'])"
   ]
  },
  {
   "cell_type": "code",
   "execution_count": 5,
   "metadata": {
    "collapsed": true
   },
   "outputs": [],
   "source": [
    "def mem_usage(pandas_obj):\n",
    "    if isinstance(pandas_obj,pd.DataFrame):\n",
    "        usage_b = pandas_obj.memory_usage(deep=True).sum()\n",
    "    else: # we assume if not a df it's a series\n",
    "        usage_b = pandas_obj.memory_usage(deep=True)\n",
    "    usage_mb = usage_b / 1024 ** 2 # convert bytes to megabytes\n",
    "    return \"{:03.2f} MB\".format(usage_mb)"
   ]
  },
  {
   "cell_type": "code",
   "execution_count": 6,
   "metadata": {},
   "outputs": [
    {
     "name": "stdout",
     "output_type": "stream",
     "text": [
      "730.73 MB\n",
      "142.42 MB\n"
     ]
    }
   ],
   "source": [
    "print(mem_usage(df_2008))\n",
    "print(mem_usage(df_2016))"
   ]
  },
  {
   "cell_type": "code",
   "execution_count": 7,
   "metadata": {
    "collapsed": true
   },
   "outputs": [],
   "source": [
    "df_2008_us = df_2008[df_2008['ActionGeo_CountryCode'] == 'US']\n",
    "df_2016_us = df_2016[df_2016['ActionGeo_CountryCode'] == 'US']"
   ]
  },
  {
   "cell_type": "code",
   "execution_count": 8,
   "metadata": {},
   "outputs": [
    {
     "data": {
      "text/plain": [
       "array(['2008-11-01T00:00:00.000000000', '2008-11-02T00:00:00.000000000',\n",
       "       '2008-11-03T00:00:00.000000000', '2008-11-04T00:00:00.000000000',\n",
       "       '2008-11-05T00:00:00.000000000', '2008-11-06T00:00:00.000000000',\n",
       "       '2008-11-07T00:00:00.000000000', '2008-11-08T00:00:00.000000000',\n",
       "       '2008-11-09T00:00:00.000000000', '2008-11-10T00:00:00.000000000',\n",
       "       '2008-11-11T00:00:00.000000000', '2008-11-12T00:00:00.000000000',\n",
       "       '2008-11-13T00:00:00.000000000', '2008-11-14T00:00:00.000000000',\n",
       "       '2008-11-15T00:00:00.000000000', '2008-11-16T00:00:00.000000000',\n",
       "       '2008-11-17T00:00:00.000000000', '2008-11-18T00:00:00.000000000',\n",
       "       '2008-11-19T00:00:00.000000000', '2008-11-20T00:00:00.000000000',\n",
       "       '2008-11-21T00:00:00.000000000', '2008-11-22T00:00:00.000000000',\n",
       "       '2008-11-23T00:00:00.000000000', '2008-11-24T00:00:00.000000000',\n",
       "       '2008-11-25T00:00:00.000000000', '2008-11-26T00:00:00.000000000',\n",
       "       '2008-11-27T00:00:00.000000000', '2008-11-28T00:00:00.000000000',\n",
       "       '2008-11-29T00:00:00.000000000', '2008-11-30T00:00:00.000000000'],\n",
       "      dtype='datetime64[ns]')"
      ]
     },
     "execution_count": 8,
     "metadata": {},
     "output_type": "execute_result"
    }
   ],
   "source": [
    "df_2008_us['SQLDATE'].unique()"
   ]
  },
  {
   "cell_type": "code",
   "execution_count": 9,
   "metadata": {},
   "outputs": [
    {
     "data": {
      "text/plain": [
       "array(['2015-11-09T00:00:00.000000000', '2016-10-09T00:00:00.000000000',\n",
       "       '2016-11-01T00:00:00.000000000', '2016-11-07T00:00:00.000000000',\n",
       "       '2016-11-08T00:00:00.000000000', '2006-11-11T00:00:00.000000000'],\n",
       "      dtype='datetime64[ns]')"
      ]
     },
     "execution_count": 9,
     "metadata": {},
     "output_type": "execute_result"
    }
   ],
   "source": [
    "df_2016_us['SQLDATE'].unique()"
   ]
  },
  {
   "cell_type": "code",
   "execution_count": 10,
   "metadata": {},
   "outputs": [
    {
     "data": {
      "text/plain": [
       "2016-11-08    82331\n",
       "2016-11-01      691\n",
       "2015-11-09      533\n",
       "2016-10-09      421\n",
       "2016-11-07      166\n",
       "2006-11-11        1\n",
       "Name: SQLDATE, dtype: int64"
      ]
     },
     "execution_count": 10,
     "metadata": {},
     "output_type": "execute_result"
    }
   ],
   "source": [
    "df_2016_us['SQLDATE'].value_counts()"
   ]
  },
  {
   "cell_type": "code",
   "execution_count": 11,
   "metadata": {
    "collapsed": true
   },
   "outputs": [],
   "source": [
    "election_day_2008 = np.datetime64('2008-11-04')\n",
    "df_2008_usel = df_2008_us[df_2008_us['SQLDATE'] == election_day_2008]\n",
    "election_day_2016 = np.datetime64('2016-11-08')\n",
    "df_2016_usel = df_2016_us[df_2016_us['SQLDATE'] == election_day_2016]"
   ]
  },
  {
   "cell_type": "code",
   "execution_count": 12,
   "metadata": {},
   "outputs": [
    {
     "name": "stdout",
     "output_type": "stream",
     "text": [
      "5.470381259918213\n",
      "-1.4567610025405884\n"
     ]
    }
   ],
   "source": [
    "print(df_2008_usel['AvgTone'].mean())\n",
    "print(df_2016_usel['AvgTone'].mean())"
   ]
  },
  {
   "cell_type": "code",
   "execution_count": 13,
   "metadata": {
    "collapsed": true
   },
   "outputs": [],
   "source": [
    "sorted_event_codes = np.sort(df_2008_usel['EventCode'].unique())"
   ]
  },
  {
   "cell_type": "code",
   "execution_count": 14,
   "metadata": {},
   "outputs": [
    {
     "data": {
      "text/plain": [
       "array(['Make statement, not specified below', 'Decline comment',\n",
       "       'Make pessimistic comment', 'Make optimistic comment',\n",
       "       'Consider policy option', 'Acknowledge or claim responsibility',\n",
       "       'Deny responsibility', 'Engage in symbolic act',\n",
       "       'Make empathetic comment',\n",
       "       'Make an appeal or request, not specified below',\n",
       "       'Appeal for material cooperation, not specified below',\n",
       "       'Appeal for intelligence',\n",
       "       'Appeal for diplomatic cooperation (such as policy support)',\n",
       "       'Appeal for aid, not specified below', 'Appeal for economic aid',\n",
       "       'Appeal for military aid', 'Appeal for humanitarian aid',\n",
       "       'Appeal for military protection or peacekeeping',\n",
       "       'Appeal for change in leadership',\n",
       "       'Appeal to yield, not specified below',\n",
       "       'Appeal for release of persons or property',\n",
       "       'Appeal for de-escalation of military engagement',\n",
       "       'Appeal to others to meet or negotiate',\n",
       "       'Express intent to cooperate, not specified below',\n",
       "       'Express intent to engage in material cooperation, not specified below',\n",
       "       'Express intent to cooperate economically',\n",
       "       'Express intent to cooperate militarily',\n",
       "       'Express intent to engage in diplomatic cooperation (such as policy support)',\n",
       "       'Express intent to provide material aid, not specified below',\n",
       "       'Express intent to provide economic aid',\n",
       "       'Express intent to provide humanitarian aid',\n",
       "       'Express intent to yield, not specified below',\n",
       "       'Express intent to release persons or property',\n",
       "       'Express intent to de-escalate military engagement',\n",
       "       'Express intent to meet or negotiate',\n",
       "       'Express intent to settle dispute', 'Express intent to mediate',\n",
       "       'Consult, not specified below', 'Discuss by telephone',\n",
       "       'Make a visit', 'Host a visit', \"Meet at a 'third' location\",\n",
       "       'Mediate', 'Engage in negotiation',\n",
       "       'Engage in diplomatic cooperation, not specified below',\n",
       "       'Praise or endorse', 'Defend verbally',\n",
       "       'Rally support on behalf of', 'Grant diplomatic recognition',\n",
       "       'Apologize', 'Forgive', 'Sign formal agreement',\n",
       "       'Engage in material cooperation, not specified below',\n",
       "       'Cooperate economically', 'Cooperate militarily',\n",
       "       'Engage in judicial cooperation',\n",
       "       'Share intelligence or information',\n",
       "       'Provide aid, not specified below', 'Provide economic aid',\n",
       "       'Provide military aid', 'Provide humanitarian aid',\n",
       "       'Provide military protection or peacekeeping', 'Grant asylum',\n",
       "       'Yield, not specified below',\n",
       "       'Ease administrative sanctions, not specified below',\n",
       "       'Ease political dissent',\n",
       "       'Accede to requests or demands for political reform, not specified below',\n",
       "       'Accede to demands for change in leadership',\n",
       "       'Accede to demands for rights',\n",
       "       'Return, release, not specified below',\n",
       "       'Return, release person(s)',\n",
       "       'Allow international involvement, not specified below',\n",
       "       'Declare truce, ceasefire', 'Demobilize armed forces',\n",
       "       'Retreat or surrender militarily',\n",
       "       'Investigate, not specified below',\n",
       "       'Investigate crime, corruption', 'Demand, not specified below',\n",
       "       'Demand intelligence cooperation', 'Demand rights',\n",
       "       'Demand change in institutions, regime',\n",
       "       'Demand release of persons or property',\n",
       "       'Disapprove, not specified below', 'Criticize or denounce',\n",
       "       'Accuse, not specified below', 'Accuse of aggression',\n",
       "       'Accuse of war crimes', 'Rally opposition against',\n",
       "       'Complain o\\x0ecially', 'Bring lawsuit against',\n",
       "       'Reject, not specified below', 'Reject material cooperation',\n",
       "       'Reject request or demand for material aid, not specified below',\n",
       "       'Reject request or demand for political reform, not specified below',\n",
       "       'Refuse to yield, not specified below',\n",
       "       'Refuse to ease administrative sanctions',\n",
       "       'Refuse to release persons or property',\n",
       "       'Refuse to de-escalate military engagement',\n",
       "       'Reject proposal to meet, discuss, or negotiate',\n",
       "       'Reject plan, agreement to settle dispute', 'Defy norms, law',\n",
       "       'Veto', 'Threaten, not specified below',\n",
       "       'Threaten non-force, not specified below',\n",
       "       'Threaten with political dissent, protest',\n",
       "       'Threaten with military force, not specified below',\n",
       "       'Threaten unconventional violence', 'Threaten conventional attack',\n",
       "       'Give ultimatum', 'Demonstrate or rally, not specified below',\n",
       "       'Conduct strike or boycott, not specified below',\n",
       "       'Protest violently, riot, not specified below',\n",
       "       'Demonstrate military or police power, not specified below',\n",
       "       'Increase military alert status',\n",
       "       'Mobilize or increase police power',\n",
       "       'Mobilize or increase armed forces',\n",
       "       'Reduce relations, not specified below',\n",
       "       'Reduce or break diplomatic relations',\n",
       "       'Reduce or stop material aid, not specified below',\n",
       "       'Reduce or stop economic assistance',\n",
       "       'Impose embargo, boycott, or sanctions', 'Halt negotiations',\n",
       "       'Coerce, not specified below',\n",
       "       'Seize or damage property, not specified below',\n",
       "       'Confiscate property', 'Destroy property',\n",
       "       'Impose administrative sanctions, not specified below',\n",
       "       'Impose restrictions on political freedoms',\n",
       "       'Ban political parties or politicians', 'Impose curfew',\n",
       "       'Arrest, detain, or charge with legal action',\n",
       "       'Expel or deport individuals', 'Use tactics of violent repression',\n",
       "       'Use unconventional violence, not specified below',\n",
       "       'Abduct, hijack, or take hostage',\n",
       "       'Physically assault, not specified below', 'Sexually assault',\n",
       "       'Torture', 'Kill by physical assault',\n",
       "       'Conduct suicide, car, or other non-military bombing, not specified below',\n",
       "       'Carry out suicide bombing', 'Assassinate',\n",
       "       'Use conventional military force, not specified below',\n",
       "       'Impose blockade, restrict movement', 'Occupy territory',\n",
       "       'Fight with small arms and light weapons',\n",
       "       'Fight with artillery and tanks',\n",
       "       'Employ aerial weapons, not specified below',\n",
       "       'Engage in mass expulsion'], dtype='<U75')"
      ]
     },
     "execution_count": 14,
     "metadata": {},
     "output_type": "execute_result"
    }
   ],
   "source": [
    "vmap_cameo_to_text = np.vectorize(map_cameo_to_text)\n",
    "vmap_cameo_to_text(sorted_event_codes)"
   ]
  },
  {
   "cell_type": "code",
   "execution_count": 15,
   "metadata": {},
   "outputs": [
    {
     "data": {
      "text/plain": [
       "[NaN, AFG, AFGCOP, AFGGOV, AFGGOVMIL, ..., MYSGOV, NIC, SCGSRB, SOM, sco]\n",
       "Length: 412\n",
       "Categories (411, object): [AFG, AFGCOP, AFGGOV, AFGGOVMIL, ..., NIC, SCGSRB, SOM, sco]"
      ]
     },
     "execution_count": 15,
     "metadata": {},
     "output_type": "execute_result"
    }
   ],
   "source": [
    "df_2008_usel['Actor1Code'].unique()"
   ]
  },
  {
   "cell_type": "code",
   "execution_count": 16,
   "metadata": {},
   "outputs": [
    {
     "data": {
      "text/plain": [
       "['US',\n",
       " 'USAK',\n",
       " 'USAL',\n",
       " 'USAR',\n",
       " 'USAZ',\n",
       " 'USCA',\n",
       " 'USCO',\n",
       " 'USCT',\n",
       " 'USDC',\n",
       " 'USDE',\n",
       " 'USFL',\n",
       " 'USGA',\n",
       " 'USHI',\n",
       " 'USIA',\n",
       " 'USID',\n",
       " 'USIL',\n",
       " 'USIN',\n",
       " 'USKS',\n",
       " 'USKY',\n",
       " 'USLA',\n",
       " 'USMA',\n",
       " 'USMD',\n",
       " 'USME',\n",
       " 'USMI',\n",
       " 'USMN',\n",
       " 'USMO',\n",
       " 'USMS',\n",
       " 'USMT',\n",
       " 'USNC',\n",
       " 'USND',\n",
       " 'USNE',\n",
       " 'USNH',\n",
       " 'USNJ',\n",
       " 'USNM',\n",
       " 'USNV',\n",
       " 'USNY',\n",
       " 'USOH',\n",
       " 'USOK',\n",
       " 'USOR',\n",
       " 'USPA',\n",
       " 'USPR',\n",
       " 'USRI',\n",
       " 'USSC',\n",
       " 'USSD',\n",
       " 'USTN',\n",
       " 'USTX',\n",
       " 'USUT',\n",
       " 'USVA',\n",
       " 'USVT',\n",
       " 'USWA',\n",
       " 'USWI',\n",
       " 'USWV',\n",
       " 'USWY']"
      ]
     },
     "execution_count": 16,
     "metadata": {},
     "output_type": "execute_result"
    }
   ],
   "source": [
    "list(np.sort(df_2008_usel['ActionGeo_ADM1Code'].unique()))"
   ]
  },
  {
   "cell_type": "code",
   "execution_count": 17,
   "metadata": {},
   "outputs": [
    {
     "data": {
      "text/plain": [
       "111580    True\n",
       "111584    True\n",
       "111615    True\n",
       "111621    True\n",
       "111623    True\n",
       "111632    True\n",
       "111643    True\n",
       "111650    True\n",
       "111660    True\n",
       "111677    True\n",
       "111678    True\n",
       "111680    True\n",
       "111681    True\n",
       "111682    True\n",
       "111696    True\n",
       "111704    True\n",
       "111744    True\n",
       "111789    True\n",
       "111810    True\n",
       "111816    True\n",
       "111823    True\n",
       "111826    True\n",
       "111828    True\n",
       "111829    True\n",
       "111830    True\n",
       "111832    True\n",
       "111833    True\n",
       "111834    True\n",
       "111835    True\n",
       "111838    True\n",
       "          ... \n",
       "160442    True\n",
       "160443    True\n",
       "160444    True\n",
       "160445    True\n",
       "160446    True\n",
       "160447    True\n",
       "160450    True\n",
       "160451    True\n",
       "160455    True\n",
       "160457    True\n",
       "160458    True\n",
       "160461    True\n",
       "160462    True\n",
       "160464    True\n",
       "160465    True\n",
       "160466    True\n",
       "160468    True\n",
       "160471    True\n",
       "160476    True\n",
       "160482    True\n",
       "160505    True\n",
       "160506    True\n",
       "160507    True\n",
       "160508    True\n",
       "160515    True\n",
       "160519    True\n",
       "160526    True\n",
       "160555    True\n",
       "160556    True\n",
       "160557    True\n",
       "Name: ActionGeo_ADM1Code, Length: 13404, dtype: bool"
      ]
     },
     "execution_count": 17,
     "metadata": {},
     "output_type": "execute_result"
    }
   ],
   "source": [
    "df_2008_usel['ActionGeo_ADM1Code'] \\\n",
    "            .isin(list(np.sort(df_2008_usel['ActionGeo_ADM1Code'].unique())))"
   ]
  },
  {
   "cell_type": "code",
   "execution_count": 18,
   "metadata": {},
   "outputs": [
    {
     "data": {
      "text/plain": [
       "111580     4.681762\n",
       "111584     2.803738\n",
       "111615     4.895105\n",
       "111621     5.702364\n",
       "111623     2.173913\n",
       "111632     5.436157\n",
       "111643     6.038647\n",
       "111650     7.662835\n",
       "111660     5.307262\n",
       "111677     5.597964\n",
       "111678     5.597964\n",
       "111680     2.173913\n",
       "111681     6.553672\n",
       "111682     2.615694\n",
       "111696     5.555555\n",
       "111704     5.059090\n",
       "111744     4.089219\n",
       "111789     6.428571\n",
       "111810     8.303678\n",
       "111816     7.924528\n",
       "111823     3.813102\n",
       "111826     5.496454\n",
       "111828     8.667389\n",
       "111829     3.813102\n",
       "111830     7.572115\n",
       "111832     7.572115\n",
       "111833     6.555115\n",
       "111834     6.555115\n",
       "111835    10.619469\n",
       "111838     8.827586\n",
       "            ...    \n",
       "160442     4.927783\n",
       "160443     4.927783\n",
       "160444     4.927783\n",
       "160445     4.927783\n",
       "160446     6.993007\n",
       "160447     6.993007\n",
       "160450     4.666667\n",
       "160451     4.666667\n",
       "160455     6.993007\n",
       "160457     6.993007\n",
       "160458     6.993007\n",
       "160461     8.205129\n",
       "160462     8.205129\n",
       "160464     8.205129\n",
       "160465     7.853403\n",
       "160466     7.853403\n",
       "160468     8.032128\n",
       "160471     7.853403\n",
       "160476     8.032128\n",
       "160482     5.619596\n",
       "160505    10.588235\n",
       "160506     6.041131\n",
       "160507     6.041131\n",
       "160508     6.041131\n",
       "160515     3.225806\n",
       "160519     4.444445\n",
       "160526     4.444445\n",
       "160555     9.202454\n",
       "160556     9.202454\n",
       "160557     9.202454\n",
       "Name: AvgTone, Length: 13404, dtype: float32"
      ]
     },
     "execution_count": 18,
     "metadata": {},
     "output_type": "execute_result"
    }
   ],
   "source": [
    "df_2008_usel['AvgTone']"
   ]
  },
  {
   "cell_type": "code",
   "execution_count": 19,
   "metadata": {
    "collapsed": true
   },
   "outputs": [],
   "source": [
    "#df_2008_usel.groupby('ActionGeo_ADM1Code').boxplot(column=\"AvgTone\")"
   ]
  },
  {
   "cell_type": "code",
   "execution_count": 20,
   "metadata": {
    "collapsed": true
   },
   "outputs": [],
   "source": [
    "# normalize by average to have the two maps comparable"
   ]
  },
  {
   "cell_type": "code",
   "execution_count": 21,
   "metadata": {
    "scrolled": false
   },
   "outputs": [
    {
     "name": "stdout",
     "output_type": "stream",
     "text": [
      "ActionGeo_ADM1Code\n",
      "National                5.820637\n",
      "Alaska                  5.319072\n",
      "Alabama                 5.109504\n",
      "Arkansas                4.533150\n",
      "Arizona                 5.315331\n",
      "California              5.400719\n",
      "Colorado                5.505959\n",
      "Connecticut             5.460418\n",
      "District of Columbia    5.663906\n",
      "Delaware                5.338939\n",
      "Florida                 4.958261\n",
      "Georgia                 5.191751\n",
      "Hawaii                  6.233624\n",
      "Iowa                    7.070680\n",
      "Idaho                   5.134227\n",
      "Illinois                5.449138\n",
      "Indiana                 5.701856\n",
      "Kansas                  6.079074\n",
      "Kentucky                5.428138\n",
      "Louisiana               6.025946\n",
      "Massachusetts           6.210039\n",
      "Maryland                5.618937\n",
      "Maine                   5.606378\n",
      "Michigan                5.917829\n",
      "Minnesota               5.447912\n",
      "Missouri                5.119651\n",
      "Mississippi             5.182970\n",
      "Montana                 5.741175\n",
      "North Carolina          5.174797\n",
      "North Dakota            4.855001\n",
      "Nebraska                4.833342\n",
      "New Hampshire           4.898109\n",
      "New Jersey              5.265266\n",
      "New Mexico              4.557889\n",
      "Nevada                  5.130583\n",
      "New York                5.702800\n",
      "Ohio                    5.110347\n",
      "Oklahoma                5.498411\n",
      "Oregon                  7.205699\n",
      "Pennsylvania            4.953115\n",
      "Puerto Rico             5.340963\n",
      "Rhode Island            7.024677\n",
      "South Carolina          4.526149\n",
      "South Dakota            7.515050\n",
      "Tennessee               5.267265\n",
      "Texas                   5.257138\n",
      "Utah                    4.915544\n",
      "Virginia                5.222831\n",
      "Vermont                 5.240398\n",
      "Washington              5.041119\n",
      "Wisconsin               5.125018\n",
      "West Virginia           4.768572\n",
      "Wyoming                 5.416496\n",
      "Name: AvgTone, dtype: float32 4.526149 7.5150504\n",
      "ActionGeo_ADM1Code\n",
      "National               -1.154240\n",
      "Alaska                 -1.036427\n",
      "Alabama                -2.120097\n",
      "Arkansas               -0.247021\n",
      "Arizona                -1.706482\n",
      "California             -1.494408\n",
      "Colorado               -1.388745\n",
      "Connecticut            -0.744033\n",
      "District of Columbia   -1.474124\n",
      "Delaware               -0.211509\n",
      "Florida                -1.447013\n",
      "Georgia                -1.950890\n",
      "Hawaii                 -1.365099\n",
      "Iowa                   -1.766594\n",
      "Idaho                  -2.030431\n",
      "Illinois               -1.567520\n",
      "Indiana                -1.594114\n",
      "Kansas                 -1.662662\n",
      "Kentucky               -1.517767\n",
      "Louisiana              -2.083587\n",
      "Massachusetts          -0.722997\n",
      "Maryland               -1.052829\n",
      "Maine                  -1.359403\n",
      "Michigan               -0.727091\n",
      "Minnesota              -1.348470\n",
      "Missouri               -0.947691\n",
      "Mississippi            -2.428616\n",
      "Montana                -1.779572\n",
      "North Carolina         -1.117650\n",
      "North Dakota           -2.296369\n",
      "Nebraska               -1.624729\n",
      "New Hampshire          -0.535110\n",
      "New Jersey             -2.494128\n",
      "New Mexico             -1.805871\n",
      "Nevada                 -1.555296\n",
      "New York               -1.437144\n",
      "Ohio                   -1.888942\n",
      "Oklahoma               -1.735462\n",
      "Oregon                 -1.960209\n",
      "Pennsylvania           -1.354327\n",
      "Puerto Rico            -0.703633\n",
      "Rhode Island           -0.414671\n",
      "South Carolina         -4.432151\n",
      "South Dakota           -1.863624\n",
      "Tennessee              -1.327601\n",
      "Texas                  -1.591428\n",
      "Utah                   -1.679760\n",
      "Virginia               -1.468565\n",
      "Vermont                -0.261349\n",
      "Washington             -1.101405\n",
      "Wisconsin              -0.538499\n",
      "West Virginia          -1.625314\n",
      "Wyoming                -1.011960\n",
      "Name: AvgTone, dtype: float32 -4.432151 -0.21150923\n"
     ]
    }
   ],
   "source": [
    "avgtone_2008 = df_2008_usel.groupby('ActionGeo_ADM1Code')['AvgTone'] \\\n",
    "            .mean()[np.sort(df_2008_usel['ActionGeo_ADM1Code'].unique())] \\\n",
    "            .rename(state_dict)\n",
    "avgtone_2016 = df_2016_usel.groupby('ActionGeo_ADM1Code')['AvgTone'] \\\n",
    "            .mean()[np.sort(df_2016_usel['ActionGeo_ADM1Code'].unique())] \\\n",
    "            .rename(state_dict)\n",
    "        \n",
    "print(avgtone_2008, avgtone_2008.min(), avgtone_2008.max())\n",
    "print(avgtone_2016, avgtone_2016.min(), avgtone_2016.max())"
   ]
  },
  {
   "cell_type": "code",
   "execution_count": 22,
   "metadata": {},
   "outputs": [
    {
     "data": {
      "image/png": "[encoded data removed]",
      "text/plain": [
       "<Figure size 432x288 with 2 Axes>"
      ]
     },
     "metadata": {},
     "output_type": "display_data"
    }
   ],
   "source": [
    "fig, ax = plt.subplots()\n",
    "\n",
    "# Lambert Conformal map of lower 48 states.\n",
    "m = Basemap(llcrnrlon=-119,llcrnrlat=20,urcrnrlon=-64,urcrnrlat=49,\n",
    "            projection='lcc',lat_1=33,lat_2=45,lon_0=-95)\n",
    "\n",
    "# Mercator projection, for Alaska and Hawaii\n",
    "m_ = Basemap(llcrnrlon=-190,llcrnrlat=20,urcrnrlon=-143,urcrnrlat=46,\n",
    "projection='merc',lat_ts=20) # do not change these numbers\n",
    "\n",
    "#%% ---------   draw state boundaries  ----------------------------------------\n",
    "## data from U.S Census Bureau\n",
    "## http://www.census.gov/geo/www/cob/st2000.html\n",
    "shp_info = m.readshapefile('st99_d00','states',drawbounds=True,\n",
    "                           linewidth=0.45,color='gray')\n",
    "shp_info_ = m_.readshapefile('st99_d00','states',drawbounds=False)\n",
    "\n",
    "avgtone_2008_dict = avgtone_2008.to_dict()\n",
    "\n",
    "#%% -------- choose a color for each state based on population density. -------\n",
    "colors={}\n",
    "statenames=[]\n",
    "cmap = plt.cm.hot # use 'reversed hot' colormap\n",
    "vmin = 4.5; vmax = 7.6 # set range.\n",
    "norm = Normalize(vmin=vmin, vmax=vmax)\n",
    "for shapedict in m.states_info:\n",
    "    statename = shapedict['NAME']\n",
    "    # skip DC and Puerto Rico.\n",
    "    if statename not in ['District of Columbia','Puerto Rico']:\n",
    "        tone = avgtone_2008_dict[statename]\n",
    "        # calling colormap with value between 0 and 1 returns\n",
    "        # rgba value.  Invert color range (hot colors are high\n",
    "        # population), take sqrt root to spread out colors more.\n",
    "        colors[statename] = cmap(np.sqrt((tone-vmin)/(vmax-vmin)))[:3]\n",
    "    statenames.append(statename)\n",
    "    \n",
    "#%% ---------  cycle through state names, color each one.  --------------------\n",
    "for nshape,seg in enumerate(m.states):\n",
    "    # skip DC and Puerto Rico.\n",
    "    if statenames[nshape] not in ['Puerto Rico', 'District of Columbia']:\n",
    "        color = rgb2hex(colors[statenames[nshape]])\n",
    "        poly = Polygon(seg,facecolor=color,edgecolor=color)\n",
    "    ax.add_patch(poly)\n",
    "\n",
    "AREA_1 = 0.005  # exclude small Hawaiian islands that are smaller than AREA_1\n",
    "AREA_2 = AREA_1 * 30.0  # exclude Alaskan islands that are smaller than AREA_2\n",
    "AK_SCALE = 0.19  # scale down Alaska to show as a map inset\n",
    "HI_OFFSET_X = -1900000  # X coordinate offset amount to move Hawaii \"beneath\" Texas\n",
    "HI_OFFSET_Y = 250000    # similar to above: Y offset for Hawaii\n",
    "AK_OFFSET_X = -250000   # X offset for Alaska (These four values are obtained\n",
    "AK_OFFSET_Y = -750000 # via manual trial and error, thus changing them is not recommended.)\n",
    "\n",
    "for nshape, shapedict in enumerate(m_.states_info):  # plot Alaska and Hawaii as map insets\n",
    "    if shapedict['NAME'] in ['Alaska', 'Hawaii']:\n",
    "        seg = m_.states[int(shapedict['SHAPENUM'] - 1)]\n",
    "        if shapedict['NAME'] == 'Hawaii' and float(shapedict['AREA']) > AREA_1:\n",
    "            seg = [(x + HI_OFFSET_X, y + HI_OFFSET_Y) for x, y in seg]\n",
    "            color = rgb2hex(colors[statenames[nshape]])\n",
    "        elif shapedict['NAME'] == 'Alaska' and float(shapedict['AREA']) > AREA_2:\n",
    "            seg = [(x*AK_SCALE + AK_OFFSET_X, y*AK_SCALE + AK_OFFSET_Y)\\\n",
    "                   for x, y in seg]\n",
    "            color = rgb2hex(colors[statenames[nshape]])\n",
    "        poly = Polygon(seg, facecolor=color, edgecolor='gray', linewidth=.45)\n",
    "        ax.add_patch(poly)\n",
    "\n",
    "ax.set_title('Average Tone of News on Election Day')\n",
    "\n",
    "#%% ---------  Plot bounding boxes for Alaska and Hawaii insets  --------------\n",
    "light_gray = [0.8]*3  # define light gray color RGB\n",
    "x1,y1 = m_([-190,-183,-180,-180,-175,-171,-171],[29,29,26,26,26,22,20])\n",
    "x2,y2 = m_([-180,-180,-177],[26,23,20])  # these numbers are fine-tuned manually\n",
    "m_.plot(x1,y1,color=light_gray,linewidth=0.8)  # do not change them drastically\n",
    "m_.plot(x2,y2,color=light_gray,linewidth=0.8)\n",
    "\n",
    "#%% ---------   Show color bar  ---------------------------------------\n",
    "ax_c = fig.add_axes([0.9, 0.1, 0.03, 0.8])\n",
    "cb = ColorbarBase(ax_c,cmap=cmap,norm=norm,orientation='vertical',\n",
    "                  label=r'[average positivity]')\n",
    "\n",
    "plt.show()"
   ]
  },
  {
   "cell_type": "code",
   "execution_count": 23,
   "metadata": {},
   "outputs": [
    {
     "name": "stdout",
     "output_type": "stream",
     "text": [
      "0.21150923 4.432151\n"
     ]
    }
   ],
   "source": [
    "avgtone_2016_inv = avgtone_2016 * -1\n",
    "print(avgtone_2016_inv.min(), avgtone_2016_inv.max())"
   ]
  },
  {
   "cell_type": "code",
   "execution_count": 24,
   "metadata": {},
   "outputs": [
    {
     "data": {
      "image/png": "[encoded data removed]",
      "text/plain": [
       "<Figure size 432x288 with 2 Axes>"
      ]
     },
     "metadata": {},
     "output_type": "display_data"
    }
   ],
   "source": [
    "fig, ax = plt.subplots()\n",
    "\n",
    "# Lambert Conformal map of lower 48 states.\n",
    "m = Basemap(llcrnrlon=-119,llcrnrlat=20,urcrnrlon=-64,urcrnrlat=49,\n",
    "            projection='lcc',lat_1=33,lat_2=45,lon_0=-95)\n",
    "\n",
    "# Mercator projection, for Alaska and Hawaii\n",
    "m_ = Basemap(llcrnrlon=-190,llcrnrlat=20,urcrnrlon=-143,urcrnrlat=46,\n",
    "projection='merc',lat_ts=20) # do not change these numbers\n",
    "\n",
    "#%% ---------   draw state boundaries  ----------------------------------------\n",
    "## data from U.S Census Bureau\n",
    "## http://www.census.gov/geo/www/cob/st2000.html\n",
    "shp_info = m.readshapefile('st99_d00','states',drawbounds=True,\n",
    "                           linewidth=0.45,color='gray')\n",
    "shp_info_ = m_.readshapefile('st99_d00','states',drawbounds=False)\n",
    "\n",
    "avgtone_2016_dict = avgtone_2016.to_dict()\n",
    "\n",
    "#%% -------- choose a color for each state based on population density. -------\n",
    "colors={}\n",
    "statenames=[]\n",
    "cmap = plt.cm.hot # use 'reversed hot' colormap\n",
    "vmin = -4.5; vmax = -0.2 # set range.\n",
    "norm = Normalize(vmin=vmin, vmax=vmax)\n",
    "for shapedict in m.states_info:\n",
    "    statename = shapedict['NAME']\n",
    "    # skip DC and Puerto Rico.\n",
    "    if statename not in ['District of Columbia','Puerto Rico']:\n",
    "        tone = avgtone_2016_dict[statename]\n",
    "        # calling colormap with value between 0 and 1 returns\n",
    "        # rgba value.  Invert color range (hot colors are high\n",
    "        # population), take sqrt root to spread out colors more.\n",
    "        colors[statename] = cmap(np.sqrt((tone-vmin)/(vmax-vmin)))[:3]\n",
    "    statenames.append(statename)\n",
    "    \n",
    "#%% ---------  cycle through state names, color each one.  --------------------\n",
    "for nshape,seg in enumerate(m.states):\n",
    "    # skip DC and Puerto Rico.\n",
    "    if statenames[nshape] not in ['Puerto Rico', 'District of Columbia']:\n",
    "        color = rgb2hex(colors[statenames[nshape]])\n",
    "        poly = Polygon(seg,facecolor=color,edgecolor=color)\n",
    "    ax.add_patch(poly)\n",
    "\n",
    "AREA_1 = 0.005  # exclude small Hawaiian islands that are smaller than AREA_1\n",
    "AREA_2 = AREA_1 * 30.0  # exclude Alaskan islands that are smaller than AREA_2\n",
    "AK_SCALE = 0.19  # scale down Alaska to show as a map inset\n",
    "HI_OFFSET_X = -1900000  # X coordinate offset amount to move Hawaii \"beneath\" Texas\n",
    "HI_OFFSET_Y = 250000    # similar to above: Y offset for Hawaii\n",
    "AK_OFFSET_X = -250000   # X offset for Alaska (These four values are obtained\n",
    "AK_OFFSET_Y = -750000 # via manual trial and error, thus changing them is not recommended.)\n",
    "\n",
    "for nshape, shapedict in enumerate(m_.states_info):  # plot Alaska and Hawaii as map insets\n",
    "    if shapedict['NAME'] in ['Alaska', 'Hawaii']:\n",
    "        seg = m_.states[int(shapedict['SHAPENUM'] - 1)]\n",
    "        if shapedict['NAME'] == 'Hawaii' and float(shapedict['AREA']) > AREA_1:\n",
    "            seg = [(x + HI_OFFSET_X, y + HI_OFFSET_Y) for x, y in seg]\n",
    "            color = rgb2hex(colors[statenames[nshape]])\n",
    "        elif shapedict['NAME'] == 'Alaska' and float(shapedict['AREA']) > AREA_2:\n",
    "            seg = [(x*AK_SCALE + AK_OFFSET_X, y*AK_SCALE + AK_OFFSET_Y)\\\n",
    "                   for x, y in seg]\n",
    "            color = rgb2hex(colors[statenames[nshape]])\n",
    "        poly = Polygon(seg, facecolor=color, edgecolor='gray', linewidth=.45)\n",
    "        ax.add_patch(poly)\n",
    "\n",
    "ax.set_title('Average Tone of News on Election Day')\n",
    "\n",
    "#%% ---------  Plot bounding boxes for Alaska and Hawaii insets  --------------\n",
    "light_gray = [0.8]*3  # define light gray color RGB\n",
    "x1,y1 = m_([-190,-183,-180,-180,-175,-171,-171],[29,29,26,26,26,22,20])\n",
    "x2,y2 = m_([-180,-180,-177],[26,23,20])  # these numbers are fine-tuned manually\n",
    "m_.plot(x1,y1,color=light_gray,linewidth=0.8)  # do not change them drastically\n",
    "m_.plot(x2,y2,color=light_gray,linewidth=0.8)\n",
    "\n",
    "#%% ---------   Show color bar  ---------------------------------------\n",
    "ax_c = fig.add_axes([0.9, 0.1, 0.03, 0.8])\n",
    "cb = ColorbarBase(ax_c,cmap=cmap,norm=norm,orientation='vertical',\n",
    "                  label=r'[population per $\\mathregular{km^2}$]')\n",
    "\n",
    "plt.show()"
   ]
  },
  {
   "cell_type": "code",
   "execution_count": null,
   "metadata": {
    "collapsed": true
   },
   "outputs": [],
   "source": []
  }
 ],
 "metadata": {
  "kernelspec": {
   "display_name": "Python [default]",
   "language": "python",
   "name": "python3"
  },
  "language_info": {
   "codemirror_mode": {
    "name": "ipython",
    "version": 3
   },
   "file_extension": ".py",
   "mimetype": "text/x-python",
   "name": "python",
   "nbconvert_exporter": "python",
   "pygments_lexer": "ipython3",
   "version": "3.6.2"
  }
 },
 "nbformat": 4,
 "nbformat_minor": 2
}
