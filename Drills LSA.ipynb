{
 "cells": [
  {
   "cell_type": "code",
   "execution_count": 1,
   "metadata": {
    "run_control": {
     "frozen": false,
     "read_only": false
    }
   },
   "outputs": [],
   "source": [
    "import numpy as np\n",
    "import pandas as pd\n",
    "import scipy\n",
    "import matplotlib.pyplot as plt\n",
    "import seaborn as sns\n",
    "%matplotlib inline"
   ]
  },
  {
   "cell_type": "code",
   "execution_count": 2,
   "metadata": {
    "run_control": {
     "frozen": false,
     "read_only": false
    }
   },
   "outputs": [
    {
     "name": "stdout",
     "output_type": "stream",
     "text": [
      "[nltk_data] Downloading package gutenberg to\n",
      "[nltk_data]     C:\\Users\\e.istre91\\AppData\\Roaming\\nltk_data...\n",
      "[nltk_data]   Package gutenberg is already up-to-date!\n",
      "['[ Emma by Jane Austen 1816 ]', 'VOLUME I', 'CHAPTER I', 'Emma Woodhouse , handsome , clever , and rich , with a comfortable home and happy disposition , seemed to unite some of the best blessings of existence ; and had lived nearly twenty - one years in the world with very little to distress or vex her .']\n"
     ]
    }
   ],
   "source": [
    "import nltk\n",
    "from nltk.corpus import gutenberg\n",
    "nltk.download('gutenberg')\n",
    "import re\n",
    "from sklearn.model_selection import train_test_split\n",
    "\n",
    "#reading in the data, this time in the form of paragraphs\n",
    "emma=gutenberg.paras('austen-emma.txt')\n",
    "#processing\n",
    "emma_paras=[]\n",
    "for paragraph in emma:\n",
    "    para=paragraph[0]\n",
    "    #removing the double-dash from all words\n",
    "    para=[re.sub(r'--','',word) for word in para]\n",
    "    #Forming each paragraph into a string and adding it to the list of strings.\n",
    "    emma_paras.append(' '.join(para))\n",
    "\n",
    "print(emma_paras[0:4])"
   ]
  },
  {
   "cell_type": "markdown",
   "metadata": {
    "run_control": {
     "frozen": false,
     "read_only": false
    }
   },
   "source": [
    "# tfidf in sklearn\n",
    "\n",
    "Happily for us, sklearn has a tfidf function that will do all our heavy lifting.  It also has a [very long list of stop words](https://github.com/scikit-learn/scikit-learn/blob/master/sklearn/feature_extraction/stop_words.py).  Since we're going to be doing dimension reduction later on anyway, let's keep all the words for now."
   ]
  },
  {
   "cell_type": "code",
   "execution_count": 3,
   "metadata": {
    "run_control": {
     "frozen": false,
     "read_only": false
    },
    "scrolled": false
   },
   "outputs": [
    {
     "name": "stdout",
     "output_type": "stream",
     "text": [
      "Number of features: 1948\n",
      "Original sentence: A very few minutes more , however , completed the present trial .\n",
      "Tf_idf vector: {'minutes': 0.7127450310382584, 'present': 0.701423210857947}\n"
     ]
    }
   ],
   "source": [
    "from sklearn.feature_extraction.text import TfidfVectorizer\n",
    "\n",
    "X_train, X_test = train_test_split(emma_paras, test_size=0.4, random_state=0)\n",
    "\n",
    "vectorizer = TfidfVectorizer(max_df=0.5, # drop words that occur in more than half the paragraphs\n",
    "                             min_df=2, # only use words that appear at least twice\n",
    "                             stop_words='english', \n",
    "                             lowercase=True, #convert everything to lower case (since Alice in Wonderland has the HABIT of CAPITALIZING WORDS for EMPHASIS)\n",
    "                             use_idf=True,#we definitely want to use inverse document frequencies in our weighting\n",
    "                             norm=u'l2', #Applies a correction factor so that longer paragraphs and shorter paragraphs get treated equally\n",
    "                             smooth_idf=True #Adds 1 to all document frequencies, as if an extra document existed that used every word once.  Prevents divide-by-zero errors\n",
    "                            )\n",
    "\n",
    "\n",
    "#Applying the vectorizer\n",
    "emma_paras_tfidf=vectorizer.fit_transform(emma_paras)\n",
    "print(\"Number of features: %d\" % emma_paras_tfidf.get_shape()[1])\n",
    "\n",
    "#splitting into training and test sets\n",
    "X_train_tfidf, X_test_tfidf= train_test_split(emma_paras_tfidf, test_size=0.4, random_state=0)\n",
    "\n",
    "\n",
    "#Reshapes the vectorizer output into something people can read\n",
    "X_train_tfidf_csr = X_train_tfidf.tocsr()\n",
    "\n",
    "#number of paragraphs\n",
    "n = X_train_tfidf_csr.shape[0]\n",
    "#A list of dictionaries, one per paragraph\n",
    "tfidf_bypara = [{} for _ in range(0,n)]\n",
    "#List of features\n",
    "terms = vectorizer.get_feature_names()\n",
    "#for each paragraph, lists the feature words and their tf-idf scores\n",
    "for i, j in zip(*X_train_tfidf_csr.nonzero()):\n",
    "    tfidf_bypara[i][terms[j]] = X_train_tfidf_csr[i, j]\n",
    "\n",
    "#Keep in mind that the log base 2 of 1 is 0, so a tf-idf score of 0 indicates that the word was present once in that sentence.\n",
    "print('Original sentence:', X_train[5])\n",
    "print('Tf_idf vector:', tfidf_bypara[5])"
   ]
  },
  {
   "cell_type": "code",
   "execution_count": 4,
   "metadata": {
    "run_control": {
     "frozen": false,
     "read_only": false
    },
    "scrolled": false
   },
   "outputs": [
    {
     "name": "stdout",
     "output_type": "stream",
     "text": [
      "Percent variance captured by all components: 45.20058001116891\n",
      "Component 0:\n",
      "\" Oh !    0.999286\n",
      "\" Oh !    0.999286\n",
      "\" Oh !    0.999286\n",
      "\" Oh !    0.999286\n",
      "\" Oh !    0.999286\n",
      "\" Oh !    0.999286\n",
      "\" Oh !    0.999286\n",
      "\" Oh !    0.999286\n",
      "\" Oh !    0.999286\n",
      "\" Oh !    0.999286\n",
      "Name: 0, dtype: float64\n",
      "Component 1:\n",
      "\" You have made her too tall , Emma ,\" said Mr . Knightley .                                                                                                                0.634426\n",
      "\" You get upon delicate subjects , Emma ,\" said Mrs . Weston smiling ; \" remember that I am here . Mr .                                                                     0.575114\n",
      "\" You are right , Mrs . Weston ,\" said Mr . Knightley warmly , \" Miss Fairfax is as capable as any of us of forming a just opinion of Mrs . Elton .                         0.564991\n",
      "\" I do not know what your opinion may be , Mrs . Weston ,\" said Mr . Knightley , \" of this great intimacy between Emma and Harriet Smith , but I think it a bad thing .\"    0.561862\n",
      "\" There were misunderstandings between them , Emma ; he said so expressly .                                                                                                 0.528383\n",
      "Mr . Knightley might quarrel with her , but Emma could not quarrel with herself .                                                                                           0.526602\n",
      "\" Now ,\" said Emma , when they were fairly beyond the sweep gates , \" now Mr . Weston , do let me know what has happened .\"                                                 0.513063\n",
      "Emma found that it was not Mr . Weston ' s fault that the number of privy councillors was not yet larger .                                                                  0.509320\n",
      "Emma could not have desired a more spirited rejection of Mr . Martin ' s prose .                                                                                            0.508556\n",
      "\" In one respect , perhaps , Mr . Elton ' s manners are superior to Mr . Knightley ' s or Mr . Weston ' s .                                                                 0.505367\n",
      "Name: 1, dtype: float64\n",
      "Component 2:\n",
      "CHAPTER V      0.998681\n",
      "CHAPTER V      0.998681\n",
      "CHAPTER X      0.998681\n",
      "CHAPTER I      0.998681\n",
      "CHAPTER X      0.998681\n",
      "CHAPTER V      0.998681\n",
      "CHAPTER X      0.998681\n",
      "CHAPTER I      0.998681\n",
      "CHAPTER I      0.998681\n",
      "CHAPTER XII    0.997592\n",
      "Name: 2, dtype: float64\n",
      "Component 3:\n",
      "\" Ah !      0.992918\n",
      "But ah !    0.992918\n",
      "\" Ah !      0.992918\n",
      "\" Ah !      0.992918\n",
      "\" Ah !      0.992918\n",
      "\" Ah !      0.992918\n",
      "\" Ah !      0.992918\n",
      "\" Ah !\"     0.992918\n",
      "\" Ah !      0.992918\n",
      "\" Ah !      0.992918\n",
      "Name: 3, dtype: float64\n",
      "Component 4:\n",
      "\" There were misunderstandings between them , Emma ; he said so expressly .    0.650628\n",
      "Emma demurred .                                                                0.598010\n",
      "\" Are you well , my Emma ?\"                                                    0.598010\n",
      "Emma was silenced .                                                            0.585633\n",
      "At first it was downright dulness to Emma .                                    0.584829\n",
      "\" It is not now worth a regret ,\" said Emma .                                  0.578725\n",
      "\" Emma , my dear Emma \"                                                        0.576553\n",
      "Emma could not resist .                                                        0.564599\n",
      "\" For shame , Emma !                                                           0.541851\n",
      "\" I am ready ,\" said Emma , \" whenever I am wanted .\"                          0.494290\n",
      "Name: 4, dtype: float64\n"
     ]
    }
   ],
   "source": [
    "from sklearn.decomposition import TruncatedSVD\n",
    "from sklearn.pipeline import make_pipeline\n",
    "from sklearn.preprocessing import Normalizer\n",
    "\n",
    "#Our SVD data reducer.  We are going to reduce the feature space from 1379 to 130.\n",
    "svd= TruncatedSVD(130)\n",
    "lsa = make_pipeline(svd, Normalizer(copy=False))\n",
    "# Run SVD on the training data, then project the training data.\n",
    "X_train_lsa = lsa.fit_transform(X_train_tfidf)\n",
    "\n",
    "variance_explained=svd.explained_variance_ratio_\n",
    "total_variance = variance_explained.sum()\n",
    "print(\"Percent variance captured by all components:\",total_variance*100)\n",
    "\n",
    "#Looking at what sorts of paragraphs our solution considers similar, for the first five identified topics\n",
    "paras_by_component=pd.DataFrame(X_train_lsa,index=X_train)\n",
    "for i in range(5):\n",
    "    print('Component {}:'.format(i))\n",
    "    print(paras_by_component.loc[:,i].sort_values(ascending=False)[0:10])\n",
    "\n",
    "\n"
   ]
  },
  {
   "cell_type": "markdown",
   "metadata": {
    "run_control": {
     "frozen": false,
     "read_only": false
    }
   },
   "source": [
    "Not much similarity at all except between sentences 8 and 9, both of which seem to describe people getting along well.\n",
    "\n",
    "# Drill 0: Test set\n",
    "\n",
    "Now it's your turn: Apply our LSA model to the test set.  Does it identify similar sentences for components 0 through 4?  "
   ]
  },
  {
   "cell_type": "code",
   "execution_count": 5,
   "metadata": {
    "run_control": {
     "frozen": false,
     "read_only": false
    },
    "scrolled": true
   },
   "outputs": [
    {
     "name": "stdout",
     "output_type": "stream",
     "text": [
      "Component 0:\n",
      "\" Oh !       0.999286\n",
      "\" Oh !       0.999286\n",
      "\" Oh no !    0.999286\n",
      "\" Oh !       0.999286\n",
      "\" Oh !       0.999286\n",
      "\" Oh !       0.999286\n",
      "\" Oh !\"      0.999286\n",
      "\" Oh !       0.999286\n",
      "\" Oh !       0.999286\n",
      "\" Oh !       0.999286\n",
      "Name: 0, dtype: float64\n",
      "Component 1:\n",
      "\" Well , Mrs . Weston ,\" said Emma triumphantly when he left them , \" what do you say now to Mr . Knightley ' s marrying Jane Fairfax ?\"                                                                                                                                                                                                                                                                                                                                                                          0.675050\n",
      "Frank turned instantly to Emma , to claim her former promise ; and boasted himself an engaged man , which his father looked his most perfect approbation of  and it then appeared that Mrs . Weston was wanting _him_ to dance with Mrs . Elton himself , and that their business was to help to persuade him into it , which was done pretty soon . Mr . Weston and Mrs . Elton led the way , Mr . Frank Churchill and Miss Woodhouse followed .                                                                 0.601996\n",
      "\" He is a person I never think of from one month ' s end to another ,\" said Mr . Knightley , with a degree of vexation , which made Emma immediately talk of something else , though she could not comprehend why he should be angry .                                                                                                                                                                                                                                                                            0.572314\n",
      "In this walk Emma and Mr . Weston found all the others assembled ; and towards this view she immediately perceived Mr . Knightley and Harriet distinct from the rest , quietly leading the way .                                                                                                                                                                                                                                                                                                                  0.567275\n",
      "After tea , Mr . and Mrs . Weston , and Mr . Elton sat down with Mr . Woodhouse to cards .                                                                                                                                                                                                                                                                                                                                                                                                                        0.566018\n",
      "The result of this distress was , that , with a much more voluntary , cheerful consent than his daughter had ever presumed to hope for at the moment , she was able to fix her wedding - day  and Mr . Elton was called on , within a month from the marriage of Mr . and Mrs . Robert Martin , to join the hands of Mr . Knightley and Miss Woodhouse .                                                                                                                                                          0.561200\n",
      "\" Mrs . Weston ' s manners ,\" said Emma , \" were always particularly good .                                                                                                                                                                                                                                                                                                                                                                                                                                       0.541787\n",
      "Emma was more than half in hopes of Mr . Elton ' s having dropt a hint .                                                                                                                                                                                                                                                                                                                                                                                                                                          0.535370\n",
      "He had frightened her a little about Mr . Elton ; but when she considered that Mr . Knightley could not have observed him as she had done , neither with the interest , nor ( she must be allowed to tell herself , in spite of Mr . Knightley ' s pretensions ) with the skill of such an observer on such a question as herself , that he had spoken it hastily and in anger , she was able to believe , that he had rather said what he wished resentfully to be true , than what he knew any thing about .    0.533783\n",
      "\" Well ,\" said Emma , \" there is no disputing about taste . At least you admire her except her complexion .\"                                                                                                                                                                                                                                                                                                                                                                                                      0.532659\n",
      "Name: 1, dtype: float64\n",
      "Component 2:\n",
      "CHAPTER XVIII    0.998681\n",
      "CHAPTER XVIII    0.998681\n",
      "CHAPTER XVIII    0.998681\n",
      "CHAPTER XV       0.998681\n",
      "CHAPTER XV       0.998681\n",
      "CHAPTER XV       0.998681\n",
      "CHAPTER XIX      0.998681\n",
      "CHAPTER XII      0.997592\n",
      "CHAPTER XII      0.997592\n",
      "CHAPTER VI       0.997580\n",
      "Name: 2, dtype: float64\n",
      "Component 3:\n",
      "\" Ah !     0.992918\n",
      "\" Ah !\"    0.992918\n",
      "\" Ah !\"    0.992918\n",
      "\" Ah !     0.992918\n",
      "\" Ah !     0.992918\n",
      "\" Ah !     0.992918\n",
      "\" Ah !     0.992918\n",
      "\" Ah !     0.992918\n",
      "\" Ah !     0.992918\n",
      "\" Ah !     0.992918\n",
      "Name: 3, dtype: float64\n",
      "Component 4:\n",
      "\" No , no ,\" said Emma , \" it will not reckon low .                                                             0.631000\n",
      "Nobody had any information to give ; and , after a few more wonderings , Emma said ,                            0.630964\n",
      "\" Well ,\" said Emma , \" there is no disputing about taste . At least you admire her except her complexion .\"    0.620873\n",
      "\" Emma !\"                                                                                                       0.598010\n",
      "Emma had done .                                                                                                 0.598010\n",
      "\" My Emma !\"                                                                                                    0.598010\n",
      "Emma wondered on what , of all the medley , she would fix .                                                     0.594009\n",
      "\" And I do envy him , Emma .                                                                                    0.593308\n",
      "\" Emma ,\" said she , \" this paper is worse than I expected .                                                    0.583926\n",
      "\" No ,\" said Emma , laughing ; \" but perhaps there might be some made to his coming back again .                0.553912\n",
      "Name: 4, dtype: float64\n"
     ]
    }
   ],
   "source": [
    "# Remember, you will use the same model, only with the test set data.  Don't fit a new model by mistake!\n",
    "X_test_lsa = lsa.transform(X_test_tfidf)\n",
    "\n",
    "paras_by_component=pd.DataFrame(X_test_lsa,index=X_test)\n",
    "for i in range(5):\n",
    "    print('Component {}:'.format(i))\n",
    "    print(paras_by_component.loc[:,i].sort_values(ascending=False)[0:10])"
   ]
  },
  {
   "cell_type": "markdown",
   "metadata": {
    "run_control": {
     "frozen": false,
     "read_only": false
    }
   },
   "source": [
    "# Drill 1: Tweaking tf-idf\n",
    "\n",
    "Go back up to the code where we originally translated the text from words to numbers.  There are a lot of decision-points here, from the stop list to the thresholds for inclusion and exclusion, and many others as well.  We also didn't integrate spaCy, and so don't have info on lemmas or Named Entities.  Change things up a few times and see how that affects the results of the LSA.  Write up your observations and share them with your mentor."
   ]
  },
  {
   "cell_type": "code",
   "execution_count": 6,
   "metadata": {
    "run_control": {
     "frozen": false,
     "read_only": false
    }
   },
   "outputs": [
    {
     "name": "stdout",
     "output_type": "stream",
     "text": [
      "Number of features: 2178\n",
      "Component 0:\n",
      "Mrs . Weston was acting no part , feigning no feelings in all that she said to him in favour of the event . She had been extremely surprized , never more so , than when Emma first opened the affair to her ; but she saw in it only increase of happiness to all , and had no scruple in urging him to the utmost . She had such a regard for Mr . Knightley , as to think he deserved even her dearest Emma ; and it was in every respect so proper , suitable , and unexceptionable a connexion , and in one respect , one point of the highest importance , so peculiarly eligible , so singularly fortunate , that now it seemed as if Emma could not safely have attached herself to any other creature , and that she had herself been the stupidest of beings in not having thought of it , and wished it long ago . How very few of those men in a rank of life to address Emma would have renounced their own home for Hartfield !                                                                                                            0.760180\n",
      "This was the amount of the whole story , of his communication and of Harriet ' s as soon as she had recovered her senses and speech . He dared not stay longer than to see her well ; these several delays left him not another minute to lose ; and Emma engaging to give assurance of her safety to Mrs . Goddard , and notice of there being such a set of people in the neighbourhood to Mr . Knightley , he set off , with all the grateful blessings that she could utter for her friend and herself .                                                                                                                                                                                                                                                                                                                                                                                                                                                                                                                                             0.738449\n",
      "To restrain him as much as might be , by her own manners , she was immediately preparing to speak with exquisite calmness and gravity of the weather and the night ; but scarcely had she begun , scarcely had they passed the sweep - gate and joined the other carriage , than she found her subject cut up  her hand seized  her attention demanded , and Mr . Elton actually making violent love to her : availing himself of the precious opportunity , declaring sentiments which must be already well known , hoping  fearing  adoring  ready to die if she refused him ; but flattering himself that his ardent attachment and unequalled love and unexampled passion could not fail of having some effect , and in short , very much resolved on being seriously accepted as soon as possible .                                                                                                                                                                                                                                                 0.686323\n",
      "The charming Augusta Hawkins , in addition to all the usual advantages of perfect beauty and merit , was in possession of an independent fortune , of so many thousands as would always be called ten ; a point of some dignity , as well as some convenience : the story told well ; he had not thrown himself away  he had gained a woman of 10 , 000 l . or thereabouts ; and he had gained her with such delightful rapidity  the first hour of introduction had been so very soon followed by distinguishing notice ; the history which he had to give Mrs . Cole of the rise and progress of the affair was so glorious  the steps so quick , from the accidental rencontre , to the dinner at Mr . Green ' s , and the party at Mrs . Brown ' s  smiles and blushes rising in importance  with consciousness and agitation richly scattered  the lady had been so easily impressed  so sweetly disposed  had in short , to use a most intelligible phrase , been so very ready to have him , that vanity and prudence were equally contented .    0.679413\n",
      "Emma saw Mrs . Weston ' s surprize , and felt that it must be great , at an address which , in words and manner , was assuming to himself the right of first interest in her ; and as for herself , she was too much provoked and offended to have the power of directly saying any thing to the purpose .                                                                                                                                                                                                                                                                                                                                                                                                                                                                                                                                                                                                                                                                                                                                               0.670559\n",
      "She felt all the honest pride and complacency which her alliance with the present and future proprietor could fairly warrant , as she viewed the respectable size and style of the building , its suitable , becoming , characteristic situation , low and sheltered  its ample gardens stretching down to meadows washed by a stream , of which the Abbey , with all the old neglect of prospect , had scarcely a sight  and its abundance of timber in rows and avenues , which neither fashion nor extravagance had rooted up . The house was larger than Hartfield , and totally unlike it , covering a good deal of ground , rambling and irregular , with many comfortable , and one or two handsome rooms . It was just what it ought to be , and it looked what it was  and Emma felt an increasing respect for it , as the residence of a family of such true gentility , untainted in blood and understanding . Some faults of temper John Knightley had ; but Isabella had connected herself unexceptionably .                                0.669941\n",
      "Mr . Weston meanwhile , perfectly unsuspicious of the indignation he was exciting , happy and cheerful as usual , and with all the right of being principal talker , which a day spent anywhere from home confers , was making himself agreeable among the rest ; and having satisfied the inquiries of his wife as to his dinner , convincing her that none of all her careful directions to the servants had been forgotten , and spread abroad what public news he had heard , was proceeding to a family communication , which , though principally addressed to Mrs . Weston , he had not the smallest doubt of being highly interesting to every body in the room .                                                                                                                                                                                                                                                                                                                                                                                0.663257\n",
      "\" Why , to own the truth ,\" cried Miss Bates , who had been trying in vain to be heard the last two minutes , \" if I must speak on this subject , there is no denying that Mr . Frank Churchill might have  I do not mean to say that he did not dream it  I am sure I have sometimes the oddest dreams in the world  but if I am questioned about it , I must acknowledge that there was such an idea last spring ; for Mrs . Perry herself mentioned it to my mother , and the Coles knew of it as well as ourselves  but it was quite a secret , known to nobody else , and only thought of about three days .                                                                                                                                                                                                                                                                                                                                                                                                                                        0.658718\n",
      "Emma could not forgive her ; but as neither provocation nor resentment were discerned by Mr . Knightley , who had been of the party , and had seen only proper attention and pleasing behaviour on each side , he was expressing the next morning , being at Hartfield again on business with Mr . Woodhouse , his approbation of the whole ; not so openly as he might have done had her father been out of the room , but speaking plain enough to be very intelligible to Emma .                                                                                                                                                                                                                                                                                                                                                                                                                                                                                                                                                                      0.656331\n",
      "This was a pleasure which perhaps the whole day ' s visit might not afford , which certainly did not belong to the present half - hour ; but the very sight of Mrs . Weston , her smile , her touch , her voice was grateful to Emma , and she determined to think as little as possible of Mr . Elton ' s oddities , or of any thing else unpleasant , and enjoy all that was enjoyable to the utmost .                                                                                                                                                                                                                                                                                                                                                                                                                                                                                                                                                                                                                                                 0.654718\n"
     ]
    },
    {
     "name": "stdout",
     "output_type": "stream",
     "text": [
      "Name: 0, dtype: float64\n",
      "Component 1:\n",
      "\" Oh !     0.998764\n",
      "\" Oh !     0.998764\n",
      "\" Oh !     0.998764\n",
      "\" Oh !\"    0.998764\n",
      "\" Oh !     0.998764\n",
      "\" Oh !     0.998764\n",
      "\" Oh !     0.998764\n",
      "\" Oh !     0.998764\n",
      "\" Oh !     0.998764\n",
      "Oh !       0.998764\n",
      "Name: 1, dtype: float64\n",
      "Component 2:\n",
      "\" Indeed you injure me if you suppose me unconvinced .                                                                                                                                                                        0.521047\n",
      "\" You will not ask me what is the point of envy . You are determined , I see , to have no curiosity . You are wise  but _I_ cannot be wise .                                                                                  0.514504\n",
      "\" He appears rough to you ,\" said Emma , \" because you are so very gentle yourself ; but if you could compare him with other papas , you would not think him rough .                                                          0.498481\n",
      "\" You surprize me !                                                                                                                                                                                                           0.488343\n",
      "\" You have some news to hear , now you are come back , that will rather surprize you .\"                                                                                                                                       0.465138\n",
      "\" Thank you , dear Miss Woodhouse , you are all kindness . It is impossible to say  Yes , indeed , I quite understand  dearest Jane ' s prospects  that is , I do not mean . But she is charmingly recovered . How is Mr .    0.460207\n",
      "\" You would not have encouraged me , then , if you had understood me ?                                                                                                                                                        0.457425\n",
      "\" I am very glad you did , and that you communicated it to me .                                                                                                                                                               0.448462\n",
      "\" Come ,\" said she , \" I will tell you something , in return for what you have told me .                                                                                                                                      0.441403\n",
      "\" You are comfortable because you are under command .\"                                                                                                                                                                        0.437645\n",
      "Name: 2, dtype: float64\n",
      "Component 3:\n",
      "CHAPTER I       0.998797\n",
      "CHAPTER V       0.998797\n",
      "CHAPTER X       0.998797\n",
      "CHAPTER X       0.998797\n",
      "CHAPTER V       0.998797\n",
      "CHAPTER X       0.998797\n",
      "CHAPTER V       0.998797\n",
      "CHAPTER I       0.998797\n",
      "CHAPTER I       0.998797\n",
      "CHAPTER XVII    0.997845\n",
      "Name: 3, dtype: float64\n",
      "Component 4:\n",
      "\" Ah !     0.992038\n",
      "\" Ah !     0.992038\n",
      "\" Ah !     0.992038\n",
      "\" Ah !     0.992038\n",
      "\" Ah !     0.992038\n",
      "\" Ah !     0.992038\n",
      "\" Ah !     0.992038\n",
      "\" Ah !     0.992038\n",
      "\" Ah !     0.992038\n",
      "\" Ah !\"    0.992038\n",
      "Name: 4, dtype: float64\n"
     ]
    }
   ],
   "source": [
    "#Tweaks Go Here\n",
    "X_train, X_test = train_test_split(emma_paras, test_size=0.4, random_state=0)\n",
    "\n",
    "vectorizer = TfidfVectorizer(max_df=0.5, # drop words that occur in more than half the paragraphs\n",
    "                             min_df=2, # only use words that appear at least twice\n",
    "                             # stop_words='english', \n",
    "                             lowercase=True, #convert everything to lower case (since Alice in Wonderland has the HABIT of CAPITALIZING WORDS for EMPHASIS)\n",
    "                             use_idf=True,#we definitely want to use inverse document frequencies in our weighting\n",
    "                             norm=u'l2', #Applies a correction factor so that longer paragraphs and shorter paragraphs get treated equally\n",
    "                             smooth_idf=True #Adds 1 to all document frequencies, as if an extra document existed that used every word once.  Prevents divide-by-zero errors\n",
    "                            )\n",
    "\n",
    "\n",
    "#Applying the vectorizer\n",
    "emma_paras_tfidf=vectorizer.fit_transform(emma_paras)\n",
    "print(\"Number of features: %d\" % emma_paras_tfidf.get_shape()[1])\n",
    "\n",
    "#splitting into training and test sets\n",
    "X_train_tfidf, X_test_tfidf= train_test_split(emma_paras_tfidf, test_size=0.4, random_state=0)\n",
    "\n",
    "# Remember, you will use the same model, only with the test set data.  Don't fit a new model by mistake!\n",
    "X_train_lsa = lsa.fit_transform(X_train_tfidf)\n",
    "\n",
    "paras_by_component=pd.DataFrame(X_train_lsa,index=X_train)\n",
    "for i in range(5):\n",
    "    print('Component {}:'.format(i))\n",
    "    print(paras_by_component.loc[:,i].sort_values(ascending=False)[0:10])"
   ]
  },
  {
   "cell_type": "code",
   "execution_count": 7,
   "metadata": {},
   "outputs": [
    {
     "name": "stdout",
     "output_type": "stream",
     "text": [
      "Number of features: 2174\n",
      "Component 0:\n",
      "\" Oh !     0.780336\n",
      "\" Oh !     0.780336\n",
      "\" Oh !     0.780336\n",
      "\" Oh !\"    0.780336\n",
      "\" Oh !     0.780336\n",
      "\" Oh !     0.780336\n",
      "\" Oh !     0.780336\n",
      "\" Oh !     0.780336\n",
      "\" Oh !     0.780336\n",
      "\" Oh !     0.780336\n",
      "Name: 0, dtype: float64\n",
      "Component 1:\n",
      "\" Oh !     0.624634\n",
      "\" Oh !     0.624634\n",
      "\" Oh !     0.624634\n",
      "\" Oh !     0.624634\n",
      "\" Oh !\"    0.624634\n",
      "\" Oh !     0.624634\n",
      "\" Oh !\"    0.624634\n",
      "\" Oh !     0.624634\n",
      "\" Oh !     0.624634\n",
      "\" Oh !\"    0.624634\n",
      "Name: 1, dtype: float64\n",
      "Component 2:\n",
      "\" You will not ask me what is the point of envy . You are determined , I see , to have no curiosity . You are wise  but _I_ cannot be wise .                            0.555348\n",
      "\" Indeed you injure me if you suppose me unconvinced .                                                                                                                  0.539763\n",
      "\" You surprize me !                                                                                                                                                     0.527842\n",
      "\" You are comfortable because you are under command .\"                                                                                                                  0.486004\n",
      "\" You have some news to hear , now you are come back , that will rather surprize you .\"                                                                                 0.480369\n",
      "\" I am very glad you did , and that you communicated it to me .                                                                                                         0.470188\n",
      "\" You are very kind  but you are mistaken  and I must set you right . I am not in want of that sort of compassion .                                                     0.463674\n",
      "\" You are right .                                                                                                                                                       0.459859\n",
      "\" He appears rough to you ,\" said Emma , \" because you are so very gentle yourself ; but if you could compare him with other papas , you would not think him rough .    0.439482\n",
      "\" Have you indeed , sir ? Bless me !                                                                                                                                    0.435716\n",
      "Name: 2, dtype: float64\n",
      "Component 3:\n",
      "CHAPTER I       0.998654\n",
      "CHAPTER X       0.998654\n",
      "CHAPTER V       0.998654\n",
      "CHAPTER X       0.998654\n",
      "CHAPTER I       0.998654\n",
      "CHAPTER I       0.998654\n",
      "CHAPTER X       0.998654\n",
      "CHAPTER V       0.998654\n",
      "CHAPTER V       0.998654\n",
      "CHAPTER XIII    0.997544\n",
      "Name: 3, dtype: float64\n",
      "Component 4:\n",
      "\" Ah !     0.993037\n",
      "\" Ah !     0.993037\n",
      "\" Ah !     0.993037\n",
      "\" Ah !     0.993037\n",
      "\" Ah !     0.993037\n",
      "\" Ah !     0.993037\n",
      "\" Ah !     0.993037\n",
      "\" Ah !\"    0.993037\n",
      "\" Ah !     0.993037\n",
      "\" Ah !     0.993037\n",
      "Name: 4, dtype: float64\n"
     ]
    }
   ],
   "source": [
    "#Tweaks Go Here\n",
    "X_train, X_test = train_test_split(emma_paras, test_size=0.4, random_state=0)\n",
    "\n",
    "vectorizer = TfidfVectorizer(max_df=0.25, # drop words that occur in more than half the paragraphs\n",
    "                             min_df=2, # only use words that appear at least twice\n",
    "                             # stop_words='english', \n",
    "                             lowercase=True, #convert everything to lower case (since Alice in Wonderland has the HABIT of CAPITALIZING WORDS for EMPHASIS)\n",
    "                             use_idf=True,#we definitely want to use inverse document frequencies in our weighting\n",
    "                             norm=u'l2', #Applies a correction factor so that longer paragraphs and shorter paragraphs get treated equally\n",
    "                             smooth_idf=True #Adds 1 to all document frequencies, as if an extra document existed that used every word once.  Prevents divide-by-zero errors\n",
    "                            )\n",
    "\n",
    "\n",
    "#Applying the vectorizer\n",
    "emma_paras_tfidf=vectorizer.fit_transform(emma_paras)\n",
    "print(\"Number of features: %d\" % emma_paras_tfidf.get_shape()[1])\n",
    "\n",
    "#splitting into training and test sets\n",
    "X_train_tfidf, X_test_tfidf= train_test_split(emma_paras_tfidf, test_size=0.4, random_state=0)\n",
    "\n",
    "# Remember, you will use the same model, only with the test set data.  Don't fit a new model by mistake!\n",
    "X_train_lsa = lsa.fit_transform(X_train_tfidf)\n",
    "\n",
    "paras_by_component=pd.DataFrame(X_train_lsa,index=X_train)\n",
    "for i in range(5):\n",
    "    print('Component {}:'.format(i))\n",
    "    print(paras_by_component.loc[:,i].sort_values(ascending=False)[0:10])"
   ]
  },
  {
   "cell_type": "code",
   "execution_count": 8,
   "metadata": {},
   "outputs": [
    {
     "name": "stdout",
     "output_type": "stream",
     "text": [
      "Number of features: 564\n",
      "Component 0:\n",
      "Mrs . Weston was acting no part , feigning no feelings in all that she said to him in favour of the event . She had been extremely surprized , never more so , than when Emma first opened the affair to her ; but she saw in it only increase of happiness to all , and had no scruple in urging him to the utmost . She had such a regard for Mr . Knightley , as to think he deserved even her dearest Emma ; and it was in every respect so proper , suitable , and unexceptionable a connexion , and in one respect , one point of the highest importance , so peculiarly eligible , so singularly fortunate , that now it seemed as if Emma could not safely have attached herself to any other creature , and that she had herself been the stupidest of beings in not having thought of it , and wished it long ago . How very few of those men in a rank of life to address Emma would have renounced their own home for Hartfield !                                                                                                            0.770845\n",
      "This was the amount of the whole story , of his communication and of Harriet ' s as soon as she had recovered her senses and speech . He dared not stay longer than to see her well ; these several delays left him not another minute to lose ; and Emma engaging to give assurance of her safety to Mrs . Goddard , and notice of there being such a set of people in the neighbourhood to Mr . Knightley , he set off , with all the grateful blessings that she could utter for her friend and herself .                                                                                                                                                                                                                                                                                                                                                                                                                                                                                                                                             0.751503\n",
      "To restrain him as much as might be , by her own manners , she was immediately preparing to speak with exquisite calmness and gravity of the weather and the night ; but scarcely had she begun , scarcely had they passed the sweep - gate and joined the other carriage , than she found her subject cut up  her hand seized  her attention demanded , and Mr . Elton actually making violent love to her : availing himself of the precious opportunity , declaring sentiments which must be already well known , hoping  fearing  adoring  ready to die if she refused him ; but flattering himself that his ardent attachment and unequalled love and unexampled passion could not fail of having some effect , and in short , very much resolved on being seriously accepted as soon as possible .                                                                                                                                                                                                                                                 0.709611\n",
      "The charming Augusta Hawkins , in addition to all the usual advantages of perfect beauty and merit , was in possession of an independent fortune , of so many thousands as would always be called ten ; a point of some dignity , as well as some convenience : the story told well ; he had not thrown himself away  he had gained a woman of 10 , 000 l . or thereabouts ; and he had gained her with such delightful rapidity  the first hour of introduction had been so very soon followed by distinguishing notice ; the history which he had to give Mrs . Cole of the rise and progress of the affair was so glorious  the steps so quick , from the accidental rencontre , to the dinner at Mr . Green ' s , and the party at Mrs . Brown ' s  smiles and blushes rising in importance  with consciousness and agitation richly scattered  the lady had been so easily impressed  so sweetly disposed  had in short , to use a most intelligible phrase , been so very ready to have him , that vanity and prudence were equally contented .    0.702837\n",
      "Mr . Weston meanwhile , perfectly unsuspicious of the indignation he was exciting , happy and cheerful as usual , and with all the right of being principal talker , which a day spent anywhere from home confers , was making himself agreeable among the rest ; and having satisfied the inquiries of his wife as to his dinner , convincing her that none of all her careful directions to the servants had been forgotten , and spread abroad what public news he had heard , was proceeding to a family communication , which , though principally addressed to Mrs . Weston , he had not the smallest doubt of being highly interesting to every body in the room .                                                                                                                                                                                                                                                                                                                                                                                0.697702\n",
      "She felt all the honest pride and complacency which her alliance with the present and future proprietor could fairly warrant , as she viewed the respectable size and style of the building , its suitable , becoming , characteristic situation , low and sheltered  its ample gardens stretching down to meadows washed by a stream , of which the Abbey , with all the old neglect of prospect , had scarcely a sight  and its abundance of timber in rows and avenues , which neither fashion nor extravagance had rooted up . The house was larger than Hartfield , and totally unlike it , covering a good deal of ground , rambling and irregular , with many comfortable , and one or two handsome rooms . It was just what it ought to be , and it looked what it was  and Emma felt an increasing respect for it , as the residence of a family of such true gentility , untainted in blood and understanding . Some faults of temper John Knightley had ; but Isabella had connected herself unexceptionably .                                0.687823\n",
      "Emma could not forgive her ; but as neither provocation nor resentment were discerned by Mr . Knightley , who had been of the party , and had seen only proper attention and pleasing behaviour on each side , he was expressing the next morning , being at Hartfield again on business with Mr . Woodhouse , his approbation of the whole ; not so openly as he might have done had her father been out of the room , but speaking plain enough to be very intelligible to Emma .                                                                                                                                                                                                                                                                                                                                                                                                                                                                                                                                                                      0.676141\n",
      "\" Why , to own the truth ,\" cried Miss Bates , who had been trying in vain to be heard the last two minutes , \" if I must speak on this subject , there is no denying that Mr . Frank Churchill might have  I do not mean to say that he did not dream it  I am sure I have sometimes the oddest dreams in the world  but if I am questioned about it , I must acknowledge that there was such an idea last spring ; for Mrs . Perry herself mentioned it to my mother , and the Coles knew of it as well as ourselves  but it was quite a secret , known to nobody else , and only thought of about three days .                                                                                                                                                                                                                                                                                                                                                                                                                                        0.674401\n",
      "Emma saw Mrs . Weston ' s surprize , and felt that it must be great , at an address which , in words and manner , was assuming to himself the right of first interest in her ; and as for herself , she was too much provoked and offended to have the power of directly saying any thing to the purpose .                                                                                                                                                                                                                                                                                                                                                                                                                                                                                                                                                                                                                                                                                                                                               0.670898\n",
      "Harriet said , \" very true ,\" and she \" would not think about it ;\" but still she talked of it  still she could talk of nothing else ; and Emma , at last , in order to put the Martins out of her head , was obliged to hurry on the news , which she had meant to give with so much tender caution ; hardly knowing herself whether to rejoice or be angry , ashamed or only amused , at such a state of mind in poor Harriet  such a conclusion of Mr . Elton ' s importance with her !                                                                                                                                                                                                                                                                                                                                                                                                                                                                                                                                                               0.670753\n",
      "Name: 0, dtype: float64\n",
      "Component 1:\n",
      "\" Oh !\"    0.999129\n",
      "\" Oh !     0.999129\n",
      "\" Oh !     0.999129\n",
      "\" Oh !     0.999129\n",
      "\" Oh !     0.999129\n",
      "\" Oh !     0.999129\n",
      "\" Oh !     0.999129\n",
      "\" Oh !     0.999129\n",
      "\" Oh !     0.999129\n",
      "\" Oh !     0.999129\n",
      "Name: 1, dtype: float64\n",
      "Component 2:\n",
      "CHAPTER IX      1.0\n",
      "CHAPTER V       1.0\n",
      "CHAPTER VIII    1.0\n",
      "CHAPTER XI      1.0\n",
      "CHAPTER VIII    1.0\n",
      "CHAPTER XII     1.0\n",
      "CHAPTER IV      1.0\n",
      "CHAPTER I       1.0\n",
      "CHAPTER IV      1.0\n",
      "CHAPTER XVI     1.0\n",
      "Name: 2, dtype: float64\n",
      "Component 3:\n",
      "\" You will not ask me what is the point of envy . You are determined , I see , to have no curiosity . You are wise  but _I_ cannot be wise .                                                                                  0.502837\n",
      "\" He appears rough to you ,\" said Emma , \" because you are so very gentle yourself ; but if you could compare him with other papas , you would not think him rough .                                                          0.500458\n",
      "\" Indeed you injure me if you suppose me unconvinced .                                                                                                                                                                        0.482486\n",
      "\" Thank you , dear Miss Woodhouse , you are all kindness . It is impossible to say  Yes , indeed , I quite understand  dearest Jane ' s prospects  that is , I do not mean . But she is charmingly recovered . How is Mr .    0.481205\n",
      "\" You would not have encouraged me , then , if you had understood me ?                                                                                                                                                        0.462042\n",
      "\" I am very glad you did , and that you communicated it to me .                                                                                                                                                               0.461755\n",
      "\" You have some news to hear , now you are come back , that will rather surprize you .\"                                                                                                                                       0.459883\n",
      "\" You surprize me !                                                                                                                                                                                                           0.453859\n",
      "\" You could not have visited me !\"                                                                                                                                                                                            0.446694\n",
      "\" My dear , you said that Miss Campbell would not allow him to be plain , and that you yourself \"                                                                                                                             0.432099\n",
      "Name: 3, dtype: float64\n",
      "Component 4:\n",
      "The marriage of Lieut .                                                                                                                                                                                                                                                                                                 0.468744\n",
      "The ball proceeded pleasantly .                                                                                                                                                                                                                                                                                         0.444783\n",
      "\" Aye , I see what you are thinking of , the pianoforte .                                                                                                                                                                                                                                                               0.413281\n",
      "\" You are comfortable because you are under command .\"                                                                                                                                                                                                                                                                  0.409735\n",
      "\" The Crown !\"                                                                                                                                                                                                                                                                                                          0.398487\n",
      "\" And do you really believe the affair to have been carrying on with such perfect secresy ? The Campbells , the Dixons , did none of them know of the engagement ?\"                                                                                                                                                     0.395762\n",
      "My first displays the wealth and pomp of kings , Lords of the earth !                                                                                                                                                                                                                                                   0.391641\n",
      "\" You talk a great deal of the length of this passage , my dear .                                                                                                                                                                                                                                                       0.391395\n",
      "They went in ; and while the sleek , well - tied parcels of \" Men ' s Beavers \" and \" York Tan \" were bringing down and displaying on the counter , he said \" But I beg your pardon , Miss Woodhouse , you were speaking to me , you were saying something at the very moment of this burst of my _amor_ _patriae_ .    0.388286\n",
      "The affection of the whole family , the warm attachment of Miss Campbell in particular , was the more honourable to each party from the circumstance of Jane ' s decided superiority both in beauty and acquirements .                                                                                                  0.387529\n",
      "Name: 4, dtype: float64\n"
     ]
    }
   ],
   "source": [
    "#Tweaks Go Here\n",
    "X_train, X_test = train_test_split(emma_paras, test_size=0.4, random_state=0)\n",
    "\n",
    "vectorizer = TfidfVectorizer(max_df=0.5, # drop words that occur in more than half the paragraphs\n",
    "                             min_df=10, # only use words that appear at least twice\n",
    "                             # stop_words='english', \n",
    "                             lowercase=True, #convert everything to lower case (since Alice in Wonderland has the HABIT of CAPITALIZING WORDS for EMPHASIS)\n",
    "                             use_idf=True,#we definitely want to use inverse document frequencies in our weighting\n",
    "                             norm=u'l2', #Applies a correction factor so that longer paragraphs and shorter paragraphs get treated equally\n",
    "                             smooth_idf=True #Adds 1 to all document frequencies, as if an extra document existed that used every word once.  Prevents divide-by-zero errors\n",
    "                            )\n",
    "\n",
    "\n",
    "#Applying the vectorizer\n",
    "emma_paras_tfidf=vectorizer.fit_transform(emma_paras)\n",
    "print(\"Number of features: %d\" % emma_paras_tfidf.get_shape()[1])\n",
    "\n",
    "#splitting into training and test sets\n",
    "X_train_tfidf, X_test_tfidf= train_test_split(emma_paras_tfidf, test_size=0.4, random_state=0)\n",
    "\n",
    "# Remember, you will use the same model, only with the test set data.  Don't fit a new model by mistake!\n",
    "X_train_lsa = lsa.fit_transform(X_train_tfidf)\n",
    "\n",
    "paras_by_component=pd.DataFrame(X_train_lsa,index=X_train)\n",
    "for i in range(5):\n",
    "    print('Component {}:'.format(i))\n",
    "    print(paras_by_component.loc[:,i].sort_values(ascending=False)[0:10])"
   ]
  }
 ],
 "metadata": {
  "hide_input": false,
  "kernelspec": {
   "display_name": "Python 3",
   "language": "python",
   "name": "python3"
  },
  "language_info": {
   "codemirror_mode": {
    "name": "ipython",
    "version": 3
   },
   "file_extension": ".py",
   "mimetype": "text/x-python",
   "name": "python",
   "nbconvert_exporter": "python",
   "pygments_lexer": "ipython3",
   "version": "3.6.5"
  },
  "toc": {
   "colors": {
    "hover_highlight": "#DAA520",
    "running_highlight": "#FF0000",
    "selected_highlight": "#FFD700"
   },
   "moveMenuLeft": true,
   "nav_menu": {
    "height": "142px",
    "width": "252px"
   },
   "navigate_menu": true,
   "number_sections": true,
   "sideBar": true,
   "threshold": 4,
   "toc_cell": false,
   "toc_section_display": "block",
   "toc_window_display": false
  }
 },
 "nbformat": 4,
 "nbformat_minor": 2
}
