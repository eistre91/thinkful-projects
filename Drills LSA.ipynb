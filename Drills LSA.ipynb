{
 "cells": [
  {
   "cell_type": "code",
   "execution_count": 1,
   "metadata": {
    "run_control": {
     "frozen": false,
     "read_only": false
    }
   },
   "outputs": [],
   "source": [
    "import numpy as np\n",
    "import pandas as pd\n",
    "import scipy\n",
    "import matplotlib.pyplot as plt\n",
    "import seaborn as sns\n",
    "%matplotlib inline"
   ]
  },
  {
   "cell_type": "markdown",
   "metadata": {
    "run_control": {
     "frozen": false,
     "read_only": false
    }
   },
   "source": [
    "# Semantics\n",
    "\n",
    "With all the information we were able to pull out of the text, one thing we didn't really use was semantics- the *meaning* of the words and sentences.  Our supervised learning model 'knows' that Jane Austen tends to use the word 'lady' a lot in her writing, and it may know (if you included parts of speech as features) that 'lady' is a noun, but it doesn't know what a lady is.  There is nothing in our work on NLP so far that would allow a model to say whether 'queen' or 'car' is more similar to 'lady.' \n",
    "\n",
    "This severely limits the applicability of our NLP skills!  In the absence of semantic information, models can get tripped up on things like synonyms ('milady' and 'lady'). We could modify the spaCy dictionary to include 'lady' as the lemma of 'milady,' then use lemmas for all our analyses, but for this to be an effective approach we would have to go through our entire corpus and identify all synonyms for all words by hand. This approach would also discard subtle differences in the connotations of (words, concepts, ideas, or emotions associated with) 'lady' (elicits thoughts of formal manners and England) and 'milady' (elicits thoughts of medieval ages and Rennaissance Faires).  \n",
    "\n",
    "Basically, language is complicated, and trying to explicitly model all the information encoded in language is nearly impossibly complicated.  Fortunately, unsupervised modeling techniques, and particularly unsupervised neural networks, are perfect for this kind of task.  Rather than us 'telling' the model how language works and what each sentence means, we can feed the model a corpus of text and have it 'learn' the rules by identifying recurring patterns within the corpus.  Then we can use the trained unsupervised model to understand new sentences as well.  \n",
    "\n",
    "As with supervised NLP, unsupervised models are limited by their corpus- an unsupervised model trained on a medical database is unlikely to know that 'lady' and 'milady' are similar, just as a model trained on Jane Austen wouldn't catch that 'Ehler-Danlos Syndrome' and 'joint hypermobility' describe the same medical condition.  \n",
    "\n",
    "In this assignment, we are going to introduce Latent Semantic Analysis.  In the next, we will discuss unsupervised neural network applications for NLP.  \n",
    "\n",
    "# Converting sentences to vectors\n",
    "\n",
    "Consider the following sentences:\n",
    "\n",
    "1. \"The best Monty Python sketch is the one about the dead parrot,  I laughed so hard.\"\n",
    "2. \"I laugh when I think about Python's Ministry of Silly Walks sketch, it is funny, funny, funny, the best!\"\n",
    "3. \"Chocolate is the best ice cream dessert topping, with a great taste.\"\n",
    "4. \"The Lumberjack Song is the funniest Monty Python bit: I can't think of it without laughing.\"\n",
    "5. \"I would rather put strawberries on my ice cream for dessert, they have the best taste.\"\n",
    "6. \"The taste of caramel is a fantastic accompaniment to tasty mint ice cream.\"\n",
    "\n",
    "As a human being, it's easy to see that the sentences involve two topics, comedy and ice cream.   One way to represent the sentences is in a term-document matrix, with a column for each sentence and a row for each word.  Ignoring the stop words 'the', 'is','and', 'a', 'of,','I', and 'about,', discarding words that occur only once, and reducing words like 'laughing' to their root form ('laugh'), the term-document matrix for these sentences would be:\n",
    "\n",
    "|           | 1 | 2 | 3 | 4 | 5 | 6 |\n",
    "|-----------|---|---|---|---|---|---|\n",
    "| Monty     | 1 | 0 | 0 | 1 | 0 | 0 |\n",
    "| Python    | 1 | 1 | 0 | 1 | 0 | 0 |\n",
    "| sketch    | 1 | 1 | 0 | 0 | 0 | 0 |\n",
    "| laugh     | 1 | 1 | 0 | 1 | 0 | 0 |\n",
    "| funny     | 0 | 3 | 0 | 1 | 0 | 0 |\n",
    "| best      | 1 | 1 | 1 | 0 | 1 | 0 |\n",
    "| ice cream | 0 | 0 | 1 | 0 | 1 | 1 |\n",
    "| dessert   | 0 | 0 | 1 | 0 | 1 | 0 |\n",
    "| taste     | 0 | 0 | 1 | 0 | 1 | 2 |\n",
    "\n",
    "Note that we use the term 'document' to refer to the individual text chunks we are working with. It can sometimes mean sentences, sometimes paragraphs, and sometimes whole text files.  In our cases, each sentence is a document.  Also note that, contrary to how we usually operate, a term-document matrix has words as rows and documents as columns.\n",
    "\n",
    "The comedy sentences use the words: Python (3), laugh (3), Monty (2), sketch (2), funny (2), and best (2).\n",
    "The ice cream sentences use the words: ice cream (3), dessert (3), taste (3), and best (2).\n",
    "\n",
    "The word 'best' stands out here- it appears in more sentences than any other word (4 of 6).  It is used equally to describe Monty Python and ice cream.  If we were to use this term-document matrix as-is to teach a computer to parse sentences, 'best' would end up as a significant identifier for both topics, and every time we gave the model a new sentence to identify that included 'best,' it would bring up both topics.  Not very useful.  To avoid this, we want to weight the matrix so that words that occur in many different sentences have lower weights than words that occur in fewer sentences.  We do want to put a floor on this though-- words that only occur once are totally useless for finding associations between sentences.  \n",
    "\n",
    "Another word that stands out is 'funny', which appears more often in the comedy sentences than any other word.  This suggests that 'funny' is a very important word for defining the 'comedy' topic.  \n",
    "\n",
    "# Quantifying documents: Collection and document frequencies\n",
    "\n",
    "'Document frequency' counts how many sentences a word appears in.  'Collection frequency' counts how often a word appears, total, over all sentences.  Let's calculate the df and cf for our sentence set:\n",
    "\n",
    "|           |df |cf| \n",
    "|-----------|---|---|\n",
    "| Monty     | 2 | 2 | \n",
    "| Python    | 3 | 3 | \n",
    "| sketch    | 2 | 2 | \n",
    "| laugh     | 3 | 3 | \n",
    "| funny     | 2 | 4 | \n",
    "| best      | 4 | 4 | \n",
    "| ice cream | 3 | 3 | \n",
    "| dessert   | 2 | 2 | \n",
    "| taste     | 3 | 4 | \n",
    "\n",
    "# Penalizing Indiscriminate Words: Inverse Document Frequency\n",
    "\n",
    "Now let's weight the document frequency so that words that occur less often (like 'sketch' and 'dessert') are more influential than words that occur a lot (like 'best').  We will calculate the ratio of total documents (N) divided by df, then take the log (base 2) of the ratio, to get our inverse document frequency number (idf) for each term (t):\n",
    "\n",
    "$$idf_t=log \\dfrac N{df_t}$$\n",
    "\n",
    "\n",
    "|           |df |cf| idf |\n",
    "|-----------|---|---|\n",
    "| Monty     | 2 | 2 | 1.585 |\n",
    "| Python    | 3 | 3 | 1 |\n",
    "| sketch    | 2 | 2 | 1.585 |\n",
    "| laugh     | 3 | 3 | 1 |\n",
    "| funny     | 2 | 4 | 1.585 |\n",
    "| best      | 4 | 4 | .585 |\n",
    "| ice cream | 3 | 3 | 1 |\n",
    "| dessert   | 2 | 2 | 1.585 |\n",
    "| taste     | 3 | 4 | 1 |\n",
    "\n",
    "The idf weights tell the model to consider 'best' as less important than other terms.  \n",
    "\n",
    "# Term-frequency weights\n",
    "The next piece of information to consider for our weights is how frequently a term appears within a sentence.  The word 'funny' appears three times in one sentence- it would be good if we were able to weight 'funny' so that the model knows that. We can accomplish this by creating unique weights for each sentence that combine the term frequency (how often a word appears within an individual document) with the idf, like so:\n",
    "\n",
    "$$tf-idf_{t,d}=(tf_{t,d})(idf_t)$$\n",
    "\n",
    "Now the term 'funny' in sentence 2, where it occurs three times, will be weighted more heavily than the term 'funny' in sentence 1, where it only occurs once.  If 'best' had appeared multiple times in one sentence, it would also have a higher weight for that sentence, but the weight would be reduced by the idf term that takes into account that 'best' is a pretty common word in our collection of sentences.\n",
    "\n",
    "The tf_idf score will be highest for a term that occurs a lot within a small number of sentences, and lowest for a word that occurs in most or all sentences.  \n",
    "\n",
    "Now we can represent each sentence as a vector made up of the tf-idf scores for each word:\n",
    "\n",
    "|           | 1 | 2 | 3 | \n",
    "|-----------|---|---|---|\n",
    "| Monty     | 1.585 | 0 | 0 |\n",
    "| Python    | 1 | 1 | 0 | \n",
    "| sketch    | 1.585| 1.585 | 0 | \n",
    "| laugh     | 1 | 1 | 0 | \n",
    "| funny     | 0 | 4.755 | 0 | \n",
    "| best      | .585 | .585 | .585 | \n",
    "| ice cream | 0 | 0 | 1 | \n",
    "| dessert   | 0 | 0 | 1.585 | \n",
    "| taste     | 0 | 0 | 1 |\n",
    "\n",
    "\n",
    "\n",
    "## Drill: tf-idf scores\n",
    "\n",
    "Converting sentences into numeric vectors is fundamental for a lot of unsupervised NLP tasks.  To make sure you are solid on how these vectors work, please generate the vectors for the last three sentences.  If you are feeling uncertain, have your mentor walk you through it.\n",
    "\n",
    "(solution for 4, 5, and 6:\n",
    "\n",
    "4. 1.585, 1, 0, 1, 1.585, 0,0,0,0\n",
    "5. 0,0,0,0,0, .585, 1, 1.585, 1\n",
    "6. 0,0,0,0,0,0, 1, 0, 2)\n",
    "\n"
   ]
  },
  {
   "cell_type": "markdown",
   "metadata": {
    "run_control": {
     "frozen": false,
     "read_only": false
    }
   },
   "source": [
    "You can think of the tf-idf vectors as a 'translation' from human-readable language to computer-usable numeric form.  Some information is inevitably lost in translation, and the usefulness of any model we build from here on out depends on the decisions we made during the translation step.  Possible decision-points include:\n",
    "\n",
    "* Which stop words to include or exclude\n",
    "* Should we use phrases ('Monty Python' instead of 'Monty' and 'Python') as terms\n",
    "* The threshold for infrequent words: Here, we excluded words that only occurred once.  In longer documents, it may be a good idea to set a higher threshold.\n",
    "* How many terms to keep.  We kept all the terms that fit our criteria (not a stop word, occurred more than once), but for bigger document collections or longer documents, this may create unfeasibly long vectors.  We may want to decide to only keep the 10,000 words with the highest collection frequency scores, for example.\n",
    "\n",
    "# Vector Space Model\n",
    "\n",
    "Our vector representation of the text is referred to as a Vector Space Model.  We can use this representation to compute the similarity between our sentences and a new phrase or sentence- this method is often used by search engines to match a query to possible results.  \n",
    "\n",
    "By now, you've had some practice thinking of data as existing in multi-dimensional space.  Our sentences exist in an n-dimensional space where n is equal to the number of terms in our term-document matrix.  To compute the similarity of our sentences to a new sentence, we transform the new sentence into a vector and place it in the space.  We can then calculate how different the angles are for our original vectors and the new vector, and identify the vector whose angle is closest to the new vector.  Typically this is done by calculating the cosine of the angle between the vectors.  If the two vectors are identical, the angle between them will be 0° and the cosine will be 1.  If the two vectors are orthogonal, with an angle of 90°, the cosine will be 0.  \n",
    "\n",
    "If we were running a search query, then, we would return sentences that were most similar to the query sentence, ordered from the highest similarity score (cosine) to the lowest.  Pretty handy!\n",
    "\n",
    "# Latent Semantic Analysis\n",
    "\n",
    "Cool as this is, there are limitations to the VSM.  In particular, because it treats each word as distinct from every other word, it can run aground on *synonyms* (treating words that mean the same thing as though they are different, like big and large).  Also, because it treats all occurrences of a word as the same regardless of context, it can run aground on *polysemy*, where there are different meanings attached to the same word: 'I need a break' vs 'I break things.'  In addition, VSM has difficulty with very large documents because the more words a document has, the more opportunities it has to diverge from other documents in the space, making it difficult to see similarities.\n",
    "\n",
    "A solution to this problem is to reduce our tf-idf-weighted term-document matrix into a lower-dimensional space, that is, to express the information in the matrix using fewer rows by combining the information from multiple terms into one new row/dimension.  We do this using Principal Components Analysis, which you may recall from [an earlier assignment](https://courses.thinkful.com/data-201v1/assignment/2.1.6).  \n",
    "\n",
    "So Latent Semantic Analysis (also called Latent Semantic Indexing) is the process of applying PCA to a tf-idf term-document matrix.  What we get, in the end, is clusters of terms that presumably reflect a topic.  Each document will get a score for each topic, with higher scores indicating that the document is relevant to the topic.  Documents can pertain to more than one topic.\n",
    "\n",
    "LSA is handy when your corpus is too large to topically annotate by hand, or when you don't know what topics characterize your documents.  It is also useful as a way of creating features to be used in other models.\n",
    "\n",
    "Let's try it out!  Once again, we'll use the gutenberg corpus.   This time, we'll focus on comparing paragraphs within Emma by Jane Austen."
   ]
  },
  {
   "cell_type": "code",
   "execution_count": 3,
   "metadata": {},
   "outputs": [
    {
     "name": "stdout",
     "output_type": "stream",
     "text": [
      "[nltk_data] Downloading package punkt to\n",
      "[nltk_data]     C:\\Users\\e.istre91\\AppData\\Roaming\\nltk_data...\n",
      "[nltk_data]   Unzipping tokenizers\\punkt.zip.\n"
     ]
    },
    {
     "data": {
      "text/plain": [
       "True"
      ]
     },
     "execution_count": 3,
     "metadata": {},
     "output_type": "execute_result"
    }
   ],
   "source": [
    "nltk.download('punkt')"
   ]
  },
  {
   "cell_type": "code",
   "execution_count": 4,
   "metadata": {
    "run_control": {
     "frozen": false,
     "read_only": false
    }
   },
   "outputs": [
    {
     "name": "stdout",
     "output_type": "stream",
     "text": [
      "[nltk_data] Downloading package gutenberg to\n",
      "[nltk_data]     C:\\Users\\e.istre91\\AppData\\Roaming\\nltk_data...\n",
      "[nltk_data]   Package gutenberg is already up-to-date!\n",
      "['[ Emma by Jane Austen 1816 ]', 'VOLUME I', 'CHAPTER I', 'Emma Woodhouse , handsome , clever , and rich , with a comfortable home and happy disposition , seemed to unite some of the best blessings of existence ; and had lived nearly twenty - one years in the world with very little to distress or vex her .']\n"
     ]
    }
   ],
   "source": [
    "import nltk\n",
    "from nltk.corpus import gutenberg\n",
    "nltk.download('gutenberg')\n",
    "import re\n",
    "from sklearn.model_selection import train_test_split\n",
    "\n",
    "#reading in the data, this time in the form of paragraphs\n",
    "emma=gutenberg.paras('austen-emma.txt')\n",
    "#processing\n",
    "emma_paras=[]\n",
    "for paragraph in emma:\n",
    "    para=paragraph[0]\n",
    "    #removing the double-dash from all words\n",
    "    para=[re.sub(r'--','',word) for word in para]\n",
    "    #Forming each paragraph into a string and adding it to the list of strings.\n",
    "    emma_paras.append(' '.join(para))\n",
    "\n",
    "print(emma_paras[0:4])"
   ]
  },
  {
   "cell_type": "markdown",
   "metadata": {
    "run_control": {
     "frozen": false,
     "read_only": false
    }
   },
   "source": [
    "# tfidf in sklearn\n",
    "\n",
    "Happily for us, sklearn has a tfidf function that will do all our heavy lifting.  It also has a [very long list of stop words](https://github.com/scikit-learn/scikit-learn/blob/master/sklearn/feature_extraction/stop_words.py).  Since we're going to be doing dimension reduction later on anyway, let's keep all the words for now."
   ]
  },
  {
   "cell_type": "code",
   "execution_count": 5,
   "metadata": {
    "run_control": {
     "frozen": false,
     "read_only": false
    },
    "scrolled": false
   },
   "outputs": [
    {
     "name": "stdout",
     "output_type": "stream",
     "text": [
      "Number of features: 1948\n",
      "Original sentence: A very few minutes more , however , completed the present trial .\n",
      "Tf_idf vector: {'minutes': 0.7127450310382584, 'present': 0.701423210857947}\n"
     ]
    }
   ],
   "source": [
    "from sklearn.feature_extraction.text import TfidfVectorizer\n",
    "\n",
    "X_train, X_test = train_test_split(emma_paras, test_size=0.4, random_state=0)\n",
    "\n",
    "vectorizer = TfidfVectorizer(max_df=0.5, # drop words that occur in more than half the paragraphs\n",
    "                             min_df=2, # only use words that appear at least twice\n",
    "                             stop_words='english', \n",
    "                             lowercase=True, #convert everything to lower case (since Alice in Wonderland has the HABIT of CAPITALIZING WORDS for EMPHASIS)\n",
    "                             use_idf=True,#we definitely want to use inverse document frequencies in our weighting\n",
    "                             norm=u'l2', #Applies a correction factor so that longer paragraphs and shorter paragraphs get treated equally\n",
    "                             smooth_idf=True #Adds 1 to all document frequencies, as if an extra document existed that used every word once.  Prevents divide-by-zero errors\n",
    "                            )\n",
    "\n",
    "\n",
    "#Applying the vectorizer\n",
    "emma_paras_tfidf=vectorizer.fit_transform(emma_paras)\n",
    "print(\"Number of features: %d\" % emma_paras_tfidf.get_shape()[1])\n",
    "\n",
    "#splitting into training and test sets\n",
    "X_train_tfidf, X_test_tfidf= train_test_split(emma_paras_tfidf, test_size=0.4, random_state=0)\n",
    "\n",
    "\n",
    "#Reshapes the vectorizer output into something people can read\n",
    "X_train_tfidf_csr = X_train_tfidf.tocsr()\n",
    "\n",
    "#number of paragraphs\n",
    "n = X_train_tfidf_csr.shape[0]\n",
    "#A list of dictionaries, one per paragraph\n",
    "tfidf_bypara = [{} for _ in range(0,n)]\n",
    "#List of features\n",
    "terms = vectorizer.get_feature_names()\n",
    "#for each paragraph, lists the feature words and their tf-idf scores\n",
    "for i, j in zip(*X_train_tfidf_csr.nonzero()):\n",
    "    tfidf_bypara[i][terms[j]] = X_train_tfidf_csr[i, j]\n",
    "\n",
    "#Keep in mind that the log base 2 of 1 is 0, so a tf-idf score of 0 indicates that the word was present once in that sentence.\n",
    "print('Original sentence:', X_train[5])\n",
    "print('Tf_idf vector:', tfidf_bypara[5])"
   ]
  },
  {
   "cell_type": "markdown",
   "metadata": {
    "run_control": {
     "frozen": false,
     "read_only": false
    }
   },
   "source": [
    "# Dimension reduction\n",
    "Okay, now we have our vectors, with one vector per paragraph.  It's time to do some dimension reduction.  We use the Singular Value Decomposition (SVD) function from sklearn rather than PCA because we don't want to mean-center our variables (and thus lose sparsity):"
   ]
  },
  {
   "cell_type": "code",
   "execution_count": 6,
   "metadata": {
    "run_control": {
     "frozen": false,
     "read_only": false
    },
    "scrolled": false
   },
   "outputs": [
    {
     "name": "stdout",
     "output_type": "stream",
     "text": [
      "Percent variance captured by all components: 45.193633617037456\n",
      "Component 0:\n",
      "\" Oh !     0.999288\n",
      "\" Oh !     0.999288\n",
      "\" Oh !     0.999288\n",
      "\" Oh !\"    0.999288\n",
      "\" Oh !     0.999288\n",
      "\" Oh !     0.999288\n",
      "\" Oh !     0.999288\n",
      "\" Oh !     0.999288\n",
      "\" Oh !\"    0.999288\n",
      "\" Oh !     0.999288\n",
      "Name: 0, dtype: float64\n",
      "Component 1:\n",
      "\" You have made her too tall , Emma ,\" said Mr . Knightley .                                                                                                                0.634766\n",
      "\" You get upon delicate subjects , Emma ,\" said Mrs . Weston smiling ; \" remember that I am here . Mr .                                                                     0.586543\n",
      "\" You are right , Mrs . Weston ,\" said Mr . Knightley warmly , \" Miss Fairfax is as capable as any of us of forming a just opinion of Mrs . Elton .                         0.562773\n",
      "\" I do not know what your opinion may be , Mrs . Weston ,\" said Mr . Knightley , \" of this great intimacy between Emma and Harriet Smith , but I think it a bad thing .\"    0.559156\n",
      "Mr . Knightley might quarrel with her , but Emma could not quarrel with herself .                                                                                           0.529991\n",
      "\" There were misunderstandings between them , Emma ; he said so expressly .                                                                                                 0.528528\n",
      "Emma found that it was not Mr . Weston ' s fault that the number of privy councillors was not yet larger .                                                                  0.513857\n",
      "\" Now ,\" said Emma , when they were fairly beyond the sweep gates , \" now Mr . Weston , do let me know what has happened .\"                                                 0.510820\n",
      "\" In one respect , perhaps , Mr . Elton ' s manners are superior to Mr . Knightley ' s or Mr . Weston ' s .                                                                 0.509505\n",
      "Emma could not have desired a more spirited rejection of Mr . Martin ' s prose .                                                                                            0.500739\n",
      "Name: 1, dtype: float64\n",
      "Component 2:\n",
      "CHAPTER I      0.998862\n",
      "CHAPTER V      0.998862\n",
      "CHAPTER V      0.998862\n",
      "CHAPTER I      0.998862\n",
      "CHAPTER V      0.998862\n",
      "CHAPTER I      0.998862\n",
      "CHAPTER X      0.998862\n",
      "CHAPTER X      0.998862\n",
      "CHAPTER X      0.998862\n",
      "CHAPTER XII    0.998014\n",
      "Name: 2, dtype: float64\n",
      "Component 3:\n",
      "\" Ah !      0.992911\n",
      "\" Ah !      0.992911\n",
      "\" Ah !      0.992911\n",
      "But ah !    0.992911\n",
      "\" Ah !      0.992911\n",
      "\" Ah !      0.992911\n",
      "\" Ah !\"     0.992911\n",
      "But ah !    0.992911\n",
      "\" Ah !      0.992911\n",
      "\" Ah !      0.992911\n",
      "Name: 3, dtype: float64\n",
      "Component 4:\n",
      "\" There were misunderstandings between them , Emma ; he said so expressly .    0.650808\n",
      "Emma demurred .                                                                0.598901\n",
      "\" Are you well , my Emma ?\"                                                    0.598901\n",
      "Emma was silenced .                                                            0.587931\n",
      "At first it was downright dulness to Emma .                                    0.586871\n",
      "\" Emma , my dear Emma \"                                                        0.576821\n",
      "Emma could not resist .                                                        0.565494\n",
      "\" It is not now worth a regret ,\" said Emma .                                  0.563267\n",
      "\" For shame , Emma !                                                           0.548518\n",
      "Emma was out of hearing .                                                      0.499751\n",
      "Name: 4, dtype: float64\n"
     ]
    }
   ],
   "source": [
    "from sklearn.decomposition import TruncatedSVD\n",
    "from sklearn.pipeline import make_pipeline\n",
    "from sklearn.preprocessing import Normalizer\n",
    "\n",
    "#Our SVD data reducer.  We are going to reduce the feature space from 1379 to 130.\n",
    "svd= TruncatedSVD(130)\n",
    "lsa = make_pipeline(svd, Normalizer(copy=False))\n",
    "# Run SVD on the training data, then project the training data.\n",
    "X_train_lsa = lsa.fit_transform(X_train_tfidf)\n",
    "\n",
    "variance_explained=svd.explained_variance_ratio_\n",
    "total_variance = variance_explained.sum()\n",
    "print(\"Percent variance captured by all components:\",total_variance*100)\n",
    "\n",
    "#Looking at what sorts of paragraphs our solution considers similar, for the first five identified topics\n",
    "paras_by_component=pd.DataFrame(X_train_lsa,index=X_train)\n",
    "for i in range(5):\n",
    "    print('Component {}:'.format(i))\n",
    "    print(paras_by_component.loc[:,i].sort_values(ascending=False)[0:10])\n",
    "\n",
    "\n"
   ]
  },
  {
   "cell_type": "markdown",
   "metadata": {
    "run_control": {
     "frozen": false,
     "read_only": false
    }
   },
   "source": [
    "From gazing at the most representative sample paragraphs, it appears that component 0 targets the exclamation 'Oh!', component 1 seems to largely involve critical dialogue directed at or about the main character Emma, component 2 is chapter headings, component 3 is exclamations involving 'Ah!, and component 4 involves actions by or directly related to Emma.\n",
    "\n",
    "What fun! \n",
    "\n",
    "# Sentence similarity\n",
    "\n",
    "We can also look at how similar various sentences are to one another.  For example, here are the similarity scores (as a heatmap) of the first 10 sentences in the training set:\n"
   ]
  },
  {
   "cell_type": "code",
   "execution_count": 7,
   "metadata": {
    "run_control": {
     "frozen": false,
     "read_only": false
    }
   },
   "outputs": [
    {
     "data": {
      "image/png": "[encoded data removed]",
      "text/plain": [
       "<Figure size 432x288 with 2 Axes>"
      ]
     },
     "metadata": {},
     "output_type": "display_data"
    },
    {
     "name": "stdout",
     "output_type": "stream",
     "text": [
      "Key:\n",
      "0 That is _court_ .\n",
      "1 \" Yes , sir , I did indeed ; and I am very much obliged by your kind solicitude about me .\"\n",
      "2 \" How much his business engrosses him already is very plain from the circumstance of his forgetting to inquire for the book you recommended .\n",
      "3 To restrain him as much as might be , by her own manners , she was immediately preparing to speak with exquisite calmness and gravity of the weather and the night ; but scarcely had she begun , scarcely had they passed the sweep - gate and joined the other carriage , than she found her subject cut up  her hand seized  her attention demanded , and Mr . Elton actually making violent love to her : availing himself of the precious opportunity , declaring sentiments which must be already well known , hoping  fearing  adoring  ready to die if she refused him ; but flattering himself that his ardent attachment and unequalled love and unexampled passion could not fail of having some effect , and in short , very much resolved on being seriously accepted as soon as possible .\n",
      "4 Emma smiled and answered \" My visit was of use to the nervous part of her complaint , I hope ; but not even I can charm away a sore throat ; it is a most severe cold indeed .\n",
      "5 A very few minutes more , however , completed the present trial .\n",
      "6 \" I am delighted to hear you speak so stoutly on the subject ,\" replied Emma , smiling ; \" but you do not mean to deny that there was a time  and not very distant either  when you gave me reason to understand that you did care about him ?\"\n",
      "7 \" Very well ; and if he had intended to give her one , he would have told her so .\"\n",
      "8 Some laughed , and answered good - humouredly .\n",
      "9 \" There appeared such a perfectly good understanding among them all \" he began rather quickly , but checking himself , added , \" however , it is impossible for me to say on what terms they really were  how it might all be behind the scenes .\n"
     ]
    }
   ],
   "source": [
    "# Compute document similarity using LSA components\n",
    "similarity = np.asarray(np.asmatrix(X_train_lsa) * np.asmatrix(X_train_lsa).T)\n",
    "#Only taking the first 10 sentences\n",
    "sim_matrix=pd.DataFrame(similarity,index=X_train).iloc[0:10,0:10]\n",
    "#Making a plot\n",
    "ax = sns.heatmap(sim_matrix,yticklabels=range(10))\n",
    "plt.show()\n",
    "\n",
    "#Generating a key for the plot.\n",
    "print('Key:')\n",
    "for i in range(10):\n",
    "    print(i,sim_matrix.index[i])\n"
   ]
  },
  {
   "cell_type": "markdown",
   "metadata": {
    "run_control": {
     "frozen": false,
     "read_only": false
    }
   },
   "source": [
    "Not much similarity at all except between sentences 8 and 9, both of which seem to describe people getting along well.\n",
    "\n",
    "# Drill 0: Test set\n",
    "\n",
    "Now it's your turn: Apply our LSA model to the test set.  Does it identify similar sentences for components 0 through 4?  "
   ]
  },
  {
   "cell_type": "code",
   "execution_count": 10,
   "metadata": {
    "run_control": {
     "frozen": false,
     "read_only": false
    },
    "scrolled": true
   },
   "outputs": [
    {
     "name": "stdout",
     "output_type": "stream",
     "text": [
      "Component 0:\n",
      "\" Oh !         0.999288\n",
      "\" Oh !         0.999288\n",
      "\" Oh !         0.999288\n",
      "\" Oh !         0.999288\n",
      "\" Oh !         0.999288\n",
      "\" Oh !         0.999288\n",
      "\" Oh !\"        0.999288\n",
      "\" Oh no !      0.999288\n",
      "\" Me ! oh !    0.999288\n",
      "\" Oh !         0.999288\n",
      "Name: 0, dtype: float64\n",
      "Component 1:\n",
      "\" Well , Mrs . Weston ,\" said Emma triumphantly when he left them , \" what do you say now to Mr . Knightley ' s marrying Jane Fairfax ?\"                                                                                                                                                                                                                                                                                                                                                                          0.677173\n",
      "Frank turned instantly to Emma , to claim her former promise ; and boasted himself an engaged man , which his father looked his most perfect approbation of  and it then appeared that Mrs . Weston was wanting _him_ to dance with Mrs . Elton himself , and that their business was to help to persuade him into it , which was done pretty soon . Mr . Weston and Mrs . Elton led the way , Mr . Frank Churchill and Miss Woodhouse followed .                                                                 0.604607\n",
      "In this walk Emma and Mr . Weston found all the others assembled ; and towards this view she immediately perceived Mr . Knightley and Harriet distinct from the rest , quietly leading the way .                                                                                                                                                                                                                                                                                                                  0.570960\n",
      "\" He is a person I never think of from one month ' s end to another ,\" said Mr . Knightley , with a degree of vexation , which made Emma immediately talk of something else , though she could not comprehend why he should be angry .                                                                                                                                                                                                                                                                            0.568840\n",
      "After tea , Mr . and Mrs . Weston , and Mr . Elton sat down with Mr . Woodhouse to cards .                                                                                                                                                                                                                                                                                                                                                                                                                        0.566167\n",
      "The result of this distress was , that , with a much more voluntary , cheerful consent than his daughter had ever presumed to hope for at the moment , she was able to fix her wedding - day  and Mr . Elton was called on , within a month from the marriage of Mr . and Mrs . Robert Martin , to join the hands of Mr . Knightley and Miss Woodhouse .                                                                                                                                                          0.559396\n",
      "\" Mrs . Weston ' s manners ,\" said Emma , \" were always particularly good .                                                                                                                                                                                                                                                                                                                                                                                                                                       0.545189\n",
      "Emma was more than half in hopes of Mr . Elton ' s having dropt a hint .                                                                                                                                                                                                                                                                                                                                                                                                                                          0.539182\n",
      "\" Well ,\" said Emma , \" there is no disputing about taste . At least you admire her except her complexion .\"                                                                                                                                                                                                                                                                                                                                                                                                      0.533682\n",
      "He had frightened her a little about Mr . Elton ; but when she considered that Mr . Knightley could not have observed him as she had done , neither with the interest , nor ( she must be allowed to tell herself , in spite of Mr . Knightley ' s pretensions ) with the skill of such an observer on such a question as herself , that he had spoken it hastily and in anger , she was able to believe , that he had rather said what he wished resentfully to be true , than what he knew any thing about .    0.532692\n",
      "Name: 1, dtype: float64\n",
      "Component 2:\n",
      "CHAPTER XVIII    0.998862\n",
      "CHAPTER XV       0.998862\n",
      "CHAPTER XV       0.998862\n",
      "CHAPTER XVIII    0.998862\n",
      "CHAPTER XVIII    0.998862\n",
      "CHAPTER XV       0.998862\n",
      "CHAPTER XIX      0.998862\n",
      "CHAPTER XII      0.998014\n",
      "CHAPTER XII      0.998014\n",
      "CHAPTER XVII     0.998008\n",
      "Name: 2, dtype: float64\n",
      "Component 3:\n",
      "\" Ah !     0.992911\n",
      "\" Ah !     0.992911\n",
      "\" Ah !     0.992911\n",
      "\" Ah !     0.992911\n",
      "\" Ah !     0.992911\n",
      "\" Ah !     0.992911\n",
      "\" Ah !\"    0.992911\n",
      "\" Ah !     0.992911\n",
      "\" Ah !     0.992911\n",
      "\" Ah !     0.992911\n",
      "Name: 3, dtype: float64\n",
      "Component 4:\n",
      "Nobody had any information to give ; and , after a few more wonderings , Emma said ,                            0.631404\n",
      "\" No , no ,\" said Emma , \" it will not reckon low .                                                             0.627815\n",
      "\" Well ,\" said Emma , \" there is no disputing about taste . At least you admire her except her complexion .\"    0.622064\n",
      "Emma had done .                                                                                                 0.598901\n",
      "\" Emma !\"                                                                                                       0.598901\n",
      "\" My Emma !\"                                                                                                    0.598901\n",
      "Emma wondered on what , of all the medley , she would fix .                                                     0.594609\n",
      "\" And I do envy him , Emma .                                                                                    0.593272\n",
      "\" Emma ,\" said she , \" this paper is worse than I expected .                                                    0.581510\n",
      "\" No ,\" said Emma , laughing ; \" but perhaps there might be some made to his coming back again .                0.557300\n",
      "Name: 4, dtype: float64\n"
     ]
    }
   ],
   "source": [
    "# Remember, you will use the same model, only with the test set data.  Don't fit a new model by mistake!\n",
    "X_test_lsa = lsa.transform(X_test_tfidf)\n",
    "\n",
    "paras_by_component=pd.DataFrame(X_test_lsa,index=X_test)\n",
    "for i in range(5):\n",
    "    print('Component {}:'.format(i))\n",
    "    print(paras_by_component.loc[:,i].sort_values(ascending=False)[0:10])"
   ]
  },
  {
   "cell_type": "markdown",
   "metadata": {
    "run_control": {
     "frozen": false,
     "read_only": false
    }
   },
   "source": [
    "# Drill 1: Tweaking tf-idf\n",
    "\n",
    "Go back up to the code where we originally translated the text from words to numbers.  There are a lot of decision-points here, from the stop list to the thresholds for inclusion and exclusion, and many others as well.  We also didn't integrate spaCy, and so don't have info on lemmas or Named Entities.  Change things up a few times and see how that affects the results of the LSA.  Write up your observations and share them with your mentor."
   ]
  },
  {
   "cell_type": "code",
   "execution_count": 24,
   "metadata": {
    "run_control": {
     "frozen": false,
     "read_only": false
    }
   },
   "outputs": [
    {
     "name": "stdout",
     "output_type": "stream",
     "text": [
      "Number of features: 2178\n",
      "Component 0:\n",
      "Mrs . Weston was acting no part , feigning no feelings in all that she said to him in favour of the event . She had been extremely surprized , never more so , than when Emma first opened the affair to her ; but she saw in it only increase of happiness to all , and had no scruple in urging him to the utmost . She had such a regard for Mr . Knightley , as to think he deserved even her dearest Emma ; and it was in every respect so proper , suitable , and unexceptionable a connexion , and in one respect , one point of the highest importance , so peculiarly eligible , so singularly fortunate , that now it seemed as if Emma could not safely have attached herself to any other creature , and that she had herself been the stupidest of beings in not having thought of it , and wished it long ago . How very few of those men in a rank of life to address Emma would have renounced their own home for Hartfield !                                                                                                            0.761158\n",
      "This was the amount of the whole story , of his communication and of Harriet ' s as soon as she had recovered her senses and speech . He dared not stay longer than to see her well ; these several delays left him not another minute to lose ; and Emma engaging to give assurance of her safety to Mrs . Goddard , and notice of there being such a set of people in the neighbourhood to Mr . Knightley , he set off , with all the grateful blessings that she could utter for her friend and herself .                                                                                                                                                                                                                                                                                                                                                                                                                                                                                                                                             0.740347\n",
      "To restrain him as much as might be , by her own manners , she was immediately preparing to speak with exquisite calmness and gravity of the weather and the night ; but scarcely had she begun , scarcely had they passed the sweep - gate and joined the other carriage , than she found her subject cut up  her hand seized  her attention demanded , and Mr . Elton actually making violent love to her : availing himself of the precious opportunity , declaring sentiments which must be already well known , hoping  fearing  adoring  ready to die if she refused him ; but flattering himself that his ardent attachment and unequalled love and unexampled passion could not fail of having some effect , and in short , very much resolved on being seriously accepted as soon as possible .                                                                                                                                                                                                                                                 0.692389\n",
      "The charming Augusta Hawkins , in addition to all the usual advantages of perfect beauty and merit , was in possession of an independent fortune , of so many thousands as would always be called ten ; a point of some dignity , as well as some convenience : the story told well ; he had not thrown himself away  he had gained a woman of 10 , 000 l . or thereabouts ; and he had gained her with such delightful rapidity  the first hour of introduction had been so very soon followed by distinguishing notice ; the history which he had to give Mrs . Cole of the rise and progress of the affair was so glorious  the steps so quick , from the accidental rencontre , to the dinner at Mr . Green ' s , and the party at Mrs . Brown ' s  smiles and blushes rising in importance  with consciousness and agitation richly scattered  the lady had been so easily impressed  so sweetly disposed  had in short , to use a most intelligible phrase , been so very ready to have him , that vanity and prudence were equally contented .    0.680422\n",
      "She felt all the honest pride and complacency which her alliance with the present and future proprietor could fairly warrant , as she viewed the respectable size and style of the building , its suitable , becoming , characteristic situation , low and sheltered  its ample gardens stretching down to meadows washed by a stream , of which the Abbey , with all the old neglect of prospect , had scarcely a sight  and its abundance of timber in rows and avenues , which neither fashion nor extravagance had rooted up . The house was larger than Hartfield , and totally unlike it , covering a good deal of ground , rambling and irregular , with many comfortable , and one or two handsome rooms . It was just what it ought to be , and it looked what it was  and Emma felt an increasing respect for it , as the residence of a family of such true gentility , untainted in blood and understanding . Some faults of temper John Knightley had ; but Isabella had connected herself unexceptionably .                                0.667194\n",
      "\" Why , to own the truth ,\" cried Miss Bates , who had been trying in vain to be heard the last two minutes , \" if I must speak on this subject , there is no denying that Mr . Frank Churchill might have  I do not mean to say that he did not dream it  I am sure I have sometimes the oddest dreams in the world  but if I am questioned about it , I must acknowledge that there was such an idea last spring ; for Mrs . Perry herself mentioned it to my mother , and the Coles knew of it as well as ourselves  but it was quite a secret , known to nobody else , and only thought of about three days .                                                                                                                                                                                                                                                                                                                                                                                                                                        0.666155\n",
      "Emma saw Mrs . Weston ' s surprize , and felt that it must be great , at an address which , in words and manner , was assuming to himself the right of first interest in her ; and as for herself , she was too much provoked and offended to have the power of directly saying any thing to the purpose .                                                                                                                                                                                                                                                                                                                                                                                                                                                                                                                                                                                                                                                                                                                                               0.665480\n",
      "Mr . Weston meanwhile , perfectly unsuspicious of the indignation he was exciting , happy and cheerful as usual , and with all the right of being principal talker , which a day spent anywhere from home confers , was making himself agreeable among the rest ; and having satisfied the inquiries of his wife as to his dinner , convincing her that none of all her careful directions to the servants had been forgotten , and spread abroad what public news he had heard , was proceeding to a family communication , which , though principally addressed to Mrs . Weston , he had not the smallest doubt of being highly interesting to every body in the room .                                                                                                                                                                                                                                                                                                                                                                                0.661928\n",
      "This was a pleasure which perhaps the whole day ' s visit might not afford , which certainly did not belong to the present half - hour ; but the very sight of Mrs . Weston , her smile , her touch , her voice was grateful to Emma , and she determined to think as little as possible of Mr . Elton ' s oddities , or of any thing else unpleasant , and enjoy all that was enjoyable to the utmost .                                                                                                                                                                                                                                                                                                                                                                                                                                                                                                                                                                                                                                                 0.658001\n",
      "Emma could not forgive her ; but as neither provocation nor resentment were discerned by Mr . Knightley , who had been of the party , and had seen only proper attention and pleasing behaviour on each side , he was expressing the next morning , being at Hartfield again on business with Mr . Woodhouse , his approbation of the whole ; not so openly as he might have done had her father been out of the room , but speaking plain enough to be very intelligible to Emma .                                                                                                                                                                                                                                                                                                                                                                                                                                                                                                                                                                      0.655653\n",
      "Name: 0, dtype: float64\n",
      "Component 1:\n",
      "\" Oh !     0.998767\n",
      "\" Oh !     0.998767\n",
      "\" Oh !     0.998767\n",
      "Oh !       0.998767\n",
      "\" Oh !     0.998767\n",
      "\" Oh !     0.998767\n",
      "\" Oh !\"    0.998767\n",
      "\" Oh !     0.998767\n",
      "\" Oh !     0.998767\n",
      "\" Oh !     0.998767\n",
      "Name: 1, dtype: float64\n",
      "Component 2:\n",
      "\" Indeed you injure me if you suppose me unconvinced .                                                                                                                                                                        0.520545\n",
      "\" You will not ask me what is the point of envy . You are determined , I see , to have no curiosity . You are wise  but _I_ cannot be wise .                                                                                  0.510743\n",
      "\" He appears rough to you ,\" said Emma , \" because you are so very gentle yourself ; but if you could compare him with other papas , you would not think him rough .                                                          0.497303\n",
      "\" You surprize me !                                                                                                                                                                                                           0.491537\n",
      "\" You have some news to hear , now you are come back , that will rather surprize you .\"                                                                                                                                       0.475781\n",
      "\" Thank you , dear Miss Woodhouse , you are all kindness . It is impossible to say  Yes , indeed , I quite understand  dearest Jane ' s prospects  that is , I do not mean . But she is charmingly recovered . How is Mr .    0.462666\n",
      "\" You would not have encouraged me , then , if you had understood me ?                                                                                                                                                        0.460318\n",
      "\" I am very glad you did , and that you communicated it to me .                                                                                                                                                               0.448912\n",
      "\" Come ,\" said she , \" I will tell you something , in return for what you have told me .                                                                                                                                      0.441875\n",
      "\" You are comfortable because you are under command .\"                                                                                                                                                                        0.437594\n",
      "Name: 2, dtype: float64\n",
      "Component 3:\n",
      "CHAPTER X       0.998666\n",
      "CHAPTER X       0.998666\n",
      "CHAPTER I       0.998666\n",
      "CHAPTER X       0.998666\n",
      "CHAPTER V       0.998666\n",
      "CHAPTER V       0.998666\n",
      "CHAPTER V       0.998666\n",
      "CHAPTER I       0.998666\n",
      "CHAPTER I       0.998666\n",
      "CHAPTER XIII    0.997594\n",
      "Name: 3, dtype: float64\n",
      "Component 4:\n",
      "\" Ah !     0.992038\n",
      "\" Ah !     0.992038\n",
      "\" Ah !     0.992038\n",
      "\" Ah !     0.992038\n",
      "\" Ah !     0.992038\n",
      "\" Ah !     0.992038\n",
      "\" Ah !\"    0.992038\n",
      "\" Ah !     0.992038\n",
      "\" Ah !     0.992038\n",
      "\" Ah !     0.992038\n",
      "Name: 4, dtype: float64\n"
     ]
    }
   ],
   "source": [
    "#Tweaks Go Here\n",
    "X_train, X_test = train_test_split(emma_paras, test_size=0.4, random_state=0)\n",
    "\n",
    "vectorizer = TfidfVectorizer(max_df=0.5, # drop words that occur in more than half the paragraphs\n",
    "                             min_df=2, # only use words that appear at least twice\n",
    "                             # stop_words='english', \n",
    "                             lowercase=True, #convert everything to lower case (since Alice in Wonderland has the HABIT of CAPITALIZING WORDS for EMPHASIS)\n",
    "                             use_idf=True,#we definitely want to use inverse document frequencies in our weighting\n",
    "                             norm=u'l2', #Applies a correction factor so that longer paragraphs and shorter paragraphs get treated equally\n",
    "                             smooth_idf=True #Adds 1 to all document frequencies, as if an extra document existed that used every word once.  Prevents divide-by-zero errors\n",
    "                            )\n",
    "\n",
    "\n",
    "#Applying the vectorizer\n",
    "emma_paras_tfidf=vectorizer.fit_transform(emma_paras)\n",
    "print(\"Number of features: %d\" % emma_paras_tfidf.get_shape()[1])\n",
    "\n",
    "#splitting into training and test sets\n",
    "X_train_tfidf, X_test_tfidf= train_test_split(emma_paras_tfidf, test_size=0.4, random_state=0)\n",
    "\n",
    "# Remember, you will use the same model, only with the test set data.  Don't fit a new model by mistake!\n",
    "X_train_lsa = lsa.fit_transform(X_train_tfidf)\n",
    "\n",
    "paras_by_component=pd.DataFrame(X_train_lsa,index=X_train)\n",
    "for i in range(5):\n",
    "    print('Component {}:'.format(i))\n",
    "    print(paras_by_component.loc[:,i].sort_values(ascending=False)[0:10])"
   ]
  },
  {
   "cell_type": "code",
   "execution_count": 25,
   "metadata": {},
   "outputs": [
    {
     "name": "stdout",
     "output_type": "stream",
     "text": [
      "Number of features: 2174\n",
      "Component 0:\n",
      "\" Oh !     0.780338\n",
      "\" Oh !     0.780338\n",
      "\" Oh !     0.780338\n",
      "\" Oh !     0.780338\n",
      "\" Oh !     0.780338\n",
      "\" Oh !     0.780338\n",
      "\" Oh !     0.780338\n",
      "\" Oh !\"    0.780338\n",
      "\" Oh !     0.780338\n",
      "\" Oh !     0.780338\n",
      "Name: 0, dtype: float64\n",
      "Component 1:\n",
      "\" Oh !     0.624635\n",
      "\" Oh !     0.624635\n",
      "\" Oh !     0.624635\n",
      "\" Oh !\"    0.624635\n",
      "\" Oh !     0.624635\n",
      "\" Oh !     0.624635\n",
      "\" Oh !     0.624635\n",
      "\" Oh !     0.624635\n",
      "\" Oh !     0.624635\n",
      "\" Oh !     0.624635\n",
      "Name: 1, dtype: float64\n",
      "Component 2:\n",
      "\" You will not ask me what is the point of envy . You are determined , I see , to have no curiosity . You are wise  but _I_ cannot be wise .                            0.555413\n",
      "\" Indeed you injure me if you suppose me unconvinced .                                                                                                                  0.541029\n",
      "\" You surprize me !                                                                                                                                                     0.535774\n",
      "\" You have some news to hear , now you are come back , that will rather surprize you .\"                                                                                 0.491640\n",
      "\" You are comfortable because you are under command .\"                                                                                                                  0.477913\n",
      "\" You are very kind  but you are mistaken  and I must set you right . I am not in want of that sort of compassion .                                                     0.469405\n",
      "\" I am very glad you did , and that you communicated it to me .                                                                                                         0.468347\n",
      "\" You are right .                                                                                                                                                       0.461127\n",
      "\" He appears rough to you ,\" said Emma , \" because you are so very gentle yourself ; but if you could compare him with other papas , you would not think him rough .    0.440460\n",
      "\" Have you indeed , sir ? Bless me !                                                                                                                                    0.437677\n",
      "Name: 2, dtype: float64\n",
      "Component 3:\n",
      "CHAPTER V     0.998691\n",
      "CHAPTER V     0.998691\n",
      "CHAPTER X     0.998691\n",
      "CHAPTER I     0.998691\n",
      "CHAPTER X     0.998691\n",
      "CHAPTER I     0.998691\n",
      "CHAPTER I     0.998691\n",
      "CHAPTER X     0.998691\n",
      "CHAPTER V     0.998691\n",
      "CHAPTER VI    0.997712\n",
      "Name: 3, dtype: float64\n",
      "Component 4:\n",
      "\" Ah !    0.993\n",
      "\" Ah !    0.993\n",
      "\" Ah !    0.993\n",
      "\" Ah !    0.993\n",
      "\" Ah !    0.993\n",
      "\" Ah !    0.993\n",
      "\" Ah !    0.993\n",
      "\" Ah !    0.993\n",
      "\" Ah !    0.993\n",
      "\" Ah !    0.993\n",
      "Name: 4, dtype: float64\n"
     ]
    }
   ],
   "source": [
    "#Tweaks Go Here\n",
    "X_train, X_test = train_test_split(emma_paras, test_size=0.4, random_state=0)\n",
    "\n",
    "vectorizer = TfidfVectorizer(max_df=0.25, # drop words that occur in more than half the paragraphs\n",
    "                             min_df=2, # only use words that appear at least twice\n",
    "                             # stop_words='english', \n",
    "                             lowercase=True, #convert everything to lower case (since Alice in Wonderland has the HABIT of CAPITALIZING WORDS for EMPHASIS)\n",
    "                             use_idf=True,#we definitely want to use inverse document frequencies in our weighting\n",
    "                             norm=u'l2', #Applies a correction factor so that longer paragraphs and shorter paragraphs get treated equally\n",
    "                             smooth_idf=True #Adds 1 to all document frequencies, as if an extra document existed that used every word once.  Prevents divide-by-zero errors\n",
    "                            )\n",
    "\n",
    "\n",
    "#Applying the vectorizer\n",
    "emma_paras_tfidf=vectorizer.fit_transform(emma_paras)\n",
    "print(\"Number of features: %d\" % emma_paras_tfidf.get_shape()[1])\n",
    "\n",
    "#splitting into training and test sets\n",
    "X_train_tfidf, X_test_tfidf= train_test_split(emma_paras_tfidf, test_size=0.4, random_state=0)\n",
    "\n",
    "# Remember, you will use the same model, only with the test set data.  Don't fit a new model by mistake!\n",
    "X_train_lsa = lsa.fit_transform(X_train_tfidf)\n",
    "\n",
    "paras_by_component=pd.DataFrame(X_train_lsa,index=X_train)\n",
    "for i in range(5):\n",
    "    print('Component {}:'.format(i))\n",
    "    print(paras_by_component.loc[:,i].sort_values(ascending=False)[0:10])"
   ]
  },
  {
   "cell_type": "code",
   "execution_count": 26,
   "metadata": {},
   "outputs": [
    {
     "name": "stdout",
     "output_type": "stream",
     "text": [
      "Number of features: 564\n",
      "Component 0:\n",
      "Mrs . Weston was acting no part , feigning no feelings in all that she said to him in favour of the event . She had been extremely surprized , never more so , than when Emma first opened the affair to her ; but she saw in it only increase of happiness to all , and had no scruple in urging him to the utmost . She had such a regard for Mr . Knightley , as to think he deserved even her dearest Emma ; and it was in every respect so proper , suitable , and unexceptionable a connexion , and in one respect , one point of the highest importance , so peculiarly eligible , so singularly fortunate , that now it seemed as if Emma could not safely have attached herself to any other creature , and that she had herself been the stupidest of beings in not having thought of it , and wished it long ago . How very few of those men in a rank of life to address Emma would have renounced their own home for Hartfield !                                                                                                            0.768551\n",
      "This was the amount of the whole story , of his communication and of Harriet ' s as soon as she had recovered her senses and speech . He dared not stay longer than to see her well ; these several delays left him not another minute to lose ; and Emma engaging to give assurance of her safety to Mrs . Goddard , and notice of there being such a set of people in the neighbourhood to Mr . Knightley , he set off , with all the grateful blessings that she could utter for her friend and herself .                                                                                                                                                                                                                                                                                                                                                                                                                                                                                                                                             0.759020\n",
      "To restrain him as much as might be , by her own manners , she was immediately preparing to speak with exquisite calmness and gravity of the weather and the night ; but scarcely had she begun , scarcely had they passed the sweep - gate and joined the other carriage , than she found her subject cut up  her hand seized  her attention demanded , and Mr . Elton actually making violent love to her : availing himself of the precious opportunity , declaring sentiments which must be already well known , hoping  fearing  adoring  ready to die if she refused him ; but flattering himself that his ardent attachment and unequalled love and unexampled passion could not fail of having some effect , and in short , very much resolved on being seriously accepted as soon as possible .                                                                                                                                                                                                                                                 0.707683\n",
      "The charming Augusta Hawkins , in addition to all the usual advantages of perfect beauty and merit , was in possession of an independent fortune , of so many thousands as would always be called ten ; a point of some dignity , as well as some convenience : the story told well ; he had not thrown himself away  he had gained a woman of 10 , 000 l . or thereabouts ; and he had gained her with such delightful rapidity  the first hour of introduction had been so very soon followed by distinguishing notice ; the history which he had to give Mrs . Cole of the rise and progress of the affair was so glorious  the steps so quick , from the accidental rencontre , to the dinner at Mr . Green ' s , and the party at Mrs . Brown ' s  smiles and blushes rising in importance  with consciousness and agitation richly scattered  the lady had been so easily impressed  so sweetly disposed  had in short , to use a most intelligible phrase , been so very ready to have him , that vanity and prudence were equally contented .    0.702901\n",
      "Mr . Weston meanwhile , perfectly unsuspicious of the indignation he was exciting , happy and cheerful as usual , and with all the right of being principal talker , which a day spent anywhere from home confers , was making himself agreeable among the rest ; and having satisfied the inquiries of his wife as to his dinner , convincing her that none of all her careful directions to the servants had been forgotten , and spread abroad what public news he had heard , was proceeding to a family communication , which , though principally addressed to Mrs . Weston , he had not the smallest doubt of being highly interesting to every body in the room .                                                                                                                                                                                                                                                                                                                                                                                0.700159\n",
      "She felt all the honest pride and complacency which her alliance with the present and future proprietor could fairly warrant , as she viewed the respectable size and style of the building , its suitable , becoming , characteristic situation , low and sheltered  its ample gardens stretching down to meadows washed by a stream , of which the Abbey , with all the old neglect of prospect , had scarcely a sight  and its abundance of timber in rows and avenues , which neither fashion nor extravagance had rooted up . The house was larger than Hartfield , and totally unlike it , covering a good deal of ground , rambling and irregular , with many comfortable , and one or two handsome rooms . It was just what it ought to be , and it looked what it was  and Emma felt an increasing respect for it , as the residence of a family of such true gentility , untainted in blood and understanding . Some faults of temper John Knightley had ; but Isabella had connected herself unexceptionably .                                0.684843\n",
      "Emma could not forgive her ; but as neither provocation nor resentment were discerned by Mr . Knightley , who had been of the party , and had seen only proper attention and pleasing behaviour on each side , he was expressing the next morning , being at Hartfield again on business with Mr . Woodhouse , his approbation of the whole ; not so openly as he might have done had her father been out of the room , but speaking plain enough to be very intelligible to Emma .                                                                                                                                                                                                                                                                                                                                                                                                                                                                                                                                                                      0.676919\n",
      "This was a pleasure which perhaps the whole day ' s visit might not afford , which certainly did not belong to the present half - hour ; but the very sight of Mrs . Weston , her smile , her touch , her voice was grateful to Emma , and she determined to think as little as possible of Mr . Elton ' s oddities , or of any thing else unpleasant , and enjoy all that was enjoyable to the utmost .                                                                                                                                                                                                                                                                                                                                                                                                                                                                                                                                                                                                                                                 0.671949\n",
      "Emma saw Mrs . Weston ' s surprize , and felt that it must be great , at an address which , in words and manner , was assuming to himself the right of first interest in her ; and as for herself , she was too much provoked and offended to have the power of directly saying any thing to the purpose .                                                                                                                                                                                                                                                                                                                                                                                                                                                                                                                                                                                                                                                                                                                                               0.665913\n",
      "Their first pause was at the Crown Inn , an inconsiderable house , though the principal one of the sort , where a couple of pair of post - horses were kept , more for the convenience of the neighbourhood than from any run on the road ; and his companions had not expected to be detained by any interest excited there ; but in passing it they gave the history of the large room visibly added ; it had been built many years ago for a ball - room , and while the neighbourhood had been in a particularly populous , dancing state , had been occasionally used as such ; but such brilliant days had long passed away , and now the highest purpose for which it was ever wanted was to accommodate a whist club established among the gentlemen and half - gentlemen of the place .                                                                                                                                                                                                                                                         0.665172\n",
      "Name: 0, dtype: float64\n",
      "Component 1:\n",
      "\" Oh !     0.999133\n",
      "\" Oh !     0.999133\n",
      "\" Oh !     0.999133\n",
      "\" Oh !     0.999133\n",
      "\" Oh !     0.999133\n",
      "\" Oh !     0.999133\n",
      "\" Oh !     0.999133\n",
      "\" Oh !     0.999133\n",
      "\" Oh !\"    0.999133\n",
      "\" Oh !     0.999133\n",
      "Name: 1, dtype: float64\n",
      "Component 2:\n",
      "CHAPTER XIII    1.0\n",
      "CHAPTER X       1.0\n",
      "CHAPTER XIV     1.0\n",
      "CHAPTER XVI     1.0\n",
      "CHAPTER I       1.0\n",
      "CHAPTER VII     1.0\n",
      "CHAPTER IX      1.0\n",
      "CHAPTER VI      1.0\n",
      "CHAPTER XI      1.0\n",
      "CHAPTER XVI     1.0\n",
      "Name: 2, dtype: float64\n",
      "Component 3:\n",
      "\" You will not ask me what is the point of envy . You are determined , I see , to have no curiosity . You are wise  but _I_ cannot be wise .                                                                                  0.502764\n",
      "\" He appears rough to you ,\" said Emma , \" because you are so very gentle yourself ; but if you could compare him with other papas , you would not think him rough .                                                          0.501357\n",
      "\" Indeed you injure me if you suppose me unconvinced .                                                                                                                                                                        0.484106\n",
      "\" Thank you , dear Miss Woodhouse , you are all kindness . It is impossible to say  Yes , indeed , I quite understand  dearest Jane ' s prospects  that is , I do not mean . But she is charmingly recovered . How is Mr .    0.481120\n",
      "\" You would not have encouraged me , then , if you had understood me ?                                                                                                                                                        0.461838\n",
      "\" I am very glad you did , and that you communicated it to me .                                                                                                                                                               0.461475\n",
      "\" You surprize me !                                                                                                                                                                                                           0.457768\n",
      "\" You have some news to hear , now you are come back , that will rather surprize you .\"                                                                                                                                       0.453483\n",
      "\" You could not have visited me !\"                                                                                                                                                                                            0.445868\n",
      "\" My dear , you said that Miss Campbell would not allow him to be plain , and that you yourself \"                                                                                                                             0.432824\n",
      "Name: 3, dtype: float64\n",
      "Component 4:\n",
      "The marriage of Lieut .                                                                                                                                                                                                   0.468049\n",
      "The ball proceeded pleasantly .                                                                                                                                                                                           0.444680\n",
      "\" Aye , I see what you are thinking of , the pianoforte .                                                                                                                                                                 0.412238\n",
      "\" You are comfortable because you are under command .\"                                                                                                                                                                    0.410792\n",
      "\" The Crown !\"                                                                                                                                                                                                            0.396225\n",
      "\" And do you really believe the affair to have been carrying on with such perfect secresy ? The Campbells , the Dixons , did none of them know of the engagement ?\"                                                       0.395520\n",
      "My first displays the wealth and pomp of kings , Lords of the earth !                                                                                                                                                     0.391288\n",
      "\" You talk a great deal of the length of this passage , my dear .                                                                                                                                                         0.390361\n",
      "\" You are right .                                                                                                                                                                                                         0.390293\n",
      "The affection of the whole family , the warm attachment of Miss Campbell in particular , was the more honourable to each party from the circumstance of Jane ' s decided superiority both in beauty and acquirements .    0.390154\n",
      "Name: 4, dtype: float64\n"
     ]
    }
   ],
   "source": [
    "#Tweaks Go Here\n",
    "X_train, X_test = train_test_split(emma_paras, test_size=0.4, random_state=0)\n",
    "\n",
    "vectorizer = TfidfVectorizer(max_df=0.5, # drop words that occur in more than half the paragraphs\n",
    "                             min_df=10, # only use words that appear at least twice\n",
    "                             # stop_words='english', \n",
    "                             lowercase=True, #convert everything to lower case (since Alice in Wonderland has the HABIT of CAPITALIZING WORDS for EMPHASIS)\n",
    "                             use_idf=True,#we definitely want to use inverse document frequencies in our weighting\n",
    "                             norm=u'l2', #Applies a correction factor so that longer paragraphs and shorter paragraphs get treated equally\n",
    "                             smooth_idf=True #Adds 1 to all document frequencies, as if an extra document existed that used every word once.  Prevents divide-by-zero errors\n",
    "                            )\n",
    "\n",
    "\n",
    "#Applying the vectorizer\n",
    "emma_paras_tfidf=vectorizer.fit_transform(emma_paras)\n",
    "print(\"Number of features: %d\" % emma_paras_tfidf.get_shape()[1])\n",
    "\n",
    "#splitting into training and test sets\n",
    "X_train_tfidf, X_test_tfidf= train_test_split(emma_paras_tfidf, test_size=0.4, random_state=0)\n",
    "\n",
    "# Remember, you will use the same model, only with the test set data.  Don't fit a new model by mistake!\n",
    "X_train_lsa = lsa.fit_transform(X_train_tfidf)\n",
    "\n",
    "paras_by_component=pd.DataFrame(X_train_lsa,index=X_train)\n",
    "for i in range(5):\n",
    "    print('Component {}:'.format(i))\n",
    "    print(paras_by_component.loc[:,i].sort_values(ascending=False)[0:10])"
   ]
  },
  {
   "cell_type": "markdown",
   "metadata": {
    "run_control": {
     "frozen": false,
     "read_only": false
    }
   },
   "source": [
    "LSA is one of many unsupervised methods that can be applied to text data.  There will be opportunities later to dive more deeply into this topic and encounter other methods.\n",
    "\n",
    "Although we have presented LSA as an unsupervised method, it can also be used to prepare text data for classification in supervised learning.  In that case, the goal would be to use LSA to arrive at a smaller set of features that can be used to build a supervised model that will classify text into pre-labelled categories.\n",
    "\n",
    "LSA isn't perfect- while it is good for dealing with synonyms, it cannot handle polysemy.  For that, we will need to try out a neural network approach.\n",
    "\n",
    "This assignment has a lot of moving parts- text processing, tf-idf, using single value decomposition on text, and finally interpreting the results of the LSA.  Make sure to spend enough time playing with the code to feel comfortable with all of these aspects before moving on."
   ]
  }
 ],
 "metadata": {
  "hide_input": false,
  "kernelspec": {
   "display_name": "Python 3",
   "language": "python",
   "name": "python3"
  },
  "language_info": {
   "codemirror_mode": {
    "name": "ipython",
    "version": 3
   },
   "file_extension": ".py",
   "mimetype": "text/x-python",
   "name": "python",
   "nbconvert_exporter": "python",
   "pygments_lexer": "ipython3",
   "version": "3.6.5"
  },
  "toc": {
   "colors": {
    "hover_highlight": "#DAA520",
    "running_highlight": "#FF0000",
    "selected_highlight": "#FFD700"
   },
   "moveMenuLeft": true,
   "nav_menu": {
    "height": "142px",
    "width": "252px"
   },
   "navigate_menu": true,
   "number_sections": true,
   "sideBar": true,
   "threshold": 4,
   "toc_cell": false,
   "toc_section_display": "block",
   "toc_window_display": false
  }
 },
 "nbformat": 4,
 "nbformat_minor": 2
}
