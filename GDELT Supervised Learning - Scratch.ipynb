{
 "cells": [
  {
   "cell_type": "markdown",
   "metadata": {},
   "source": [
    "Using a dataset of your choice, select an outcome variable and then pick four or five other variables (one to two categorical, three to four continuous) to act as the basis for features. Explore the variables using the univariate and bivariate methods you've learned so far. \n",
    "\n",
    "Next, based on what you learned via your data exploration, create ten new features. Explain the reasoning behind each one.\n",
    "\n",
    "Finally, use filtering methods to select the five best features and justify your choices."
   ]
  },
  {
   "cell_type": "code",
   "execution_count": 2,
   "metadata": {},
   "outputs": [],
   "source": [
    "import pandas as pd\n",
    "import numpy as np\n",
    "import matplotlib.pyplot as plt\n",
    "import seaborn as sns \n",
    "from scipy.stats import ttest_1samp\n",
    "from sklearn import preprocessing\n",
    "from sklearn.preprocessing import OneHotEncoder\n",
    "from sklearn import preprocessing\n",
    "from sklearn import linear_model\n",
    "from sklearn.model_selection import train_test_split\n",
    "from sklearn.naive_bayes import BernoulliNB\n",
    "from sklearn.naive_bayes import GaussianNB\n",
    "import csv, sqlite3\n",
    "%matplotlib inline\n",
    "\n",
    "from GDELT_utils import GDELT_columns, usecols, dtype_dict, \\\n",
    "                        cameo_dict, map_cameo_to_text, \\\n",
    "                        state_dict, mem_usage, state_heat_map"
   ]
  },
  {
   "cell_type": "code",
   "execution_count": 3,
   "metadata": {},
   "outputs": [],
   "source": [
    "con = sqlite3.connect(\"gdelt.db\")"
   ]
  },
  {
   "cell_type": "code",
   "execution_count": 4,
   "metadata": {},
   "outputs": [],
   "source": [
    "gdelt = pd.read_sql_query(\"SELECT SQLDATE, Actor1CountryCode, Actor2CountryCode, \\\n",
    "                            Actor1Geo_CountryCode, Actor2Geo_CountryCode, \\\n",
    "                            EventRootCode, AVG(NumMentions), AVG(AvgTone) \\\n",
    "                          FROM gdelt \\\n",
    "                          WHERE SQLDATE > \\\"2017-05-01\\\" AND SQLDATE < \\\"2017-08-01\\\" \\\n",
    "                          GROUP BY SQLDATE, Actor1CountryCode, Actor2CountryCode, \\\n",
    "                          Actor1Geo_CountryCode, Actor2Geo_CountryCode, EventRootCode\", con)\n",
    "# aggregate data by\n",
    "# Date Actor1Code Actor2Code Actor1Geo_CountryCode Actor2Geo_CountryCode EventRootCode -> Mean AvgTone\n",
    "\n",
    "# Features Actor1Code Actor2Code Actor1Geo_CountryCode Actor2Geo_CountryCode NumMentions EventRootCode "
   ]
  },
  {
   "cell_type": "code",
   "execution_count": 5,
   "metadata": {},
   "outputs": [],
   "source": [
    "interest = [\"SQLDATE\",\n",
    "            \"AvgTone\", \"NumMentions\", \"EventRootCode\",\n",
    "            \"Actor1CountryCode\", \"Actor2CountryCode\",\n",
    "            \"Actor1Geo_CountryCode\", \"Actor2Geo_CountryCode\"]\n",
    "\n",
    "categories = [\"EventRootCode\",\n",
    "            \"Actor1CountryCode\", \"Actor2CountryCode\",\n",
    "            \"Actor1Geo_CountryCode\", \"Actor2Geo_CountryCode\"]\n",
    "\n",
    "for category_col in categories:\n",
    "    gdelt[category_col] = gdelt[category_col].astype('category')\n",
    "    \n",
    "gdelt['SQLDATE'] = pd.to_datetime(gdelt['SQLDATE'])  "
   ]
  },
  {
   "cell_type": "code",
   "execution_count": 6,
   "metadata": {},
   "outputs": [],
   "source": [
    "gdelt = gdelt.drop(labels=gdelt[(gdelt['EventRootCode'] == \"--\")].index)"
   ]
  },
  {
   "cell_type": "code",
   "execution_count": 7,
   "metadata": {},
   "outputs": [
    {
     "name": "stdout",
     "output_type": "stream",
     "text": [
      "<class 'pandas.core.frame.DataFrame'>\n",
      "Int64Index: 4370484 entries, 0 to 4370490\n",
      "Data columns (total 8 columns):\n",
      "SQLDATE                  datetime64[ns]\n",
      "Actor1CountryCode        category\n",
      "Actor2CountryCode        category\n",
      "Actor1Geo_CountryCode    category\n",
      "Actor2Geo_CountryCode    category\n",
      "EventRootCode            category\n",
      "AVG(NumMentions)         float64\n",
      "AVG(AvgTone)             float64\n",
      "dtypes: category(5), datetime64[ns](1), float64(2)\n",
      "memory usage: 171.0 MB\n"
     ]
    }
   ],
   "source": [
    "gdelt.info(memory_usage=\"deep\")"
   ]
  },
  {
   "cell_type": "code",
   "execution_count": 8,
   "metadata": {},
   "outputs": [],
   "source": [
    "gdelt_sample = gdelt.sample(frac=.05)"
   ]
  },
  {
   "cell_type": "code",
   "execution_count": 8,
   "metadata": {},
   "outputs": [],
   "source": [
    "gdelt_tones = gdelt_sample['AVG(AvgTone)']"
   ]
  },
  {
   "cell_type": "code",
   "execution_count": 9,
   "metadata": {
    "scrolled": true
   },
   "outputs": [
    {
     "data": {
      "text/plain": [
       "3116627    -5.581395\n",
       "248721      1.073353\n",
       "2377850     0.000000\n",
       "2318693    -1.948718\n",
       "3116385    -1.389262\n",
       "1045567     2.595797\n",
       "437602     -4.761905\n",
       "3070938     1.629328\n",
       "2836150    -1.948553\n",
       "28496       0.123468\n",
       "203264     -4.050633\n",
       "421380      2.978723\n",
       "4225428    -7.567567\n",
       "3883297    -1.694915\n",
       "3852277    -1.952702\n",
       "1417852     1.556420\n",
       "3607115     0.823045\n",
       "2789027    -6.910569\n",
       "2190439    -0.048417\n",
       "846320     -0.891253\n",
       "2078575    -2.180685\n",
       "863276      0.000000\n",
       "3055385    -5.755396\n",
       "2291302    -8.392435\n",
       "2949460    -2.960526\n",
       "1010147    -1.059002\n",
       "4281787     0.675327\n",
       "2253370    -0.505050\n",
       "4348408   -20.306513\n",
       "24907      -3.311793\n",
       "             ...    \n",
       "1932943    -5.536332\n",
       "3203921     6.756976\n",
       "2970021    -5.701755\n",
       "190966     -0.237626\n",
       "3669949    -1.011152\n",
       "2841907    -2.348993\n",
       "1463856    -2.921348\n",
       "3245074    -2.007911\n",
       "2346595    -4.609195\n",
       "2686539    -4.489796\n",
       "410047      1.824066\n",
       "4078607     0.694444\n",
       "3328591    -0.804829\n",
       "4223609     1.342282\n",
       "1635676     3.015075\n",
       "1345661     7.725322\n",
       "1258852    -5.772214\n",
       "3951261    -3.032880\n",
       "3184606    -2.553730\n",
       "2833043     0.903411\n",
       "820989      0.402415\n",
       "668659      1.182033\n",
       "258323     -3.795967\n",
       "568663      1.995798\n",
       "3942764    -4.518713\n",
       "3047739    -3.824215\n",
       "2640628     1.066667\n",
       "3583527    -1.515152\n",
       "2939283     0.434454\n",
       "1935041    -5.263158\n",
       "Name: AVG(AvgTone), Length: 874097, dtype: float64"
      ]
     },
     "execution_count": 9,
     "metadata": {},
     "output_type": "execute_result"
    }
   ],
   "source": [
    "gdelt_tones"
   ]
  },
  {
   "cell_type": "code",
   "execution_count": 10,
   "metadata": {},
   "outputs": [],
   "source": [
    "gdelt_cntry = gdelt_sample['Actor1CountryCode']"
   ]
  },
  {
   "cell_type": "code",
   "execution_count": 11,
   "metadata": {
    "scrolled": true
   },
   "outputs": [
    {
     "data": {
      "text/plain": [
       "3116627    EUR\n",
       "248721     PNG\n",
       "2377850    EGY\n",
       "2318693    RUS\n",
       "3116385    EUR\n",
       "1045567    GBR\n",
       "437602     NaN\n",
       "3070938    GBR\n",
       "2836150    NaN\n",
       "28496      JPN\n",
       "203264     TJK\n",
       "421380     NZL\n",
       "4225428    CUB\n",
       "3883297    RUS\n",
       "3852277    NaN\n",
       "1417852    RUS\n",
       "3607115    AUT\n",
       "2789027    NaN\n",
       "2190439    CAN\n",
       "846320     AFR\n",
       "2078575    NaN\n",
       "863276     ISR\n",
       "3055385    NaN\n",
       "2291302    NaN\n",
       "2949460    CHL\n",
       "1010147    SEA\n",
       "4281787    SAS\n",
       "2253370    GBR\n",
       "4348408    IND\n",
       "24907      GTM\n",
       "          ... \n",
       "1932943    SYC\n",
       "3203921    NaN\n",
       "2970021    RUS\n",
       "190966     ITA\n",
       "3669949    USA\n",
       "2841907    NaN\n",
       "1463856    MAR\n",
       "3245074    TGO\n",
       "2346595    GBR\n",
       "2686539    IRN\n",
       "410047     GBR\n",
       "4078607    DEU\n",
       "3328591    FRA\n",
       "4223609    CHE\n",
       "1635676    SWE\n",
       "1345661    NaN\n",
       "1258852    NaN\n",
       "3951261    NaN\n",
       "3184606    QAT\n",
       "2833043    NaN\n",
       "820989     THA\n",
       "668659     NaN\n",
       "258323     USA\n",
       "568663     FJI\n",
       "3942764    ZWE\n",
       "3047739    NaN\n",
       "2640628    GBR\n",
       "3583527    SYR\n",
       "2939283    NaN\n",
       "1935041    TUR\n",
       "Name: Actor1CountryCode, Length: 874097, dtype: category\n",
       "Categories (221, object): [ABW, AFG, AFR, AGO, ..., YEM, ZAF, ZMB, ZWE]"
      ]
     },
     "execution_count": 11,
     "metadata": {},
     "output_type": "execute_result"
    }
   ],
   "source": [
    "gdelt_cntry"
   ]
  },
  {
   "cell_type": "code",
   "execution_count": 12,
   "metadata": {},
   "outputs": [
    {
     "name": "stdout",
     "output_type": "stream",
     "text": [
      "<class 'pandas.core.frame.DataFrame'>\n",
      "Int64Index: 874097 entries, 3116627 to 1935041\n",
      "Columns: 221 entries, Actor1CountryCode_ABW to Actor1CountryCode_ZWE\n",
      "dtypes: uint8(221)\n",
      "memory usage: 230.9 MB\n"
     ]
    }
   ],
   "source": [
    "Actor1CC_one_hot = pd.get_dummies(gdelt_cntry, \n",
    "                                  prefix=\"Actor1CountryCode\")\n",
    "Actor1CC_one_hot.info()"
   ]
  },
  {
   "cell_type": "code",
   "execution_count": 13,
   "metadata": {},
   "outputs": [
    {
     "name": "stdout",
     "output_type": "stream",
     "text": [
      "<class 'pandas.core.frame.DataFrame'>\n",
      "Int64Index: 874097 entries, 3116627 to 1935041\n",
      "Columns: 221 entries, ABW to ZWE\n",
      "dtypes: uint8(221)\n",
      "memory usage: 230.9 MB\n"
     ]
    }
   ],
   "source": [
    "Actor1CC_one_hot = pd.get_dummies(gdelt_cntry)\n",
    "Actor1CC_one_hot.info()"
   ]
  },
  {
   "cell_type": "code",
   "execution_count": 138,
   "metadata": {},
   "outputs": [],
   "source": [
    "# other direction didn't work??? non-categorical error\n",
    "Actor1CC_one_hot = pd.get_dummies(gdelt_cntry)\n",
    "Actor1CC_one_hot.info()\n",
    "\n",
    "Actor1CC_tone = pd.concat([gdelt_tones, Actor1CC_one_hot], axis=1)"
   ]
  },
  {
   "cell_type": "code",
   "execution_count": 140,
   "metadata": {},
   "outputs": [
    {
     "data": {
      "text/html": [
       "<div>\n",
       "<style scoped>\n",
       "    .dataframe tbody tr th:only-of-type {\n",
       "        vertical-align: middle;\n",
       "    }\n",
       "\n",
       "    .dataframe tbody tr th {\n",
       "        vertical-align: top;\n",
       "    }\n",
       "\n",
       "    .dataframe thead th {\n",
       "        text-align: right;\n",
       "    }\n",
       "</style>\n",
       "<table border=\"1\" class=\"dataframe\">\n",
       "  <thead>\n",
       "    <tr style=\"text-align: right;\">\n",
       "      <th></th>\n",
       "      <th>ABW</th>\n",
       "      <th>AVG(AvgTone)</th>\n",
       "    </tr>\n",
       "  </thead>\n",
       "  <tbody>\n",
       "    <tr>\n",
       "      <th>1606835</th>\n",
       "      <td>1</td>\n",
       "      <td>5.574913</td>\n",
       "    </tr>\n",
       "    <tr>\n",
       "      <th>3211172</th>\n",
       "      <td>1</td>\n",
       "      <td>-4.397163</td>\n",
       "    </tr>\n",
       "    <tr>\n",
       "      <th>641015</th>\n",
       "      <td>1</td>\n",
       "      <td>1.569616</td>\n",
       "    </tr>\n",
       "    <tr>\n",
       "      <th>2293363</th>\n",
       "      <td>1</td>\n",
       "      <td>1.670644</td>\n",
       "    </tr>\n",
       "    <tr>\n",
       "      <th>2131593</th>\n",
       "      <td>1</td>\n",
       "      <td>0.874636</td>\n",
       "    </tr>\n",
       "    <tr>\n",
       "      <th>2991288</th>\n",
       "      <td>1</td>\n",
       "      <td>-0.205339</td>\n",
       "    </tr>\n",
       "    <tr>\n",
       "      <th>2293358</th>\n",
       "      <td>1</td>\n",
       "      <td>-1.632653</td>\n",
       "    </tr>\n",
       "    <tr>\n",
       "      <th>1726538</th>\n",
       "      <td>1</td>\n",
       "      <td>6.854839</td>\n",
       "    </tr>\n",
       "    <tr>\n",
       "      <th>3501167</th>\n",
       "      <td>1</td>\n",
       "      <td>4.928458</td>\n",
       "    </tr>\n",
       "    <tr>\n",
       "      <th>3714140</th>\n",
       "      <td>1</td>\n",
       "      <td>-5.949008</td>\n",
       "    </tr>\n",
       "    <tr>\n",
       "      <th>3501169</th>\n",
       "      <td>1</td>\n",
       "      <td>4.932382</td>\n",
       "    </tr>\n",
       "    <tr>\n",
       "      <th>901720</th>\n",
       "      <td>1</td>\n",
       "      <td>3.861648</td>\n",
       "    </tr>\n",
       "    <tr>\n",
       "      <th>1654662</th>\n",
       "      <td>1</td>\n",
       "      <td>3.055556</td>\n",
       "    </tr>\n",
       "    <tr>\n",
       "      <th>1654666</th>\n",
       "      <td>1</td>\n",
       "      <td>3.055556</td>\n",
       "    </tr>\n",
       "    <tr>\n",
       "      <th>1442784</th>\n",
       "      <td>1</td>\n",
       "      <td>5.772496</td>\n",
       "    </tr>\n",
       "    <tr>\n",
       "      <th>451938</th>\n",
       "      <td>1</td>\n",
       "      <td>5.047318</td>\n",
       "    </tr>\n",
       "    <tr>\n",
       "      <th>2410656</th>\n",
       "      <td>1</td>\n",
       "      <td>1.824212</td>\n",
       "    </tr>\n",
       "    <tr>\n",
       "      <th>1089478</th>\n",
       "      <td>1</td>\n",
       "      <td>-0.606061</td>\n",
       "    </tr>\n",
       "    <tr>\n",
       "      <th>2042897</th>\n",
       "      <td>1</td>\n",
       "      <td>-2.067947</td>\n",
       "    </tr>\n",
       "    <tr>\n",
       "      <th>3211180</th>\n",
       "      <td>1</td>\n",
       "      <td>-4.397163</td>\n",
       "    </tr>\n",
       "    <tr>\n",
       "      <th>504737</th>\n",
       "      <td>1</td>\n",
       "      <td>-7.010014</td>\n",
       "    </tr>\n",
       "    <tr>\n",
       "      <th>2520480</th>\n",
       "      <td>1</td>\n",
       "      <td>0.087413</td>\n",
       "    </tr>\n",
       "    <tr>\n",
       "      <th>1783043</th>\n",
       "      <td>1</td>\n",
       "      <td>0.649351</td>\n",
       "    </tr>\n",
       "    <tr>\n",
       "      <th>1552425</th>\n",
       "      <td>1</td>\n",
       "      <td>-1.293103</td>\n",
       "    </tr>\n",
       "    <tr>\n",
       "      <th>641017</th>\n",
       "      <td>1</td>\n",
       "      <td>1.569616</td>\n",
       "    </tr>\n",
       "    <tr>\n",
       "      <th>1497000</th>\n",
       "      <td>1</td>\n",
       "      <td>0.393701</td>\n",
       "    </tr>\n",
       "    <tr>\n",
       "      <th>2464071</th>\n",
       "      <td>1</td>\n",
       "      <td>-1.520913</td>\n",
       "    </tr>\n",
       "    <tr>\n",
       "      <th>2520483</th>\n",
       "      <td>1</td>\n",
       "      <td>0.976909</td>\n",
       "    </tr>\n",
       "    <tr>\n",
       "      <th>3211171</th>\n",
       "      <td>1</td>\n",
       "      <td>1.590909</td>\n",
       "    </tr>\n",
       "    <tr>\n",
       "      <th>63082</th>\n",
       "      <td>1</td>\n",
       "      <td>4.966140</td>\n",
       "    </tr>\n",
       "    <tr>\n",
       "      <th>...</th>\n",
       "      <td>...</td>\n",
       "      <td>...</td>\n",
       "    </tr>\n",
       "    <tr>\n",
       "      <th>901723</th>\n",
       "      <td>1</td>\n",
       "      <td>2.061856</td>\n",
       "    </tr>\n",
       "    <tr>\n",
       "      <th>1355094</th>\n",
       "      <td>1</td>\n",
       "      <td>-2.470265</td>\n",
       "    </tr>\n",
       "    <tr>\n",
       "      <th>3809168</th>\n",
       "      <td>1</td>\n",
       "      <td>6.557377</td>\n",
       "    </tr>\n",
       "    <tr>\n",
       "      <th>1783038</th>\n",
       "      <td>1</td>\n",
       "      <td>3.761755</td>\n",
       "    </tr>\n",
       "    <tr>\n",
       "      <th>1355097</th>\n",
       "      <td>1</td>\n",
       "      <td>-3.794370</td>\n",
       "    </tr>\n",
       "    <tr>\n",
       "      <th>1606834</th>\n",
       "      <td>1</td>\n",
       "      <td>0.969529</td>\n",
       "    </tr>\n",
       "    <tr>\n",
       "      <th>3211175</th>\n",
       "      <td>1</td>\n",
       "      <td>-4.397163</td>\n",
       "    </tr>\n",
       "    <tr>\n",
       "      <th>1552419</th>\n",
       "      <td>1</td>\n",
       "      <td>-0.942211</td>\n",
       "    </tr>\n",
       "    <tr>\n",
       "      <th>1265354</th>\n",
       "      <td>1</td>\n",
       "      <td>-2.875000</td>\n",
       "    </tr>\n",
       "    <tr>\n",
       "      <th>1552424</th>\n",
       "      <td>1</td>\n",
       "      <td>2.112676</td>\n",
       "    </tr>\n",
       "    <tr>\n",
       "      <th>1900384</th>\n",
       "      <td>1</td>\n",
       "      <td>1.891909</td>\n",
       "    </tr>\n",
       "    <tr>\n",
       "      <th>1654654</th>\n",
       "      <td>1</td>\n",
       "      <td>-2.985075</td>\n",
       "    </tr>\n",
       "    <tr>\n",
       "      <th>1552431</th>\n",
       "      <td>1</td>\n",
       "      <td>3.542234</td>\n",
       "    </tr>\n",
       "    <tr>\n",
       "      <th>4263929</th>\n",
       "      <td>1</td>\n",
       "      <td>-0.607287</td>\n",
       "    </tr>\n",
       "    <tr>\n",
       "      <th>3060152</th>\n",
       "      <td>1</td>\n",
       "      <td>-1.881720</td>\n",
       "    </tr>\n",
       "    <tr>\n",
       "      <th>451935</th>\n",
       "      <td>1</td>\n",
       "      <td>5.047318</td>\n",
       "    </tr>\n",
       "    <tr>\n",
       "      <th>1394208</th>\n",
       "      <td>1</td>\n",
       "      <td>0.000000</td>\n",
       "    </tr>\n",
       "    <tr>\n",
       "      <th>1089476</th>\n",
       "      <td>1</td>\n",
       "      <td>-0.606061</td>\n",
       "    </tr>\n",
       "    <tr>\n",
       "      <th>557634</th>\n",
       "      <td>1</td>\n",
       "      <td>4.450262</td>\n",
       "    </tr>\n",
       "    <tr>\n",
       "      <th>790571</th>\n",
       "      <td>1</td>\n",
       "      <td>-1.046025</td>\n",
       "    </tr>\n",
       "    <tr>\n",
       "      <th>3211176</th>\n",
       "      <td>1</td>\n",
       "      <td>-4.397163</td>\n",
       "    </tr>\n",
       "    <tr>\n",
       "      <th>2991285</th>\n",
       "      <td>1</td>\n",
       "      <td>-0.956023</td>\n",
       "    </tr>\n",
       "    <tr>\n",
       "      <th>1654663</th>\n",
       "      <td>1</td>\n",
       "      <td>3.055556</td>\n",
       "    </tr>\n",
       "    <tr>\n",
       "      <th>2748129</th>\n",
       "      <td>1</td>\n",
       "      <td>-3.200000</td>\n",
       "    </tr>\n",
       "    <tr>\n",
       "      <th>13844</th>\n",
       "      <td>1</td>\n",
       "      <td>2.523659</td>\n",
       "    </tr>\n",
       "    <tr>\n",
       "      <th>2042896</th>\n",
       "      <td>1</td>\n",
       "      <td>-2.067947</td>\n",
       "    </tr>\n",
       "    <tr>\n",
       "      <th>734816</th>\n",
       "      <td>1</td>\n",
       "      <td>1.466276</td>\n",
       "    </tr>\n",
       "    <tr>\n",
       "      <th>901724</th>\n",
       "      <td>1</td>\n",
       "      <td>2.061856</td>\n",
       "    </tr>\n",
       "    <tr>\n",
       "      <th>3107126</th>\n",
       "      <td>1</td>\n",
       "      <td>-10.638298</td>\n",
       "    </tr>\n",
       "    <tr>\n",
       "      <th>3553809</th>\n",
       "      <td>1</td>\n",
       "      <td>-0.265957</td>\n",
       "    </tr>\n",
       "  </tbody>\n",
       "</table>\n",
       "<p>67 rows × 2 columns</p>\n",
       "</div>"
      ],
      "text/plain": [
       "         ABW  AVG(AvgTone)\n",
       "1606835    1      5.574913\n",
       "3211172    1     -4.397163\n",
       "641015     1      1.569616\n",
       "2293363    1      1.670644\n",
       "2131593    1      0.874636\n",
       "2991288    1     -0.205339\n",
       "2293358    1     -1.632653\n",
       "1726538    1      6.854839\n",
       "3501167    1      4.928458\n",
       "3714140    1     -5.949008\n",
       "3501169    1      4.932382\n",
       "901720     1      3.861648\n",
       "1654662    1      3.055556\n",
       "1654666    1      3.055556\n",
       "1442784    1      5.772496\n",
       "451938     1      5.047318\n",
       "2410656    1      1.824212\n",
       "1089478    1     -0.606061\n",
       "2042897    1     -2.067947\n",
       "3211180    1     -4.397163\n",
       "504737     1     -7.010014\n",
       "2520480    1      0.087413\n",
       "1783043    1      0.649351\n",
       "1552425    1     -1.293103\n",
       "641017     1      1.569616\n",
       "1497000    1      0.393701\n",
       "2464071    1     -1.520913\n",
       "2520483    1      0.976909\n",
       "3211171    1      1.590909\n",
       "63082      1      4.966140\n",
       "...      ...           ...\n",
       "901723     1      2.061856\n",
       "1355094    1     -2.470265\n",
       "3809168    1      6.557377\n",
       "1783038    1      3.761755\n",
       "1355097    1     -3.794370\n",
       "1606834    1      0.969529\n",
       "3211175    1     -4.397163\n",
       "1552419    1     -0.942211\n",
       "1265354    1     -2.875000\n",
       "1552424    1      2.112676\n",
       "1900384    1      1.891909\n",
       "1654654    1     -2.985075\n",
       "1552431    1      3.542234\n",
       "4263929    1     -0.607287\n",
       "3060152    1     -1.881720\n",
       "451935     1      5.047318\n",
       "1394208    1      0.000000\n",
       "1089476    1     -0.606061\n",
       "557634     1      4.450262\n",
       "790571     1     -1.046025\n",
       "3211176    1     -4.397163\n",
       "2991285    1     -0.956023\n",
       "1654663    1      3.055556\n",
       "2748129    1     -3.200000\n",
       "13844      1      2.523659\n",
       "2042896    1     -2.067947\n",
       "734816     1      1.466276\n",
       "901724     1      2.061856\n",
       "3107126    1    -10.638298\n",
       "3553809    1     -0.265957\n",
       "\n",
       "[67 rows x 2 columns]"
      ]
     },
     "execution_count": 140,
     "metadata": {},
     "output_type": "execute_result"
    }
   ],
   "source": [
    "column = Actor1CC_one_hot.columns[0]\n",
    "temp = Actor1CC_tone[[column, 'AVG(AvgTone)']]\n",
    "temp.groupby(column).mean()['AVG(AvgTone)']\n",
    "country = temp[temp[column] == 1]\n",
    "country"
   ]
  },
  {
   "cell_type": "code",
   "execution_count": 142,
   "metadata": {},
   "outputs": [
    {
     "data": {
      "text/plain": [
       "<matplotlib.axes._subplots.AxesSubplot at 0x1f9f6dc3ac8>"
      ]
     },
     "execution_count": 142,
     "metadata": {},
     "output_type": "execute_result"
    },
    {
     "data": {
      "image/png": "[encoded data removed]",
      "text/plain": [
       "<Figure size 432x288 with 1 Axes>"
      ]
     },
     "metadata": {},
     "output_type": "display_data"
    }
   ],
   "source": [
    "# CLT applies here right?\n",
    "Actor1CC_tone['AVG(AvgTone)'].hist(bins=30)"
   ]
  },
  {
   "cell_type": "code",
   "execution_count": 143,
   "metadata": {},
   "outputs": [
    {
     "data": {
      "text/plain": [
       "874097"
      ]
     },
     "execution_count": 143,
     "metadata": {},
     "output_type": "execute_result"
    }
   ],
   "source": [
    "len(Actor1CC_tone)"
   ]
  },
  {
   "cell_type": "code",
   "execution_count": 40,
   "metadata": {},
   "outputs": [],
   "source": [
    "avg_avgtone_mean = Actor1CC_tone['AVG(AvgTone)'].mean()\n",
    "avg_avgtone_std = Actor1CC_tone['AVG(AvgTone)'].std()"
   ]
  },
  {
   "cell_type": "code",
   "execution_count": 41,
   "metadata": {},
   "outputs": [],
   "source": [
    "# country_AVG(AvgTone)_mean - AVG(AvgTone).mean() / AVG(AvgTone).std()"
   ]
  },
  {
   "cell_type": "code",
   "execution_count": 144,
   "metadata": {},
   "outputs": [
    {
     "name": "stdout",
     "output_type": "stream",
     "text": [
      "         CAU  AVG(AvgTone)\n",
      "4075937    1           5.0\n",
      "        LAM  AVG(AvgTone)\n",
      "470528    1      5.882353\n",
      "         PRI  AVG(AvgTone)\n",
      "2816124    1      -2.34375\n",
      "Empty DataFrame\n",
      "Columns: [ROM, AVG(AvgTone)]\n",
      "Index: []\n",
      "        SAM  AVG(AvgTone)\n",
      "624264    1     -7.782101\n",
      "         SCN  AVG(AvgTone)\n",
      "2268886    1      3.174603\n",
      "2319715    1      1.379310\n",
      "2771568    1      0.572344\n",
      "Empty DataFrame\n",
      "Columns: [WLF, AVG(AvgTone)]\n",
      "Index: []\n"
     ]
    }
   ],
   "source": [
    "country_tones = []\n",
    "country_info = []\n",
    "for column in Actor1CC_one_hot.columns:\n",
    "    temp = Actor1CC_tone[[column, 'AVG(AvgTone)']]\n",
    "    country = temp[temp[column] == 1]\n",
    "    if len(country) < 10:\n",
    "        print(country)\n",
    "        continue\n",
    "    column_means = temp.groupby(column).mean()['AVG(AvgTone)']\n",
    "    country_tones.append(column_means)\n",
    "    country_info.append((column, column_means[0] - column_means[1], np.absolute(column_means[0] - column_means[1]), \n",
    "                        (temp[column].sum()), ttest_1samp(country, avg_avgtone_mean).pvalue[1]))"
   ]
  },
  {
   "cell_type": "code",
   "execution_count": 145,
   "metadata": {},
   "outputs": [
    {
     "data": {
      "text/plain": [
       "[('ABW', -2.195036679236486, 2.195036679236486, 67, 9.90486546626223e-06),\n",
       " ('AFG',\n",
       "  1.4017077162610487,\n",
       "  1.4017077162610487,\n",
       "  6110,\n",
       "  1.9996841316352543e-209),\n",
       " ('AFR',\n",
       "  -1.0218868005710244,\n",
       "  1.0218868005710244,\n",
       "  9999,\n",
       "  1.2816953148046793e-173),\n",
       " ('AGO', -1.0928342841442864, 1.0928342841442864, 708, 6.265882819216623e-14),\n",
       " ('AIA', -3.472197449833909, 3.472197449833909, 52, 4.127738969385745e-09),\n",
       " ('ALB', -0.2626279698597731, 0.2626279698597731, 757, 0.028642316592579212),\n",
       " ('AND', -1.067507103024583, 1.067507103024583, 18, 0.07450773699401492),\n",
       " ('ARE',\n",
       "  -0.4027557954683554,\n",
       "  0.4027557954683554,\n",
       "  4655,\n",
       "  2.3614518543478937e-13),\n",
       " ('ARG', -0.6443935711713313, 0.6443935711713313, 1672, 7.480523283132169e-13),\n",
       " ('ARM', -0.9466522618627278, 0.9466522618627278, 2137, 2.686405841829021e-28),\n",
       " ('ASA', -2.78698745515422, 2.78698745515422, 176, 1.1754708172996876e-30),\n",
       " ('ATG', -1.71443330590783, 1.71443330590783, 211, 1.9862511973015026e-09),\n",
       " ('AUS',\n",
       "  -0.7248767551783097,\n",
       "  0.7248767551783097,\n",
       "  12018,\n",
       "  2.4349769133742974e-107),\n",
       " ('AUT', -0.5938763075134552, 0.5938763075134552, 2130, 5.898156144110312e-14),\n",
       " ('AZE', -0.664388928138834, 0.664388928138834, 2439, 2.5032297483114083e-14),\n",
       " ('BDI', 0.9848112355013623, 0.9848112355013623, 463, 2.4203732551072026e-07),\n",
       " ('BEL',\n",
       "  -0.40278873671642246,\n",
       "  0.40278873671642246,\n",
       "  4947,\n",
       "  2.1604544579002355e-17),\n",
       " ('BEN', -1.2530379728683032, 1.2530379728683032, 473, 3.2792696718885024e-11),\n",
       " ('BFA', -0.5961618296945073, 0.5961618296945073, 325, 0.0030959640571998318),\n",
       " ('BGD', 0.039555577159843036, 0.039555577159843036, 2760, 0.5875657513794219),\n",
       " ('BGR',\n",
       "  -1.3225191185182734,\n",
       "  1.3225191185182734,\n",
       "  1286,\n",
       "  1.0014492601141694e-37),\n",
       " ('BHR', 1.0990458654546216, 1.0990458654546216, 2798, 1.7294832788831704e-47),\n",
       " ('BHS', -0.22932301316538717, 0.22932301316538717, 888, 0.06417965574721145),\n",
       " ('BLR',\n",
       "  -1.6441444857070058,\n",
       "  1.6441444857070058,\n",
       "  1734,\n",
       "  3.5926573504608646e-82),\n",
       " ('BLZ', -0.3102723455196872, 0.3102723455196872, 796, 0.008979075619445078),\n",
       " ('BMU', -1.639638731926208, 1.639638731926208, 505, 8.98979239635318e-21),\n",
       " ('BOL', -0.018228979301013304, 0.018228979301013304, 713, 0.9104490599230485),\n",
       " ('BRA',\n",
       "  -0.3987860340040936,\n",
       "  0.3987860340040936,\n",
       "  3115,\n",
       "  3.1583360525986325e-10),\n",
       " ('BRB', -1.3059323999751529, 1.3059323999751529, 549, 4.609066202907835e-16),\n",
       " ('BRN', -1.6028697092550037, 1.6028697092550037, 690, 7.480865426841506e-38),\n",
       " ('BTN', -0.8356461914953719, 0.8356461914953719, 802, 5.206681649217066e-13),\n",
       " ('BWA', -1.0926269538315125, 1.0926269538315125, 722, 6.660381524522931e-19),\n",
       " ('CAF', 2.6954948629206896, 2.6954948629206896, 485, 1.5801105472776969e-40),\n",
       " ('CAN',\n",
       "  -0.8311845534072784,\n",
       "  0.8311845534072784,\n",
       "  11426,\n",
       "  1.3182001370119608e-155),\n",
       " ('CAS', -1.7324189132916978, 1.7324189132916978, 71, 3.1999785562768824e-06),\n",
       " ('CHE',\n",
       "  -0.8000879799261185,\n",
       "  0.8000879799261185,\n",
       "  3779,\n",
       "  7.0609129173816825e-43),\n",
       " ('CHL', -1.4040659537555724, 1.4040659537555724, 1436, 1.208108892496831e-39),\n",
       " ('CHN', -0.9392409566845471, 0.9392409566845471, 22869, 0.0),\n",
       " ('CIV', -0.12072177813788354, 0.12072177813788354, 435, 0.5435375243651241),\n",
       " ('CMR', 1.5676505451584564, 1.5676505451584564, 716, 1.5175795122066674e-21),\n",
       " ('COD', 2.304126740235138, 2.304126740235138, 963, 1.3803078485601267e-59),\n",
       " ('COG', 2.146309501369892, 2.146309501369892, 600, 9.69886784057444e-35),\n",
       " ('COK', -3.2467296224498825, 3.2467296224498825, 145, 2.82819410956269e-23),\n",
       " ('COL',\n",
       "  0.23665726245774987,\n",
       "  0.23665726245774987,\n",
       "  1992,\n",
       "  0.0021496235838996463),\n",
       " ('COM', -0.7622738208954238, 0.7622738208954238, 58, 0.09747733071669723),\n",
       " ('CPV', -3.197831633357419, 3.197831633357419, 92, 1.9956212087571435e-14),\n",
       " ('CRB', -1.6546387063127774, 1.6546387063127774, 71, 2.1507000795272122e-05),\n",
       " ('CRI', -1.7706994355501764, 1.7706994355501764, 652, 2.9890234993323377e-33),\n",
       " ('CUB', -0.9638155365960637, 0.9638155365960637, 2395, 1.171169001782865e-51),\n",
       " ('CYM', -0.9261080528736728, 0.9261080528736728, 290, 0.000144770087383053),\n",
       " ('CYP', -1.08159989894981, 1.08159989894981, 1369, 7.254665861468717e-34),\n",
       " ('CZE',\n",
       "  -0.8754890833402802,\n",
       "  0.8754890833402802,\n",
       "  1748,\n",
       "  1.2184634019520825e-27),\n",
       " ('DEU',\n",
       "  -0.11992412611113101,\n",
       "  0.11992412611113101,\n",
       "  14972,\n",
       "  1.4846319286126145e-05),\n",
       " ('DJI', -0.22276219346230453, 0.22276219346230453, 505, 0.18820533474743026),\n",
       " ('DMA', -1.4761213985565942, 1.4761213985565942, 95, 0.0007042473906941544),\n",
       " ('DNK', -1.0910842763411197, 1.0910842763411197, 2181, 1.803711491897131e-40),\n",
       " ('DOM', -0.8252543588292685, 0.8252543588292685, 528, 6.1825085118820024e-06),\n",
       " ('DZA', 0.5743361873097887, 0.5743361873097887, 1071, 6.885189256135724e-07),\n",
       " ('EAF', -1.3343664668116693, 1.3343664668116693, 43, 0.0028001284696216426),\n",
       " ('ECU', 0.4296660988016565, 0.4296660988016565, 994, 0.0008286819560009405),\n",
       " ('EGY',\n",
       "  0.9727404136768161,\n",
       "  0.9727404136768161,\n",
       "  7318,\n",
       "  1.7037606603208336e-124),\n",
       " ('ERI', 0.9448043372675505, 0.9448043372675505, 436, 1.8288596831637163e-08),\n",
       " ('ESP', -0.666518523864625, 0.666518523864625, 5800, 2.2509485867047436e-41),\n",
       " ('EST',\n",
       "  -1.5890439743766613,\n",
       "  1.5890439743766613,\n",
       "  1024,\n",
       "  3.0063097437209863e-69),\n",
       " ('ETH',\n",
       "  -0.7034504864744315,\n",
       "  0.7034504864744315,\n",
       "  1789,\n",
       "  2.5243954589328854e-14),\n",
       " ('EUR',\n",
       "  -0.6691066941611619,\n",
       "  0.6691066941611619,\n",
       "  15852,\n",
       "  6.99832620614483e-151),\n",
       " ('FIN',\n",
       "  -1.9145515435920428,\n",
       "  1.9145515435920428,\n",
       "  1814,\n",
       "  1.3030765963475656e-127),\n",
       " ('FJI', -2.1791386811452873, 2.1791386811452873, 1086, 2.092856054708405e-75),\n",
       " ('FRA',\n",
       "  -0.6221943719557332,\n",
       "  0.6221943719557332,\n",
       "  15903,\n",
       "  6.967928117519654e-123),\n",
       " ('FSM', -1.845792788365411, 1.845792788365411, 66, 0.0005380056234938966),\n",
       " ('GAB', 0.32263138752730613, 0.32263138752730613, 153, 0.30984393072808036),\n",
       " ('GBR',\n",
       "  -0.27525429861129536,\n",
       "  0.27525429861129536,\n",
       "  26881,\n",
       "  6.62192662190062e-36),\n",
       " ('GEO', -0.2299360778879509, 0.2299360778879509, 26, 0.7007079463144636),\n",
       " ('GHA',\n",
       "  -1.6930198093512838,\n",
       "  1.6930198093512838,\n",
       "  2715,\n",
       "  3.494356071467496e-114),\n",
       " ('GIN', -1.2347346571844708, 1.2347346571844708, 438, 9.23839410406412e-13),\n",
       " ('GMB', -0.39702938386599085, 0.39702938386599085, 700, 0.007324211931995146),\n",
       " ('GNB', -1.6981791111428743, 1.6981791111428743, 105, 3.93423001046691e-08),\n",
       " ('GNQ', -0.7661440262411381, 0.7661440262411381, 140, 0.001979285850120254),\n",
       " ('GRC',\n",
       "  -0.31609228624044805,\n",
       "  0.31609228624044805,\n",
       "  4285,\n",
       "  4.01804333034522e-08),\n",
       " ('GRD', -0.5421161530871264, 0.5421161530871264, 411, 0.0066274159383311595),\n",
       " ('GTM', 0.9001269665826379, 0.9001269665826379, 775, 1.1183730340946398e-09),\n",
       " ('GUY', -0.06548759192882514, 0.06548759192882514, 960, 0.6391969481209311),\n",
       " ('HKG', -2.5509223293513177, 2.5509223293513177, 154, 3.2269647368496234e-29),\n",
       " ('HND', 1.0924453196632924, 1.0924453196632924, 557, 4.929078195415437e-09),\n",
       " ('HRV', -1.083566648750351, 1.083566648750351, 870, 1.6221855996166476e-21),\n",
       " ('HTI', -0.7353580659244698, 0.7353580659244698, 787, 1.1071334993568197e-08),\n",
       " ('HUN',\n",
       "  -0.26806282677629234,\n",
       "  0.26806282677629234,\n",
       "  1988,\n",
       "  0.0002631105134142443),\n",
       " ('IDN', 0.03917706918833974, 0.03917706918833974, 4071, 0.502855866072014),\n",
       " ('IND', 0.328766328490371, 0.328766328490371, 6710, 2.2746904856662067e-14),\n",
       " ('IRL', -0.7858401119700029, 0.7858401119700029, 5248, 4.444707236928923e-62),\n",
       " ('IRN', 1.1134158828659595, 1.1134158828659595, 11348, 0.0),\n",
       " ('IRQ', 1.4451933929058607, 1.4451933929058607, 6338, 3.83403244877079e-290),\n",
       " ('ISL', -2.0434763891336045, 2.0434763891336045, 562, 8.356450068875335e-45),\n",
       " ('ISR',\n",
       "  0.6136475358110873,\n",
       "  0.6136475358110873,\n",
       "  12970,\n",
       "  9.166999566801001e-100),\n",
       " ('ITA', -0.6226780077215901, 0.6226780077215901, 8340, 8.417467330373044e-59),\n",
       " ('JAM',\n",
       "  -0.8989681301213266,\n",
       "  0.8989681301213266,\n",
       "  1587,\n",
       "  1.7167466977983826e-17),\n",
       " ('JOR', 0.6504416646190183, 0.6504416646190183, 5106, 2.3265136761184904e-35),\n",
       " ('JPN',\n",
       "  -1.1619263990124717,\n",
       "  1.1619263990124717,\n",
       "  9249,\n",
       "  2.441826004644015e-264),\n",
       " ('KAZ', -1.544318546049555, 1.544318546049555, 1798, 1.0271127122496262e-79),\n",
       " ('KEN', -0.05445703173906358, 0.05445703173906358, 3235, 0.42488972597035324),\n",
       " ('KGZ', -1.5311476484681168, 1.5311476484681168, 686, 4.45167184868078e-24),\n",
       " ('KHM', -0.16741417651423673, 0.16741417651423673, 1544, 0.11955350114894418),\n",
       " ('KIR', -1.5428776382583382, 1.5428776382583382, 94, 0.0001250193235474313),\n",
       " ('KNA', -2.2015186417609804, 2.2015186417609804, 278, 4.466961635269944e-16),\n",
       " ('KOR', -0.5354684581795355, 0.5354684581795355, 6299, 7.737498047996869e-48),\n",
       " ('KWT', 0.2152665677961152, 0.2152665677961152, 2017, 0.00343344711228402),\n",
       " ('LAO', -2.305739254944902, 2.305739254944902, 592, 1.6616598523384644e-41),\n",
       " ('LBN', 1.3117647655084703, 1.3117647655084703, 3064, 1.2077819742400233e-75),\n",
       " ('LBR', -1.7832382905234507, 1.7832382905234507, 992, 3.576293898241274e-45),\n",
       " ('LBY', 2.014663961585702, 2.014663961585702, 2928, 1.5701498229244225e-272),\n",
       " ('LCA', -1.5294589698479442, 1.5294589698479442, 343, 2.0036248508194596e-11),\n",
       " ('LIE', -1.717956174448268, 1.717956174448268, 78, 4.3375157607155405e-05),\n",
       " ('LKA', -0.5063138849150446, 0.5063138849150446, 2392, 9.253366474580658e-11),\n",
       " ('LSO', -0.821930014607835, 0.821930014607835, 302, 1.8082427703937941e-06),\n",
       " ('LTU', -0.7454897613308928, 0.7454897613308928, 1014, 3.901121322394021e-13),\n",
       " ('LUX', -1.3870649300640088, 1.3870649300640088, 1003, 1.513194221478713e-39),\n",
       " ('LVA', -1.0504565988138272, 1.0504565988138272, 841, 7.09228288150135e-19),\n",
       " ('MAC', -3.7659930503121233, 3.7659930503121233, 51, 2.4275263371548873e-12),\n",
       " ('MAR', 0.28830345576432825, 0.28830345576432825, 1624, 0.006916653255481034),\n",
       " ('MCO', -1.2055549306752378, 1.2055549306752378, 1310, 5.512043165745753e-25),\n",
       " ('MDA', -1.1702091665729584, 1.1702091665729584, 699, 1.6557646693418434e-18),\n",
       " ('MDG', -1.7789266968308592, 1.7789266968308592, 243, 2.9564787749594873e-13),\n",
       " ('MDV', 0.9059032013363844, 0.9059032013363844, 2200, 6.972600758575204e-25),\n",
       " ('MEA', 1.678481912165895, 1.678481912165895, 225, 1.7388491698095315e-10),\n",
       " ('MEX',\n",
       "  -0.2142938887685759,\n",
       "  0.2142938887685759,\n",
       "  4812,\n",
       "  2.9614108928960996e-05),\n",
       " ('MHL', -0.6049737802579562, 0.6049737802579562, 169, 0.013005363786145448),\n",
       " ('MKD', -0.7651353883430374, 0.7651353883430374, 645, 9.919067521074736e-07),\n",
       " ('MLI', 1.0156564328416537, 1.0156564328416537, 897, 3.5017291032889075e-16),\n",
       " ('MLT',\n",
       "  -1.0667423539774412,\n",
       "  1.0667423539774412,\n",
       "  1090,\n",
       "  2.0405028809372323e-23),\n",
       " ('MMR', 0.19359485838810642, 0.19359485838810642, 1920, 0.020747353199656954),\n",
       " ('MNG', -2.4147986285487413, 2.4147986285487413, 478, 2.1410833638003388e-55),\n",
       " ('MOZ', -0.7936873188702092, 0.7936873188702092, 506, 9.090574910704696e-07),\n",
       " ('MRT', -0.2693538773299242, 0.2693538773299242, 342, 0.1687721589715545),\n",
       " ('MUS', -1.7506132786454522, 1.7506132786454522, 514, 1.3536141728026434e-30),\n",
       " ('MWI',\n",
       "  -0.49727159098644114,\n",
       "  0.49727159098644114,\n",
       "  807,\n",
       "  0.00028343118353878547),\n",
       " ('MYS', -0.03572345044301417, 0.03572345044301417, 4583, 0.5122956900809255),\n",
       " ('NAM', -0.7561000629520136, 0.7561000629520136, 699, 2.092767687399898e-08),\n",
       " ('NER', 1.1698885265485057, 1.1698885265485057, 774, 1.7431482893657113e-14),\n",
       " ('NGA', -0.10483853490137096, 0.10483853490137096, 5632, 0.03243395882555314),\n",
       " ('NIC', -0.8629955021183486, 0.8629955021183486, 631, 1.2710475721214673e-11),\n",
       " ('NLD', -0.9891091608423047, 0.9891091608423047, 4154, 5.767940887144395e-72),\n",
       " ('NMR',\n",
       "  -2.5929831049245067,\n",
       "  2.5929831049245067,\n",
       "  1282,\n",
       "  9.873482117252559e-197),\n",
       " ('NOR', -1.0451208034593027, 1.0451208034593027, 2420, 4.386793644363442e-52),\n",
       " ('NPL', -0.9720620686720435, 0.9720620686720435, 1582, 5.218209084740679e-27),\n",
       " ('NRU', -0.9563244226719093, 0.9563244226719093, 115, 0.015257264661895113),\n",
       " ('NZL',\n",
       "  -1.5063947601400076,\n",
       "  1.5063947601400076,\n",
       "  3696,\n",
       "  1.1324274276430082e-158),\n",
       " ('OMN', -1.8349621178517388, 1.8349621178517388, 1261, 4.23912447793577e-62),\n",
       " ('PAK', 0.7971727169957086, 0.7971727169957086, 8917, 2.6397073396444446e-98),\n",
       " ('PAN', 0.1923317987758908, 0.1923317987758908, 1573, 0.024435772819509358),\n",
       " ('PER', -0.23169190921694516, 0.23169190921694516, 1408, 0.04424947215719292),\n",
       " ('PGS', 0.5242538324094148, 0.5242538324094148, 401, 6.758421076186903e-05),\n",
       " ('PHL', 0.5022093053408558, 0.5022093053408558, 6563, 1.8636425906691655e-31),\n",
       " ('PLW', -1.4583450404886942, 1.4583450404886942, 60, 0.0014094079113530693),\n",
       " ('PNG', -0.18616727614305617, 0.18616727614305617, 625, 0.21503874244548385),\n",
       " ('POL', -0.6087180503935541, 0.6087180503935541, 4324, 4.191257187186207e-34),\n",
       " ('PRK', 1.1655970946673222, 1.1655970946673222, 7092, 0.0),\n",
       " ('PRT', -0.8388237499655169, 0.8388237499655169, 2142, 1.443626308329915e-23),\n",
       " ('PRY', 0.23511505441328406, 0.23511505441328406, 267, 0.38531299591912627),\n",
       " ('PSE',\n",
       "  1.7220005884232559,\n",
       "  1.7220005884232559,\n",
       "  5804,\n",
       "  1.0920473578533797e-274),\n",
       " ('QAT',\n",
       "  0.8105341816960367,\n",
       "  0.8105341816960367,\n",
       "  8099,\n",
       "  1.1428965807187424e-152),\n",
       " ('RUS',\n",
       "  0.39631317696059853,\n",
       "  0.39631317696059853,\n",
       "  22523,\n",
       "  1.0151813082904978e-101),\n",
       " ('RWA', -1.2034526529688998, 1.2034526529688998, 1126, 3.612067698654449e-24),\n",
       " ('SAF', -2.241856154001015, 2.241856154001015, 107, 1.8243901876032665e-13),\n",
       " ('SAS', -0.902545581096249, 0.902545581096249, 525, 5.7400107852463886e-08),\n",
       " ('SAU',\n",
       "  0.7448341683097293,\n",
       "  0.7448341683097293,\n",
       "  12372,\n",
       "  2.8391563167318974e-154),\n",
       " ('SDN', 1.295587080422308, 1.295587080422308, 2491, 6.719433266638739e-73),\n",
       " ('SEA', -0.7140951749884079, 0.7140951749884079, 2383, 6.001460063839844e-22),\n",
       " ('SEN', -1.1473808115284383, 1.1473808115284383, 601, 2.3203261199421744e-13),\n",
       " ('SGP', -1.679609796406298, 1.679609796406298, 2776, 1.2458687030919694e-126),\n",
       " ('SHN', -3.1918239043454353, 3.1918239043454353, 16, 0.0014810860082665324),\n",
       " ('SLB', -1.9460116683738549, 1.9460116683738549, 218, 1.921964202764925e-14),\n",
       " ('SLE', -0.883880622971067, 0.883880622971067, 443, 1.745629903114215e-05),\n",
       " ('SLV', 0.7079365442015835, 0.7079365442015835, 737, 1.1542194381912161e-05),\n",
       " ('SMR', -1.4671800412223748, 1.4671800412223748, 30, 0.031057529512876162),\n",
       " ('SOM', 1.494501987002788, 1.494501987002788, 2288, 2.35703863526058e-83),\n",
       " ('SRB', -0.7784511339628721, 0.7784511339628721, 867, 8.270012650793525e-10),\n",
       " ('SSD', 2.1011454876507396, 2.1011454876507396, 1734, 2.642376757206295e-104),\n",
       " ('STP', -0.5093900846946957, 0.5093900846946957, 23, 0.48146351979379776),\n",
       " ('SUR', 0.7542893684335383, 0.7542893684335383, 69, 0.15127725651492122),\n",
       " ('SVK', -1.0306471538983617, 1.0306471538983617, 696, 2.5593723749989826e-17),\n",
       " ('SWE', -0.1523319873112603, 0.1523319873112603, 2919, 0.045523838936624574),\n",
       " ('SWZ', -1.1046020248551047, 1.1046020248551047, 211, 1.898833765550392e-05),\n",
       " ('SYC', -3.3231583955897004, 3.3231583955897004, 200, 1.2523136823322964e-31),\n",
       " ('SYR', 1.8738243407321709, 1.8738243407321709, 9915, 0.0),\n",
       " ('TCD', 0.6888836330334354, 0.6888836330334354, 1108, 3.832909624629061e-08),\n",
       " ('TGO', -1.7899528190528369, 1.7899528190528369, 193, 6.072482413658356e-15),\n",
       " ('THA', 0.018814835259224116, 0.018814835259224116, 3204, 0.773380999962821),\n",
       " ('TJK', -0.6533409362580613, 0.6533409362580613, 654, 4.594243739633697e-06),\n",
       " ('TKM', -2.417833390134877, 2.417833390134877, 484, 4.363585486744983e-42),\n",
       " ('TMP', -0.775106028326926, 0.775106028326926, 173, 0.006394220281657347),\n",
       " ('TON', -2.323529157779356, 2.323529157779356, 181, 3.8674044163311156e-13),\n",
       " ('TTO',\n",
       "  -0.45243746053131884,\n",
       "  0.45243746053131884,\n",
       "  866,\n",
       "  0.00015605705306256742),\n",
       " ('TUN', 0.8405230144165519, 0.8405230144165519, 1365, 6.108542588528821e-15),\n",
       " ('TUR',\n",
       "  0.6190808298191071,\n",
       "  0.6190808298191071,\n",
       "  11435,\n",
       "  1.0517446097120987e-101),\n",
       " ('TUV', -3.7696227228243324, 3.7696227228243324, 57, 1.7607957049259536e-08),\n",
       " ('TWN', -1.4065750382541382, 1.4065750382541382, 2125, 8.645975698325552e-84),\n",
       " ('TZA',\n",
       "  -0.8109944116147214,\n",
       "  0.8109944116147214,\n",
       "  1633,\n",
       "  2.2025058437827558e-19),\n",
       " ('UGA', 0.0768327297549729, 0.0768327297549729, 2325, 0.306735770377246),\n",
       " ('UKR', 0.592560863857218, 0.592560863857218, 4461, 7.82164433215884e-33),\n",
       " ('URY', -1.5623289475981248, 1.5623289475981248, 320, 1.0258940824088351e-15),\n",
       " ('USA',\n",
       "  -0.05706022878482764,\n",
       "  0.05706022878482764,\n",
       "  76240,\n",
       "  1.2888586235865408e-05),\n",
       " ('UZB', -0.7241542854445238, 0.7241542854445238, 792, 9.486649471022583e-08),\n",
       " ('VAT', -0.7806539931037422, 0.7806539931037422, 2061, 5.09554956058918e-37),\n",
       " ('VCT', -1.5740797799863055, 1.5740797799863055, 328, 2.0479319452152452e-15),\n",
       " ('VEN',\n",
       "  2.5468564539977225,\n",
       "  2.5468564539977225,\n",
       "  2476,\n",
       "  1.2909465092619143e-233),\n",
       " ('VNM',\n",
       "  -1.6061117889327736,\n",
       "  1.6061117889327736,\n",
       "  3978,\n",
       "  4.692775688375286e-164),\n",
       " ('VUT', -2.5988377363405717, 2.5988377363405717, 196, 3.0042797957092704e-22),\n",
       " ('WAF', -1.8983523777487201, 1.8983523777487201, 227, 6.962903501564733e-18),\n",
       " ('WSM', -2.5519412548488716, 2.5519412548488716, 372, 1.5856641928288513e-39),\n",
       " ('WST',\n",
       "  -0.38569615405628177,\n",
       "  0.38569615405628177,\n",
       "  3073,\n",
       "  6.081446905762367e-16),\n",
       " ('YEM',\n",
       "  1.8382603361974041,\n",
       "  1.8382603361974041,\n",
       "  2585,\n",
       "  2.2123177988653298e-154),\n",
       " ('ZAF',\n",
       "  -0.2513637885841069,\n",
       "  0.2513637885841069,\n",
       "  3014,\n",
       "  0.00013088223101185661),\n",
       " ('ZMB', -0.5122364961824908, 0.5122364961824908, 1175, 9.356171622958237e-06),\n",
       " ('ZWE', 0.1563977332829105, 0.1563977332829105, 2074, 0.047046909827380426)]"
      ]
     },
     "execution_count": 145,
     "metadata": {},
     "output_type": "execute_result"
    }
   ],
   "source": [
    "country_info"
   ]
  },
  {
   "cell_type": "code",
   "execution_count": 146,
   "metadata": {},
   "outputs": [],
   "source": [
    "cntry_spec = pd.DataFrame(country_info, columns=[\"Country\", \"AvgTone_diff\", \"AvgTone_mag\", \"Num\", \"p-value\"])"
   ]
  },
  {
   "cell_type": "code",
   "execution_count": null,
   "metadata": {
    "scrolled": true
   },
   "outputs": [],
   "source": [
    "gdelt_tones = gdelt_sample['AVG(AvgTone)']\n",
    "gdelt_cntry = gdelt_sample['Actor1CountryCode']\n",
    "print(\"1\")\n",
    "Actor1CC_one_hot = pd.get_dummies(gdelt_cntry)\n",
    "Actor1CC_one_hot.info()\n",
    "\n",
    "Actor1CC_tone = pd.concat([gdelt_tones, Actor1CC_one_hot], axis=1)\n",
    "print(\"2\")\n",
    "avg_avgtone_mean = Actor1CC_tone['AVG(AvgTone)'].mean()\n",
    "avg_avgtone_std = Actor1CC_tone['AVG(AvgTone)'].std()\n",
    "\n",
    "country_tones = []\n",
    "country_info = []\n",
    "for column in Actor1CC_one_hot.columns:\n",
    "    temp = Actor1CC_tone[[column, 'AVG(AvgTone)']]\n",
    "    country = temp[temp[column] == 1]\n",
    "    if len(country) < 10:\n",
    "        print(country)\n",
    "        continue\n",
    "    column_means = temp.groupby(column).mean()['AVG(AvgTone)']\n",
    "    country_tones.append(column_means)\n",
    "    country_info.append((column, column_means[0] - column_means[1], np.absolute(column_means[0] - column_means[1]), \n",
    "                        (temp[column].sum()), ttest_1samp(country, avg_avgtone_mean).pvalue[1]))\n",
    "print(\"3\")\n",
    "cntry_spec = pd.DataFrame(country_info, columns=[\"Country\", \"AvgTone_diff\", \"AvgTone_mag\", \"Num\", \"p-value\"])\n",
    "\n",
    "low_decs_A1CC = cntry_spec[((cntry_spec['p-value'] > 0.0001) & ((cntry_spec['AvgTone_mag'] < 1) & \\\n",
    "           (cntry_spec['AvgTone_diff'] < 0)))]['Country']\n",
    "\n",
    "low_incs_A1CC = cntry_spec[((cntry_spec['p-value'] > 0.0001) & ((cntry_spec['AvgTone_mag'] < 1) & \\\n",
    "           (cntry_spec['AvgTone_diff'] > 0)))]['Country']\n",
    "\n",
    "low_p_value_A1CC = cntry_spec[((cntry_spec['p-value'] > 0.0001) & ~((cntry_spec['AvgTone_mag'] < 1) & \\\n",
    "           (cntry_spec['AvgTone_diff'] < 0)) & ~((cntry_spec['AvgTone_mag'] < 1) & \\\n",
    "           (cntry_spec['AvgTone_diff'] > 0)))]"
   ]
  },
  {
   "cell_type": "code",
   "execution_count": 18,
   "metadata": {},
   "outputs": [],
   "source": [
    "gdelt_tones = gdelt_sample['AVG(AvgTone)']\n",
    "def dim_reduce(column):\n",
    "    gdelt_cntry = gdelt_sample[column]\n",
    "\n",
    "    one_hot = pd.get_dummies(gdelt_cntry)\n",
    "    \n",
    "    one_hot_tone = pd.concat([gdelt_tones, one_hot], axis=1)\n",
    "\n",
    "    avg_avgtone_mean = one_hot_tone['AVG(AvgTone)'].mean()\n",
    "    avg_avgtone_std = one_hot_tone['AVG(AvgTone)'].std()\n",
    "\n",
    "    country_tones = []\n",
    "    country_info = []\n",
    "    for column in one_hot.columns:\n",
    "        temp = one_hot_tone[[column, 'AVG(AvgTone)']]\n",
    "        country = temp[temp[column] == 1]\n",
    "        if len(country) < 10:\n",
    "            #print(country)\n",
    "            continue\n",
    "        column_means = temp.groupby(column).mean()['AVG(AvgTone)']\n",
    "        country_tones.append(column_means)\n",
    "        country_info.append((column, column_means[0] - column_means[1], np.absolute(column_means[0] - column_means[1]), \n",
    "                            (temp[column].sum()), ttest_1samp(country, avg_avgtone_mean).pvalue[1]))\n",
    "\n",
    "    cntry_spec = pd.DataFrame(country_info, columns=[\"Country\", \"AvgTone_diff\", \"AvgTone_mag\", \"Num\", \"p-value\"])\n",
    "\n",
    "    low_decs = cntry_spec[((cntry_spec['p-value'] > 0.0001) & ((cntry_spec['AvgTone_mag'] < 1) & \\\n",
    "               (cntry_spec['AvgTone_diff'] < 0)))]['Country']\n",
    "\n",
    "    low_incs = cntry_spec[((cntry_spec['p-value'] > 0.0001) & ((cntry_spec['AvgTone_mag'] < 1) & \\\n",
    "               (cntry_spec['AvgTone_diff'] > 0)))]['Country']\n",
    "\n",
    "    low_p_value = cntry_spec[((cntry_spec['p-value'] > 0.0001) & ~((cntry_spec['AvgTone_mag'] < 1) & \\\n",
    "               (cntry_spec['AvgTone_diff'] < 0)) & ~((cntry_spec['AvgTone_mag'] < 1) & \\\n",
    "               (cntry_spec['AvgTone_diff'] > 0)))]['Country']\n",
    "    \n",
    "    return low_decs, low_incs, low_p_value"
   ]
  },
  {
   "cell_type": "code",
   "execution_count": 16,
   "metadata": {},
   "outputs": [
    {
     "data": {
      "text/plain": [
       "[BLR, CZE, USA, NaN, GBR, ..., EAF, SAM, SCN, SHN, CAU]\n",
       "Length: 219\n",
       "Categories (218, object): [BLR, CZE, USA, GBR, ..., SAM, SCN, SHN, CAU]"
      ]
     },
     "execution_count": 16,
     "metadata": {},
     "output_type": "execute_result"
    }
   ],
   "source": [
    "gdelt_sample['Actor1CountryCode'].unique()"
   ]
  },
  {
   "cell_type": "code",
   "execution_count": 24,
   "metadata": {},
   "outputs": [],
   "source": [
    "low_decs_A1CC, low_incs_A1CC, low_p_value_A1CC = dim_reduce('Actor1CountryCode')\n",
    "low_decs_A2CC, low_incs_A2CC, low_p_value_A2CC = dim_reduce('Actor2CountryCode')\n",
    "low_decs_A1GCC, low_incs_A1GCC, low_p_value_A1GCC = dim_reduce('Actor1Geo_CountryCode')\n",
    "low_decs_A2GCC, low_incs_A2GCC, low_p_value_A2GCC = dim_reduce('Actor2Geo_CountryCode')"
   ]
  },
  {
   "cell_type": "code",
   "execution_count": 44,
   "metadata": {},
   "outputs": [],
   "source": [
    "model_df = gdelt_sample.copy()"
   ]
  },
  {
   "cell_type": "code",
   "execution_count": 45,
   "metadata": {},
   "outputs": [],
   "source": [
    "def map_missing(x, low_decs, low_incs, low_p_value, translation):\n",
    "    #if x in l:\n",
    "    #    return x\n",
    "    if x == \"nan\":\n",
    "        return \"UNKNOWN\"\n",
    "    elif x in low_decs:\n",
    "        return \"LOW_DEC\"\n",
    "    elif x in low_incs:\n",
    "        return \"LOW_INCS\"\n",
    "    elif x in low_p_value:\n",
    "        return \"LOW_P_VALUE\"\n",
    "    else:\n",
    "        return x\n",
    "\n",
    "def unify_cats(data, category, low_decs, low_incs, low_p_value):\n",
    "    low_decs_unique = low_decs.unique()\n",
    "    low_decs_unique = low_incs.unique()\n",
    "    low_p_value_unique = low_p_value.unique()\n",
    "    data[(category + '_unify')] = data[category].astype(str) \\\n",
    "                                                .apply(lambda x: map_missing(x, low_decs_unique, \n",
    "                                                                             low_decs_unique, \n",
    "                                                                             low_p_value_unique, \n",
    "                                                                             \"OTHER\")) \\\n",
    "                                                .astype('category')"
   ]
  },
  {
   "cell_type": "code",
   "execution_count": 46,
   "metadata": {},
   "outputs": [],
   "source": [
    "unify_cats(model_df, 'Actor1CountryCode', low_decs_A1CC, low_incs_A1CC, low_p_value_A1CC)\n",
    "unify_cats(model_df, 'Actor2CountryCode', low_decs_A2CC, low_incs_A2CC, low_p_value_A2CC)\n",
    "unify_cats(model_df, 'Actor1Geo_CountryCode', low_decs_A1GCC, low_incs_A1GCC, low_p_value_A1GCC)\n",
    "unify_cats(model_df, 'Actor2Geo_CountryCode', low_decs_A2GCC, low_incs_A2GCC, low_p_value_A2GCC)"
   ]
  },
  {
   "cell_type": "code",
   "execution_count": 47,
   "metadata": {},
   "outputs": [
    {
     "data": {
      "text/plain": [
       "UNKNOWN        63526\n",
       "USA            19294\n",
       "LOW_DEC         7356\n",
       "GBR             6861\n",
       "CHN             5742\n",
       "RUS             5508\n",
       "FRA             4011\n",
       "EUR             3884\n",
       "DEU             3844\n",
       "ISR             3088\n",
       "SAU             3064\n",
       "AUS             3053\n",
       "TUR             2861\n",
       "CAN             2807\n",
       "IRN             2779\n",
       "SYR             2456\n",
       "AFR             2439\n",
       "JPN             2355\n",
       "PAK             2150\n",
       "ITA             2121\n",
       "QAT             1995\n",
       "EGY             1919\n",
       "PRK             1775\n",
       "PHL             1680\n",
       "IND             1650\n",
       "LOW_P_VALUE     1598\n",
       "KOR             1569\n",
       "AFG             1533\n",
       "IRQ             1529\n",
       "NGA             1502\n",
       "               ...  \n",
       "LCA              101\n",
       "LSO               92\n",
       "CYM               87\n",
       "WSM               84\n",
       "VCT               78\n",
       "KNA               76\n",
       "PRY               67\n",
       "ATG               59\n",
       "SYC               51\n",
       "ASA               45\n",
       "VUT               44\n",
       "TON               42\n",
       "TMP               39\n",
       "COK               36\n",
       "NRU               32\n",
       "HKG               32\n",
       "GAB               25\n",
       "SUR               21\n",
       "FSM               16\n",
       "CAS               16\n",
       "STP                9\n",
       "COM                8\n",
       "SMR                7\n",
       "AND                7\n",
       "GEO                7\n",
       "SAM                2\n",
       "CAU                1\n",
       "SCN                1\n",
       "LAM                1\n",
       "SHN                1\n",
       "Name: Actor1CountryCode_unify, Length: 170, dtype: int64"
      ]
     },
     "execution_count": 47,
     "metadata": {},
     "output_type": "execute_result"
    }
   ],
   "source": [
    "model_df['Actor1CountryCode_unify'].value_counts()"
   ]
  },
  {
   "cell_type": "code",
   "execution_count": 48,
   "metadata": {},
   "outputs": [],
   "source": [
    "model_df['norm_NumMentions'] = (model_df['AVG(NumMentions)'] - model_df['AVG(NumMentions)'].mean())/ \\\n",
    "                                        model_df['AVG(NumMentions)'].std()"
   ]
  },
  {
   "cell_type": "code",
   "execution_count": 61,
   "metadata": {
    "scrolled": true
   },
   "outputs": [],
   "source": [
    "#model_df = model_df.drop(['Actor1CountryCode', 'Actor2CountryCode', 'Actor1Geo_CountryCode', \n",
    "#               'Actor2Geo_CountryCode', 'AVG(NumMentions)', 'SQLDATE'], axis=1)\n",
    "\n",
    "Actor1CC_one_hot = pd.get_dummies(model_df['Actor1CountryCode_unify'], prefix=\"Actor1CountryCode\")\n",
    "Actor2CC_one_hot = pd.get_dummies(model_df['Actor2CountryCode_unify'], prefix=\"Actor2CountryCode\")\n",
    "Actor1CCGeo_one_hot = pd.get_dummies(model_df['Actor1Geo_CountryCode_unify'], prefix=\"Actor1Geo_CountryCode\")\n",
    "Actor2CCGeo_one_hot = pd.get_dummies(model_df['Actor2Geo_CountryCode_unify'], prefix=\"Actor2Geo_CountryCode\")\n",
    "EventRoot_one_hot = pd.get_dummies(model_df['EventRootCode'], prefix=\"EventRootCode\")\n",
    "\n",
    "one_hot_encoding = pd.concat([Actor1CC_one_hot, Actor2CC_one_hot, Actor1CCGeo_one_hot, \n",
    "                              Actor2CCGeo_one_hot, EventRoot_one_hot], axis=1)\n",
    "\n",
    "model_df_hot = pd.concat([model_df, one_hot_encoding], axis=1).drop(['Actor1CountryCode_unify',\n",
    "                                                                    'Actor2CountryCode_unify',\n",
    "                                                                    'Actor1Geo_CountryCode_unify',\n",
    "                                                                    'Actor2Geo_CountryCode_unify'], axis=1)"
   ]
  },
  {
   "cell_type": "code",
   "execution_count": 66,
   "metadata": {},
   "outputs": [],
   "source": [
    "feature_columns = model_df_hot.drop(['AVG(AvgTone)'], axis=1).columns"
   ]
  },
  {
   "cell_type": "code",
   "execution_count": 67,
   "metadata": {},
   "outputs": [
    {
     "data": {
      "text/plain": [
       "Index(['EventRootCode', 'norm_NumMentions', 'Actor1CountryCode_AFG',\n",
       "       'Actor1CountryCode_AFR', 'Actor1CountryCode_AGO',\n",
       "       'Actor1CountryCode_AND', 'Actor1CountryCode_ARE',\n",
       "       'Actor1CountryCode_ARG', 'Actor1CountryCode_ARM',\n",
       "       'Actor1CountryCode_ASA',\n",
       "       ...\n",
       "       'EventRootCode_11', 'EventRootCode_12', 'EventRootCode_13',\n",
       "       'EventRootCode_14', 'EventRootCode_15', 'EventRootCode_16',\n",
       "       'EventRootCode_17', 'EventRootCode_18', 'EventRootCode_19',\n",
       "       'EventRootCode_20'],\n",
       "      dtype='object', length=760)"
      ]
     },
     "execution_count": 67,
     "metadata": {},
     "output_type": "execute_result"
    }
   ],
   "source": [
    "feature_columns"
   ]
  },
  {
   "cell_type": "code",
   "execution_count": 63,
   "metadata": {},
   "outputs": [
    {
     "data": {
      "text/html": [
       "<div>\n",
       "<style scoped>\n",
       "    .dataframe tbody tr th:only-of-type {\n",
       "        vertical-align: middle;\n",
       "    }\n",
       "\n",
       "    .dataframe tbody tr th {\n",
       "        vertical-align: top;\n",
       "    }\n",
       "\n",
       "    .dataframe thead th {\n",
       "        text-align: right;\n",
       "    }\n",
       "</style>\n",
       "<table border=\"1\" class=\"dataframe\">\n",
       "  <thead>\n",
       "    <tr style=\"text-align: right;\">\n",
       "      <th></th>\n",
       "      <th>EventRootCode</th>\n",
       "      <th>AVG(AvgTone)</th>\n",
       "      <th>norm_NumMentions</th>\n",
       "      <th>Actor1CountryCode_AFG</th>\n",
       "      <th>Actor1CountryCode_AFR</th>\n",
       "      <th>Actor1CountryCode_AGO</th>\n",
       "      <th>Actor1CountryCode_AND</th>\n",
       "      <th>Actor1CountryCode_ARE</th>\n",
       "      <th>Actor1CountryCode_ARG</th>\n",
       "      <th>Actor1CountryCode_ARM</th>\n",
       "      <th>...</th>\n",
       "      <th>EventRootCode_11</th>\n",
       "      <th>EventRootCode_12</th>\n",
       "      <th>EventRootCode_13</th>\n",
       "      <th>EventRootCode_14</th>\n",
       "      <th>EventRootCode_15</th>\n",
       "      <th>EventRootCode_16</th>\n",
       "      <th>EventRootCode_17</th>\n",
       "      <th>EventRootCode_18</th>\n",
       "      <th>EventRootCode_19</th>\n",
       "      <th>EventRootCode_20</th>\n",
       "    </tr>\n",
       "  </thead>\n",
       "  <tbody>\n",
       "    <tr>\n",
       "      <th>4074733</th>\n",
       "      <td>05</td>\n",
       "      <td>-1.863354</td>\n",
       "      <td>-0.185329</td>\n",
       "      <td>0</td>\n",
       "      <td>0</td>\n",
       "      <td>0</td>\n",
       "      <td>0</td>\n",
       "      <td>0</td>\n",
       "      <td>0</td>\n",
       "      <td>0</td>\n",
       "      <td>...</td>\n",
       "      <td>0</td>\n",
       "      <td>0</td>\n",
       "      <td>0</td>\n",
       "      <td>0</td>\n",
       "      <td>0</td>\n",
       "      <td>0</td>\n",
       "      <td>0</td>\n",
       "      <td>0</td>\n",
       "      <td>0</td>\n",
       "      <td>0</td>\n",
       "    </tr>\n",
       "    <tr>\n",
       "      <th>2951801</th>\n",
       "      <td>11</td>\n",
       "      <td>-4.629902</td>\n",
       "      <td>-0.185329</td>\n",
       "      <td>0</td>\n",
       "      <td>0</td>\n",
       "      <td>0</td>\n",
       "      <td>0</td>\n",
       "      <td>0</td>\n",
       "      <td>0</td>\n",
       "      <td>0</td>\n",
       "      <td>...</td>\n",
       "      <td>1</td>\n",
       "      <td>0</td>\n",
       "      <td>0</td>\n",
       "      <td>0</td>\n",
       "      <td>0</td>\n",
       "      <td>0</td>\n",
       "      <td>0</td>\n",
       "      <td>0</td>\n",
       "      <td>0</td>\n",
       "      <td>0</td>\n",
       "    </tr>\n",
       "    <tr>\n",
       "      <th>2498415</th>\n",
       "      <td>04</td>\n",
       "      <td>-6.752873</td>\n",
       "      <td>-0.214884</td>\n",
       "      <td>0</td>\n",
       "      <td>0</td>\n",
       "      <td>0</td>\n",
       "      <td>0</td>\n",
       "      <td>0</td>\n",
       "      <td>0</td>\n",
       "      <td>0</td>\n",
       "      <td>...</td>\n",
       "      <td>0</td>\n",
       "      <td>0</td>\n",
       "      <td>0</td>\n",
       "      <td>0</td>\n",
       "      <td>0</td>\n",
       "      <td>0</td>\n",
       "      <td>0</td>\n",
       "      <td>0</td>\n",
       "      <td>0</td>\n",
       "      <td>0</td>\n",
       "    </tr>\n",
       "    <tr>\n",
       "      <th>4368703</th>\n",
       "      <td>13</td>\n",
       "      <td>-3.281616</td>\n",
       "      <td>0.030843</td>\n",
       "      <td>0</td>\n",
       "      <td>0</td>\n",
       "      <td>0</td>\n",
       "      <td>0</td>\n",
       "      <td>0</td>\n",
       "      <td>0</td>\n",
       "      <td>0</td>\n",
       "      <td>...</td>\n",
       "      <td>0</td>\n",
       "      <td>0</td>\n",
       "      <td>1</td>\n",
       "      <td>0</td>\n",
       "      <td>0</td>\n",
       "      <td>0</td>\n",
       "      <td>0</td>\n",
       "      <td>0</td>\n",
       "      <td>0</td>\n",
       "      <td>0</td>\n",
       "    </tr>\n",
       "    <tr>\n",
       "      <th>2508227</th>\n",
       "      <td>10</td>\n",
       "      <td>-3.082279</td>\n",
       "      <td>0.051109</td>\n",
       "      <td>0</td>\n",
       "      <td>0</td>\n",
       "      <td>0</td>\n",
       "      <td>0</td>\n",
       "      <td>0</td>\n",
       "      <td>0</td>\n",
       "      <td>0</td>\n",
       "      <td>...</td>\n",
       "      <td>0</td>\n",
       "      <td>0</td>\n",
       "      <td>0</td>\n",
       "      <td>0</td>\n",
       "      <td>0</td>\n",
       "      <td>0</td>\n",
       "      <td>0</td>\n",
       "      <td>0</td>\n",
       "      <td>0</td>\n",
       "      <td>0</td>\n",
       "    </tr>\n",
       "  </tbody>\n",
       "</table>\n",
       "<p>5 rows × 761 columns</p>\n",
       "</div>"
      ],
      "text/plain": [
       "        EventRootCode  AVG(AvgTone)  norm_NumMentions  Actor1CountryCode_AFG  \\\n",
       "4074733            05     -1.863354         -0.185329                      0   \n",
       "2951801            11     -4.629902         -0.185329                      0   \n",
       "2498415            04     -6.752873         -0.214884                      0   \n",
       "4368703            13     -3.281616          0.030843                      0   \n",
       "2508227            10     -3.082279          0.051109                      0   \n",
       "\n",
       "         Actor1CountryCode_AFR  Actor1CountryCode_AGO  Actor1CountryCode_AND  \\\n",
       "4074733                      0                      0                      0   \n",
       "2951801                      0                      0                      0   \n",
       "2498415                      0                      0                      0   \n",
       "4368703                      0                      0                      0   \n",
       "2508227                      0                      0                      0   \n",
       "\n",
       "         Actor1CountryCode_ARE  Actor1CountryCode_ARG  Actor1CountryCode_ARM  \\\n",
       "4074733                      0                      0                      0   \n",
       "2951801                      0                      0                      0   \n",
       "2498415                      0                      0                      0   \n",
       "4368703                      0                      0                      0   \n",
       "2508227                      0                      0                      0   \n",
       "\n",
       "               ...         EventRootCode_11  EventRootCode_12  \\\n",
       "4074733        ...                        0                 0   \n",
       "2951801        ...                        1                 0   \n",
       "2498415        ...                        0                 0   \n",
       "4368703        ...                        0                 0   \n",
       "2508227        ...                        0                 0   \n",
       "\n",
       "         EventRootCode_13  EventRootCode_14  EventRootCode_15  \\\n",
       "4074733                 0                 0                 0   \n",
       "2951801                 0                 0                 0   \n",
       "2498415                 0                 0                 0   \n",
       "4368703                 1                 0                 0   \n",
       "2508227                 0                 0                 0   \n",
       "\n",
       "         EventRootCode_16  EventRootCode_17  EventRootCode_18  \\\n",
       "4074733                 0                 0                 0   \n",
       "2951801                 0                 0                 0   \n",
       "2498415                 0                 0                 0   \n",
       "4368703                 0                 0                 0   \n",
       "2508227                 0                 0                 0   \n",
       "\n",
       "         EventRootCode_19  EventRootCode_20  \n",
       "4074733                 0                 0  \n",
       "2951801                 0                 0  \n",
       "2498415                 0                 0  \n",
       "4368703                 0                 0  \n",
       "2508227                 0                 0  \n",
       "\n",
       "[5 rows x 761 columns]"
      ]
     },
     "execution_count": 63,
     "metadata": {},
     "output_type": "execute_result"
    }
   ],
   "source": [
    "model_df_hot.head()"
   ]
  },
  {
   "cell_type": "code",
   "execution_count": 65,
   "metadata": {},
   "outputs": [],
   "source": [
    "train, test = train_test_split(model_df_hot, test_size=0.2, random_state=42)"
   ]
  },
  {
   "cell_type": "code",
   "execution_count": 68,
   "metadata": {},
   "outputs": [
    {
     "data": {
      "text/plain": [
       "LinearRegression(copy_X=True, fit_intercept=True, n_jobs=1, normalize=False)"
      ]
     },
     "execution_count": 68,
     "metadata": {},
     "output_type": "execute_result"
    }
   ],
   "source": [
    "regr = linear_model.LinearRegression()\n",
    "Y = train['AVG(AvgTone)'].values.reshape(-1, 1)\n",
    "X = train[feature_columns]\n",
    "regr.fit(X, Y)"
   ]
  },
  {
   "cell_type": "code",
   "execution_count": 69,
   "metadata": {},
   "outputs": [
    {
     "data": {
      "text/plain": [
       "0.24057144216501747"
      ]
     },
     "execution_count": 69,
     "metadata": {},
     "output_type": "execute_result"
    }
   ],
   "source": [
    "regr.score(X, Y)"
   ]
  },
  {
   "cell_type": "code",
   "execution_count": 72,
   "metadata": {},
   "outputs": [
    {
     "data": {
      "text/plain": [
       "Ridge(alpha=1.0, copy_X=True, fit_intercept=True, max_iter=None,\n",
       "   normalize=False, random_state=None, solver='auto', tol=0.001)"
      ]
     },
     "execution_count": 72,
     "metadata": {},
     "output_type": "execute_result"
    }
   ],
   "source": [
    "from sklearn.linear_model import Ridge\n",
    "regr = Ridge()\n",
    "Y = train['AVG(AvgTone)'].values.reshape(-1, 1)\n",
    "X = train[feature_columns]\n",
    "regr.fit(X, Y)"
   ]
  },
  {
   "cell_type": "code",
   "execution_count": 73,
   "metadata": {},
   "outputs": [
    {
     "data": {
      "text/plain": [
       "0.24050873555027785"
      ]
     },
     "execution_count": 73,
     "metadata": {},
     "output_type": "execute_result"
    }
   ],
   "source": [
    "regr.score(X, Y)"
   ]
  },
  {
   "cell_type": "code",
   "execution_count": 76,
   "metadata": {},
   "outputs": [
    {
     "data": {
      "text/plain": [
       "array([[-1.92154681e-01, -8.64475465e-02, -7.31530799e-01,\n",
       "         5.61747574e-01, -2.73420486e-01,  7.81067133e-01,\n",
       "         2.03108040e-01, -1.10895946e-01,  3.06508877e-01,\n",
       "         1.61308183e+00,  7.33502665e-02, -1.03023577e-01,\n",
       "        -1.33068718e-01,  1.71900143e-02, -3.44253170e-01,\n",
       "         2.25942862e-01,  2.79051428e-01, -5.96752570e-01,\n",
       "        -1.25006821e-02,  5.36076310e-01,  3.35896326e-01,\n",
       "         3.55521060e-01, -3.10577008e-01,  4.62512750e-02,\n",
       "        -2.01461457e-01,  1.72967772e-01, -6.72760136e-01,\n",
       "        -5.30364259e-02, -1.44969082e+00,  7.16590656e-02,\n",
       "        -2.19592022e+00,  2.74398012e+00,  2.42498482e-01,\n",
       "         5.04102196e-01,  1.82456465e-02, -1.12354870e-01,\n",
       "        -7.82562321e-01, -1.42323253e+00, -1.43921719e+00,\n",
       "         9.13817242e-01,  2.59792482e+00, -1.37532762e-01,\n",
       "         2.33088351e-01, -7.36902120e-01,  3.92990112e-01,\n",
       "        -2.10608974e-02, -3.02212839e-01, -3.33801057e-01,\n",
       "         3.20327253e-01, -7.27623002e-02, -5.65460991e-01,\n",
       "        -9.12255355e-02,  5.22023325e-01,  1.07806987e-01,\n",
       "        -1.09817650e-01,  4.10220110e-01,  6.49743745e-01,\n",
       "        -1.06302632e-01,  2.09067045e+00, -8.02663642e-01,\n",
       "        -1.83820610e-01, -2.97378214e-01,  3.42287323e-01,\n",
       "        -1.70678616e-01, -1.92145236e-01,  1.87902789e+00,\n",
       "         1.05488634e-01,  9.15715371e-02, -8.96358367e-02,\n",
       "        -1.30679707e-01, -6.99777943e-01, -4.38270554e-02,\n",
       "        -6.36304834e-01, -5.76413868e-01, -2.85765148e-02,\n",
       "        -3.39048287e-01, -3.52389745e-02,  1.34481390e-02,\n",
       "        -4.04056876e-01,  1.09764285e-01,  6.06271220e-01,\n",
       "        -2.37754494e-01, -9.92498577e-02,  1.09114829e+00,\n",
       "         5.29974864e-02,  2.26603541e+00,  9.28397764e-01,\n",
       "        -6.53007520e-01,  1.19260344e-02, -8.97430154e-01,\n",
       "         3.23352268e-01, -1.37839019e-01, -5.29151747e-01,\n",
       "         1.32878868e-01,  1.38964934e-01,  2.29178595e-01,\n",
       "        -3.44873201e-01, -8.22261498e-02,  2.69676625e-01,\n",
       "         2.88379078e-01, -1.22612073e+00, -8.69140645e-02,\n",
       "        -6.43074366e-01,  1.95975159e-01,  1.84025741e-01,\n",
       "        -5.09323300e-01, -1.91785089e-01, -4.25846184e-01,\n",
       "        -9.87151446e-02, -4.84692013e-01,  5.83935284e-02,\n",
       "         1.92855931e-01,  1.32788595e+00,  2.98143753e-01,\n",
       "         1.43201213e-01,  1.58822297e-01,  3.13105889e-01,\n",
       "         4.88972359e-01, -5.37977261e-01, -1.39792323e-01,\n",
       "        -5.39369622e-01, -2.83011736e-01, -8.06238439e-02,\n",
       "        -9.51542463e-01,  6.45201648e-02, -3.19117973e-02,\n",
       "        -9.89740495e-01, -5.96215730e-01, -5.38174610e-01,\n",
       "         3.68666788e-01, -2.32677975e+00,  1.02185572e+00,\n",
       "        -5.01208918e-01,  0.00000000e+00, -3.03907021e-01,\n",
       "        -1.39457362e-01,  4.31650214e-01,  4.74512992e-01,\n",
       "         7.44026128e+00,  3.22042435e-02,  1.39070642e+00,\n",
       "        -5.11811122e-01, -7.28760302e-01, -1.32621442e+00,\n",
       "        -1.30025691e+00, -3.42970792e-01, -1.13705731e+00,\n",
       "        -3.33144103e-01,  9.11607248e-01, -8.46886510e-01,\n",
       "        -1.50613338e-01,  6.84218856e-01, -8.98361600e-01,\n",
       "         6.18811250e-01,  2.24478400e-01, -3.95278837e-01,\n",
       "        -4.78517373e-01,  2.22358650e-01,  3.88115231e-02,\n",
       "        -6.54329843e-01, -4.58073783e-01, -2.47190287e-01,\n",
       "         6.65393193e-02,  1.14916373e+00, -1.30213781e+00,\n",
       "         3.79764354e-01,  1.06285625e-01,  5.81456829e-02,\n",
       "        -2.11783648e-01, -7.88959282e-01, -2.44034779e-01,\n",
       "        -2.35915406e-01,  1.32952686e+00, -6.04759548e-01,\n",
       "         5.82652567e-01, -1.09682170e-01, -8.40528115e-02,\n",
       "        -2.19441766e-02,  2.43939306e-02,  5.50928986e-01,\n",
       "         3.28638970e-01,  1.78322424e+00, -3.43743081e-02,\n",
       "        -3.03853029e-01,  2.74889464e-01, -5.76772646e-02,\n",
       "         3.64576956e-02,  3.42729529e-01, -6.95063225e-01,\n",
       "        -4.49962958e-02,  3.42439483e-01,  1.08563254e-01,\n",
       "        -3.98693701e-02, -5.37714649e-01,  7.75417200e-02,\n",
       "        -1.85945270e-01, -1.12574377e-01, -9.63518777e-01,\n",
       "         7.91005500e-02, -7.43988140e-01,  2.29157159e-01,\n",
       "         5.17035220e-01,  2.08704284e-01, -1.61925896e+00,\n",
       "        -1.25018450e+00, -1.09192764e+00,  1.94392046e+00,\n",
       "         1.62274881e-01,  2.68590283e-01, -1.55492297e+00,\n",
       "         3.99822776e-01,  2.78118390e-01, -1.78782958e-01,\n",
       "         6.27438007e-01, -3.90439568e-02, -3.24735616e-01,\n",
       "        -3.99959254e-01, -4.68018036e-01, -1.14102432e+00,\n",
       "        -3.74770146e-02,  8.01672983e-02, -2.64505509e-01,\n",
       "         2.99687731e-02,  2.02618603e-01,  6.36058391e-01,\n",
       "         1.81191854e-01,  2.57895731e-01,  2.17656895e-02,\n",
       "        -2.06445300e-01,  2.17735768e-01,  4.67773581e-01,\n",
       "        -3.25873512e-01,  7.75291662e-01, -3.28633468e-01,\n",
       "         3.00599787e+00,  6.19157343e-01,  7.48662066e-01,\n",
       "         3.30098879e-02,  5.13493120e-02, -6.14575392e-01,\n",
       "        -4.51334691e-01,  9.27887122e-01, -3.45186456e-01,\n",
       "         3.60048918e-02,  8.43631469e-02, -5.06341099e-01,\n",
       "         2.29598627e-01,  6.63588849e-01, -1.86820353e-01,\n",
       "         7.41585527e-01, -2.18922168e-01,  7.33806608e-01,\n",
       "         6.90133115e-02,  1.06128044e+00, -4.53109137e-01,\n",
       "         9.61895870e-01, -1.08493387e+00, -8.09753385e-01,\n",
       "         3.16176360e-01, -4.69983222e-01,  3.70811891e-01,\n",
       "         1.53162769e+00,  2.00332508e-01,  4.79182605e-02,\n",
       "         3.34295188e-01, -1.93572506e-01, -1.03928311e+00,\n",
       "        -5.63036154e-01, -2.25822743e-01, -8.92932635e-02,\n",
       "         1.34034608e+00,  4.34717287e-01, -5.86639977e-01,\n",
       "         4.78144335e-01, -6.34535252e-01, -3.02245048e-01,\n",
       "        -1.31796769e-01, -3.00879267e-02,  6.55060249e-01,\n",
       "         1.53404766e-01,  1.54874637e+00,  3.01131749e-01,\n",
       "         9.55524471e-02, -7.52238212e-01,  2.80827261e-01,\n",
       "         6.09638138e-01, -5.68897495e-01,  2.68823947e-02,\n",
       "        -5.64263369e-01,  9.91603265e-02, -1.90377768e-01,\n",
       "        -8.70832528e-01,  1.30999072e-01,  2.62918454e-01,\n",
       "        -7.08492231e-01, -6.21053520e-01, -3.91532742e-01,\n",
       "         1.63808184e-01, -6.31420671e-01, -3.27917296e-01,\n",
       "        -7.74459177e-02,  7.14255283e-01,  3.81091796e-01,\n",
       "         2.86295949e-02, -4.17640949e-01,  3.49269566e-01,\n",
       "        -9.15408513e-01, -2.29858031e+00, -1.42365074e+00,\n",
       "         1.11844308e-01, -4.26821199e-01,  1.19071393e+00,\n",
       "        -6.92202171e-01, -1.14226264e+00, -1.57415351e-01,\n",
       "         4.10957668e-01,  7.36297346e-01, -7.96553710e-01,\n",
       "         9.02636152e-01, -3.72977319e-01, -7.41908200e-01,\n",
       "        -3.28164813e-01,  4.09376830e-01,  2.30720270e-01,\n",
       "         8.49007753e-02, -7.01379103e-01, -3.79333406e-01,\n",
       "         7.52987279e-01, -1.21295183e-01,  4.00303761e-01,\n",
       "        -1.94700115e-01, -1.18408609e+00,  5.52683236e-01,\n",
       "         9.57757356e-01,  5.85135727e-01,  0.00000000e+00,\n",
       "        -1.86284812e-01, -6.58972062e-02, -6.19546823e-01,\n",
       "        -9.21164003e-03,  7.19941635e-02, -7.02623542e-01,\n",
       "         3.00030008e-01, -8.96214671e-01, -6.85352962e-01,\n",
       "        -1.38098717e-01,  4.03263700e-03,  7.18633242e-02,\n",
       "        -9.17288260e-02,  2.00503553e-01, -2.04069713e-01,\n",
       "         2.54568221e-01,  1.17212233e-01,  1.67896170e+00,\n",
       "        -5.22646007e-01,  5.69212542e-01,  3.85165629e-01,\n",
       "         2.34710343e-01,  6.66490474e-03, -2.97113305e-01,\n",
       "        -6.38925631e-01, -6.92576863e-01, -1.06736491e-01,\n",
       "        -1.68818712e-01,  2.14373787e-01,  4.53710438e-02,\n",
       "         5.07975607e-01,  2.80004200e-01, -7.26468778e-02,\n",
       "        -1.31089640e-01, -1.49700070e+00, -9.99626775e-01,\n",
       "         2.49614079e-01,  5.80936357e-02, -9.31276999e-01,\n",
       "        -1.45827137e+00, -2.78576718e-01, -5.36291315e-01,\n",
       "         1.71260784e-01, -1.20196493e+00, -3.68906413e-02,\n",
       "        -4.39200154e-01,  9.17538931e-01,  1.20935422e-01,\n",
       "         2.08950372e-01,  1.74255834e-01, -8.23166606e-01,\n",
       "        -4.61744717e-01,  2.04271421e-01,  1.26504660e-01,\n",
       "        -8.94660235e-01, -6.30117069e-01, -2.95436039e-02,\n",
       "         2.69212485e-01,  6.27070667e-01,  5.89895526e-01,\n",
       "         2.98133373e-01,  1.17820675e+00, -3.39867638e-01,\n",
       "         4.23411814e-01,  1.54341513e-01, -9.26370829e-02,\n",
       "        -4.27969742e-01, -9.45841238e-02,  6.09457636e-01,\n",
       "         7.88767115e-01, -8.20589214e-01, -9.59411330e-02,\n",
       "        -2.42590616e-01,  1.42098906e+00, -5.04217853e-02,\n",
       "        -7.69623386e-02, -6.80020807e-01,  1.19341094e-01,\n",
       "        -9.63837642e-01, -2.94368261e-01,  8.34230081e-01,\n",
       "        -1.87429134e+00, -2.25341093e-01,  1.29433965e-01,\n",
       "        -3.34109884e-01,  4.59600750e-01,  1.33833947e-01,\n",
       "         4.92543143e-02, -6.07026231e-01, -5.62061564e-01,\n",
       "        -3.79743243e-02, -7.61988968e-01,  4.05562517e-01,\n",
       "         2.65124765e-01, -6.62344164e-01, -1.44774992e-01,\n",
       "        -5.38491223e-02, -7.36837188e-01,  3.69217755e-02,\n",
       "        -1.94792860e+00,  2.13277278e-01,  1.38989800e-01,\n",
       "        -5.57577551e-01,  5.81190499e-02, -2.05750071e-01,\n",
       "         1.10881819e+00,  1.76355019e-01, -3.07760528e-01,\n",
       "         2.37327272e-01,  2.54010674e-02,  8.35713315e-01,\n",
       "        -1.16129607e+00, -2.07858959e-01,  8.07200390e-02,\n",
       "         0.00000000e+00,  9.26014199e-01,  1.89998629e+00,\n",
       "        -2.26811028e-01, -5.77562542e-01,  3.06517432e-01,\n",
       "        -8.89420335e-01,  1.79510837e+00,  9.10368636e-01,\n",
       "        -1.71737097e-01,  8.69553988e-01,  3.95283882e-01,\n",
       "         3.56892332e-02, -6.49623975e-02,  7.73188172e-02,\n",
       "         1.51509462e+00,  7.05418568e-02,  2.54629796e-01,\n",
       "        -8.30141442e-03, -1.80166481e-02, -5.94086036e-01,\n",
       "        -2.15728534e-01,  5.84427806e-01,  9.32405485e-02,\n",
       "        -8.56456680e-01, -1.95974378e-01, -2.92625258e-01,\n",
       "        -5.89439198e-01, -4.15963867e-02, -4.13105487e-01,\n",
       "        -8.48580227e-02, -3.16616060e-01,  3.37369031e-03,\n",
       "        -1.88986710e-01,  1.02278573e-01, -4.32644282e-01,\n",
       "         6.83262573e-02,  1.74127259e+00,  3.44836882e-01,\n",
       "        -1.47675961e-01,  4.65515864e+00,  4.72957489e-01,\n",
       "        -3.30601526e-01,  2.04790644e-02, -3.70973057e-01,\n",
       "         2.53565442e-01, -4.80538157e-01, -1.36967121e+00,\n",
       "         1.19410022e+00, -1.98794584e-01,  4.38476259e-01,\n",
       "         3.21343615e+00,  1.41738320e+00,  3.56301348e-01,\n",
       "        -1.21684647e+00,  2.64787179e-01,  1.77541940e+00,\n",
       "        -1.06750035e+00, -1.92566788e-01,  1.47725119e-01,\n",
       "        -1.05203478e+00,  2.92932496e-02, -2.62406352e-01,\n",
       "         1.10303966e-01,  1.27802656e+00,  5.61012411e-01,\n",
       "         8.69285790e-01,  3.57497651e-01, -1.06136051e+00,\n",
       "        -4.92388961e-02, -5.47371536e-01,  5.19206428e-01,\n",
       "         2.74306765e-01, -2.09447234e-01, -1.46997375e-02,\n",
       "        -1.29576554e-01, -5.82966189e-01, -4.24767020e-02,\n",
       "        -2.27793688e-01,  4.51282140e-01, -2.21588489e-02,\n",
       "        -1.68226334e+00,  1.27431068e-01,  3.12186244e-01,\n",
       "         4.61837177e-01,  1.89125902e-02, -1.30216602e+00,\n",
       "        -2.03740210e-02, -1.23895412e+00,  6.05033642e-01,\n",
       "         1.49239028e-01, -1.18039651e+00,  2.17223694e-01,\n",
       "        -3.87617560e-01,  5.99902632e-01, -2.80012315e-01,\n",
       "        -5.06065640e-01, -2.89651625e-01, -1.75852133e-01,\n",
       "        -3.67112422e-01, -2.79528918e+00,  1.37260055e-02,\n",
       "        -8.05433068e-01,  3.56074291e-02, -5.36450783e-02,\n",
       "         1.68245579e-01,  9.64485773e-01, -9.41502139e-02,\n",
       "         1.07438287e+00,  1.97658812e-01,  7.07656843e-01,\n",
       "        -1.15582481e-01,  4.08251897e-02, -4.58083485e-02,\n",
       "         2.31206053e-01,  2.26752727e-01,  4.24134340e-03,\n",
       "         5.52117148e-02,  5.86548592e-02,  3.57909928e-01,\n",
       "         1.95713852e-01,  5.55689982e-02, -9.15982380e-01,\n",
       "        -9.64602343e-01,  1.80827544e-01, -5.05613503e-03,\n",
       "         1.42485750e+00, -4.95161544e-01, -4.80686009e-01,\n",
       "        -1.43230888e+00,  8.85117161e-01, -7.38568562e-01,\n",
       "         1.83936687e-02,  1.88706963e-01,  4.21617730e-01,\n",
       "         4.35249720e-01,  2.55973761e-01, -7.15714056e-01,\n",
       "         5.28283712e-01, -2.81733497e-01,  3.35995804e-01,\n",
       "        -9.64063212e-02,  4.10407588e-01, -4.01922553e-01,\n",
       "        -6.75979588e-01,  2.49709264e-01, -1.80679543e-01,\n",
       "         7.02073276e-01,  2.80015062e-01,  5.57822728e-01,\n",
       "        -1.75501390e+00,  8.89676308e-01,  4.23411814e-01,\n",
       "        -6.24570447e-02,  4.57382212e-01,  6.05953112e-02,\n",
       "         6.88873860e-01,  8.50634442e-02, -1.18667692e-01,\n",
       "         1.78662396e-01,  9.27268820e-01, -6.97496380e-02,\n",
       "         6.96422845e-01, -1.34976749e-01, -6.02973922e-01,\n",
       "        -1.41042627e+00, -3.88692527e-01,  1.46263564e-01,\n",
       "        -1.37363225e+00,  3.54563437e-03, -3.37611600e-01,\n",
       "         5.50786453e-01,  3.17511201e-01,  9.55367578e-02,\n",
       "         4.53843783e-01, -4.68223949e-01, -8.97492623e-02,\n",
       "        -2.52010795e-02, -7.03953682e-01,  2.55035962e-01,\n",
       "         8.27679590e-02, -5.27283379e-02, -3.52443112e-02,\n",
       "        -9.79085993e-02, -5.79207992e-01, -4.31127766e-02,\n",
       "        -2.63680040e+00, -6.17459171e-02, -1.61783969e-01,\n",
       "         4.06105227e-01, -5.16066898e-01,  4.11049146e-01,\n",
       "        -3.54379927e-02, -5.74778180e-01,  4.34693868e-01,\n",
       "        -2.12892935e-01,  2.18422594e-01,  3.35941443e+00,\n",
       "        -1.05853079e+00,  7.33770896e-01, -8.97792330e-01,\n",
       "         3.10055176e-01,  0.00000000e+00,  2.34988251e-01,\n",
       "         3.99068371e-01,  4.49221557e-01,  6.11839580e-01,\n",
       "         1.47988887e+00,  6.61507826e-02,  6.99313346e-03,\n",
       "         2.60816442e-01,  6.35954651e-01,  1.17701815e-01,\n",
       "         1.25420280e-01,  1.05409302e+00,  6.68933158e-01,\n",
       "        -7.91407352e-01,  1.05277507e-01, -7.81597780e-02,\n",
       "         1.20402983e-01,  4.27610703e-01,  2.24101002e-01,\n",
       "         6.70690993e-02,  1.35534327e-01,  4.51356119e-01,\n",
       "        -2.54543418e-01,  4.89073656e-01, -7.46260610e-01,\n",
       "         5.47902349e-01,  8.77482668e-01, -9.25647323e-01,\n",
       "         1.19019489e+00, -3.36010802e-01,  5.08853047e-02,\n",
       "         3.13882102e-01, -1.26680956e-01, -8.47320361e-01,\n",
       "        -3.47683947e-01,  3.48053290e-01,  8.29056596e-01,\n",
       "        -1.74233215e+00,  9.31051298e-01, -5.86607109e-01,\n",
       "         2.01761968e-01, -3.44453605e-01,  4.38150978e-01,\n",
       "        -1.92717027e-01, -1.36967121e+00,  1.03168829e+00,\n",
       "        -2.55212033e-01, -1.10707372e-01,  7.37636521e-01,\n",
       "         4.76666040e-01, -7.10608925e-01,  1.83814661e-01,\n",
       "        -1.52292726e-01, -7.81822733e-01, -1.62569470e+00,\n",
       "         6.67825936e-02, -7.91199791e-01, -5.04832096e-02,\n",
       "         1.25230807e-01, -3.13841739e-01,  1.61370020e+00,\n",
       "         5.21192959e-01, -1.54941814e-01,  1.99751293e-01,\n",
       "        -5.58235504e-01, -4.68912616e-01,  3.15287385e-01,\n",
       "         6.30774038e-01, -1.05685695e-01, -5.47042562e-02,\n",
       "         3.93544991e-01, -5.03290240e-02, -1.65883526e-04,\n",
       "        -1.99546932e-01, -1.72258865e-01, -7.25366898e-01,\n",
       "        -1.30374240e-01,  3.20675458e-01,  3.44061537e-01,\n",
       "        -2.59816065e-01, -2.74385323e-01,  4.43463250e-01,\n",
       "        -4.80302434e-01,  1.62016849e-01, -8.93308437e-01,\n",
       "         3.40909972e-01,  0.00000000e+00, -1.29959924e+00,\n",
       "        -7.74965085e-01,  5.49064967e-01,  4.15819432e-01,\n",
       "         1.17410310e+00,  4.89564060e-01,  5.64237606e-01,\n",
       "        -1.75561103e-01, -5.04418557e-01,  3.15072072e-02,\n",
       "        -5.71090520e-01,  2.51343671e-01, -3.23749312e-01,\n",
       "        -1.47337732e-01,  1.26627881e+00,  8.39359436e-01,\n",
       "        -8.45774126e-01, -1.32721191e+00,  1.68680790e-01,\n",
       "         2.19748506e-01]])"
      ]
     },
     "execution_count": 76,
     "metadata": {},
     "output_type": "execute_result"
    }
   ],
   "source": [
    "regr.coef_"
   ]
  },
  {
   "cell_type": "code",
   "execution_count": null,
   "metadata": {},
   "outputs": [],
   "source": [
    "def compute_RSS(model, data, dependent):\n",
    "    predictions = model.predict(data)\n",
    "    squared_residuals = (dependent.values.reshape(-1, 1) - predictions) ** 2\n",
    "    return squared_residuals.sum()\n",
    "\n",
    "def compute_TSS(data, dependent):\n",
    "    return ((dependent.values.reshape(-1, 1) - dependent.values.reshape(-1, 1).mean()) ** 2).sum()\n",
    "\n",
    "def F_statistic(p, data, model):\n",
    "    n = len(data)\n",
    "    RSS = compute_RSS(model, data)\n",
    "    TSS = compute_TSS(data)\n",
    "    return ((TSS - RSS) / p) /\\\n",
    "            (RSS / (n - p - 1))"
   ]
  },
  {
   "cell_type": "code",
   "execution_count": 80,
   "metadata": {},
   "outputs": [],
   "source": [
    "#1 - compute_RSS(regr, train[feature_columns], train['norm_AvgTone'])/ \\\n",
    "#    compute_TSS(train[feature_columns], train['norm_AvgTone'])\n",
    "\n",
    "baseline = 1 - ((model_df['AVG(AvgTone)'] - model_df['AVG(AvgTone)'].mean())**2).sum() /\\\n",
    "            ((model_df['AVG(AvgTone)'] - model_df['AVG(AvgTone)'].mean()) ** 2).sum()"
   ]
  },
  {
   "cell_type": "code",
   "execution_count": 81,
   "metadata": {},
   "outputs": [
    {
     "data": {
      "text/plain": [
       "0.0"
      ]
     },
     "execution_count": 81,
     "metadata": {},
     "output_type": "execute_result"
    }
   ],
   "source": [
    "baseline"
   ]
  },
  {
   "cell_type": "code",
   "execution_count": 179,
   "metadata": {},
   "outputs": [
    {
     "data": {
      "text/plain": [
       "61"
      ]
     },
     "execution_count": 179,
     "metadata": {},
     "output_type": "execute_result"
    }
   ],
   "source": [
    "len(low_p_value) + len(low_incs) + len(low_decs)"
   ]
  },
  {
   "cell_type": "code",
   "execution_count": null,
   "metadata": {},
   "outputs": [],
   "source": [
    "#  \tCountry \tAvgTone_diff \tAvgTone_mag \tNum \tp-value\n",
    "# 200 \tActor1CountryCode_USA \t-0.057060 \t0.057060 \t76240 \t1.288859e-05"
   ]
  },
  {
   "cell_type": "code",
   "execution_count": 186,
   "metadata": {},
   "outputs": [],
   "source": [
    "def map_missing(x, l, translation):\n",
    "    if x in l:\n",
    "        return x\n",
    "    elif x == \"nan\":\n",
    "        return \"UNKNOWN\"\n",
    "    else:\n",
    "        return translation\n",
    "\n",
    "def unify_rare_cats(data, category, cut_off):\n",
    "    vc = data[category].value_counts()\n",
    "    past_cut_off = (vc/len(data)) > cut_off\n",
    "    remaining = list(vc[past_cut_off].index)\n",
    "    data[(category + '_unify')] = data[category].astype(str) \\\n",
    "                                                .apply(lambda x: map_missing(x, remaining, \"OTHER\")) \\\n",
    "                                                .astype('category')"
   ]
  },
  {
   "cell_type": "code",
   "execution_count": 187,
   "metadata": {},
   "outputs": [],
   "source": [
    "unify_rare_cats(gdelt_sample, 'Actor1CountryCode', .005)\n",
    "unify_rare_cats(gdelt_sample, 'Actor2CountryCode', .005)\n",
    "unify_rare_cats(gdelt_sample, 'Actor1Geo_CountryCode', .005)\n",
    "unify_rare_cats(gdelt_sample, 'Actor2Geo_CountryCode', .005)"
   ]
  },
  {
   "cell_type": "code",
   "execution_count": 188,
   "metadata": {},
   "outputs": [
    {
     "data": {
      "text/plain": [
       "<matplotlib.axes._subplots.AxesSubplot at 0x1f9f671b710>"
      ]
     },
     "execution_count": 188,
     "metadata": {},
     "output_type": "execute_result"
    },
    {
     "data": {
      "image/png": "[encoded data removed]",
      "text/plain": [
       "<Figure size 1080x1080 with 4 Axes>"
      ]
     },
     "metadata": {},
     "output_type": "display_data"
    }
   ],
   "source": [
    "fig, axes = plt.subplots(2, 2, figsize=(15,15))\n",
    "\n",
    "plt.subplot(221)\n",
    "gdelt_sample['Actor1CountryCode_unify'].value_counts().plot(kind=\"bar\")\n",
    "\n",
    "plt.subplot(222)\n",
    "gdelt_sample['Actor2CountryCode_unify'].value_counts().plot(kind=\"bar\")\n",
    "\n",
    "plt.subplot(223)\n",
    "gdelt_sample['Actor1Geo_CountryCode_unify'].value_counts().plot(kind=\"bar\")\n",
    "\n",
    "plt.subplot(224)\n",
    "gdelt_sample['Actor2Geo_CountryCode_unify'].value_counts().plot(kind=\"bar\")"
   ]
  },
  {
   "cell_type": "code",
   "execution_count": 189,
   "metadata": {},
   "outputs": [
    {
     "data": {
      "text/plain": [
       "04    186354\n",
       "01     94136\n",
       "05     82198\n",
       "03     71590\n",
       "02     57839\n",
       "11     55835\n",
       "19     53003\n",
       "17     42818\n",
       "08     35904\n",
       "07     33343\n",
       "06     31310\n",
       "12     25898\n",
       "09     19476\n",
       "13     19349\n",
       "10     16293\n",
       "18     16137\n",
       "16     15156\n",
       "14     10128\n",
       "15      6741\n",
       "20       589\n",
       "--         0\n",
       "Name: EventRootCode, dtype: int64"
      ]
     },
     "execution_count": 189,
     "metadata": {},
     "output_type": "execute_result"
    }
   ],
   "source": [
    "gdelt_sample['EventRootCode'].value_counts()"
   ]
  },
  {
   "cell_type": "code",
   "execution_count": 190,
   "metadata": {},
   "outputs": [],
   "source": [
    "gdelt_sample['norm_NumMentions'] = (gdelt_sample['AVG(NumMentions)'] - gdelt_sample['AVG(NumMentions)'].mean())/ \\\n",
    "                                        gdelt_sample['AVG(NumMentions)'].std()"
   ]
  },
  {
   "cell_type": "code",
   "execution_count": 191,
   "metadata": {},
   "outputs": [],
   "source": [
    "gdelt_sample['norm_AvgTone'] = (gdelt_sample['AVG(AvgTone)'] - gdelt_sample['AVG(AvgTone)'].mean())/ \\\n",
    "                                        gdelt_sample['AVG(AvgTone)'].std()"
   ]
  },
  {
   "cell_type": "code",
   "execution_count": 192,
   "metadata": {
    "scrolled": true
   },
   "outputs": [],
   "source": [
    "Actor1CC_one_hot = pd.get_dummies(gdelt_sample['Actor1CountryCode_unify'], prefix=\"Actor1CountryCode\")\n",
    "Actor2CC_one_hot = pd.get_dummies(gdelt_sample['Actor2CountryCode_unify'], prefix=\"Actor2CountryCode\")\n",
    "Actor1CCGeo_one_hot = pd.get_dummies(gdelt_sample['Actor1Geo_CountryCode_unify'], prefix=\"Actor1Geo_CountryCode\")\n",
    "Actor2CCGeo_one_hot = pd.get_dummies(gdelt_sample['Actor2Geo_CountryCode_unify'], prefix=\"Actor2Geo_CountryCode\")\n",
    "EventRoot_one_hot = pd.get_dummies(gdelt_sample['EventRootCode'], prefix=\"EventRootCode\")\n",
    "\n",
    "one_hot_encoding = pd.concat([Actor1CC_one_hot, Actor2CC_one_hot, Actor1CCGeo_one_hot, \n",
    "                              Actor2CCGeo_one_hot, EventRoot_one_hot], axis=1)"
   ]
  },
  {
   "cell_type": "code",
   "execution_count": 193,
   "metadata": {},
   "outputs": [],
   "source": [
    "Actor1CC_one_hot = pd.get_dummies(gdelt_sample['Actor1CountryCode_unify'], prefix=\"Actor1CountryCode\")\n",
    "Actor2CC_one_hot = pd.get_dummies(gdelt_sample['Actor2CountryCode_unify'], prefix=\"Actor2CountryCode\")\n",
    "Actor1CCGeo_one_hot = pd.get_dummies(gdelt_sample['Actor1Geo_CountryCode_unify'], prefix=\"Actor1Geo_CountryCode\")\n",
    "Actor2CCGeo_one_hot = pd.get_dummies(gdelt_sample['Actor2Geo_CountryCode_unify'], prefix=\"Actor2Geo_CountryCode\")\n",
    "EventRoot_one_hot = pd.get_dummies(gdelt_sample['EventRootCode'], prefix=\"EventRootCode\")\n",
    "\n",
    "one_hot_encoding = pd.concat([Actor1CC_one_hot, Actor2CC_one_hot, Actor1CCGeo_one_hot, \n",
    "                              Actor2CCGeo_one_hot, EventRoot_one_hot], axis=1)\n",
    "\n",
    "gdelt_sample = pd.concat([gdelt_sample, one_hot_encoding], axis=1)"
   ]
  },
  {
   "cell_type": "code",
   "execution_count": 194,
   "metadata": {},
   "outputs": [],
   "source": [
    "model_columns = list(one_hot_encoding.columns)\n",
    "model_columns.append('norm_NumMentions')\n",
    "feature_columns = model_columns.copy()\n",
    "model_columns.append('norm_AvgTone')"
   ]
  },
  {
   "cell_type": "code",
   "execution_count": 195,
   "metadata": {},
   "outputs": [],
   "source": [
    "gdelt_sample_m = gdelt_sample[model_columns]"
   ]
  },
  {
   "cell_type": "code",
   "execution_count": 196,
   "metadata": {},
   "outputs": [],
   "source": [
    "train, test = train_test_split(gdelt_sample_m, test_size=0.25, random_state=42)"
   ]
  },
  {
   "cell_type": "code",
   "execution_count": 197,
   "metadata": {},
   "outputs": [
    {
     "data": {
      "text/plain": [
       "LinearRegression(copy_X=True, fit_intercept=True, n_jobs=1, normalize=False)"
      ]
     },
     "execution_count": 197,
     "metadata": {},
     "output_type": "execute_result"
    }
   ],
   "source": [
    "regr = linear_model.LinearRegression()\n",
    "Y = train['norm_AvgTone'].values.reshape(-1, 1)\n",
    "X = train[feature_columns]\n",
    "regr.fit(X, Y)"
   ]
  },
  {
   "cell_type": "code",
   "execution_count": 198,
   "metadata": {},
   "outputs": [
    {
     "name": "stdout",
     "output_type": "stream",
     "text": [
      "\n",
      "Coefficients: \n",
      " [[-4.47767839e+09 -4.47767839e+09 -4.47767839e+09 -4.47767839e+09\n",
      "  -4.47767839e+09 -4.47767839e+09 -4.47767839e+09 -4.47767839e+09\n",
      "  -4.47767839e+09 -4.47767839e+09 -4.47767839e+09 -4.47767839e+09\n",
      "  -4.47767839e+09 -4.47767839e+09 -4.47767839e+09 -4.47767839e+09\n",
      "  -4.47767839e+09 -4.47767839e+09 -4.47767839e+09 -4.47767839e+09\n",
      "  -4.47767839e+09 -4.47767839e+09 -4.47767839e+09 -4.47767839e+09\n",
      "  -4.47767839e+09 -4.47767839e+09 -4.47767839e+09 -4.47767839e+09\n",
      "  -4.47767839e+09 -4.47767839e+09 -4.47767839e+09 -4.47767839e+09\n",
      "  -4.47767839e+09 -4.47767839e+09 -4.47767839e+09 -4.47767839e+09\n",
      "  -4.47767839e+09 -4.47767839e+09 -1.52421891e+11 -1.52421891e+11\n",
      "  -1.52421891e+11 -1.52421891e+11 -1.52421891e+11 -1.52421891e+11\n",
      "  -1.52421891e+11 -1.52421891e+11 -1.52421891e+11 -1.52421891e+11\n",
      "  -1.52421891e+11 -1.52421891e+11 -1.52421891e+11 -1.52421891e+11\n",
      "  -1.52421891e+11 -1.52421891e+11 -1.52421891e+11 -1.52421891e+11\n",
      "  -1.52421891e+11 -1.52421891e+11 -1.52421891e+11 -1.52421891e+11\n",
      "  -1.52421891e+11 -1.52421891e+11 -1.52421891e+11 -1.52421891e+11\n",
      "  -1.52421891e+11 -1.52421891e+11 -1.52421891e+11 -1.52421891e+11\n",
      "  -1.52421891e+11 -1.52421891e+11 -1.52421891e+11 -1.52421891e+11\n",
      "  -1.52421891e+11  4.04172618e+10  4.04172618e+10  4.04172618e+10\n",
      "   4.04172618e+10  4.04172618e+10  4.04172618e+10  4.04172618e+10\n",
      "   4.04172618e+10  4.04172618e+10  4.04172618e+10  4.04172618e+10\n",
      "   4.04172618e+10  4.04172618e+10  4.04172618e+10  4.04172618e+10\n",
      "   4.04172618e+10  4.04172618e+10  4.04172618e+10  4.04172618e+10\n",
      "   4.04172618e+10  4.04172618e+10  4.04172618e+10  4.04172618e+10\n",
      "   4.04172618e+10  4.04172618e+10  4.04172618e+10  4.04172618e+10\n",
      "   4.04172618e+10  4.04172618e+10  4.04172618e+10  4.04172618e+10\n",
      "   4.04172618e+10  4.04172618e+10  4.04172618e+10  4.04172618e+10\n",
      "   4.04172618e+10  4.04172618e+10  4.04172618e+10  4.04172618e+10\n",
      "   4.04172618e+10  4.04172618e+10  4.04172618e+10  4.04172618e+10\n",
      "   4.04172618e+10  4.04172618e+10  4.04172618e+10  4.04172618e+10\n",
      "   4.04172618e+10  4.04172618e+10  4.90179284e+11  4.90179284e+11\n",
      "   4.90179284e+11  4.90179284e+11  4.90179284e+11  4.90179284e+11\n",
      "   4.90179284e+11  4.90179284e+11  4.90179284e+11  4.90179284e+11\n",
      "   4.90179284e+11  4.90179284e+11  4.90179284e+11  4.90179284e+11\n",
      "   4.90179284e+11  4.90179284e+11  4.90179284e+11  4.90179284e+11\n",
      "   4.90179284e+11  4.90179284e+11  4.90179284e+11  4.90179284e+11\n",
      "   4.90179284e+11  4.90179284e+11  4.90179284e+11  4.90179284e+11\n",
      "   4.90179284e+11  4.90179284e+11  4.90179284e+11  4.90179284e+11\n",
      "   4.90179284e+11  4.90179284e+11  4.90179284e+11  4.90179284e+11\n",
      "   4.90179284e+11  4.90179284e+11  4.90179284e+11  4.90179284e+11\n",
      "   4.90179284e+11  4.90179284e+11  4.90179284e+11  4.90179284e+11\n",
      "   4.90179284e+11 -2.87809146e+11 -4.84847461e+11 -4.84847461e+11\n",
      "  -4.84847461e+11 -4.84847461e+11 -4.84847461e+11 -4.84847461e+11\n",
      "  -4.84847461e+11 -4.84847461e+11 -4.84847461e+11 -4.84847461e+11\n",
      "  -4.84847461e+11 -4.84847461e+11 -4.84847461e+11 -4.84847461e+11\n",
      "  -4.84847461e+11 -4.84847461e+11 -4.84847461e+11 -4.84847461e+11\n",
      "  -4.84847461e+11 -4.84847461e+11 -3.50666791e-02]]\n",
      "\n",
      "Intercept: \n",
      " [1.11150485e+11]\n",
      "\n",
      "R-squared:\n",
      "0.20979813712794185\n"
     ]
    }
   ],
   "source": [
    "print('\\nCoefficients: \\n', regr.coef_)\n",
    "print('\\nIntercept: \\n', regr.intercept_)\n",
    "print('\\nR-squared:')\n",
    "print(regr.score(X, Y))"
   ]
  },
  {
   "cell_type": "code",
   "execution_count": 206,
   "metadata": {},
   "outputs": [
    {
     "data": {
      "text/plain": [
       "RANSACRegressor(base_estimator=LinearRegression(copy_X=True, fit_intercept=True, n_jobs=1, normalize=False),\n",
       "        is_data_valid=None, is_model_valid=None, loss='absolute_loss',\n",
       "        max_skips=inf, max_trials=100, min_samples=None, random_state=None,\n",
       "        residual_metric=None, residual_threshold=None, stop_n_inliers=inf,\n",
       "        stop_probability=0.99, stop_score=inf)"
      ]
     },
     "execution_count": 206,
     "metadata": {},
     "output_type": "execute_result"
    }
   ],
   "source": [
    "ransac = linear_model.RANSACRegressor(base_estimator=linear_model.LinearRegression())\n",
    "Y = train['norm_AvgTone'].values.reshape(-1, 1)\n",
    "X = train[feature_columns]\n",
    "ransac.fit(X, Y)"
   ]
  },
  {
   "cell_type": "code",
   "execution_count": 261,
   "metadata": {},
   "outputs": [
    {
     "name": "stdout",
     "output_type": "stream",
     "text": [
      "\n",
      "R-squared:\n",
      "-1.1878379205463898\n"
     ]
    }
   ],
   "source": [
    "#print('\\nCoefficients: \\n', ransac.coef_)\n",
    "#print('\\nIntercept: \\n', ransac.intercept_)\n",
    "print('\\nR-squared:')\n",
    "print(ransac.score(X, Y))"
   ]
  },
  {
   "cell_type": "code",
   "execution_count": 207,
   "metadata": {},
   "outputs": [
    {
     "data": {
      "text/plain": [
       "array([ 0.41489874, -1.07088933, -0.32599356, ..., -0.4080762 ,\n",
       "        0.46218327, -0.00540991])"
      ]
     },
     "execution_count": 207,
     "metadata": {},
     "output_type": "execute_result"
    }
   ],
   "source": [
    "Y.ravel()"
   ]
  },
  {
   "cell_type": "code",
   "execution_count": 209,
   "metadata": {},
   "outputs": [
    {
     "name": "stdout",
     "output_type": "stream",
     "text": [
      "      Iter       Train Loss   Remaining Time \n",
      "         1           0.9874            1.83m\n",
      "         2           0.9772            1.79m\n",
      "         3           0.9660            1.92m\n",
      "         4           0.9580            1.86m\n",
      "         5           0.9508            1.82m\n",
      "         6           0.9424            1.80m\n",
      "         7           0.9363            1.76m\n",
      "         8           0.9296            1.75m\n",
      "         9           0.9234            1.73m\n",
      "        10           0.9179            1.71m\n",
      "        20           0.8822            1.50m\n",
      "        30           0.8643            1.30m\n",
      "        40           0.8529            1.11m\n",
      "        50           0.8449           55.13s\n",
      "        60           0.8386           43.88s\n",
      "        70           0.8334           32.87s\n",
      "        80           0.8292           21.80s\n",
      "        90           0.8254           10.88s\n",
      "       100           0.8220            0.00s\n"
     ]
    },
    {
     "data": {
      "text/plain": [
       "GradientBoostingRegressor(alpha=0.9, criterion='friedman_mse', init=None,\n",
       "             learning_rate=0.1, loss='ls', max_depth=2, max_features=None,\n",
       "             max_leaf_nodes=None, min_impurity_decrease=0.0,\n",
       "             min_impurity_split=None, min_samples_leaf=1,\n",
       "             min_samples_split=2, min_weight_fraction_leaf=0.0,\n",
       "             n_estimators=100, presort='auto', random_state=None,\n",
       "             subsample=1.0, verbose=True, warm_start=False)"
      ]
     },
     "execution_count": 209,
     "metadata": {},
     "output_type": "execute_result"
    }
   ],
   "source": [
    "from sklearn.ensemble import GradientBoostingRegressor\n",
    "gbr = GradientBoostingRegressor(max_depth=2, verbose=True)\n",
    "Y = train['norm_AvgTone']\n",
    "X = train[feature_columns]\n",
    "gbr.fit(X, Y)"
   ]
  },
  {
   "cell_type": "code",
   "execution_count": 210,
   "metadata": {},
   "outputs": [
    {
     "data": {
      "text/plain": [
       "0.17798947635006024"
      ]
     },
     "execution_count": 210,
     "metadata": {},
     "output_type": "execute_result"
    }
   ],
   "source": [
    "gbr.score(X, Y)"
   ]
  },
  {
   "cell_type": "code",
   "execution_count": 254,
   "metadata": {
    "collapsed": true
   },
   "outputs": [],
   "source": [
    "def compute_RSS(model, data, dependent):\n",
    "    predictions = model.predict(data)\n",
    "    squared_residuals = (dependent.values.reshape(-1, 1) - predictions) ** 2\n",
    "    return squared_residuals.sum()\n",
    "\n",
    "def compute_TSS(data, dependent):\n",
    "    return ((dependent.values.reshape(-1, 1) - dependent.values.reshape(-1, 1).mean()) ** 2).sum()\n",
    "\n",
    "def F_statistic(p, data, model):\n",
    "    n = len(data)\n",
    "    RSS = compute_RSS(model, data)\n",
    "    TSS = compute_TSS(data)\n",
    "    return ((TSS - RSS) / p) /\\\n",
    "            (RSS / (n - p - 1))"
   ]
  },
  {
   "cell_type": "code",
   "execution_count": 250,
   "metadata": {},
   "outputs": [
    {
     "data": {
      "text/plain": [
       "516754.7841342668"
      ]
     },
     "execution_count": 250,
     "metadata": {},
     "output_type": "execute_result"
    }
   ],
   "source": [
    "compute_RSS(regr, train[feature_columns], train['norm_AvgTone'])"
   ]
  },
  {
   "cell_type": "code",
   "execution_count": 251,
   "metadata": {},
   "outputs": [
    {
     "data": {
      "text/plain": [
       "1241031.7733438069"
      ]
     },
     "execution_count": 251,
     "metadata": {},
     "output_type": "execute_result"
    }
   ],
   "source": [
    "compute_RSS(ransac, train[feature_columns], train['norm_AvgTone'])"
   ]
  },
  {
   "cell_type": "code",
   "execution_count": 252,
   "metadata": {},
   "outputs": [
    {
     "data": {
      "text/plain": [
       "172924.72077743677"
      ]
     },
     "execution_count": 252,
     "metadata": {},
     "output_type": "execute_result"
    }
   ],
   "source": [
    "compute_RSS(regr, test[feature_columns], test['norm_AvgTone'])"
   ]
  },
  {
   "cell_type": "code",
   "execution_count": 253,
   "metadata": {},
   "outputs": [
    {
     "data": {
      "text/plain": [
       "414723.69992864854"
      ]
     },
     "execution_count": 253,
     "metadata": {},
     "output_type": "execute_result"
    }
   ],
   "source": [
    "compute_RSS(ransac, test[feature_columns], test['norm_AvgTone'])"
   ]
  },
  {
   "cell_type": "code",
   "execution_count": 257,
   "metadata": {},
   "outputs": [
    {
     "data": {
      "text/plain": [
       "0.21090464835551326"
      ]
     },
     "execution_count": 257,
     "metadata": {},
     "output_type": "execute_result"
    }
   ],
   "source": [
    "1 - compute_RSS(regr, train[feature_columns], train['norm_AvgTone'])/ \\\n",
    "    compute_TSS(train[feature_columns], train['norm_AvgTone'])"
   ]
  },
  {
   "cell_type": "code",
   "execution_count": 258,
   "metadata": {},
   "outputs": [
    {
     "data": {
      "text/plain": [
       "-0.8950814460853946"
      ]
     },
     "execution_count": 258,
     "metadata": {},
     "output_type": "execute_result"
    }
   ],
   "source": [
    "1 - compute_RSS(ransac, train[feature_columns], train['norm_AvgTone'])/ \\\n",
    "    compute_TSS(train[feature_columns], train['norm_AvgTone'])\n",
    "    \n",
    "# Well this is a weird outcome for R^2. Implies RSS is greater than TSS."
   ]
  },
  {
   "cell_type": "code",
   "execution_count": 263,
   "metadata": {
    "collapsed": true
   },
   "outputs": [],
   "source": [
    "gdelt_sample['AvgTone_Pos?'] = gdelt_sample['norm_AvgTone'] > 0"
   ]
  },
  {
   "cell_type": "code",
   "execution_count": 275,
   "metadata": {
    "collapsed": true
   },
   "outputs": [],
   "source": [
    "class_model_columns = list(one_hot_encoding.columns)\n",
    "class_model_columns.append('norm_NumMentions')\n",
    "feature_columns = class_model_columns.copy()\n",
    "class_model_columns.append('AvgTone_Pos?')"
   ]
  },
  {
   "cell_type": "code",
   "execution_count": 267,
   "metadata": {
    "collapsed": true
   },
   "outputs": [],
   "source": [
    "gdelt_sample_cm = gdelt_sample[class_model_columns]"
   ]
  },
  {
   "cell_type": "code",
   "execution_count": 271,
   "metadata": {
    "collapsed": true
   },
   "outputs": [],
   "source": [
    "class_train, class_test = train_test_split(gdelt_sample_cm, test_size=0.25, random_state=42)"
   ]
  },
  {
   "cell_type": "code",
   "execution_count": 277,
   "metadata": {},
   "outputs": [
    {
     "data": {
      "text/plain": [
       "BernoulliNB(alpha=1.0, binarize=0.0, class_prior=None, fit_prior=True)"
      ]
     },
     "execution_count": 277,
     "metadata": {},
     "output_type": "execute_result"
    }
   ],
   "source": [
    "bnb = BernoulliNB()\n",
    "bnb.fit(class_train[feature_columns], class_train['AvgTone_Pos?'])"
   ]
  },
  {
   "cell_type": "code",
   "execution_count": 279,
   "metadata": {},
   "outputs": [
    {
     "name": "stdout",
     "output_type": "stream",
     "text": [
      "0.3243213560066629\n"
     ]
    }
   ],
   "source": [
    "y_pred_train = bnb.predict(class_train[feature_columns])\n",
    "error_rate = (class_train['AvgTone_Pos?'] != y_pred_train).sum()\n",
    "print(error_rate/len(class_train))"
   ]
  },
  {
   "cell_type": "code",
   "execution_count": 280,
   "metadata": {},
   "outputs": [
    {
     "name": "stdout",
     "output_type": "stream",
     "text": [
      "0.32340464477748543\n"
     ]
    }
   ],
   "source": [
    "y_pred_test = bnb.predict(class_test[feature_columns])\n",
    "error_rate = (class_test['AvgTone_Pos?'] != y_pred_test).sum()\n",
    "print(error_rate/len(class_test))"
   ]
  },
  {
   "cell_type": "code",
   "execution_count": null,
   "metadata": {},
   "outputs": [],
   "source": []
  }
 ],
 "metadata": {
  "kernelspec": {
   "display_name": "Python 3",
   "language": "python",
   "name": "python3"
  },
  "language_info": {
   "codemirror_mode": {
    "name": "ipython",
    "version": 3
   },
   "file_extension": ".py",
   "mimetype": "text/x-python",
   "name": "python",
   "nbconvert_exporter": "python",
   "pygments_lexer": "ipython3",
   "version": "3.6.5"
  }
 },
 "nbformat": 4,
 "nbformat_minor": 2
}
