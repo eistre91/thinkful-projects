{
 "cells": [
  {
   "cell_type": "code",
   "execution_count": 40,
   "metadata": {},
   "outputs": [
    {
     "ename": "ImportError",
     "evalue": "cannot import name 'mem_usage'",
     "output_type": "error",
     "traceback": [
      "\u001b[1;31m---------------------------------------------------------------------------\u001b[0m",
      "\u001b[1;31mImportError\u001b[0m                               Traceback (most recent call last)",
      "\u001b[1;32m<ipython-input-40-58abb2b79fb1>\u001b[0m in \u001b[0;36m<module>\u001b[1;34m()\u001b[0m\n\u001b[0;32m      8\u001b[0m \u001b[0mget_ipython\u001b[0m\u001b[1;33m(\u001b[0m\u001b[1;33m)\u001b[0m\u001b[1;33m.\u001b[0m\u001b[0mrun_line_magic\u001b[0m\u001b[1;33m(\u001b[0m\u001b[1;34m'matplotlib'\u001b[0m\u001b[1;33m,\u001b[0m \u001b[1;34m'inline'\u001b[0m\u001b[1;33m)\u001b[0m\u001b[1;33m\u001b[0m\u001b[0m\n\u001b[0;32m      9\u001b[0m \u001b[1;33m\u001b[0m\u001b[0m\n\u001b[1;32m---> 10\u001b[1;33m \u001b[1;32mfrom\u001b[0m \u001b[0mGDELT_utils\u001b[0m \u001b[1;32mimport\u001b[0m \u001b[0mcolumns\u001b[0m\u001b[1;33m,\u001b[0m \u001b[0musecols\u001b[0m\u001b[1;33m,\u001b[0m \u001b[0mdtype_dict\u001b[0m\u001b[1;33m,\u001b[0m                         \u001b[0mcameo_dict\u001b[0m\u001b[1;33m,\u001b[0m \u001b[0mmap_cameo_to_text\u001b[0m\u001b[1;33m,\u001b[0m                         \u001b[0mstate_dict\u001b[0m\u001b[1;33m,\u001b[0m \u001b[0mmem_usage\u001b[0m\u001b[1;33m\u001b[0m\u001b[0m\n\u001b[0m",
      "\u001b[1;31mImportError\u001b[0m: cannot import name 'mem_usage'"
     ]
    }
   ],
   "source": [
    "import pandas as pd\n",
    "import numpy as np\n",
    "import matplotlib.pyplot as plt\n",
    "from mpl_toolkits.basemap import Basemap as Basemap\n",
    "from matplotlib.colors import rgb2hex, Normalize\n",
    "from matplotlib.patches import Polygon\n",
    "from matplotlib.colorbar import ColorbarBase\n",
    "%matplotlib inline\n",
    "\n",
    "from GDELT_utils import columns, usecols, dtype_dict, \\\n",
    "                        cameo_dict, map_cameo_to_text, \\\n",
    "                        state_dict, mem_usage"
   ]
  },
  {
   "cell_type": "markdown",
   "metadata": {},
   "source": [
    "# Introduction"
   ]
  },
  {
   "cell_type": "markdown",
   "metadata": {},
   "source": [
    "In this report we're going to take a look at a small sample of the data from the Global Data on Events, Location and Tone project, also known as GDELT. GDELT provides data on global events, storing such things as the type of the event, the actors involved, the location and the tone of news reporting on the event. It thus provides an abstract and data driven view of the world's affairs. It has been in operation since 2013, and has data available from January 1, 1979 to the present. \n",
    "\n",
    "For our sample of the GDELT data, we're going to take a look at the data avaiable for the USA's presidential election days in 2008 and 2016: November 4th, 2008 and November 8th, 2016. Our goal is to survey the data and gain the preliminary understanding before a deeper dive. \n",
    "\n",
    "We first load in row limited samples of our two datasets. Our first step is to understand the data types present and to optimize our dataframe size and speed."
   ]
  },
  {
   "cell_type": "code",
   "execution_count": 41,
   "metadata": {},
   "outputs": [
    {
     "data": {
      "text/html": [
       "<div>\n",
       "<style scoped>\n",
       "    .dataframe tbody tr th:only-of-type {\n",
       "        vertical-align: middle;\n",
       "    }\n",
       "\n",
       "    .dataframe tbody tr th {\n",
       "        vertical-align: top;\n",
       "    }\n",
       "\n",
       "    .dataframe thead th {\n",
       "        text-align: right;\n",
       "    }\n",
       "</style>\n",
       "<table border=\"1\" class=\"dataframe\">\n",
       "  <thead>\n",
       "    <tr style=\"text-align: right;\">\n",
       "      <th></th>\n",
       "      <th>596760615</th>\n",
       "      <th>20151109</th>\n",
       "      <th>201511</th>\n",
       "      <th>2015</th>\n",
       "      <th>2015.8466</th>\n",
       "      <th>Unnamed: 5</th>\n",
       "      <th>Unnamed: 6</th>\n",
       "      <th>Unnamed: 7</th>\n",
       "      <th>Unnamed: 8</th>\n",
       "      <th>Unnamed: 9</th>\n",
       "      <th>...</th>\n",
       "      <th>967537</th>\n",
       "      <th>3.1</th>\n",
       "      <th>Times Square, New York, United States.1</th>\n",
       "      <th>US.1</th>\n",
       "      <th>USNY.1</th>\n",
       "      <th>40.757.1</th>\n",
       "      <th>-73.986.1</th>\n",
       "      <th>967537.1</th>\n",
       "      <th>20161108</th>\n",
       "      <th>http://www.wsaw.com/content/news/Candidates-make-final-stops-on-Election-Day-eve-400321591.html</th>\n",
       "    </tr>\n",
       "  </thead>\n",
       "  <tbody>\n",
       "    <tr>\n",
       "      <th>0</th>\n",
       "      <td>596760616</td>\n",
       "      <td>20151109</td>\n",
       "      <td>201511</td>\n",
       "      <td>2015</td>\n",
       "      <td>2015.8466</td>\n",
       "      <td>NaN</td>\n",
       "      <td>NaN</td>\n",
       "      <td>NaN</td>\n",
       "      <td>NaN</td>\n",
       "      <td>NaN</td>\n",
       "      <td>...</td>\n",
       "      <td>1662328</td>\n",
       "      <td>3</td>\n",
       "      <td>Los Angeles, California, United States</td>\n",
       "      <td>US</td>\n",
       "      <td>USCA</td>\n",
       "      <td>34.0522</td>\n",
       "      <td>-118.2440</td>\n",
       "      <td>1662328</td>\n",
       "      <td>20161108</td>\n",
       "      <td>http://www.rollingstone.com/culture/news/jinx-...</td>\n",
       "    </tr>\n",
       "    <tr>\n",
       "      <th>1</th>\n",
       "      <td>596760617</td>\n",
       "      <td>20151109</td>\n",
       "      <td>201511</td>\n",
       "      <td>2015</td>\n",
       "      <td>2015.8466</td>\n",
       "      <td>AUT</td>\n",
       "      <td>AUSTRIAN</td>\n",
       "      <td>AUT</td>\n",
       "      <td>NaN</td>\n",
       "      <td>NaN</td>\n",
       "      <td>...</td>\n",
       "      <td>AU</td>\n",
       "      <td>1</td>\n",
       "      <td>Austria</td>\n",
       "      <td>AU</td>\n",
       "      <td>AU</td>\n",
       "      <td>47.3333</td>\n",
       "      <td>13.3333</td>\n",
       "      <td>AU</td>\n",
       "      <td>20161108</td>\n",
       "      <td>https://www.scmagazine.com/swiss-investigators...</td>\n",
       "    </tr>\n",
       "    <tr>\n",
       "      <th>2</th>\n",
       "      <td>596760618</td>\n",
       "      <td>20151109</td>\n",
       "      <td>201511</td>\n",
       "      <td>2015</td>\n",
       "      <td>2015.8466</td>\n",
       "      <td>AUT</td>\n",
       "      <td>AUSTRIAN</td>\n",
       "      <td>AUT</td>\n",
       "      <td>NaN</td>\n",
       "      <td>NaN</td>\n",
       "      <td>...</td>\n",
       "      <td>IR</td>\n",
       "      <td>1</td>\n",
       "      <td>Austria</td>\n",
       "      <td>AU</td>\n",
       "      <td>AU</td>\n",
       "      <td>47.3333</td>\n",
       "      <td>13.3333</td>\n",
       "      <td>AU</td>\n",
       "      <td>20161108</td>\n",
       "      <td>https://www.scmagazine.com/swiss-investigators...</td>\n",
       "    </tr>\n",
       "    <tr>\n",
       "      <th>3</th>\n",
       "      <td>596760619</td>\n",
       "      <td>20151109</td>\n",
       "      <td>201511</td>\n",
       "      <td>2015</td>\n",
       "      <td>2015.8466</td>\n",
       "      <td>AUTJUD</td>\n",
       "      <td>AUSTRIAN</td>\n",
       "      <td>AUT</td>\n",
       "      <td>NaN</td>\n",
       "      <td>NaN</td>\n",
       "      <td>...</td>\n",
       "      <td>AU</td>\n",
       "      <td>1</td>\n",
       "      <td>Austria</td>\n",
       "      <td>AU</td>\n",
       "      <td>AU</td>\n",
       "      <td>47.3333</td>\n",
       "      <td>13.3333</td>\n",
       "      <td>AU</td>\n",
       "      <td>20161108</td>\n",
       "      <td>https://www.scmagazine.com/swiss-investigators...</td>\n",
       "    </tr>\n",
       "    <tr>\n",
       "      <th>4</th>\n",
       "      <td>596760620</td>\n",
       "      <td>20151109</td>\n",
       "      <td>201511</td>\n",
       "      <td>2015</td>\n",
       "      <td>2015.8466</td>\n",
       "      <td>BWAELIGOV</td>\n",
       "      <td>FESTUS MOGAE</td>\n",
       "      <td>BWA</td>\n",
       "      <td>NaN</td>\n",
       "      <td>NaN</td>\n",
       "      <td>...</td>\n",
       "      <td>-1397372</td>\n",
       "      <td>4</td>\n",
       "      <td>Gaborone, South East, Botswana</td>\n",
       "      <td>BC</td>\n",
       "      <td>BC09</td>\n",
       "      <td>-24.6464</td>\n",
       "      <td>25.9119</td>\n",
       "      <td>-1397372</td>\n",
       "      <td>20161108</td>\n",
       "      <td>http://www.albuquerqueexpress.com/index.php/si...</td>\n",
       "    </tr>\n",
       "  </tbody>\n",
       "</table>\n",
       "<p>5 rows × 58 columns</p>\n",
       "</div>"
      ],
      "text/plain": [
       "   596760615  20151109  201511  2015  2015.8466 Unnamed: 5    Unnamed: 6  \\\n",
       "0  596760616  20151109  201511  2015  2015.8466        NaN           NaN   \n",
       "1  596760617  20151109  201511  2015  2015.8466        AUT      AUSTRIAN   \n",
       "2  596760618  20151109  201511  2015  2015.8466        AUT      AUSTRIAN   \n",
       "3  596760619  20151109  201511  2015  2015.8466     AUTJUD      AUSTRIAN   \n",
       "4  596760620  20151109  201511  2015  2015.8466  BWAELIGOV  FESTUS MOGAE   \n",
       "\n",
       "  Unnamed: 7  Unnamed: 8 Unnamed: 9  \\\n",
       "0        NaN         NaN        NaN   \n",
       "1        AUT         NaN        NaN   \n",
       "2        AUT         NaN        NaN   \n",
       "3        AUT         NaN        NaN   \n",
       "4        BWA         NaN        NaN   \n",
       "\n",
       "                                                ...                                                \\\n",
       "0                                               ...                                                 \n",
       "1                                               ...                                                 \n",
       "2                                               ...                                                 \n",
       "3                                               ...                                                 \n",
       "4                                               ...                                                 \n",
       "\n",
       "     967537  3.1 Times Square, New York, United States.1 US.1  USNY.1  \\\n",
       "0   1662328    3  Los Angeles, California, United States   US    USCA   \n",
       "1        AU    1                                 Austria   AU      AU   \n",
       "2        IR    1                                 Austria   AU      AU   \n",
       "3        AU    1                                 Austria   AU      AU   \n",
       "4  -1397372    4          Gaborone, South East, Botswana   BC    BC09   \n",
       "\n",
       "  40.757.1 -73.986.1  967537.1  20161108  \\\n",
       "0  34.0522 -118.2440   1662328  20161108   \n",
       "1  47.3333   13.3333        AU  20161108   \n",
       "2  47.3333   13.3333        AU  20161108   \n",
       "3  47.3333   13.3333        AU  20161108   \n",
       "4 -24.6464   25.9119  -1397372  20161108   \n",
       "\n",
       "  http://www.wsaw.com/content/news/Candidates-make-final-stops-on-Election-Day-eve-400321591.html  \n",
       "0  http://www.rollingstone.com/culture/news/jinx-...                                               \n",
       "1  https://www.scmagazine.com/swiss-investigators...                                               \n",
       "2  https://www.scmagazine.com/swiss-investigators...                                               \n",
       "3  https://www.scmagazine.com/swiss-investigators...                                               \n",
       "4  http://www.albuquerqueexpress.com/index.php/si...                                               \n",
       "\n",
       "[5 rows x 58 columns]"
      ]
     },
     "execution_count": 41,
     "metadata": {},
     "output_type": "execute_result"
    }
   ],
   "source": [
    "data_2008 = \"D:/GDELT.MASTERREDUCEDV2.1979-2013/200811.CSV\"\n",
    "data_2016 = \"D:/GDELT.MASTERREDUCEDV2.1979-2013/20161108.export.CSV\"\n",
    "\n",
    "df_2008_l = pd.read_csv(data_2008, sep='\\t', nrows=1000)\n",
    "df_2016_l = pd.read_csv(data_2016, sep='\\t', nrows=1000)\n",
    "\n",
    "df_2016_l.head()"
   ]
  },
  {
   "cell_type": "markdown",
   "metadata": {},
   "source": [
    "We already have a problem! The CSV's do not provide a header. With the documentation, we can determine that there are 58 columns for data after April 2013, and 57 before. With this, we can reload our dataframes properly."
   ]
  },
  {
   "cell_type": "code",
   "execution_count": 42,
   "metadata": {},
   "outputs": [],
   "source": [
    "df_2008_l = pd.read_csv(data_2008, sep='\\t', names=columns[:57], nrows=1000)\n",
    "df_2016_l = pd.read_csv(data_2016, sep='\\t', names=columns, nrows=1000)"
   ]
  },
  {
   "cell_type": "markdown",
   "metadata": {},
   "source": [
    "And now we can take a closer look at the data with the info method."
   ]
  },
  {
   "cell_type": "code",
   "execution_count": 43,
   "metadata": {},
   "outputs": [
    {
     "name": "stdout",
     "output_type": "stream",
     "text": [
      "<class 'pandas.core.frame.DataFrame'>\n",
      "RangeIndex: 1000 entries, 0 to 999\n",
      "Data columns (total 57 columns):\n",
      "GLOBALEVENTID            1000 non-null int64\n",
      "SQLDATE                  1000 non-null int64\n",
      "MonthYear                1000 non-null int64\n",
      "Year                     1000 non-null int64\n",
      "FractionDate             1000 non-null float64\n",
      "Actor1Code               0 non-null float64\n",
      "Actor1Name               0 non-null float64\n",
      "Actor1CountryCode        0 non-null float64\n",
      "Actor1KnownGroupCode     0 non-null float64\n",
      "Actor1EthnicCode         0 non-null float64\n",
      "Actor1Religion1Code      0 non-null float64\n",
      "Actor1Religion2Code      0 non-null float64\n",
      "Actor1Type1Code          0 non-null float64\n",
      "Actor1Type2Code          0 non-null float64\n",
      "Actor1Type3Code          0 non-null float64\n",
      "Actor2Code               1000 non-null object\n",
      "Actor2Name               1000 non-null object\n",
      "Actor2CountryCode        535 non-null object\n",
      "Actor2KnownGroupCode     12 non-null object\n",
      "Actor2EthnicCode         0 non-null float64\n",
      "Actor2Religion1Code      12 non-null object\n",
      "Actor2Religion2Code      2 non-null object\n",
      "Actor2Type1Code          508 non-null object\n",
      "Actor2Type2Code          13 non-null object\n",
      "Actor2Type3Code          1 non-null object\n",
      "IsRootEvent              1000 non-null int64\n",
      "EventCode                1000 non-null int64\n",
      "EventBaseCode            1000 non-null int64\n",
      "EventRootCode            1000 non-null int64\n",
      "QuadClass                1000 non-null int64\n",
      "GoldsteinScale           1000 non-null float64\n",
      "NumMentions              1000 non-null int64\n",
      "NumSources               1000 non-null int64\n",
      "NumArticles              1000 non-null int64\n",
      "AvgTone                  1000 non-null float64\n",
      "Actor1Geo_Type           0 non-null float64\n",
      "Actor1Geo_FullName       0 non-null float64\n",
      "Actor1Geo_CountryCode    0 non-null float64\n",
      "Actor1Geo_ADM1Code       0 non-null float64\n",
      "Actor1Geo_Lat            1000 non-null int64\n",
      "Actor1Geo_Long           1000 non-null int64\n",
      "Actor1Geo_FeatureID      1000 non-null int64\n",
      "Actor2Geo_Type           1000 non-null int64\n",
      "Actor2Geo_FullName       958 non-null object\n",
      "Actor2Geo_CountryCode    959 non-null object\n",
      "Actor2Geo_ADM1Code       959 non-null object\n",
      "Actor2Geo_Lat            1000 non-null float64\n",
      "Actor2Geo_Long           1000 non-null float64\n",
      "Actor2Geo_FeatureID      1000 non-null int64\n",
      "ActionGeo_Type           959 non-null float64\n",
      "ActionGeo_FullName       957 non-null object\n",
      "ActionGeo_CountryCode    959 non-null object\n",
      "ActionGeo_ADM1Code       959 non-null object\n",
      "ActionGeo_Lat            1000 non-null float64\n",
      "ActionGeo_Long           1000 non-null float64\n",
      "ActionGeo_FeatureID      875 non-null float64\n",
      "DATEADDED                1000 non-null int64\n",
      "dtypes: float64(24), int64(18), object(15)\n",
      "memory usage: 1.1 MB\n",
      "<class 'pandas.core.frame.DataFrame'>\n",
      "RangeIndex: 1000 entries, 0 to 999\n",
      "Data columns (total 58 columns):\n",
      "GLOBALEVENTID            1000 non-null int64\n",
      "SQLDATE                  1000 non-null int64\n",
      "MonthYear                1000 non-null int64\n",
      "Year                     1000 non-null int64\n",
      "FractionDate             1000 non-null float64\n",
      "Actor1Code               312 non-null object\n",
      "Actor1Name               312 non-null object\n",
      "Actor1CountryCode        267 non-null object\n",
      "Actor1KnownGroupCode     0 non-null float64\n",
      "Actor1EthnicCode         2 non-null object\n",
      "Actor1Religion1Code      2 non-null object\n",
      "Actor1Religion2Code      0 non-null float64\n",
      "Actor1Type1Code          92 non-null object\n",
      "Actor1Type2Code          6 non-null object\n",
      "Actor1Type3Code          0 non-null float64\n",
      "Actor2Code               935 non-null object\n",
      "Actor2Name               935 non-null object\n",
      "Actor2CountryCode        619 non-null object\n",
      "Actor2KnownGroupCode     6 non-null object\n",
      "Actor2EthnicCode         9 non-null object\n",
      "Actor2Religion1Code      4 non-null object\n",
      "Actor2Religion2Code      1 non-null object\n",
      "Actor2Type1Code          378 non-null object\n",
      "Actor2Type2Code          15 non-null object\n",
      "Actor2Type3Code          1 non-null object\n",
      "IsRootEvent              1000 non-null int64\n",
      "EventCode                1000 non-null int64\n",
      "EventBaseCode            1000 non-null int64\n",
      "EventRootCode            1000 non-null int64\n",
      "QuadClass                1000 non-null int64\n",
      "GoldsteinScale           1000 non-null float64\n",
      "NumMentions              1000 non-null int64\n",
      "NumSources               1000 non-null int64\n",
      "NumArticles              1000 non-null int64\n",
      "AvgTone                  1000 non-null float64\n",
      "Actor1Geo_Type           1000 non-null int64\n",
      "Actor1Geo_FullName       308 non-null object\n",
      "Actor1Geo_CountryCode    308 non-null object\n",
      "Actor1Geo_ADM1Code       308 non-null object\n",
      "Actor1Geo_Lat            308 non-null float64\n",
      "Actor1Geo_Long           308 non-null float64\n",
      "Actor1Geo_FeatureID      308 non-null object\n",
      "Actor2Geo_Type           1000 non-null int64\n",
      "Actor2Geo_FullName       892 non-null object\n",
      "Actor2Geo_CountryCode    892 non-null object\n",
      "Actor2Geo_ADM1Code       892 non-null object\n",
      "Actor2Geo_Lat            892 non-null float64\n",
      "Actor2Geo_Long           892 non-null float64\n",
      "Actor2Geo_FeatureID      892 non-null object\n",
      "ActionGeo_Type           1000 non-null int64\n",
      "ActionGeo_FullName       955 non-null object\n",
      "ActionGeo_CountryCode    955 non-null object\n",
      "ActionGeo_ADM1Code       955 non-null object\n",
      "ActionGeo_Lat            955 non-null float64\n",
      "ActionGeo_Long           955 non-null float64\n",
      "ActionGeo_FeatureID      955 non-null object\n",
      "DATEADDED                1000 non-null int64\n",
      "SOURCEURL                1000 non-null object\n",
      "dtypes: float64(12), int64(16), object(30)\n",
      "memory usage: 1.6 MB\n"
     ]
    }
   ],
   "source": [
    "df_2008_l.info(memory_usage='deep')\n",
    "df_2016_l.info(memory_usage='deep')"
   ]
  },
  {
   "cell_type": "markdown",
   "metadata": {},
   "source": [
    "By default, Pandas makes safe but space inefficient choices for value data types by always defaulting to int64/float64/object. We can improve memory consumption and load performance when making a dataframe out of the full CSV's by omitting any extra data that we are not interested in for our current analysis and, more importantly, by determining optimized data types for each column\n",
    "\n",
    "For the latter case, we note by looking at the [Data Format Codebook](http://data.gdeltproject.org/documentation/GDELT-Data_Format_Codebook.pdf) that there are multiple columns which encode dates in different ways. There are also DATEADDED and SOURCEURL fields, describing the date the record was added to the data set and the source of the news respectively, which will not have any bearing on our analysis. Thus we omit those columns. \n",
    "\n",
    "Next we look into appropriate data types. We first filter our dataframes for particular classes of types: integers/floats/objects. For the purposes of this report, we only follow the work on a single dataframe but the analysis has been applied to both."
   ]
  },
  {
   "cell_type": "code",
   "execution_count": 44,
   "metadata": {},
   "outputs": [
    {
     "data": {
      "text/plain": [
       "Index(['GLOBALEVENTID', 'SQLDATE', 'MonthYear', 'Year', 'IsRootEvent',\n",
       "       'EventCode', 'EventBaseCode', 'EventRootCode', 'QuadClass',\n",
       "       'NumMentions', 'NumSources', 'NumArticles', 'Actor1Geo_Lat',\n",
       "       'Actor1Geo_Long', 'Actor1Geo_FeatureID', 'Actor2Geo_Type',\n",
       "       'Actor2Geo_FeatureID', 'DATEADDED'],\n",
       "      dtype='object')"
      ]
     },
     "execution_count": 44,
     "metadata": {},
     "output_type": "execute_result"
    }
   ],
   "source": [
    "df_2008_l_int = df_2008_l.select_dtypes(include=['int64'])\n",
    "df_2008_l_int.columns"
   ]
  },
  {
   "cell_type": "markdown",
   "metadata": {},
   "source": [
    "We can then attempt to apply \"downcasting\" to these integer columns. That is, we can use a method of Pandas, to_numeric, to find the smallest size integer type which will support all values of the columns. The available types are int8, int16, int32 and int64, as well as unsigned variants (only positive numbers) uint8, uint16, uint32 and uint64. The numbers at the end of each type indicate the number of bits consumed in order to represent the data type, and thus smaller numbers correspond with smaller memory consumption. \n",
    "\n",
    "We also note that through inspection of the data documentation that all of these columns will have positive values. (We also find that some of these fields are not best represented as integers for the purposes of analysis, more on this below.) We now apply the downcasting into unsigned integer data types and show a comparison of memory usage."
   ]
  },
  {
   "cell_type": "code",
   "execution_count": 45,
   "metadata": {},
   "outputs": [
    {
     "name": "stdout",
     "output_type": "stream",
     "text": [
      "Before downcast:  0.14 MB\n",
      "After downcast:  0.04 MB\n",
      "Percent Decrease 0.7287617990005553\n"
     ]
    }
   ],
   "source": [
    "converted_int = df_2008_l_int.apply(pd.to_numeric,downcast='unsigned')\n",
    "\n",
    "num_before, str_before = mem_usage(df_2008_l_int)\n",
    "num_after, str_after = mem_usage(converted_int)\n",
    "\n",
    "print(\"Before downcast: \", str_before)\n",
    "print(\"After downcast: \", str_after)\n",
    "print(\"Percent Decrease\", 1 - num_after / num_before)"
   ]
  },
  {
   "cell_type": "markdown",
   "metadata": {},
   "source": [
    "We thus see a fairly remarkable 72% decrease of memory usage in this simple example. A similar process applies to float columns. The more involved data optimization involves the object columns, which includes string values. In some cases, there is nothing we can do. This generally applies when there are many unique string values in a column. However, if there are sufficient repeats, we can use a different numpy data type known as a category. \n",
    "\n",
    "This data type leverages a map-like structure to translate repeated strings into less memory intensive integers, and then covertly replaces the repeated values with these integers. The original values are then recoverable in this case by following the mapping. This can result in huge increases in memory efficiency. For a first pass, we apply a methodology present in our source for this memory optimization which replaces an object column with category if less than 50% of the values are unique."
   ]
  },
  {
   "cell_type": "code",
   "execution_count": 46,
   "metadata": {},
   "outputs": [
    {
     "data": {
      "text/plain": [
       "Index(['Actor2Code', 'Actor2Name', 'Actor2CountryCode', 'Actor2KnownGroupCode',\n",
       "       'Actor2Religion1Code', 'Actor2Religion2Code', 'Actor2Type1Code',\n",
       "       'Actor2Type2Code', 'Actor2Type3Code', 'Actor2Geo_FullName',\n",
       "       'Actor2Geo_CountryCode', 'Actor2Geo_ADM1Code', 'ActionGeo_FullName',\n",
       "       'ActionGeo_CountryCode', 'ActionGeo_ADM1Code'],\n",
       "      dtype='object')"
      ]
     },
     "execution_count": 46,
     "metadata": {},
     "output_type": "execute_result"
    }
   ],
   "source": [
    "df_2008_l_obj = df_2008_l.select_dtypes(include=['object'])\n",
    "df_2008_l_obj.columns"
   ]
  },
  {
   "cell_type": "code",
   "execution_count": 47,
   "metadata": {},
   "outputs": [
    {
     "name": "stdout",
     "output_type": "stream",
     "text": [
      "Before downcast:  0.74 MB\n",
      "After downcast:  0.24 MB\n",
      "Percent Decrease 0.675466344710465\n"
     ]
    }
   ],
   "source": [
    "converted_obj = pd.DataFrame()\n",
    "\n",
    "for col in df_2008_l_obj.columns:\n",
    "    num_unique_values = len(df_2008_l_obj[col].unique())\n",
    "    num_total_values = len(df_2008_l_obj[col])\n",
    "    if num_unique_values / num_total_values < 0.5:\n",
    "        converted_obj.loc[:,col] = df_2008_l_obj[col].astype('category')\n",
    "    else:\n",
    "        converted_obj.loc[:,col] = df_2008_l_obj[col]\n",
    "        \n",
    "num_before, str_before = mem_usage(df_2008_l_obj)\n",
    "num_after, str_after = mem_usage(converted_obj)\n",
    "\n",
    "print(\"Before downcast: \", str_before)\n",
    "print(\"After downcast: \", str_after)\n",
    "print(\"Percent Decrease\", 1 - num_after / num_before)"
   ]
  },
  {
   "cell_type": "markdown",
   "metadata": {},
   "source": [
    "We now collate the information revealed by these naive data type passes as well as our knowledge of the documentation to arrive at our final data types for the columns we wish to investigate."
   ]
  },
  {
   "cell_type": "code",
   "execution_count": 35,
   "metadata": {},
   "outputs": [
    {
     "data": {
      "text/plain": [
       "{'GLOBALEVENTID': 'uint32',\n",
       " 'Actor1Code': 'category',\n",
       " 'Actor1Name': 'str',\n",
       " 'Actor1CountryCode': 'category',\n",
       " 'Actor1KnownGroupCode': 'category',\n",
       " 'Actor1EthnicCode': 'category',\n",
       " 'Actor1Religion1Code': 'category',\n",
       " 'Actor1Religion2Code': 'category',\n",
       " 'Actor1Type1Code': 'category',\n",
       " 'Actor1Type2Code': 'category',\n",
       " 'Actor1Type3Code': 'category',\n",
       " 'Actor2Code': 'category',\n",
       " 'Actor2Name': 'str',\n",
       " 'Actor2CountryCode': 'category',\n",
       " 'Actor2KnownGroupCode': 'category',\n",
       " 'Actor2EthnicCode': 'category',\n",
       " 'Actor2Religion1Code': 'category',\n",
       " 'Actor2Religion2Code': 'category',\n",
       " 'Actor2Type1Code': 'category',\n",
       " 'Actor2Type2Code': 'category',\n",
       " 'Actor2Type3Code': 'category',\n",
       " 'IsRootEvent': 'bool_',\n",
       " 'EventCode': 'str',\n",
       " 'EventBaseCode': 'str',\n",
       " 'EventRootCode': 'str',\n",
       " 'QuadClass': 'uint8',\n",
       " 'GoldsteinScale': 'float32',\n",
       " 'AvgTone': 'float32',\n",
       " 'NumMentions': 'uint16',\n",
       " 'NumSources': 'uint16',\n",
       " 'NumArticles': 'uint16',\n",
       " 'Actor1Geo_Type': 'float16',\n",
       " 'Actor1Geo_FullName': 'str',\n",
       " 'Actor1Geo_CountryCode': 'category',\n",
       " 'Actor1Geo_ADM1Code': 'category',\n",
       " 'Actor1Geo_Lat': 'float32',\n",
       " 'Actor1Geo_Long': 'float32',\n",
       " 'Actor1Geo_FeatureID': 'category',\n",
       " 'Actor2Geo_Type': 'float16',\n",
       " 'Actor2Geo_FullName': 'str',\n",
       " 'Actor2Geo_CountryCode': 'category',\n",
       " 'Actor2Geo_ADM1Code': 'category',\n",
       " 'Actor2Geo_Lat': 'float32',\n",
       " 'Actor2Geo_Long': 'float32',\n",
       " 'Actor2Geo_FeatureID': 'category',\n",
       " 'ActionGeo_Type': 'float16',\n",
       " 'ActionGeo_FullName': 'str',\n",
       " 'ActionGeo_CountryCode': 'category',\n",
       " 'ActionGeo_ADM1Code': 'category',\n",
       " 'ActionGeo_Lat': 'float32',\n",
       " 'ActionGeo_Long': 'float32',\n",
       " 'ActionGeo_FeatureID': 'category'}"
      ]
     },
     "execution_count": 35,
     "metadata": {},
     "output_type": "execute_result"
    }
   ],
   "source": [
    "dtype_dict"
   ]
  },
  {
   "cell_type": "code",
   "execution_count": 48,
   "metadata": {},
   "outputs": [
    {
     "name": "stdout",
     "output_type": "stream",
     "text": [
      "Before downcast:  1.06 MB\n",
      "After downcast:  0.68 MB\n",
      "Percent Decrease 0.36238106842168205\n"
     ]
    }
   ],
   "source": [
    "df_2008_l_opti = pd.read_csv(data_2008, sep='\\t', names=columns[:57], \\\n",
    "                        usecols=usecols, dtype=dtype_dict, \\\n",
    "                        parse_dates=['SQLDATE'], nrows=1000)\n",
    "df_2016_l_opti = pd.read_csv(data_2016, sep='\\t', names=columns, \\\n",
    "                        usecols=usecols, dtype=dtype_dict, \\\n",
    "                        parse_dates=['SQLDATE'], nrows=1000)\n",
    "\n",
    "num_before, str_before = mem_usage(df_2008_l)\n",
    "num_after, str_after = mem_usage(df_2008_l_opti)\n",
    "\n",
    "print(\"Before downcast: \", str_before)\n",
    "print(\"After downcast: \", str_after)\n",
    "print(\"Percent Decrease\", 1 - num_after / num_before)"
   ]
  },
  {
   "cell_type": "markdown",
   "metadata": {},
   "source": [
    "In the end, with optimized data type choices that also take into consideration the type of analysis we wish to perform, we have a 36% reduction in memory usage for our limited samples. And note we can expect the memory savings to be even greater for the full data frames if we chose our category columns correctly!"
   ]
  },
  {
   "cell_type": "markdown",
   "metadata": {},
   "source": [
    "# Data Exploration"
   ]
  },
  {
   "cell_type": "markdown",
   "metadata": {},
   "source": [
    "# References and Data Sources"
   ]
  },
  {
   "cell_type": "code",
   "execution_count": null,
   "metadata": {},
   "outputs": [],
   "source": [
    "https://github.com/matplotlib/basemap/blob/master/examples/fillstates.py\n",
    "    \n",
    "https://stackoverflow.com/questions/39742305/how-to-use-basemap-python-to-plot-us-with-50-states\n",
    "    \n",
    "https://www.dataquest.io/blog/pandas-big-data/ \n",
    "    \n",
    "http://data.gdeltproject.org/documentation/GDELT-Data_Format_Codebook.pdf\n",
    "    \n",
    "https://www.gdeltproject.org/data.html\n",
    "    http://data.gdeltproject.org/events/200811.zip\n",
    "    http://data.gdeltproject.org/events/20161108.export.CSV.zip"
   ]
  }
 ],
 "metadata": {
  "kernelspec": {
   "display_name": "Python 3",
   "language": "python",
   "name": "python3"
  },
  "language_info": {
   "codemirror_mode": {
    "name": "ipython",
    "version": 3
   },
   "file_extension": ".py",
   "mimetype": "text/x-python",
   "name": "python",
   "nbconvert_exporter": "python",
   "pygments_lexer": "ipython3",
   "version": "3.6.5"
  }
 },
 "nbformat": 4,
 "nbformat_minor": 2
}
