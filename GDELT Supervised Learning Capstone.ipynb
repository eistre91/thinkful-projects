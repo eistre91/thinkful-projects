{
 "cells": [
  {
   "cell_type": "code",
   "execution_count": 37,
   "metadata": {
    "collapsed": true
   },
   "outputs": [],
   "source": [
    "import pandas as pd\n",
    "import numpy as np\n",
    "import matplotlib.pyplot as plt\n",
    "import seaborn as sns \n",
    "import csv\n",
    "from sklearn import preprocessing\n",
    "from sklearn.model_selection import train_test_split\n",
    "from sklearn.ensemble import GradientBoostingRegressor\n",
    "from sklearn.ensemble import RandomForestRegressor\n",
    "from sklearn.linear_model import Ridge\n",
    "from sklearn import tree\n",
    "from sklearn import svm\n",
    "from sklearn import linear_model\n",
    "from sklearn.base import clone\n",
    "%matplotlib inline\n",
    "\n",
    "from GDELT_utils import dtype_dict_for_tone, \\\n",
    "                        init_sample, ICM_INT_sample, ICM_SPEC_sample, \\\n",
    "                        train_naive, train_pared, \\\n",
    "                        train_pared_URARE, train_pared_UWEAK, country_info, \\\n",
    "                        map_rare, unify_rare_cats"
   ]
  },
  {
   "cell_type": "code",
   "execution_count": 2,
   "metadata": {
    "collapsed": true
   },
   "outputs": [],
   "source": [
    "gdelt = pd.read_csv(\"gdelt_agg_big.csv\",\n",
    "                    dtype=dtype_dict_for_tone,\n",
    "                   parse_dates=[\"SQLDATE\"])\n",
    "gdelt = gdelt.drop(labels=gdelt[(gdelt['EventRootCode'] == \"--\")].index)"
   ]
  },
  {
   "cell_type": "code",
   "execution_count": 3,
   "metadata": {
    "collapsed": true
   },
   "outputs": [],
   "source": [
    "example_samp = gdelt.sample(frac=.01)"
   ]
  },
  {
   "cell_type": "markdown",
   "metadata": {},
   "source": [
    "# Introduction"
   ]
  },
  {
   "cell_type": "markdown",
   "metadata": {},
   "source": [
    "In this report we're going to take a look at the data from the Global Data on Events, Location and Tone project, also known as GDELT. GDELT provides data on global events, storing such things as the type of the event, the actors involved, the location and the tone of documents that report on the event. It thus provides an abstract and data driven view of the world's affairs. It has been in operation since 2013, and has data available from January 1, 1979 to the present. For our sample of the data, we're focusing on a relatively arbitrary three month period of 2017 from May 1 to August 1.\n",
    "\n",
    "Our focus will be on building predictive models of the AvgTone information provided in the GDELT dataset. This column aggregates the average tone of the documents talking about the event which has been recorded in the data. This can give an overall tone of the narrative that has developed around an event. We will find that the relationships are highly non-linear and that decision trees and derived ensemble models based on them perform well. "
   ]
  },
  {
   "cell_type": "markdown",
   "metadata": {},
   "source": [
    "# Data Introduction"
   ]
  },
  {
   "cell_type": "markdown",
   "metadata": {},
   "source": [
    "The columns from the GDELT dataset that we have are focused on for building our models in addition to AvgTone are \"SQLDATE\", \"EventRootCode\", \"NumMentions\", \"Actor1CountryCode\", \"Actor1Type1Code\", \"Actor1Geo_CountryCode\", as well as these latter \"Actor1\" prefixed columns also having an \"Actor2\" variant. For the purposes of modeling, the mean of AvgTone was taken across records with the same \"SQLDATE\", \"Actor1CountryCode\", \"Actor2CountryCode\", \"Actor1Type1Code\", \"Actor2Type1Code\", \"Actor1Geo_CountryCode\", \"Actor2Geo_CountryCode\", and \"EventRootCode\". \"NumMentions\" was also averaged in this process."
   ]
  },
  {
   "cell_type": "markdown",
   "metadata": {},
   "source": [
    "The actor codes (except for the Geo fields) and EventRootCodes are encoded in the CAMEO code system. CAMEO codes capture the concept of \"two actors and the action performed by Actor1 upon Actor2.\" An overview of CAMEO codes can be found at [this link](https://www.gdeltproject.org/data/documentation/CAMEO.Manual.1.1b3.pdf). \n",
    "\n",
    "A brief description of the data columns follows, while a more exhaustive description can be found in the [GDELT Data Format Documentation](http://data.gdeltproject.org/documentation/GDELT-Data_Format_Codebook.pdf).\n",
    "* SQLDATE is an iso-encoded year, month and day. \n",
    "* EventRootCode is the root of the CAMEO code encoding the event. This is a very coarse understanding of the CAMEO event, indicating broad \"verbs\" of the action performed by Actor1 upon Actor2 like: \"Make Public Statement\", \"Appeal\", \"Demand\", \"Disapprove\", \"Protest\", \"Fight\", etc. Generally as the number increases, the verb indicates increasing degrees of aggression and violence, with 01 being \"Make a Public Statement\" and 20 being \"Engage in Unconventional Mass Violence.\"\n",
    "* Actor1CountryCode (Actor2CountryCode) codes the country affiliation of Actor1 (Actor2) as encoded in the CAMEO system.\n",
    "* Actor1Type1Code (Actor2Type1Code) codes the \"type\" or \"role\" of Actor1 (Actor2). This can be something specific such as \"Police Forces\" or more broad such as \"Refugees\" or \"Media\". \n",
    "* Actor1Geo_CountryCode (Actor2Geo_CountryCode) is an addition to the CAMEO system which encodes the location of Actor1 (Actor2) when performing the action.\n",
    "* NumMentions is the total number of mentions of the event across all source documents including multiple references within the same document. This can be used as a rough approximation of the \"importance\" and \"scale\" of an event.\n",
    "* AvgTone is the average \"tone\" of all documents containing one or more mentions of this event. The scores range from -100 (extremely negative) to +100 (extremely positive) while most values are between -10 and 10. This can also give a sense of the \"impact\" of an event, e.g. a riot with a small negative average tone is likely a minor occurrence, whereas with one with a large negative average tone is a more serious one. "
   ]
  },
  {
   "cell_type": "code",
   "execution_count": 4,
   "metadata": {},
   "outputs": [
    {
     "data": {
      "text/html": [
       "<div>\n",
       "<style scoped>\n",
       "    .dataframe tbody tr th:only-of-type {\n",
       "        vertical-align: middle;\n",
       "    }\n",
       "\n",
       "    .dataframe tbody tr th {\n",
       "        vertical-align: top;\n",
       "    }\n",
       "\n",
       "    .dataframe thead th {\n",
       "        text-align: right;\n",
       "    }\n",
       "</style>\n",
       "<table border=\"1\" class=\"dataframe\">\n",
       "  <thead>\n",
       "    <tr style=\"text-align: right;\">\n",
       "      <th></th>\n",
       "      <th>SQLDATE</th>\n",
       "      <th>Actor1CountryCode</th>\n",
       "      <th>Actor2CountryCode</th>\n",
       "      <th>Actor1Type1Code</th>\n",
       "      <th>Actor2Type1Code</th>\n",
       "      <th>Actor1Geo_CountryCode</th>\n",
       "      <th>Actor2Geo_CountryCode</th>\n",
       "      <th>EventRootCode</th>\n",
       "      <th>AVG(NumMentions)</th>\n",
       "      <th>AVG(AvgTone)</th>\n",
       "    </tr>\n",
       "  </thead>\n",
       "  <tbody>\n",
       "    <tr>\n",
       "      <th>34109</th>\n",
       "      <td>2017-05-01</td>\n",
       "      <td>AFG</td>\n",
       "      <td>AFG</td>\n",
       "      <td>COP</td>\n",
       "      <td>INS</td>\n",
       "      <td>AF</td>\n",
       "      <td>AF</td>\n",
       "      <td>19</td>\n",
       "      <td>14.6</td>\n",
       "      <td>-8.089026</td>\n",
       "    </tr>\n",
       "    <tr>\n",
       "      <th>34115</th>\n",
       "      <td>2017-05-01</td>\n",
       "      <td>AFG</td>\n",
       "      <td>AFG</td>\n",
       "      <td>ELI</td>\n",
       "      <td>INS</td>\n",
       "      <td>AF</td>\n",
       "      <td>AF</td>\n",
       "      <td>11</td>\n",
       "      <td>5.0</td>\n",
       "      <td>-3.412073</td>\n",
       "    </tr>\n",
       "    <tr>\n",
       "      <th>34128</th>\n",
       "      <td>2017-05-01</td>\n",
       "      <td>AFG</td>\n",
       "      <td>AFG</td>\n",
       "      <td>GOV</td>\n",
       "      <td>GOV</td>\n",
       "      <td>AF</td>\n",
       "      <td>AF</td>\n",
       "      <td>02</td>\n",
       "      <td>6.0</td>\n",
       "      <td>1.463415</td>\n",
       "    </tr>\n",
       "    <tr>\n",
       "      <th>34129</th>\n",
       "      <td>2017-05-01</td>\n",
       "      <td>AFG</td>\n",
       "      <td>AFG</td>\n",
       "      <td>GOV</td>\n",
       "      <td>GOV</td>\n",
       "      <td>AF</td>\n",
       "      <td>AF</td>\n",
       "      <td>03</td>\n",
       "      <td>16.0</td>\n",
       "      <td>-0.283871</td>\n",
       "    </tr>\n",
       "    <tr>\n",
       "      <th>34130</th>\n",
       "      <td>2017-05-01</td>\n",
       "      <td>AFG</td>\n",
       "      <td>AFG</td>\n",
       "      <td>GOV</td>\n",
       "      <td>GOV</td>\n",
       "      <td>AF</td>\n",
       "      <td>AF</td>\n",
       "      <td>04</td>\n",
       "      <td>6.0</td>\n",
       "      <td>1.844229</td>\n",
       "    </tr>\n",
       "  </tbody>\n",
       "</table>\n",
       "</div>"
      ],
      "text/plain": [
       "         SQLDATE Actor1CountryCode Actor2CountryCode Actor1Type1Code  \\\n",
       "34109 2017-05-01               AFG               AFG             COP   \n",
       "34115 2017-05-01               AFG               AFG             ELI   \n",
       "34128 2017-05-01               AFG               AFG             GOV   \n",
       "34129 2017-05-01               AFG               AFG             GOV   \n",
       "34130 2017-05-01               AFG               AFG             GOV   \n",
       "\n",
       "      Actor2Type1Code Actor1Geo_CountryCode Actor2Geo_CountryCode  \\\n",
       "34109             INS                    AF                    AF   \n",
       "34115             INS                    AF                    AF   \n",
       "34128             GOV                    AF                    AF   \n",
       "34129             GOV                    AF                    AF   \n",
       "34130             GOV                    AF                    AF   \n",
       "\n",
       "      EventRootCode  AVG(NumMentions)  AVG(AvgTone)  \n",
       "34109            19              14.6     -8.089026  \n",
       "34115            11               5.0     -3.412073  \n",
       "34128            02               6.0      1.463415  \n",
       "34129            03              16.0     -0.283871  \n",
       "34130            04               6.0      1.844229  "
      ]
     },
     "execution_count": 4,
     "metadata": {},
     "output_type": "execute_result"
    }
   ],
   "source": [
    "gdelt.dropna().head()"
   ]
  },
  {
   "cell_type": "markdown",
   "metadata": {},
   "source": [
    "We should get a general idea of the distribution of the variable we're attemping to predict."
   ]
  },
  {
   "cell_type": "code",
   "execution_count": 5,
   "metadata": {},
   "outputs": [
    {
     "ename": "NameError",
     "evalue": "name 'AvgTone' is not defined",
     "output_type": "error",
     "traceback": [
      "\u001b[1;31m---------------------------------------------------------------------------\u001b[0m",
      "\u001b[1;31mNameError\u001b[0m                                 Traceback (most recent call last)",
      "\u001b[1;32m<ipython-input-5-14049e61c457>\u001b[0m in \u001b[0;36m<module>\u001b[1;34m()\u001b[0m\n\u001b[0;32m      1\u001b[0m \u001b[0mgdelt\u001b[0m\u001b[1;33m[\u001b[0m\u001b[1;34m'AVG(AvgTone)'\u001b[0m\u001b[1;33m]\u001b[0m\u001b[1;33m.\u001b[0m\u001b[0mhist\u001b[0m\u001b[1;33m(\u001b[0m\u001b[0mbins\u001b[0m\u001b[1;33m=\u001b[0m\u001b[1;36m30\u001b[0m\u001b[1;33m)\u001b[0m\u001b[1;33m;\u001b[0m\u001b[1;33m\u001b[0m\u001b[0m\n\u001b[1;32m----> 2\u001b[1;33m \u001b[0mplt\u001b[0m\u001b[1;33m.\u001b[0m\u001b[0mxlabel\u001b[0m\u001b[1;33m(\u001b[0m\u001b[0mAvgTone\u001b[0m\u001b[1;33m)\u001b[0m\u001b[1;33m;\u001b[0m\u001b[1;33m\u001b[0m\u001b[0m\n\u001b[0m",
      "\u001b[1;31mNameError\u001b[0m: name 'AvgTone' is not defined"
     ]
    },
    {
     "data": {
      "image/png": "[encoded data removed]",
      "text/plain": [
       "<Figure size 432x288 with 1 Axes>"
      ]
     },
     "metadata": {},
     "output_type": "display_data"
    }
   ],
   "source": [
    "gdelt['AVG(AvgTone)'].hist(bins=30);\n",
    "plt.xlabel(\"AvgTone\");"
   ]
  },
  {
   "cell_type": "markdown",
   "metadata": {},
   "source": [
    "We see that it is approximately normal, with a minor left skew."
   ]
  },
  {
   "cell_type": "markdown",
   "metadata": {},
   "source": [
    "# Data Preparation and Feature Engineering"
   ]
  },
  {
   "cell_type": "markdown",
   "metadata": {},
   "source": [
    "As mentioned in the last section, the data has already been aggregated up to find means of our AvgTone and NumMentions columns. In this section we will explore the features of our dataset and consider various ways engineer them into more predictive features."
   ]
  },
  {
   "cell_type": "markdown",
   "metadata": {},
   "source": [
    "First, we look at NumMentions. We will find that this value has a large skew to it, with a majority of values being under 500."
   ]
  },
  {
   "cell_type": "code",
   "execution_count": null,
   "metadata": {
    "collapsed": true
   },
   "outputs": [],
   "source": [
    "gdelt['AVG(NumMentions)'].hist(bins=30);\n",
    "plt.xlabel(\"numMentions\");"
   ]
  },
  {
   "cell_type": "markdown",
   "metadata": {},
   "source": [
    "To help smooth this data, we will normalize it."
   ]
  },
  {
   "cell_type": "code",
   "execution_count": null,
   "metadata": {
    "collapsed": true
   },
   "outputs": [],
   "source": [
    "example_samp['norm_NumMentions'] = (example_samp['AVG(NumMentions)'] - example_samp['AVG(NumMentions)'].mean())/ \\\n",
    "                                        example_samp['AVG(NumMentions)'].std()"
   ]
  },
  {
   "cell_type": "code",
   "execution_count": null,
   "metadata": {
    "collapsed": true
   },
   "outputs": [],
   "source": [
    "example_samp['norm_NumMentions'].hist();"
   ]
  },
  {
   "cell_type": "markdown",
   "metadata": {},
   "source": [
    "Next, we explore the distribution of values in the country codes. To effectively visualize this, we first bin some of the rarer codes into their own label."
   ]
  },
  {
   "cell_type": "code",
   "execution_count": null,
   "metadata": {
    "collapsed": true
   },
   "outputs": [],
   "source": [
    "unify_rare_cats(example_samp, \"Actor1CountryCode\", .0075)"
   ]
  },
  {
   "cell_type": "code",
   "execution_count": null,
   "metadata": {
    "collapsed": true
   },
   "outputs": [],
   "source": [
    "example_samp['Actor1CountryCode_unify'].cat.remove_unused_categories() \\\n",
    "                            .value_counts().plot(kind=\"bar\");\n",
    "plt.xlabel(\"Country\")\n",
    "plt.ylabel(\"Occurrence Count\");"
   ]
  },
  {
   "cell_type": "markdown",
   "metadata": {},
   "source": [
    "We see that there are quite a few records without a known country code and that there is a large concentration of occurrences in relatively small percentage of the data. This makes sense, as we would expect places with more of a media presence to generate more exhaustive media coverage of events. It does indicate that we should be careful and generalizing a model over the entire dataset, in case that some features which are unique to a country are not present in others."
   ]
  },
  {
   "cell_type": "markdown",
   "metadata": {},
   "source": [
    "We repeat this analysis for our other categorical columns regarding Actor1 as well as EventRootCode. This procedure can also be repeated for Actor2 columns."
   ]
  },
  {
   "cell_type": "code",
   "execution_count": null,
   "metadata": {
    "collapsed": true
   },
   "outputs": [],
   "source": [
    "unify_rare_cats(example_samp, \"Actor1Type1Code\", .01)\n",
    "unify_rare_cats(example_samp, \"Actor1Geo_CountryCode\", .01)"
   ]
  },
  {
   "cell_type": "code",
   "execution_count": null,
   "metadata": {
    "collapsed": true
   },
   "outputs": [],
   "source": [
    "# Actor1Type1Code, Actor1Geo_CountryCode, EventRootCode\n",
    "fig, axs = plt.subplots(nrows=1, ncols=3, figsize=(20,5))\n",
    "\n",
    "plt.subplot(1, 3, 1)\n",
    "example_samp['Actor1Type1Code_unify'].cat.remove_unused_categories() \\\n",
    "                .value_counts().plot(kind='bar');\n",
    "plt.xlabel('Type Code');\n",
    "             \n",
    "plt.subplot(1, 3, 2)\n",
    "example_samp['Actor1Geo_CountryCode_unify'].cat.remove_unused_categories() \\\n",
    "                .value_counts().plot(kind='bar');\n",
    "plt.xlabel('Country');\n",
    "\n",
    "plt.subplot(1, 3, 3)\n",
    "example_samp['EventRootCode'].cat.remove_unused_categories() \\\n",
    "                .value_counts().plot(kind='bar');\n",
    "plt.xlabel('Event Root Code');"
   ]
  },
  {
   "cell_type": "markdown",
   "metadata": {},
   "source": [
    "We see in the type codes there are quite a few unknowns. Additionally GOV occurs quite often. For Actor1Geo_CountryCode, we see that a lot of actions take place within the United States, but it still pares in comparison to the total amount of actions that occur in countries which appear more rarely. Finally for the EventCodes, our five most common verbs are \"Consult\", \"Make Public Statement\", \"Engage in Diplomatic Cooperation\", \"Express Intent to Cooperate\", and \"Appeal\".\n",
    "\n",
    "So far, our investigation indicates that we have a lot of categorical columns with a lot of missing values. To handle them, we'll create dummy indicator values for each category which does come with the risk of a much higher dimension problem space. We'll also map any unknown values to the value \"UNK\" before training our models. \n",
    "\n",
    "There are some more sophisticated methods of dimensionality reduction we can try with our categories, like only preserving countries which have \"enough\" records, and mapping all others to \"OTHER\". We could also try a more sophisticated method of only preserving those countries which have a statistically significant and large AvgTone difference, as measured by taking the overall mean of all countries as the population mean, and measuring the deviance of a particular country from this mean. However, it turns out that neither of this methods do much to improve predictive accuracy, and so we do not discuss these any further in this report.\n",
    "\n",
    "What we do build our models on is rather simple. We partition our dataset out by \"Actor1CountryCode\", so for example, we build individual models for \"USA\" and \"GBR\". This helps to isolate us from the noise and/or conflicting signals that may arise from different characteristics of countries when involved in some action upon Actor2. \n",
    "\n",
    "If we want further dimensionality reduction, we can also consider \"Actor2CountryCode\" as reduced to whether Actor1 is the same as Actor2. What this means is the country of the actors was the same, and in sense the event was \"Internal\". This distinction appears to capture a lot of the variance contributed by the \"Actor2CountryCode\" column, but we will achieve higher accuracy including the full range of values. We have a lot of data, and so the dimensionality increase can be compensated for, at the expense of additional compute time.\n",
    "\n",
    "Finally, we will find that \"Actor1Geo_CountryCode\" and \"Actor2Geo_CountryCode\" appear to explain very little variance in the AvgTone, and so we will quickly omit those columns from our training. This will reduce some of the gain in dimensionality from including \"Actor2CountryCode\". "
   ]
  },
  {
   "cell_type": "markdown",
   "metadata": {},
   "source": [
    "# Model Exploration"
   ]
  },
  {
   "cell_type": "markdown",
   "metadata": {},
   "source": [
    "We first build a relatively small sample of our data to try initial quick model constructions to get an idea of their accuracy. The init_sample function drops the \"SQLDATE\" column, normalizes \"NumMentions\" as \"norm_NumMentions\" and drops the \"NumMentions\" column, and cleans our categories to omit unused categories.\n",
    "\n",
    "We distinguish between \"naive\" samples, which include all of the columns, and \"pared\" samples which omit the colums \"Actor1Geo_CountryCode\" and \"Actor2Geo_CountryCode\". In each set of samples, both naive and pared, we train models on the entire sample, the sample restricting \"Actor1CountryCode\" to \"USA\" and the sample restricting \"Actor1CountryCode\" and mapping \"Actor2CountryCode\" to the boolean of whether Actor1 is the same as Actor2."
   ]
  },
  {
   "cell_type": "code",
   "execution_count": 31,
   "metadata": {
    "collapsed": true
   },
   "outputs": [],
   "source": [
    "test_samp = init_sample(gdelt, .05)\n",
    "naive_samps = [(\"Naive Sample                               \", test_samp), \n",
    "               (\"Naive, Actor1CC = USA, Actor2CC -> Internal\", ICM_INT_sample(test_samp, 'USA')), \n",
    "               (\"Naive, Actor1CC = USA, Actor2CC Normal     \", ICM_SPEC_sample(test_samp, 'USA'))]\n",
    "pared_samps = [(\"Pared Sample                               \", test_samp), \n",
    "               (\"Pared, Actor1CC = USA, Actor2CC -> Internal\", ICM_INT_sample(test_samp, 'USA')), \n",
    "               (\"Pared, Actor1CC = USA, Actor2CC Normal     \", ICM_SPEC_sample(test_samp, 'USA'))]"
   ]
  },
  {
   "cell_type": "code",
   "execution_count": 44,
   "metadata": {
    "collapsed": true
   },
   "outputs": [],
   "source": [
    "def eval_model(model, samps, naive):\n",
    "    print(\"Sample Type                                \", \"Train Set Acc     \", \"Test Set Acc     \")\n",
    "    for samp_name, samp in naive_samps:\n",
    "        regr = clone(model)\n",
    "        if naive:\n",
    "            trs, tes, model, model_samp, _, _ = train_naive(samp, regr)\n",
    "        else:\n",
    "            trs, tes, model, model_samp, _, _ = train_pared(samp, regr)\n",
    "        print(samp_name, \"{:.{}f}           \".format(trs, 5), \"{:.{}f}\".format(tes, 5))    "
   ]
  },
  {
   "cell_type": "code",
   "execution_count": 45,
   "metadata": {},
   "outputs": [
    {
     "name": "stdout",
     "output_type": "stream",
     "text": [
      "Sample Type                                 Train Set Acc      Test Set Acc     \n",
      "Naive Sample                                0.28935            -3725595943.51249\n",
      "Naive, Actor1CC = USA, Actor2CC -> Internal 0.28388            -2756773909464481792.00000\n",
      "Naive, Actor1CC = USA, Actor2CC Normal      0.29809            -166159611733427617792.00000\n"
     ]
    }
   ],
   "source": [
    "eval_model(linear_model.LinearRegression(), naive_samps, True)"
   ]
  },
  {
   "cell_type": "code",
   "execution_count": 35,
   "metadata": {},
   "outputs": [
    {
     "name": "stdout",
     "output_type": "stream",
     "text": [
      "Sample Type                                 Train Set Acc      Test Set Acc     \n",
      "Naive Sample                                0.28933            0.28109\n",
      "Naive, Actor1CC = USA, Actor2CC -> Internal 0.28292            0.24440\n",
      "Naive, Actor1CC = USA, Actor2CC Normal      0.29632            0.24579\n"
     ]
    }
   ],
   "source": [
    "print(\"Sample Type                                \", \"Train Set Acc     \", \"Test Set Acc     \")\n",
    "for samp_name, samp in naive_samps:\n",
    "    regr = Ridge()\n",
    "    trs, tes, model, model_samp, _, _ = train_naive(samp, regr)\n",
    "    print(samp_name, \"{:.{}f}           \".format(trs, 5), \"{:.{}f}\".format(tes, 5))"
   ]
  },
  {
   "cell_type": "code",
   "execution_count": 36,
   "metadata": {},
   "outputs": [
    {
     "name": "stdout",
     "output_type": "stream",
     "text": [
      "Sample Type                                 Train Set Acc      Test Set Acc     \n",
      "Naive Sample                                0.28933            0.28109\n",
      "Naive, Actor1CC = USA, Actor2CC -> Internal 0.28292            0.24440\n",
      "Naive, Actor1CC = USA, Actor2CC Normal      0.29632            0.24579\n"
     ]
    }
   ],
   "source": [
    "print(\"Sample Type                                \", \"Train Set Acc     \", \"Test Set Acc     \")\n",
    "for samp_name, samp in naive_samps:\n",
    "    regr = Ridge()\n",
    "    trs, tes, model, model_samp, _, _ = train_pared(samp, regr)\n",
    "    print(samp_name, \"{:.{}f}           \".format(trs, 5), \"{:.{}f}\".format(tes, 5))"
   ]
  },
  {
   "cell_type": "code",
   "execution_count": 6,
   "metadata": {},
   "outputs": [
    {
     "name": "stdout",
     "output_type": "stream",
     "text": [
      "0 0.19628313861021374 0.17333226567732452\n",
      "1 0.24202593211236478 0.09858590555389501\n",
      "2 0.24261801641111336 0.12471991794039627\n"
     ]
    }
   ],
   "source": [
    "good1, good1_samp = None, None\n",
    "dt = None\n",
    "for idx, samp in enumerate(naive_samps):\n",
    "    dt = tree.DecisionTreeRegressor(max_depth=10)\n",
    "    trs, tes, model, model_samp, _, _ = train_naive(samp, dt)\n",
    "    print(idx, trs, tes)\n",
    "    if idx == 3:\n",
    "        good1, good1_samp = model, model_samp"
   ]
  },
  {
   "cell_type": "code",
   "execution_count": 7,
   "metadata": {},
   "outputs": [
    {
     "name": "stdout",
     "output_type": "stream",
     "text": [
      "0 0.19628313861021374 0.1714599469965984\n",
      "1 0.24202593211236467 0.10263845201368149\n",
      "2 0.24261801641111336 0.11067761063503523\n"
     ]
    }
   ],
   "source": [
    "good2, good2_samp = None, None\n",
    "dt = None\n",
    "for idx, samp in enumerate(pared_samps):\n",
    "    dt = tree.DecisionTreeRegressor(max_depth=10)\n",
    "    trs, tes, model, model_samp, _, _ = train_pared(samp, dt)\n",
    "    print(idx, trs, tes)\n",
    "    if idx == 1:\n",
    "        good2, good2_samp = model, model_samp"
   ]
  },
  {
   "cell_type": "code",
   "execution_count": 8,
   "metadata": {},
   "outputs": [
    {
     "name": "stdout",
     "output_type": "stream",
     "text": [
      "[LibSVM]"
     ]
    },
    {
     "name": "stderr",
     "output_type": "stream",
     "text": [
      "C:\\Users\\e.istre91\\Anaconda3\\lib\\site-packages\\sklearn\\svm\\base.py:218: ConvergenceWarning: Solver terminated early (max_iter=100).  Consider pre-processing your data with StandardScaler or MinMaxScaler.\n",
      "  % self.max_iter, ConvergenceWarning)\n"
     ]
    },
    {
     "name": "stdout",
     "output_type": "stream",
     "text": [
      "0 -0.454002971516422 -0.4223393579632764\n",
      "[LibSVM]1 -0.44213988964612394 -0.5115034390914042\n",
      "[LibSVM]2 -0.3823166895529788 -0.44419578495544143\n"
     ]
    }
   ],
   "source": [
    "good1, good1_samp = None, None\n",
    "sv = svm.SVR()\n",
    "for idx, samp in enumerate(naive_samps):\n",
    "    sv = svm.SVR(max_iter=100, verbose=True)\n",
    "    trs, tes, model, model_samp, _, _ = train_naive(samp, sv)\n",
    "    print(idx, trs, tes)\n",
    "    if idx == 3:\n",
    "        good1, good1_samp = model, model_samp"
   ]
  },
  {
   "cell_type": "code",
   "execution_count": 9,
   "metadata": {},
   "outputs": [
    {
     "name": "stdout",
     "output_type": "stream",
     "text": [
      "[LibSVM]"
     ]
    },
    {
     "name": "stderr",
     "output_type": "stream",
     "text": [
      "C:\\Users\\e.istre91\\Anaconda3\\lib\\site-packages\\sklearn\\svm\\base.py:218: ConvergenceWarning: Solver terminated early (max_iter=100).  Consider pre-processing your data with StandardScaler or MinMaxScaler.\n",
      "  % self.max_iter, ConvergenceWarning)\n"
     ]
    },
    {
     "name": "stdout",
     "output_type": "stream",
     "text": [
      "0 -0.454002971516422 -0.4223393579632764\n",
      "[LibSVM]1 -0.44213988964612394 -0.5115034390914042\n",
      "[LibSVM]2 -0.3823166895529788 -0.44419578495544143\n"
     ]
    }
   ],
   "source": [
    "good2, good2_samp = None, None\n",
    "sv = svm.SVR()\n",
    "for idx, samp in enumerate(pared_samps):\n",
    "    sv = svm.SVR(max_iter=100, verbose=True)\n",
    "    trs, tes, model, model_samp, _, _ = train_pared(samp, sv)\n",
    "    print(idx, trs, tes)\n",
    "    if idx == 1:\n",
    "        good2, good2_samp = model, model_samp"
   ]
  },
  {
   "cell_type": "code",
   "execution_count": 10,
   "metadata": {},
   "outputs": [
    {
     "name": "stderr",
     "output_type": "stream",
     "text": [
      "[Parallel(n_jobs=1)]: Done  10 out of  10 | elapsed:    8.6s finished\n",
      "[Parallel(n_jobs=1)]: Done  10 out of  10 | elapsed:    0.0s finished\n",
      "[Parallel(n_jobs=1)]: Done  10 out of  10 | elapsed:    0.0s finished\n"
     ]
    },
    {
     "name": "stdout",
     "output_type": "stream",
     "text": [
      "0 0.1655744505235709 0.16198411512635835\n"
     ]
    },
    {
     "name": "stderr",
     "output_type": "stream",
     "text": [
      "[Parallel(n_jobs=1)]: Done  10 out of  10 | elapsed:    0.2s finished\n",
      "[Parallel(n_jobs=1)]: Done  10 out of  10 | elapsed:    0.0s finished\n",
      "[Parallel(n_jobs=1)]: Done  10 out of  10 | elapsed:    0.0s finished\n"
     ]
    },
    {
     "name": "stdout",
     "output_type": "stream",
     "text": [
      "1 0.21574198239401157 0.1468327130307373\n",
      "2 0.20140454001248886 0.13759870508931737\n"
     ]
    },
    {
     "name": "stderr",
     "output_type": "stream",
     "text": [
      "[Parallel(n_jobs=1)]: Done  10 out of  10 | elapsed:    0.3s finished\n",
      "[Parallel(n_jobs=1)]: Done  10 out of  10 | elapsed:    0.0s finished\n",
      "[Parallel(n_jobs=1)]: Done  10 out of  10 | elapsed:    0.0s finished\n"
     ]
    }
   ],
   "source": [
    "good1, good1_samp = None, None\n",
    "rfc = None\n",
    "for idx, samp in enumerate(naive_samps):\n",
    "    rfc = RandomForestRegressor(max_depth=7)\n",
    "    trs, tes, model, model_samp, _, _ = train_naive(samp, rfc)\n",
    "    print(idx, trs, tes)\n",
    "    if idx == 3:\n",
    "        good1, good1_samp = model, model_samp"
   ]
  },
  {
   "cell_type": "code",
   "execution_count": 11,
   "metadata": {},
   "outputs": [
    {
     "name": "stderr",
     "output_type": "stream",
     "text": [
      "[Parallel(n_jobs=1)]: Done  10 out of  10 | elapsed:    8.5s finished\n",
      "[Parallel(n_jobs=1)]: Done  10 out of  10 | elapsed:    0.0s finished\n",
      "[Parallel(n_jobs=1)]: Done  10 out of  10 | elapsed:    0.0s finished\n"
     ]
    },
    {
     "name": "stdout",
     "output_type": "stream",
     "text": [
      "0 0.16053020778765137 0.15710196510214047\n"
     ]
    },
    {
     "name": "stderr",
     "output_type": "stream",
     "text": [
      "[Parallel(n_jobs=1)]: Done  10 out of  10 | elapsed:    0.2s finished\n",
      "[Parallel(n_jobs=1)]: Done  10 out of  10 | elapsed:    0.0s finished\n",
      "[Parallel(n_jobs=1)]: Done  10 out of  10 | elapsed:    0.0s finished\n"
     ]
    },
    {
     "name": "stdout",
     "output_type": "stream",
     "text": [
      "1 0.20581983798824355 0.13761248176145313\n",
      "2 0.22066372691273872 0.14977551370050413\n"
     ]
    },
    {
     "name": "stderr",
     "output_type": "stream",
     "text": [
      "[Parallel(n_jobs=1)]: Done  10 out of  10 | elapsed:    0.3s finished\n",
      "[Parallel(n_jobs=1)]: Done  10 out of  10 | elapsed:    0.0s finished\n",
      "[Parallel(n_jobs=1)]: Done  10 out of  10 | elapsed:    0.0s finished\n"
     ]
    }
   ],
   "source": [
    "good2, good2_samp = None, None\n",
    "rfc = None\n",
    "for idx, samp in enumerate(pared_samps):\n",
    "    rfc = RandomForestRegressor(max_depth=7)\n",
    "    trs, tes, model, model_samp, _, _ = train_pared(samp, rfc)\n",
    "    print(idx, trs, tes)\n",
    "    if idx == 1:\n",
    "        good2, good2_samp = model, model_samp"
   ]
  },
  {
   "cell_type": "code",
   "execution_count": 17,
   "metadata": {},
   "outputs": [
    {
     "name": "stdout",
     "output_type": "stream",
     "text": [
      "0 0.23693303395193144 0.2307851373215999 56.33863711357117\n",
      "1 0.29205056078009284 0.18654139472884368 2.336773633956909\n",
      "2 0.29598994599450845 0.1983531069384752 2.7521584033966064\n"
     ]
    }
   ],
   "source": [
    "good1, good1_samp = None, None\n",
    "gbr = None\n",
    "for idx, samp in enumerate(naive_samps):\n",
    "    gbr = GradientBoostingRegressor()\n",
    "    start_time = time.time()\n",
    "    trs, tes, model, model_samp, _, _ = train_naive(samp, gbr)\n",
    "    print(idx, trs, tes, time.time() - start_time)"
   ]
  },
  {
   "cell_type": "code",
   "execution_count": 19,
   "metadata": {},
   "outputs": [
    {
     "name": "stdout",
     "output_type": "stream",
     "text": [
      "0 0.23693303395193144 0.23064582472679152 54.702860832214355\n",
      "1 0.29205056078009284 0.18614356662086418 1.967256784439087\n",
      "2 0.29598994599450845 0.19967377650362672 2.687342643737793\n"
     ]
    }
   ],
   "source": [
    "good2, good2_samp = None, None\n",
    "gbr = None\n",
    "for idx, samp in enumerate(pared_samps):\n",
    "    gbr = GradientBoostingRegressor()\n",
    "    start_time = time.time()\n",
    "    trs, tes, model, model_samp, _, _ = train_pared(samp, gbr)\n",
    "    print(idx, trs, tes, time.time() - start_time)"
   ]
  },
  {
   "cell_type": "code",
   "execution_count": 14,
   "metadata": {
    "collapsed": true
   },
   "outputs": [],
   "source": [
    "countries = list(test_samp['Actor1CountryCode'].value_counts().index)\n",
    "small_list = countries[:5]\n",
    "ICM_INT_samps = []\n",
    "ICM_SPEC_samps = []\n",
    "\n",
    "for country in small_list:\n",
    "    ICM_INT_samps.append(ICM_INT_sample(test_samp, country))\n",
    "    ICM_SPEC_samps.append(ICM_SPEC_sample(test_samp, country))"
   ]
  },
  {
   "cell_type": "markdown",
   "metadata": {},
   "source": [
    "Interpretable Results"
   ]
  },
  {
   "cell_type": "markdown",
   "metadata": {},
   "source": [
    "Future Work"
   ]
  },
  {
   "cell_type": "markdown",
   "metadata": {},
   "source": [
    "How to Use"
   ]
  }
 ],
 "metadata": {
  "kernelspec": {
   "display_name": "Python [default]",
   "language": "python",
   "name": "python3"
  },
  "language_info": {
   "codemirror_mode": {
    "name": "ipython",
    "version": 3
   },
   "file_extension": ".py",
   "mimetype": "text/x-python",
   "name": "python",
   "nbconvert_exporter": "python",
   "pygments_lexer": "ipython3",
   "version": "3.6.2"
  }
 },
 "nbformat": 4,
 "nbformat_minor": 2
}
