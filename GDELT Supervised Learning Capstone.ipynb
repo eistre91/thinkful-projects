{
 "cells": [
  {
   "cell_type": "code",
   "execution_count": 1,
   "metadata": {},
   "outputs": [],
   "source": [
    "import pandas as pd\n",
    "import numpy as np\n",
    "import matplotlib.pyplot as plt\n",
    "import seaborn as sns \n",
    "import csv\n",
    "from sklearn import preprocessing\n",
    "from sklearn.model_selection import train_test_split\n",
    "from sklearn.ensemble import GradientBoostingRegressor\n",
    "from sklearn.ensemble import RandomForestRegressor\n",
    "from sklearn.linear_model import Ridge\n",
    "from sklearn.linear_model import Lasso\n",
    "from sklearn import tree\n",
    "from sklearn import svm\n",
    "from sklearn import linear_model\n",
    "from sklearn.base import clone\n",
    "import time\n",
    "%matplotlib inline\n",
    "\n",
    "import warnings\n",
    "warnings.filterwarnings('ignore')\n",
    "# warnings.filterwarnings(action='once')\n",
    "\n",
    "from GDELT_utils import dtype_dict_for_tone, \\\n",
    "                        init_sample, ICM_INT_sample, ICM_SPEC_sample, \\\n",
    "                        train_naive, train_pared, \\\n",
    "                        train_pared_URARE, train_pared_UWEAK, country_info, \\\n",
    "                        map_rare, unify_rare_cats"
   ]
  },
  {
   "cell_type": "code",
   "execution_count": 2,
   "metadata": {},
   "outputs": [],
   "source": [
    "gdelt = pd.read_csv(\"gdelt_agg_big.csv\",\n",
    "                    dtype=dtype_dict_for_tone,\n",
    "                   parse_dates=[\"SQLDATE\"])\n",
    "gdelt = gdelt.drop(labels=gdelt[(gdelt['EventRootCode'] == \"--\")].index)"
   ]
  },
  {
   "cell_type": "code",
   "execution_count": 3,
   "metadata": {},
   "outputs": [],
   "source": [
    "example_samp = gdelt.sample(frac=.01)"
   ]
  },
  {
   "cell_type": "markdown",
   "metadata": {},
   "source": [
    "# Introduction"
   ]
  },
  {
   "cell_type": "markdown",
   "metadata": {},
   "source": [
    "In this report we're going to take a look at the data from the Global Data on Events, Location and Tone project, also known as GDELT. GDELT provides data on global events, storing such things as the type of the event, the actors involved, the location and the tone of documents that report on the event. It thus provides an abstract and data driven view of the world's affairs. It has been in operation since 2013, and has data available from January 1, 1979 to the present. For our sample of the data, we're focusing on a relatively arbitrary three month period of 2017 from May 1 to August 1.\n",
    "\n",
    "Our focus will be on building predictive models of the AvgTone information provided in the GDELT dataset. This column aggregates the average tone of the documents talking about the event which has been recorded in the data. This can give an overall tone of the narrative that has developed around an event. We will find that the relationships are highly non-linear and that decision trees and derived ensemble models based on them perform well. "
   ]
  },
  {
   "cell_type": "markdown",
   "metadata": {},
   "source": [
    "# Data Introduction"
   ]
  },
  {
   "cell_type": "markdown",
   "metadata": {},
   "source": [
    "The columns from the GDELT dataset that we have are focused on for building our models in addition to AvgTone are \"SQLDATE\", \"EventRootCode\", \"NumMentions\", \"Actor1CountryCode\", \"Actor1Type1Code\", \"Actor1Geo_CountryCode\", as well as these latter \"Actor1\" prefixed columns also having an \"Actor2\" variant. For the purposes of modeling, the mean of AvgTone was taken across records with the same \"SQLDATE\", \"Actor1CountryCode\", \"Actor2CountryCode\", \"Actor1Type1Code\", \"Actor2Type1Code\", \"Actor1Geo_CountryCode\", \"Actor2Geo_CountryCode\", and \"EventRootCode\". \"NumMentions\" was also averaged in this process."
   ]
  },
  {
   "cell_type": "markdown",
   "metadata": {},
   "source": [
    "The actor codes (except for the Geo fields) and EventRootCodes are encoded in the CAMEO code system. CAMEO codes capture the concept of \"two actors and the action performed by Actor1 upon Actor2.\" An overview of CAMEO codes can be found at [this link](https://www.gdeltproject.org/data/documentation/CAMEO.Manual.1.1b3.pdf). \n",
    "\n",
    "A brief description of the data columns follows, while a more exhaustive description can be found in the [GDELT Data Format Documentation](http://data.gdeltproject.org/documentation/GDELT-Data_Format_Codebook.pdf).\n",
    "* SQLDATE is an iso-encoded year, month and day. \n",
    "* EventRootCode is the root of the CAMEO code encoding the event. This is a very coarse understanding of the CAMEO event, indicating broad \"verbs\" of the action performed by Actor1 upon Actor2 like: \"Make Public Statement\", \"Appeal\", \"Demand\", \"Disapprove\", \"Protest\", \"Fight\", etc. Generally as the number increases, the verb indicates increasing degrees of aggression and violence, with 01 being \"Make a Public Statement\" and 20 being \"Engage in Unconventional Mass Violence.\"\n",
    "* Actor1CountryCode (Actor2CountryCode) codes the country affiliation of Actor1 (Actor2) as encoded in the CAMEO system.\n",
    "* Actor1Type1Code (Actor2Type1Code) codes the \"type\" or \"role\" of Actor1 (Actor2). This can be something specific such as \"Police Forces\" or more broad such as \"Refugees\" or \"Media\". \n",
    "* Actor1Geo_CountryCode (Actor2Geo_CountryCode) is an addition to the CAMEO system which encodes the location of Actor1 (Actor2) when performing the action.\n",
    "* NumMentions is the total number of mentions of the event across all source documents including multiple references within the same document. This can be used as a rough approximation of the \"importance\" and \"scale\" of an event.\n",
    "* AvgTone is the average \"tone\" of all documents containing one or more mentions of this event. The scores range from -100 (extremely negative) to +100 (extremely positive) while most values are between -10 and 10. This can also give a sense of the \"impact\" of an event, e.g. a riot with a small negative average tone is likely a minor occurrence, whereas with one with a large negative average tone is a more serious one. "
   ]
  },
  {
   "cell_type": "code",
   "execution_count": 4,
   "metadata": {},
   "outputs": [
    {
     "data": {
      "text/html": [
       "<div>\n",
       "<style scoped>\n",
       "    .dataframe tbody tr th:only-of-type {\n",
       "        vertical-align: middle;\n",
       "    }\n",
       "\n",
       "    .dataframe tbody tr th {\n",
       "        vertical-align: top;\n",
       "    }\n",
       "\n",
       "    .dataframe thead th {\n",
       "        text-align: right;\n",
       "    }\n",
       "</style>\n",
       "<table border=\"1\" class=\"dataframe\">\n",
       "  <thead>\n",
       "    <tr style=\"text-align: right;\">\n",
       "      <th></th>\n",
       "      <th>SQLDATE</th>\n",
       "      <th>Actor1CountryCode</th>\n",
       "      <th>Actor2CountryCode</th>\n",
       "      <th>Actor1Type1Code</th>\n",
       "      <th>Actor2Type1Code</th>\n",
       "      <th>Actor1Geo_CountryCode</th>\n",
       "      <th>Actor2Geo_CountryCode</th>\n",
       "      <th>EventRootCode</th>\n",
       "      <th>AVG(NumMentions)</th>\n",
       "      <th>AVG(AvgTone)</th>\n",
       "    </tr>\n",
       "  </thead>\n",
       "  <tbody>\n",
       "    <tr>\n",
       "      <th>34109</th>\n",
       "      <td>2017-05-01</td>\n",
       "      <td>AFG</td>\n",
       "      <td>AFG</td>\n",
       "      <td>COP</td>\n",
       "      <td>INS</td>\n",
       "      <td>AF</td>\n",
       "      <td>AF</td>\n",
       "      <td>19</td>\n",
       "      <td>14.6</td>\n",
       "      <td>-8.089026</td>\n",
       "    </tr>\n",
       "    <tr>\n",
       "      <th>34115</th>\n",
       "      <td>2017-05-01</td>\n",
       "      <td>AFG</td>\n",
       "      <td>AFG</td>\n",
       "      <td>ELI</td>\n",
       "      <td>INS</td>\n",
       "      <td>AF</td>\n",
       "      <td>AF</td>\n",
       "      <td>11</td>\n",
       "      <td>5.0</td>\n",
       "      <td>-3.412073</td>\n",
       "    </tr>\n",
       "    <tr>\n",
       "      <th>34128</th>\n",
       "      <td>2017-05-01</td>\n",
       "      <td>AFG</td>\n",
       "      <td>AFG</td>\n",
       "      <td>GOV</td>\n",
       "      <td>GOV</td>\n",
       "      <td>AF</td>\n",
       "      <td>AF</td>\n",
       "      <td>02</td>\n",
       "      <td>6.0</td>\n",
       "      <td>1.463415</td>\n",
       "    </tr>\n",
       "    <tr>\n",
       "      <th>34129</th>\n",
       "      <td>2017-05-01</td>\n",
       "      <td>AFG</td>\n",
       "      <td>AFG</td>\n",
       "      <td>GOV</td>\n",
       "      <td>GOV</td>\n",
       "      <td>AF</td>\n",
       "      <td>AF</td>\n",
       "      <td>03</td>\n",
       "      <td>16.0</td>\n",
       "      <td>-0.283871</td>\n",
       "    </tr>\n",
       "    <tr>\n",
       "      <th>34130</th>\n",
       "      <td>2017-05-01</td>\n",
       "      <td>AFG</td>\n",
       "      <td>AFG</td>\n",
       "      <td>GOV</td>\n",
       "      <td>GOV</td>\n",
       "      <td>AF</td>\n",
       "      <td>AF</td>\n",
       "      <td>04</td>\n",
       "      <td>6.0</td>\n",
       "      <td>1.844229</td>\n",
       "    </tr>\n",
       "  </tbody>\n",
       "</table>\n",
       "</div>"
      ],
      "text/plain": [
       "         SQLDATE Actor1CountryCode Actor2CountryCode Actor1Type1Code  \\\n",
       "34109 2017-05-01               AFG               AFG             COP   \n",
       "34115 2017-05-01               AFG               AFG             ELI   \n",
       "34128 2017-05-01               AFG               AFG             GOV   \n",
       "34129 2017-05-01               AFG               AFG             GOV   \n",
       "34130 2017-05-01               AFG               AFG             GOV   \n",
       "\n",
       "      Actor2Type1Code Actor1Geo_CountryCode Actor2Geo_CountryCode  \\\n",
       "34109             INS                    AF                    AF   \n",
       "34115             INS                    AF                    AF   \n",
       "34128             GOV                    AF                    AF   \n",
       "34129             GOV                    AF                    AF   \n",
       "34130             GOV                    AF                    AF   \n",
       "\n",
       "      EventRootCode  AVG(NumMentions)  AVG(AvgTone)  \n",
       "34109            19              14.6     -8.089026  \n",
       "34115            11               5.0     -3.412073  \n",
       "34128            02               6.0      1.463415  \n",
       "34129            03              16.0     -0.283871  \n",
       "34130            04               6.0      1.844229  "
      ]
     },
     "execution_count": 4,
     "metadata": {},
     "output_type": "execute_result"
    }
   ],
   "source": [
    "gdelt.dropna().head()"
   ]
  },
  {
   "cell_type": "markdown",
   "metadata": {},
   "source": [
    "We should get a general idea of the distribution of the variable we're attemping to predict."
   ]
  },
  {
   "cell_type": "code",
   "execution_count": 5,
   "metadata": {},
   "outputs": [
    {
     "data": {
      "image/png": "[encoded data removed]",
      "text/plain": [
       "<Figure size 432x288 with 1 Axes>"
      ]
     },
     "metadata": {},
     "output_type": "display_data"
    }
   ],
   "source": [
    "gdelt['AVG(AvgTone)'].hist(bins=30);\n",
    "plt.xlabel(\"AvgTone\");"
   ]
  },
  {
   "cell_type": "markdown",
   "metadata": {},
   "source": [
    "We see that it is approximately normal, with a minor left skew."
   ]
  },
  {
   "cell_type": "markdown",
   "metadata": {},
   "source": [
    "# Data Preparation and Feature Engineering"
   ]
  },
  {
   "cell_type": "markdown",
   "metadata": {},
   "source": [
    "As mentioned in the last section, the data has already been aggregated up to find means of our AvgTone and NumMentions columns. In this section we will explore the features of our dataset and consider various ways engineer them into more predictive features."
   ]
  },
  {
   "cell_type": "markdown",
   "metadata": {},
   "source": [
    "First, we look at NumMentions. We will find that this value has a large skew to it, with a majority of values being under 500."
   ]
  },
  {
   "cell_type": "code",
   "execution_count": 6,
   "metadata": {},
   "outputs": [
    {
     "data": {
      "image/png": "[encoded data removed]",
      "text/plain": [
       "<Figure size 432x288 with 1 Axes>"
      ]
     },
     "metadata": {},
     "output_type": "display_data"
    }
   ],
   "source": [
    "gdelt['AVG(NumMentions)'].hist(bins=30);\n",
    "plt.xlabel(\"numMentions\");"
   ]
  },
  {
   "cell_type": "markdown",
   "metadata": {},
   "source": [
    "To help smooth this data, we will normalize it."
   ]
  },
  {
   "cell_type": "code",
   "execution_count": 7,
   "metadata": {},
   "outputs": [],
   "source": [
    "example_samp['norm_NumMentions'] = (example_samp['AVG(NumMentions)'] - example_samp['AVG(NumMentions)'].mean())/ \\\n",
    "                                        example_samp['AVG(NumMentions)'].std()"
   ]
  },
  {
   "cell_type": "code",
   "execution_count": 8,
   "metadata": {},
   "outputs": [
    {
     "data": {
      "image/png": "[encoded data removed]",
      "text/plain": [
       "<Figure size 432x288 with 1 Axes>"
      ]
     },
     "metadata": {},
     "output_type": "display_data"
    }
   ],
   "source": [
    "example_samp['norm_NumMentions'].hist();"
   ]
  },
  {
   "cell_type": "markdown",
   "metadata": {},
   "source": [
    "Next, we explore the distribution of values in the country codes. To effectively visualize this, we first bin some of the rarer codes into their own label."
   ]
  },
  {
   "cell_type": "code",
   "execution_count": 9,
   "metadata": {},
   "outputs": [],
   "source": [
    "unify_rare_cats(example_samp, \"Actor1CountryCode\", .0075)"
   ]
  },
  {
   "cell_type": "code",
   "execution_count": 10,
   "metadata": {},
   "outputs": [
    {
     "data": {
      "image/png": "[encoded data removed]",
      "text/plain": [
       "<Figure size 432x288 with 1 Axes>"
      ]
     },
     "metadata": {},
     "output_type": "display_data"
    }
   ],
   "source": [
    "example_samp['Actor1CountryCode_unify'].cat.remove_unused_categories() \\\n",
    "                            .value_counts().plot(kind=\"bar\");\n",
    "plt.xlabel(\"Country\")\n",
    "plt.ylabel(\"Occurrence Count\");"
   ]
  },
  {
   "cell_type": "markdown",
   "metadata": {},
   "source": [
    "We see that there are quite a few records without a known country code and that there is a large concentration of occurrences in relatively small percentage of the data. This makes sense, as we would expect places with more of a media presence to generate more exhaustive media coverage of events. It does indicate that we should be careful and generalizing a model over the entire dataset, in case that some features which are unique to a country are not present in others."
   ]
  },
  {
   "cell_type": "markdown",
   "metadata": {},
   "source": [
    "We repeat this analysis for our other categorical columns regarding Actor1 as well as EventRootCode. This procedure can also be repeated for Actor2 columns."
   ]
  },
  {
   "cell_type": "code",
   "execution_count": 11,
   "metadata": {},
   "outputs": [],
   "source": [
    "unify_rare_cats(example_samp, \"Actor1Type1Code\", .01)\n",
    "unify_rare_cats(example_samp, \"Actor1Geo_CountryCode\", .01)"
   ]
  },
  {
   "cell_type": "code",
   "execution_count": 12,
   "metadata": {},
   "outputs": [
    {
     "data": {
      "image/png": "[encoded data removed]",
      "text/plain": [
       "<Figure size 1440x360 with 3 Axes>"
      ]
     },
     "metadata": {},
     "output_type": "display_data"
    }
   ],
   "source": [
    "# Actor1Type1Code, Actor1Geo_CountryCode, EventRootCode\n",
    "fig, axs = plt.subplots(nrows=1, ncols=3, figsize=(20,5))\n",
    "\n",
    "plt.subplot(1, 3, 1)\n",
    "example_samp['Actor1Type1Code_unify'].cat.remove_unused_categories() \\\n",
    "                .value_counts().plot(kind='bar');\n",
    "plt.xlabel('Type Code');\n",
    "             \n",
    "plt.subplot(1, 3, 2)\n",
    "example_samp['Actor1Geo_CountryCode_unify'].cat.remove_unused_categories() \\\n",
    "                .value_counts().plot(kind='bar');\n",
    "plt.xlabel('Country');\n",
    "\n",
    "plt.subplot(1, 3, 3)\n",
    "example_samp['EventRootCode'].cat.remove_unused_categories() \\\n",
    "                .value_counts().plot(kind='bar');\n",
    "plt.xlabel('Event Root Code');"
   ]
  },
  {
   "cell_type": "markdown",
   "metadata": {},
   "source": [
    "We see in the type codes there are quite a few unknowns. Additionally GOV occurs quite often. For Actor1Geo_CountryCode, we see that a lot of actions take place within the United States, but it still pares in comparison to the total amount of actions that occur in countries which appear more rarely. Finally for the EventCodes, our five most common verbs are \"Consult\", \"Make Public Statement\", \"Engage in Diplomatic Cooperation\", \"Express Intent to Cooperate\", and \"Appeal\".\n",
    "\n",
    "So far, our investigation indicates that we have a lot of categorical columns with a lot of missing values. To handle them, we'll create dummy indicator values for each category which does come with the risk of a much higher dimension problem space. We'll also map any unknown values to the value \"UNK\" before training our models. \n",
    "\n",
    "There are some more sophisticated methods of dimensionality reduction we can try with our categories, like only preserving countries which have \"enough\" records, and mapping all others to \"OTHER\". We could also try a more sophisticated method of only preserving those countries which have a statistically significant and large AvgTone difference, as measured by taking the overall mean of all countries as the population mean, and measuring the deviance of a particular country from this mean. However, it turns out that neither of this methods do much to improve predictive accuracy, and so we do not discuss these any further in this report.\n",
    "\n",
    "What we do build our models on is rather simple. We partition our dataset out by \"Actor1CountryCode\", so for example, we build individual models for \"USA\" and \"GBR\". This helps to isolate us from the noise and/or conflicting signals that may arise from different characteristics of countries when involved in some action upon Actor2. \n",
    "\n",
    "If we want further dimensionality reduction, we can also consider \"Actor2CountryCode\" as reduced to whether Actor1 is the same as Actor2. What this means is the country of the actors was the same, and in sense the event was \"Internal\". This distinction appears to capture a lot of the variance contributed by the \"Actor2CountryCode\" column, but we will achieve higher accuracy including the full range of values. We have a lot of data, and so the dimensionality increase can be compensated for, at the expense of additional compute time.\n",
    "\n",
    "Finally, we will find that \"Actor1Geo_CountryCode\" and \"Actor2Geo_CountryCode\" appear to explain very little variance in the AvgTone, and so we will quickly omit those columns from our training. This will reduce some of the gain in dimensionality from including \"Actor2CountryCode\". "
   ]
  },
  {
   "cell_type": "markdown",
   "metadata": {},
   "source": [
    "# Model Exploration"
   ]
  },
  {
   "cell_type": "markdown",
   "metadata": {},
   "source": [
    "We first build a relatively small sample of our data to try initial quick model constructions to get an idea of their accuracy. The init_sample function drops the \"SQLDATE\" column, normalizes \"NumMentions\" as \"norm_NumMentions\" and drops the \"NumMentions\" column, and cleans our categories to omit unused categories.\n",
    "\n",
    "We distinguish between \"naive\" samples, which include all of the columns, and \"pared\" samples which omit the colums \"Actor1Geo_CountryCode\" and \"Actor2Geo_CountryCode\". In each set of samples, both naive and pared, we train models on the entire sample, the sample restricting \"Actor1CountryCode\" to \"USA\" and the sample restricting \"Actor1CountryCode\" and mapping \"Actor2CountryCode\" to the boolean of whether Actor1 is the same as Actor2."
   ]
  },
  {
   "cell_type": "code",
   "execution_count": 93,
   "metadata": {},
   "outputs": [],
   "source": [
    "test_samp = init_sample(gdelt, .1)\n",
    "naive_samps = [(\"Naive Sample                  \", test_samp), \n",
    "               (\"N, Actor1CC=USA, Internal?    \", ICM_INT_sample(test_samp, 'USA')), \n",
    "               (\"N, Actor1CC=USA, Actor2CC     \", ICM_SPEC_sample(test_samp, 'USA'))]\n",
    "pared_samps = [(\"Pared Sample                  \", test_samp), \n",
    "               (\"P, Actor1CC=USA, Internal?    \", ICM_INT_sample(test_samp, 'USA')), \n",
    "               (\"P, Actor1CC=USA, Actor2CC     \", ICM_SPEC_sample(test_samp, 'USA'))]"
   ]
  },
  {
   "cell_type": "markdown",
   "metadata": {},
   "source": [
    "Our function below accepts an untrained model as input and naive or pared samples to train the model on. It then reports training and testing accuracy from our training functions. Note that our training functions use a consistent train_test split between each sample. We also note that there is no cross validation being used. "
   ]
  },
  {
   "cell_type": "code",
   "execution_count": 105,
   "metadata": {},
   "outputs": [],
   "source": [
    "def eval_model(model, samps, naive, trim_verbose=True, report=True):\n",
    "    if report:\n",
    "        print(\"Sample Type                   \", \"Training Time     \", \"Train Set Acc     \", \"Test Set Acc     \")\n",
    "    trained_models = []\n",
    "    model_samps = []\n",
    "    for samp_name, samp in samps:\n",
    "        start_time = time.time()\n",
    "        regr = clone(model)\n",
    "        if naive:\n",
    "            trs, tes, trained_model, model_samp, _, _ = train_naive(samp, regr)\n",
    "            trained_models.append(trained_model)\n",
    "            model_samps.append(model_samp)\n",
    "        else:\n",
    "            trs, tes, trained_model, model_samp, _, _ = train_pared(samp, regr)\n",
    "            trained_models.append(trained_model)\n",
    "            model_samps.append(model_samp)\n",
    "        if tes < 0:\n",
    "            if trim_verbose:\n",
    "                tes = \"R^2 is < 0.\"\n",
    "            else:\n",
    "                tes = 0\n",
    "            if report:\n",
    "                print(samp_name,  \"{:.{}f}              \".format(time.time() - start_time, 2), \n",
    "                      \"{:.{}f}           \".format(trs, 5), \"R^2 is negative.\")\n",
    "        else:\n",
    "            if report:\n",
    "                print(samp_name,  \"{:.{}f}              \".format(time.time() - start_time, 2),\n",
    "                      \"{:.{}f}           \".format(trs, 5), \"{:.{}f}\".format(tes, 5))\n",
    "            continue\n",
    "    return trained_models, model_samps, trs, tes"
   ]
  },
  {
   "cell_type": "markdown",
   "metadata": {},
   "source": [
    "## Linear Regression"
   ]
  },
  {
   "cell_type": "markdown",
   "metadata": {},
   "source": [
    "We explore various approaches to predicting AvgTone with linear regressions models, both with regularization and without. For regularization, we test both Lasso (L1) and Ridge (L2)."
   ]
  },
  {
   "cell_type": "code",
   "execution_count": 96,
   "metadata": {
    "scrolled": true
   },
   "outputs": [
    {
     "name": "stdout",
     "output_type": "stream",
     "text": [
      "Sample Type                    Training Time      Train Set Acc      Test Set Acc     \n",
      "Naive Sample                   62.95               0.28725            R^2 is negative.\n",
      "N, Actor1CC=USA, Internal?     2.48               0.27265            R^2 is negative.\n",
      "N, Actor1CC=USA, Actor2CC      3.29               0.28417            R^2 is negative.\n",
      "Sample Type                    Training Time      Train Set Acc      Test Set Acc     \n",
      "Pared Sample                   27.47               0.27458            0.27166\n",
      "P, Actor1CC=USA, Internal?     0.25               0.23162            0.22332\n",
      "P, Actor1CC=USA, Actor2CC      1.09               0.26156            0.24174\n"
     ]
    }
   ],
   "source": [
    "models_1, models_samps_1, _, _ = eval_model(linear_model.LinearRegression(), naive_samps, True)\n",
    "#models_1[0].coef_\n",
    "\n",
    "models_2, models_samps_2, _, _ = eval_model(linear_model.LinearRegression(), pared_samps, False)\n",
    "#models_2[0].coef_"
   ]
  },
  {
   "cell_type": "code",
   "execution_count": 97,
   "metadata": {
    "scrolled": true
   },
   "outputs": [
    {
     "data": {
      "image/png": "[encoded data removed]",
      "text/plain": [
       "<Figure size 432x288 with 1 Axes>"
      ]
     },
     "metadata": {},
     "output_type": "display_data"
    }
   ],
   "source": [
    "coef_series = pd.Series(models_2[0].coef_,\n",
    "                           index=models_samps_2[0].drop(['AVG(AvgTone)'], axis=1).columns)\n",
    "((coef_series - coef_series.mean()) / coef_series.std()).hist();\n",
    "plt.xlabel('Normalized Coefficient Value');\n",
    "plt.ylabel('Bin Count');"
   ]
  },
  {
   "cell_type": "code",
   "execution_count": 98,
   "metadata": {},
   "outputs": [
    {
     "name": "stdout",
     "output_type": "stream",
     "text": [
      "Sample Type                    Training Time      Train Set Acc      Test Set Acc     \n",
      "Naive Sample                   22.59               0.28724            0.28313\n",
      "N, Actor1CC=USA, Internal?     0.95               0.27233            0.24627\n",
      "N, Actor1CC=USA, Actor2CC      1.27               0.28362            0.25098\n",
      "Sample Type                    Training Time      Train Set Acc      Test Set Acc     \n",
      "Pared Sample                   8.82               0.27458            0.27172\n",
      "P, Actor1CC=USA, Internal?     0.14               0.23161            0.22334\n",
      "P, Actor1CC=USA, Actor2CC      0.47               0.26140            0.24254\n"
     ]
    }
   ],
   "source": [
    "models_3, _, _, _= eval_model(Ridge(), naive_samps, True)\n",
    "#models_3[0].coef_\n",
    "\n",
    "models_4, models_samps_4, _, _ = eval_model(Ridge(), pared_samps, False)\n",
    "#models_4[0].coef_"
   ]
  },
  {
   "cell_type": "code",
   "execution_count": 99,
   "metadata": {},
   "outputs": [
    {
     "data": {
      "image/png": "[encoded data removed]",
      "text/plain": [
       "<Figure size 432x288 with 1 Axes>"
      ]
     },
     "metadata": {},
     "output_type": "display_data"
    }
   ],
   "source": [
    "coef_series = pd.Series(models_4[0].coef_,\n",
    "                           index=models_samps_4[0].drop(['AVG(AvgTone)'], axis=1).columns)\n",
    "((coef_series - coef_series.mean()) / coef_series.std()).hist();\n",
    "plt.xlabel('Normalized Coefficient Value');\n",
    "plt.ylabel('Bin Count');"
   ]
  },
  {
   "cell_type": "code",
   "execution_count": 68,
   "metadata": {},
   "outputs": [
    {
     "name": "stdout",
     "output_type": "stream",
     "text": [
      "Sample Type                    Training Time      Train Set Acc      Test Set Acc     \n",
      "Naive Sample                   8.77               0.00000            R^2 is negative.\n",
      "N, Actor1CC=USA, Internal?     0.53               0.00000            R^2 is negative.\n",
      "N, Actor1CC=USA, Actor2CC      0.65               0.00000            R^2 is negative.\n",
      "Sample Type                    Training Time      Train Set Acc      Test Set Acc     \n",
      "Pared Sample                   4.41               0.00000            R^2 is negative.\n",
      "P, Actor1CC=USA, Internal?     0.07               0.00000            R^2 is negative.\n",
      "P, Actor1CC=USA, Actor2CC      0.24               0.00000            R^2 is negative.\n",
      "Sample Type                    Training Time      Train Set Acc      Test Set Acc     \n",
      "Naive Sample                   9.38               0.07792            0.07776\n",
      "N, Actor1CC=USA, Internal?     0.49               0.04952            0.05301\n",
      "N, Actor1CC=USA, Actor2CC      0.66               0.04952            0.05301\n",
      "Sample Type                    Training Time      Train Set Acc      Test Set Acc     \n",
      "Pared Sample                   4.67               0.07792            0.07776\n",
      "P, Actor1CC=USA, Internal?     0.08               0.04952            0.05301\n",
      "P, Actor1CC=USA, Actor2CC      0.30               0.04952            0.05301\n",
      "Sample Type                    Training Time      Train Set Acc      Test Set Acc     \n",
      "Naive Sample                   10.70               0.22942            0.23056\n",
      "N, Actor1CC=USA, Internal?     0.54               0.22357            0.23402\n",
      "N, Actor1CC=USA, Actor2CC      0.72               0.22436            0.23467\n",
      "Sample Type                    Training Time      Train Set Acc      Test Set Acc     \n",
      "Pared Sample                   5.50               0.22216            0.22368\n",
      "P, Actor1CC=USA, Internal?     0.09               0.21284            0.22398\n",
      "P, Actor1CC=USA, Actor2CC      0.27               0.21824            0.22883\n",
      "Sample Type                    Training Time      Train Set Acc      Test Set Acc     \n",
      "Naive Sample                   16.89               0.27511            0.27500\n",
      "N, Actor1CC=USA, Internal?     0.94               0.26063            0.26222\n",
      "N, Actor1CC=USA, Actor2CC      1.27               0.26761            0.26754\n",
      "Sample Type                    Training Time      Train Set Acc      Test Set Acc     \n",
      "Pared Sample                   8.60               0.26357            0.26455\n",
      "P, Actor1CC=USA, Internal?     0.11               0.22666            0.23636\n",
      "P, Actor1CC=USA, Actor2CC      0.54               0.24918            0.25660\n",
      "Sample Type                    Training Time      Train Set Acc      Test Set Acc     \n",
      "Naive Sample                   17.73               0.28582            0.28350\n",
      "N, Actor1CC=USA, Internal?     2.88               0.27740            0.25806\n",
      "N, Actor1CC=USA, Actor2CC      3.70               0.28968            0.26357\n",
      "Sample Type                    Training Time      Train Set Acc      Test Set Acc     \n",
      "Pared Sample                   6.28               0.27285            0.27295\n",
      "P, Actor1CC=USA, Internal?     0.24               0.22831            0.23689\n",
      "P, Actor1CC=USA, Actor2CC      0.99               0.25951            0.25932\n",
      "Sample Type                    Training Time      Train Set Acc      Test Set Acc     \n",
      "Naive Sample                   33.33               0.28689            0.28350\n",
      "N, Actor1CC=USA, Internal?     15.13               0.27915            0.25359\n",
      "N, Actor1CC=USA, Actor2CC      22.53               0.29227            0.25630\n",
      "Sample Type                    Training Time      Train Set Acc      Test Set Acc     \n",
      "Pared Sample                   7.86               0.27352            0.27331\n",
      "P, Actor1CC=USA, Internal?     2.35               0.22841            0.23674\n",
      "P, Actor1CC=USA, Actor2CC      7.47               0.26032            0.25745\n"
     ]
    }
   ],
   "source": [
    "for alpha in [1, .1, .01, .001, .0001, .00001]:\n",
    "    models_5, _ = eval_model(Lasso(alpha=alpha), naive_samps, True)\n",
    "    models_5[0].coef_\n",
    "\n",
    "    models_6, _ = eval_model(Lasso(alpha=alpha), pared_samps, False)\n",
    "    models_6[0].coef_"
   ]
  },
  {
   "cell_type": "code",
   "execution_count": 101,
   "metadata": {},
   "outputs": [
    {
     "name": "stdout",
     "output_type": "stream",
     "text": [
      "Sample Type                    Training Time      Train Set Acc      Test Set Acc     \n",
      "Naive Sample                   59.86               0.28619            0.28248\n",
      "N, Actor1CC=USA, Internal?     4.07               0.27092            0.24794\n",
      "N, Actor1CC=USA, Actor2CC      3.99               0.28163            0.25404\n",
      "Sample Type                    Training Time      Train Set Acc      Test Set Acc     \n",
      "Pared Sample                   17.61               0.27388            0.27119\n",
      "P, Actor1CC=USA, Internal?     0.67               0.23157            0.22331\n",
      "P, Actor1CC=USA, Actor2CC      2.34               0.26080            0.24315\n"
     ]
    }
   ],
   "source": [
    "models_5, _, _, _ = eval_model(Lasso(alpha=.0001), naive_samps, True)\n",
    "#models_5[0].coef_\n",
    "\n",
    "models_6, _, _, _ = eval_model(Lasso(alpha=.0001), pared_samps, False)\n",
    "#models_6[0].coef_"
   ]
  },
  {
   "cell_type": "markdown",
   "metadata": {},
   "source": [
    "## SVM"
   ]
  },
  {
   "cell_type": "code",
   "execution_count": 70,
   "metadata": {},
   "outputs": [
    {
     "name": "stdout",
     "output_type": "stream",
     "text": [
      "Sample Type                    Training Time      Train Set Acc      Test Set Acc     \n",
      "Pared Sample                   70.84               -1.79330            R^2 is negative.\n",
      "P, Actor1CC=USA, Internal?     1.15               -1.24713            R^2 is negative.\n",
      "P, Actor1CC=USA, Actor2CC      3.65               -1.25768            R^2 is negative.\n"
     ]
    }
   ],
   "source": [
    "models_10 = eval_model(svm.SVR(max_iter=100), pared_samps, False)"
   ]
  },
  {
   "cell_type": "markdown",
   "metadata": {},
   "source": [
    "## Tree Based Models"
   ]
  },
  {
   "cell_type": "code",
   "execution_count": 70,
   "metadata": {},
   "outputs": [
    {
     "name": "stdout",
     "output_type": "stream",
     "text": [
      "80\n",
      "81\n",
      "82\n",
      "83\n",
      "84\n",
      "85\n",
      "86\n",
      "87\n",
      "88\n",
      "89\n",
      "90\n",
      "91\n",
      "92\n",
      "93\n",
      "94\n",
      "95\n",
      "96\n",
      "97\n",
      "98\n",
      "99\n"
     ]
    }
   ],
   "source": [
    "max_feat_tes = [list() for i in range(40)]\n",
    "max_feat_trs = [list() for i in range(40)]\n",
    "for i in range(80, 100):\n",
    "    print(i)\n",
    "    for depth in range(12, 20):\n",
    "        decision_tree, _, trs, tes = eval_model(tree.DecisionTreeRegressor(max_depth=depth, max_features=i), \n",
    "                         [pared_samps[0]], False, trim_verbose=False, report=False)\n",
    "        max_feat_trs[depth-8].append((i, trs))\n",
    "        max_feat_tes[depth-8].append((i, tes))"
   ]
  },
  {
   "cell_type": "code",
   "execution_count": 102,
   "metadata": {},
   "outputs": [
    {
     "name": "stdout",
     "output_type": "stream",
     "text": [
      "Sample Type                    Training Time      Train Set Acc      Test Set Acc     \n",
      "Naive Sample                   14.39               0.17463            0.16649\n",
      "N, Actor1CC=USA, Internal?     0.77               0.20341            0.15561\n",
      "N, Actor1CC=USA, Actor2CC      0.92               0.19259            0.16973\n",
      "Sample Type                    Training Time      Train Set Acc      Test Set Acc     \n",
      "Pared Sample                   6.37               0.11342            0.11048\n",
      "P, Actor1CC=USA, Internal?     0.16               0.16868            0.14409\n",
      "P, Actor1CC=USA, Actor2CC      0.37               0.15471            0.13934\n"
     ]
    }
   ],
   "source": [
    "models_7, _, _, _ = eval_model(tree.DecisionTreeRegressor(max_depth=12, max_features=100), \n",
    "                         naive_samps, True)\n",
    "\n",
    "models_8, _, _, _ = eval_model(tree.DecisionTreeRegressor(max_depth=8, max_features=50), \n",
    "                         pared_samps, False)"
   ]
  },
  {
   "cell_type": "code",
   "execution_count": 103,
   "metadata": {
    "scrolled": true
   },
   "outputs": [
    {
     "name": "stdout",
     "output_type": "stream",
     "text": [
      "Sample Type                    Training Time      Train Set Acc      Test Set Acc     \n",
      "Naive Sample                   60.20               0.19891            0.19345\n",
      "N, Actor1CC=USA, Internal?     2.99               0.24016            0.20836\n",
      "N, Actor1CC=USA, Actor2CC      3.14               0.22907            0.20299\n",
      "Sample Type                    Training Time      Train Set Acc      Test Set Acc     \n",
      "Pared Sample                   58.20               0.21342            0.20681\n",
      "P, Actor1CC=USA, Internal?     2.23               0.24433            0.19673\n",
      "P, Actor1CC=USA, Actor2CC      2.63               0.24499            0.20855\n"
     ]
    }
   ],
   "source": [
    "models_12, _, _, _ = eval_model(RandomForestRegressor(n_estimators=40, max_depth=12, max_features=80, n_jobs=3), \n",
    "                                naive_samps, True)\n",
    "\n",
    "models_12, _, _, _ = eval_model(RandomForestRegressor(n_estimators=40, max_depth=12, max_features=80, n_jobs=3), \n",
    "                                pared_samps, False)"
   ]
  },
  {
   "cell_type": "code",
   "execution_count": 104,
   "metadata": {},
   "outputs": [
    {
     "name": "stdout",
     "output_type": "stream",
     "text": [
      "Sample Type                    Training Time      Train Set Acc      Test Set Acc     \n",
      "Pared Sample                   113.89               0.26819            0.26446\n",
      "P, Actor1CC=USA, Internal?     6.17               0.25870            0.23052\n",
      "P, Actor1CC=USA, Actor2CC      6.69               0.27747            0.25032\n"
     ]
    }
   ],
   "source": [
    "models_14, _, _, _ = eval_model(GradientBoostingRegressor(n_estimators=200,\n",
    "                                                          learning_rate=.2,\n",
    "                                                          max_depth=3,\n",
    "                                                          max_features=50), \n",
    "                          pared_samps, False)"
   ]
  },
  {
   "cell_type": "markdown",
   "metadata": {},
   "source": [
    "## KNN"
   ]
  },
  {
   "cell_type": "code",
   "execution_count": 1,
   "metadata": {},
   "outputs": [],
   "source": [
    "from sklearn.neighbors import KNeighborsRegressor"
   ]
  },
  {
   "cell_type": "code",
   "execution_count": 18,
   "metadata": {},
   "outputs": [
    {
     "name": "stdout",
     "output_type": "stream",
     "text": [
      "Sample Type                    Training Time      Train Set Acc      Test Set Acc     \n",
      "Test 36.74               0.28861            0.08276\n"
     ]
    }
   ],
   "source": [
    "#models_15, models_samps_1 = eval_model(KNeighborsRegressor(), \n",
    "#                                       [ICM_INT_sample(test_samp, 'USA'))], True)\n",
    "\n",
    "models_16, models_samps_2 = eval_model(KNeighborsRegressor(), \n",
    "                                       [(\"Test\", ICM_INT_sample(test_samp, 'USA'))], False)"
   ]
  },
  {
   "cell_type": "code",
   "execution_count": null,
   "metadata": {},
   "outputs": [],
   "source": [
    "countries = list(test_samp['Actor1CountryCode'].value_counts().index)\n",
    "small_list = countries[:5]\n",
    "ICM_INT_samps = []\n",
    "ICM_SPEC_samps = []\n",
    "\n",
    "for country in small_list:\n",
    "    ICM_INT_samps.append(ICM_INT_sample(test_samp, country))\n",
    "    ICM_SPEC_samps.append(ICM_SPEC_sample(test_samp, country))"
   ]
  },
  {
   "cell_type": "markdown",
   "metadata": {},
   "source": [
    "Interpretable Results"
   ]
  },
  {
   "cell_type": "markdown",
   "metadata": {},
   "source": [
    "Future Work"
   ]
  },
  {
   "cell_type": "markdown",
   "metadata": {},
   "source": [
    "How to Use"
   ]
  }
 ],
 "metadata": {
  "kernelspec": {
   "display_name": "Python 3",
   "language": "python",
   "name": "python3"
  },
  "language_info": {
   "codemirror_mode": {
    "name": "ipython",
    "version": 3
   },
   "file_extension": ".py",
   "mimetype": "text/x-python",
   "name": "python",
   "nbconvert_exporter": "python",
   "pygments_lexer": "ipython3",
   "version": "3.6.5"
  }
 },
 "nbformat": 4,
 "nbformat_minor": 2
}
