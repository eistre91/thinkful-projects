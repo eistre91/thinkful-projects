{
 "cells": [
  {
   "cell_type": "markdown",
   "metadata": {},
   "source": [
    "Using a dataset of your choice, select an outcome variable and then pick four or five other variables (one to two categorical, three to four continuous) to act as the basis for features. Explore the variables using the univariate and bivariate methods you've learned so far. \n",
    "\n",
    "Next, based on what you learned via your data exploration, create ten new features. Explain the reasoning behind each one.\n",
    "\n",
    "Finally, use filtering methods to select the five best features and justify your choices."
   ]
  },
  {
   "cell_type": "code",
   "execution_count": 262,
   "metadata": {},
   "outputs": [],
   "source": [
    "import pandas as pd\n",
    "import numpy as np\n",
    "import matplotlib.pyplot as plt\n",
    "import seaborn as sns \n",
    "from sklearn import preprocessing\n",
    "from sklearn.preprocessing import OneHotEncoder\n",
    "from sklearn import preprocessing\n",
    "from sklearn import linear_model\n",
    "from sklearn.model_selection import train_test_split\n",
    "from sklearn.naive_bayes import BernoulliNB\n",
    "import csv, sqlite3\n",
    "%matplotlib inline\n",
    "\n",
    "from GDELT_utils import GDELT_columns, usecols, dtype_dict, \\\n",
    "                        cameo_dict, map_cameo_to_text, \\\n",
    "                        state_dict, mem_usage, state_heat_map"
   ]
  },
  {
   "cell_type": "code",
   "execution_count": 7,
   "metadata": {},
   "outputs": [],
   "source": [
    "con = sqlite3.connect(\"gdelt.db\")"
   ]
  },
  {
   "cell_type": "code",
   "execution_count": 8,
   "metadata": {},
   "outputs": [],
   "source": [
    "gdelt = pd.read_sql_query(\"SELECT SQLDATE, Actor1CountryCode, Actor2CountryCode, \\\n",
    "                            Actor1Geo_CountryCode, Actor2Geo_CountryCode, \\\n",
    "                            EventRootCode, AVG(NumMentions), AVG(AvgTone) \\\n",
    "                          FROM gdelt \\\n",
    "                          WHERE SQLDATE > \\\"2017-05-01\\\" AND SQLDATE < \\\"2017-08-01\\\" \\\n",
    "                          GROUP BY SQLDATE, Actor1CountryCode, Actor2CountryCode, \\\n",
    "                          Actor1Geo_CountryCode, Actor2Geo_CountryCode, EventRootCode\", con)\n",
    "# aggregate data by\n",
    "# Date Actor1Code Actor2Code Actor1Geo_CountryCode Actor2Geo_CountryCode EventRootCode -> Mean AvgTone\n",
    "\n",
    "# Features Actor1Code Actor2Code Actor1Geo_CountryCode Actor2Geo_CountryCode NumMentions EventRootCode "
   ]
  },
  {
   "cell_type": "code",
   "execution_count": 198,
   "metadata": {},
   "outputs": [],
   "source": [
    "interest = [\"SQLDATE\",\n",
    "            \"AvgTone\", \"NumMentions\", \"EventRootCode\",\n",
    "            \"Actor1CountryCode\", \"Actor2CountryCode\",\n",
    "            \"Actor1Geo_CountryCode\", \"Actor2Geo_CountryCode\"]\n",
    "\n",
    "categories = [\"EventRootCode\",\n",
    "            \"Actor1CountryCode\", \"Actor2CountryCode\",\n",
    "            \"Actor1Geo_CountryCode\", \"Actor2Geo_CountryCode\"]\n",
    "\n",
    "for category_col in categories:\n",
    "    gdelt[category_col] = gdelt[category_col].astype('category')\n",
    "    \n",
    "gdelt['SQLDATE'] = pd.to_datetime(gdelt['SQLDATE'])  "
   ]
  },
  {
   "cell_type": "code",
   "execution_count": 199,
   "metadata": {},
   "outputs": [],
   "source": [
    "gdelt = gdelt.drop(labels=gdelt[(gdelt['EventRootCode'] == \"--\")].index)"
   ]
  },
  {
   "cell_type": "code",
   "execution_count": 200,
   "metadata": {},
   "outputs": [
    {
     "name": "stdout",
     "output_type": "stream",
     "text": [
      "<class 'pandas.core.frame.DataFrame'>\n",
      "Int64Index: 4370484 entries, 0 to 4370490\n",
      "Data columns (total 8 columns):\n",
      "SQLDATE                  datetime64[ns]\n",
      "Actor1CountryCode        category\n",
      "Actor2CountryCode        category\n",
      "Actor1Geo_CountryCode    category\n",
      "Actor2Geo_CountryCode    category\n",
      "EventRootCode            category\n",
      "AVG(NumMentions)         float64\n",
      "AVG(AvgTone)             float64\n",
      "dtypes: category(5), datetime64[ns](1), float64(2)\n",
      "memory usage: 171.0 MB\n"
     ]
    }
   ],
   "source": [
    "gdelt.info(memory_usage=\"deep\")"
   ]
  },
  {
   "cell_type": "code",
   "execution_count": 201,
   "metadata": {},
   "outputs": [],
   "source": [
    "gdelt_sample = gdelt.sample(frac=.2)"
   ]
  },
  {
   "cell_type": "code",
   "execution_count": 202,
   "metadata": {},
   "outputs": [],
   "source": [
    "# standardize data around mean 0 \n",
    "\n",
    "# split data in missing/non-missing and compare distributions of that data\n",
    "# which features are generally missing record values\n",
    "\n",
    "# Try to predict AvgTone \n",
    "\n",
    "# SQLDATE                  datetime64[ns]\n",
    "# Actor1CountryCode        category\n",
    "# Actor2CountryCode        category\n",
    "# Actor1Geo_CountryCode    category\n",
    "# Actor2Geo_CountryCode    category\n",
    "# EventRootCode            category\n",
    "# AVG(NumMentions)         float64\n",
    "# AVG(AvgTone)             float64"
   ]
  },
  {
   "cell_type": "code",
   "execution_count": 203,
   "metadata": {},
   "outputs": [],
   "source": [
    "def map_missing(x, l, translation):\n",
    "    if x in l:\n",
    "        return x\n",
    "    elif x == \"nan\":\n",
    "        return \"UNKNOWN\"\n",
    "    else:\n",
    "        return translation\n",
    "\n",
    "def unify_rare_cats(data, category, cut_off):\n",
    "    vc = data[category].value_counts()\n",
    "    past_cut_off = (vc/len(data)) > cut_off\n",
    "    remaining = list(vc[past_cut_off].index)\n",
    "    data[(category + '_unify')] = data[category].astype(str) \\\n",
    "                                                .apply(lambda x: map_missing(x, remaining, \"OTHER\")) \\\n",
    "                                                .astype('category')"
   ]
  },
  {
   "cell_type": "code",
   "execution_count": 204,
   "metadata": {},
   "outputs": [],
   "source": [
    "unify_rare_cats(gdelt_sample, 'Actor1CountryCode', .005)\n",
    "unify_rare_cats(gdelt_sample, 'Actor2CountryCode', .005)\n",
    "unify_rare_cats(gdelt_sample, 'Actor1Geo_CountryCode', .005)\n",
    "unify_rare_cats(gdelt_sample, 'Actor2Geo_CountryCode', .005)"
   ]
  },
  {
   "cell_type": "code",
   "execution_count": 205,
   "metadata": {},
   "outputs": [
    {
     "data": {
      "text/plain": [
       "<matplotlib.axes._subplots.AxesSubplot at 0x290314556d8>"
      ]
     },
     "execution_count": 205,
     "metadata": {},
     "output_type": "execute_result"
    },
    {
     "data": {
      "image/png": "[encoded data removed]",
      "text/plain": [
       "<Figure size 1080x1080 with 4 Axes>"
      ]
     },
     "metadata": {},
     "output_type": "display_data"
    }
   ],
   "source": [
    "fig, axes = plt.subplots(2, 2, figsize=(15,15))\n",
    "\n",
    "plt.subplot(221)\n",
    "gdelt_sample['Actor1CountryCode_unify'].value_counts().plot(kind=\"bar\")\n",
    "\n",
    "plt.subplot(222)\n",
    "gdelt_sample['Actor2CountryCode_unify'].value_counts().plot(kind=\"bar\")\n",
    "\n",
    "plt.subplot(223)\n",
    "gdelt_sample['Actor1Geo_CountryCode_unify'].value_counts().plot(kind=\"bar\")\n",
    "\n",
    "plt.subplot(224)\n",
    "gdelt_sample['Actor2Geo_CountryCode_unify'].value_counts().plot(kind=\"bar\")"
   ]
  },
  {
   "cell_type": "code",
   "execution_count": 206,
   "metadata": {},
   "outputs": [
    {
     "data": {
      "text/plain": [
       "04    187084\n",
       "01     94390\n",
       "05     82062\n",
       "03     71762\n",
       "02     57693\n",
       "11     55590\n",
       "19     52881\n",
       "17     42915\n",
       "08     35631\n",
       "07     33382\n",
       "06     30998\n",
       "12     25862\n",
       "09     19408\n",
       "13     19258\n",
       "10     16292\n",
       "18     16115\n",
       "16     15164\n",
       "14     10085\n",
       "15      6901\n",
       "20       624\n",
       "--         0\n",
       "Name: EventRootCode, dtype: int64"
      ]
     },
     "execution_count": 206,
     "metadata": {},
     "output_type": "execute_result"
    }
   ],
   "source": [
    "gdelt_sample['EventRootCode'].value_counts()"
   ]
  },
  {
   "cell_type": "code",
   "execution_count": 208,
   "metadata": {},
   "outputs": [],
   "source": [
    "gdelt_sample['norm_NumMentions'] = (gdelt_sample['AVG(NumMentions)'] - gdelt_sample['AVG(NumMentions)'].mean())/ \\\n",
    "                                        gdelt_sample['AVG(NumMentions)'].std()"
   ]
  },
  {
   "cell_type": "code",
   "execution_count": 210,
   "metadata": {},
   "outputs": [],
   "source": [
    "gdelt_sample['norm_AvgTone'] = (gdelt_sample['AVG(AvgTone)'] - gdelt_sample['AVG(AvgTone)'].mean())/ \\\n",
    "                                        gdelt_sample['AVG(AvgTone)'].std()"
   ]
  },
  {
   "cell_type": "code",
   "execution_count": 214,
   "metadata": {
    "scrolled": true
   },
   "outputs": [],
   "source": [
    "Actor1CC_one_hot = pd.get_dummies(gdelt_sample['Actor1CountryCode_unify'], prefix=\"Actor1CountryCode\")\n",
    "Actor2CC_one_hot = pd.get_dummies(gdelt_sample['Actor2CountryCode_unify'], prefix=\"Actor2CountryCode\")\n",
    "Actor1CCGeo_one_hot = pd.get_dummies(gdelt_sample['Actor1Geo_CountryCode_unify'], prefix=\"Actor1Geo_CountryCode\")\n",
    "Actor2CCGeo_one_hot = pd.get_dummies(gdelt_sample['Actor2Geo_CountryCode_unify'], prefix=\"Actor2Geo_CountryCode\")\n",
    "EventRoot_one_hot = pd.get_dummies(gdelt_sample['EventRootCode'], prefix=\"EventRootCode\")\n",
    "\n",
    "one_hot_encoding = pd.concat([Actor1CC_one_hot, Actor2CC_one_hot, Actor1CCGeo_one_hot, \n",
    "                              Actor2CCGeo_one_hot, EventRoot_one_hot], axis=1)"
   ]
  },
  {
   "cell_type": "code",
   "execution_count": 216,
   "metadata": {},
   "outputs": [],
   "source": [
    "gdelt_sample = pd.concat([gdelt_sample, one_hot_encoding], axis=1)"
   ]
  },
  {
   "cell_type": "code",
   "execution_count": 230,
   "metadata": {},
   "outputs": [],
   "source": [
    "model_columns = list(one_hot_encoding.columns)\n",
    "model_columns.append('norm_NumMentions')\n",
    "feature_columns = model_columns.copy()\n",
    "model_columns.append('norm_AvgTone')"
   ]
  },
  {
   "cell_type": "code",
   "execution_count": 222,
   "metadata": {},
   "outputs": [],
   "source": [
    "gdelt_sample_m = gdelt_sample[model_columns]"
   ]
  },
  {
   "cell_type": "code",
   "execution_count": 228,
   "metadata": {},
   "outputs": [],
   "source": [
    "train, test = train_test_split(gdelt_sample_m, test_size=0.25, random_state=42)"
   ]
  },
  {
   "cell_type": "code",
   "execution_count": 232,
   "metadata": {},
   "outputs": [
    {
     "data": {
      "text/plain": [
       "LinearRegression(copy_X=True, fit_intercept=True, n_jobs=1, normalize=False)"
      ]
     },
     "execution_count": 232,
     "metadata": {},
     "output_type": "execute_result"
    }
   ],
   "source": [
    "regr = linear_model.LinearRegression()\n",
    "Y = train['norm_AvgTone'].values.reshape(-1, 1)\n",
    "X = train[feature_columns]\n",
    "regr.fit(X, Y)"
   ]
  },
  {
   "cell_type": "code",
   "execution_count": 233,
   "metadata": {},
   "outputs": [
    {
     "name": "stdout",
     "output_type": "stream",
     "text": [
      "\n",
      "Coefficients: \n",
      " [[-1.62460666e+10 -1.62460666e+10 -1.62460666e+10 -1.62460666e+10\n",
      "  -1.62460666e+10 -1.62460666e+10 -1.62460666e+10 -1.62460666e+10\n",
      "  -1.62460666e+10 -1.62460666e+10 -1.62460666e+10 -1.62460666e+10\n",
      "  -1.62460666e+10 -1.62460666e+10 -1.62460666e+10 -1.62460666e+10\n",
      "  -1.62460666e+10 -1.62460666e+10 -1.62460666e+10 -1.62460666e+10\n",
      "  -1.62460666e+10 -1.62460666e+10 -1.62460666e+10 -1.62460666e+10\n",
      "  -1.62460666e+10 -1.62460666e+10 -1.62460666e+10 -1.62460666e+10\n",
      "  -1.62460666e+10 -1.62460666e+10 -1.62460666e+10 -1.62460666e+10\n",
      "  -1.62460666e+10 -1.62460666e+10 -1.62460666e+10 -1.62460666e+10\n",
      "  -1.62460666e+10 -1.62460666e+10 -1.62460666e+10  7.16217781e+10\n",
      "   7.16217781e+10  7.16217781e+10  7.16217781e+10  7.16217781e+10\n",
      "   7.16217781e+10  7.16217781e+10  7.16217781e+10  7.16217781e+10\n",
      "   7.16217781e+10  7.16217781e+10  7.16217781e+10  7.16217781e+10\n",
      "   7.16217781e+10  7.16217781e+10  7.16217781e+10  7.16217781e+10\n",
      "   7.16217781e+10  7.16217781e+10  7.16217781e+10  7.16217781e+10\n",
      "   7.16217781e+10  7.16217781e+10  7.16217781e+10  7.16217781e+10\n",
      "   7.16217781e+10  7.16217781e+10  7.16217781e+10  7.16217781e+10\n",
      "   7.16217781e+10  7.16217781e+10  7.16217781e+10  7.16217781e+10\n",
      "   7.16217781e+10  7.16217781e+10 -1.51110427e+11 -1.51110427e+11\n",
      "  -1.51110427e+11 -1.51110427e+11 -1.51110427e+11 -1.51110427e+11\n",
      "  -1.51110427e+11 -1.51110427e+11 -1.51110427e+11 -1.51110427e+11\n",
      "  -1.51110427e+11 -1.51110427e+11 -1.51110427e+11 -1.51110427e+11\n",
      "  -1.51110427e+11 -1.51110427e+11 -1.51110427e+11 -1.51110427e+11\n",
      "  -1.51110427e+11 -1.51110427e+11 -1.51110427e+11 -1.51110427e+11\n",
      "  -1.51110427e+11 -1.51110427e+11 -1.51110427e+11 -1.51110427e+11\n",
      "  -1.51110427e+11 -1.51110427e+11 -1.51110427e+11 -1.51110427e+11\n",
      "  -1.51110427e+11 -1.51110427e+11 -1.51110427e+11 -1.51110427e+11\n",
      "  -1.51110427e+11 -1.51110427e+11 -1.51110427e+11 -1.51110427e+11\n",
      "  -1.51110427e+11 -1.51110427e+11 -1.51110427e+11 -1.51110427e+11\n",
      "  -1.51110427e+11 -1.51110427e+11 -1.51110427e+11 -1.51110427e+11\n",
      "  -1.51110427e+11 -1.51110427e+11 -1.51110427e+11  1.16813091e+11\n",
      "   1.16813091e+11  1.16813091e+11  1.16813091e+11  1.16813091e+11\n",
      "   1.16813091e+11  1.16813091e+11  1.16813091e+11  1.16813091e+11\n",
      "   1.16813091e+11  1.16813091e+11  1.16813091e+11  1.16813091e+11\n",
      "   1.16813091e+11  1.16813091e+11  1.16813091e+11  1.16813091e+11\n",
      "   1.16813091e+11  1.16813091e+11  1.16813091e+11  1.16813091e+11\n",
      "   1.16813091e+11  1.16813091e+11  1.16813091e+11  1.16813091e+11\n",
      "   1.16813091e+11  1.16813091e+11  1.16813091e+11  1.16813091e+11\n",
      "   1.16813091e+11  1.16813091e+11  1.16813091e+11  1.16813091e+11\n",
      "   1.16813091e+11  1.16813091e+11  1.16813091e+11  1.16813091e+11\n",
      "   1.16813091e+11  1.16813091e+11  1.16813091e+11  1.16813091e+11\n",
      "   1.16813091e+11  2.09260050e+10  5.02288785e+11  5.02288785e+11\n",
      "   5.02288785e+11  5.02288785e+11  5.02288785e+11  5.02288785e+11\n",
      "   5.02288785e+11  5.02288785e+11  5.02288785e+11  5.02288785e+11\n",
      "   5.02288785e+11  5.02288785e+11  5.02288785e+11  5.02288785e+11\n",
      "   5.02288785e+11  5.02288785e+11  5.02288785e+11  5.02288785e+11\n",
      "   5.02288785e+11  5.02288785e+11 -3.41520309e-02]]\n",
      "\n",
      "Intercept: \n",
      " [-5.23367161e+11]\n",
      "\n",
      "R-squared:\n",
      "0.21090464835551326\n"
     ]
    }
   ],
   "source": [
    "print('\\nCoefficients: \\n', regr.coef_)\n",
    "print('\\nIntercept: \\n', regr.intercept_)\n",
    "print('\\nR-squared:')\n",
    "print(regr.score(X, Y))"
   ]
  },
  {
   "cell_type": "code",
   "execution_count": 260,
   "metadata": {},
   "outputs": [
    {
     "data": {
      "text/plain": [
       "RANSACRegressor(base_estimator=LinearRegression(copy_X=True, fit_intercept=True, n_jobs=1, normalize=False),\n",
       "        is_data_valid=None, is_model_valid=None, loss='absolute_loss',\n",
       "        max_skips=inf, max_trials=100, min_samples=None, random_state=None,\n",
       "        residual_metric=None, residual_threshold=None, stop_n_inliers=inf,\n",
       "        stop_probability=0.99, stop_score=inf)"
      ]
     },
     "execution_count": 260,
     "metadata": {},
     "output_type": "execute_result"
    }
   ],
   "source": [
    "ransac = linear_model.RANSACRegressor(base_estimator=linear_model.LinearRegression())\n",
    "Y = train['norm_AvgTone'].values.reshape(-1, 1)\n",
    "X = train[feature_columns]\n",
    "ransac.fit(X, Y)"
   ]
  },
  {
   "cell_type": "code",
   "execution_count": 261,
   "metadata": {},
   "outputs": [
    {
     "name": "stdout",
     "output_type": "stream",
     "text": [
      "\n",
      "R-squared:\n",
      "-1.1878379205463898\n"
     ]
    }
   ],
   "source": [
    "#print('\\nCoefficients: \\n', ransac.coef_)\n",
    "#print('\\nIntercept: \\n', ransac.intercept_)\n",
    "print('\\nR-squared:')\n",
    "print(ransac.score(X, Y))"
   ]
  },
  {
   "cell_type": "code",
   "execution_count": 254,
   "metadata": {},
   "outputs": [],
   "source": [
    "def compute_RSS(model, data, dependent):\n",
    "    predictions = model.predict(data)\n",
    "    squared_residuals = (dependent.values.reshape(-1, 1) - predictions) ** 2\n",
    "    return squared_residuals.sum()\n",
    "\n",
    "def compute_TSS(data, dependent):\n",
    "    return ((dependent.values.reshape(-1, 1) - dependent.values.reshape(-1, 1).mean()) ** 2).sum()\n",
    "\n",
    "def F_statistic(p, data, model):\n",
    "    n = len(data)\n",
    "    RSS = compute_RSS(model, data)\n",
    "    TSS = compute_TSS(data)\n",
    "    return ((TSS - RSS) / p) /\\\n",
    "            (RSS / (n - p - 1))"
   ]
  },
  {
   "cell_type": "code",
   "execution_count": 250,
   "metadata": {},
   "outputs": [
    {
     "data": {
      "text/plain": [
       "516754.7841342668"
      ]
     },
     "execution_count": 250,
     "metadata": {},
     "output_type": "execute_result"
    }
   ],
   "source": [
    "compute_RSS(regr, train[feature_columns], train['norm_AvgTone'])"
   ]
  },
  {
   "cell_type": "code",
   "execution_count": 251,
   "metadata": {},
   "outputs": [
    {
     "data": {
      "text/plain": [
       "1241031.7733438069"
      ]
     },
     "execution_count": 251,
     "metadata": {},
     "output_type": "execute_result"
    }
   ],
   "source": [
    "compute_RSS(ransac, train[feature_columns], train['norm_AvgTone'])"
   ]
  },
  {
   "cell_type": "code",
   "execution_count": 252,
   "metadata": {},
   "outputs": [
    {
     "data": {
      "text/plain": [
       "172924.72077743677"
      ]
     },
     "execution_count": 252,
     "metadata": {},
     "output_type": "execute_result"
    }
   ],
   "source": [
    "compute_RSS(regr, test[feature_columns], test['norm_AvgTone'])"
   ]
  },
  {
   "cell_type": "code",
   "execution_count": 253,
   "metadata": {},
   "outputs": [
    {
     "data": {
      "text/plain": [
       "414723.69992864854"
      ]
     },
     "execution_count": 253,
     "metadata": {},
     "output_type": "execute_result"
    }
   ],
   "source": [
    "compute_RSS(ransac, test[feature_columns], test['norm_AvgTone'])"
   ]
  },
  {
   "cell_type": "code",
   "execution_count": 257,
   "metadata": {},
   "outputs": [
    {
     "data": {
      "text/plain": [
       "0.21090464835551326"
      ]
     },
     "execution_count": 257,
     "metadata": {},
     "output_type": "execute_result"
    }
   ],
   "source": [
    "1 - compute_RSS(regr, train[feature_columns], train['norm_AvgTone'])/ \\\n",
    "    compute_TSS(train[feature_columns], train['norm_AvgTone'])"
   ]
  },
  {
   "cell_type": "code",
   "execution_count": 258,
   "metadata": {},
   "outputs": [
    {
     "data": {
      "text/plain": [
       "-0.8950814460853946"
      ]
     },
     "execution_count": 258,
     "metadata": {},
     "output_type": "execute_result"
    }
   ],
   "source": [
    "1 - compute_RSS(ransac, train[feature_columns], train['norm_AvgTone'])/ \\\n",
    "    compute_TSS(train[feature_columns], train['norm_AvgTone'])\n",
    "    \n",
    "# Well this is a weird outcome for R^2. Implies RSS is greater than TSS."
   ]
  },
  {
   "cell_type": "code",
   "execution_count": 263,
   "metadata": {},
   "outputs": [],
   "source": [
    "gdelt_sample['AvgTone_Pos?'] = gdelt_sample['norm_AvgTone'] > 0"
   ]
  },
  {
   "cell_type": "code",
   "execution_count": 275,
   "metadata": {},
   "outputs": [],
   "source": [
    "class_model_columns = list(one_hot_encoding.columns)\n",
    "class_model_columns.append('norm_NumMentions')\n",
    "feature_columns = class_model_columns.copy()\n",
    "class_model_columns.append('AvgTone_Pos?')"
   ]
  },
  {
   "cell_type": "code",
   "execution_count": 267,
   "metadata": {},
   "outputs": [],
   "source": [
    "gdelt_sample_cm = gdelt_sample[class_model_columns]"
   ]
  },
  {
   "cell_type": "code",
   "execution_count": 271,
   "metadata": {},
   "outputs": [],
   "source": [
    "class_train, class_test = train_test_split(gdelt_sample_cm, test_size=0.25, random_state=42)"
   ]
  },
  {
   "cell_type": "code",
   "execution_count": null,
   "metadata": {},
   "outputs": [],
   "source": [
    "bnb = BernoulliNB()\n",
    "bnb.fit(class_train[feature_columns], class_train['AvgTone_Pos?'])"
   ]
  },
  {
   "cell_type": "code",
   "execution_count": null,
   "metadata": {},
   "outputs": [],
   "source": []
  }
 ],
 "metadata": {
  "kernelspec": {
   "display_name": "Python 3",
   "language": "python",
   "name": "python3"
  },
  "language_info": {
   "codemirror_mode": {
    "name": "ipython",
    "version": 3
   },
   "file_extension": ".py",
   "mimetype": "text/x-python",
   "name": "python",
   "nbconvert_exporter": "python",
   "pygments_lexer": "ipython3",
   "version": "3.6.5"
  }
 },
 "nbformat": 4,
 "nbformat_minor": 2
}
