{
 "cells": [
  {
   "cell_type": "markdown",
   "metadata": {},
   "source": [
    "Using a dataset of your choice, select an outcome variable and then pick four or five other variables (one to two categorical, three to four continuous) to act as the basis for features. Explore the variables using the univariate and bivariate methods you've learned so far. \n",
    "\n",
    "Next, based on what you learned via your data exploration, create ten new features. Explain the reasoning behind each one.\n",
    "\n",
    "Finally, use filtering methods to select the five best features and justify your choices."
   ]
  },
  {
   "cell_type": "markdown",
   "metadata": {},
   "source": [
    "Fun with categorical variables\n",
    "    0 or 1 value\n",
    "    \n",
    "Changing variable types\n",
    "    We can also take a continuous variable and make it categorical.\n",
    "    \n",
    "Categorical, Ordinal, Interval, Ratio\n",
    "\n",
    "Combining two or more highly-correlated variables\n",
    "\n",
    "Dealing with non-normality\n",
    "    Transform to normal\n",
    "    \n",
    "Creating linear relationships\n",
    "\n",
    "Making variables easier to understand in light of the research question\n",
    "\n",
    "Leveling the playing field\n",
    "\n",
    "All about interactions"
   ]
  },
  {
   "cell_type": "markdown",
   "metadata": {},
   "source": [
    "GlobalEventID\n",
    "SQLDATE\n",
    "AvgTone\n",
    "QuadClass \n",
    "Goldstein Scale - \n",
    "NumMentions (normalize by overall mentions going on) - Ratio\n",
    "IsRootEvent - Categorical\n",
    "EventBaseCode\n",
    "Actor1Geo_ADM1Code/Actor2Geo_ADM1Code/ActionGeo_ADM1Code\n",
    "\n",
    "SOURCEURL and Tone"
   ]
  },
  {
   "cell_type": "code",
   "execution_count": null,
   "metadata": {},
   "outputs": [],
   "source": []
  }
 ],
 "metadata": {
  "kernelspec": {
   "display_name": "Python 3",
   "language": "python",
   "name": "python3"
  },
  "language_info": {
   "codemirror_mode": {
    "name": "ipython",
    "version": 3
   },
   "file_extension": ".py",
   "mimetype": "text/x-python",
   "name": "python",
   "nbconvert_exporter": "python",
   "pygments_lexer": "ipython3",
   "version": "3.6.5"
  }
 },
 "nbformat": 4,
 "nbformat_minor": 2
}
