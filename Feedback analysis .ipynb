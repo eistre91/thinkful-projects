{
 "cells": [
  {
   "cell_type": "markdown",
   "metadata": {},
   "source": [
    "## Challenge Description\n",
    "\n",
    "Now we'll perform a sentiment analysis, classifying whether feedback left on a website is either positive or negative.\n",
    "\n",
    "When you're satisfied with its performance (at this point just using the accuracy measure shown in the example), test it on one of the other datasets to see how well these kinds of classifiers translate from one context to another."
   ]
  },
  {
   "cell_type": "code",
   "execution_count": 2,
   "metadata": {},
   "outputs": [],
   "source": [
    "%matplotlib inline\n",
    "import numpy as np\n",
    "import pandas as pd\n",
    "import scipy\n",
    "import sklearn\n",
    "import matplotlib.pyplot as plt\n",
    "import seaborn as sns\n",
    "import string\n",
    "from sklearn.naive_bayes import BernoulliNB\n",
    "import itertools\n",
    "from sklearn.model_selection import train_test_split\n",
    "\n",
    "pd.set_option('display.max_rows', 100)"
   ]
  },
  {
   "cell_type": "code",
   "execution_count": 3,
   "metadata": {},
   "outputs": [
    {
     "data": {
      "text/plain": [
       "'!\"#$%&\\'()*+,-./:;<=>?@[\\\\]^_`{|}~'"
      ]
     },
     "execution_count": 3,
     "metadata": {},
     "output_type": "execute_result"
    }
   ],
   "source": [
    "string.punctuation"
   ]
  },
  {
   "cell_type": "code",
   "execution_count": 4,
   "metadata": {},
   "outputs": [],
   "source": [
    "data_amazon = \"amazon_cells_labelled.txt\"\n",
    "amazon_raw = pd.read_csv(data_amazon, sep='\\t', header=None)\n",
    "amazon_raw.columns = ['sentence', 'score']"
   ]
  },
  {
   "cell_type": "code",
   "execution_count": 5,
   "metadata": {},
   "outputs": [
    {
     "data": {
      "text/html": [
       "<div>\n",
       "<style scoped>\n",
       "    .dataframe tbody tr th:only-of-type {\n",
       "        vertical-align: middle;\n",
       "    }\n",
       "\n",
       "    .dataframe tbody tr th {\n",
       "        vertical-align: top;\n",
       "    }\n",
       "\n",
       "    .dataframe thead th {\n",
       "        text-align: right;\n",
       "    }\n",
       "</style>\n",
       "<table border=\"1\" class=\"dataframe\">\n",
       "  <thead>\n",
       "    <tr style=\"text-align: right;\">\n",
       "      <th></th>\n",
       "      <th>sentence</th>\n",
       "      <th>score</th>\n",
       "    </tr>\n",
       "  </thead>\n",
       "  <tbody>\n",
       "    <tr>\n",
       "      <th>0</th>\n",
       "      <td>So there is no way for me to plug it in here i...</td>\n",
       "      <td>0</td>\n",
       "    </tr>\n",
       "    <tr>\n",
       "      <th>1</th>\n",
       "      <td>Good case, Excellent value.</td>\n",
       "      <td>1</td>\n",
       "    </tr>\n",
       "    <tr>\n",
       "      <th>2</th>\n",
       "      <td>Great for the jawbone.</td>\n",
       "      <td>1</td>\n",
       "    </tr>\n",
       "    <tr>\n",
       "      <th>3</th>\n",
       "      <td>Tied to charger for conversations lasting more...</td>\n",
       "      <td>0</td>\n",
       "    </tr>\n",
       "    <tr>\n",
       "      <th>4</th>\n",
       "      <td>The mic is great.</td>\n",
       "      <td>1</td>\n",
       "    </tr>\n",
       "  </tbody>\n",
       "</table>\n",
       "</div>"
      ],
      "text/plain": [
       "                                            sentence  score\n",
       "0  So there is no way for me to plug it in here i...      0\n",
       "1                        Good case, Excellent value.      1\n",
       "2                             Great for the jawbone.      1\n",
       "3  Tied to charger for conversations lasting more...      0\n",
       "4                                  The mic is great.      1"
      ]
     },
     "execution_count": 5,
     "metadata": {},
     "output_type": "execute_result"
    }
   ],
   "source": [
    "amazon_raw.head()"
   ]
  },
  {
   "cell_type": "markdown",
   "metadata": {},
   "source": [
    "I first gather a dictionary of every possible word in the sentences of the amazon reviews to get an idea of what is available for features."
   ]
  },
  {
   "cell_type": "code",
   "execution_count": 6,
   "metadata": {},
   "outputs": [],
   "source": [
    "#https://stackoverflow.com/questions/34293875/how-to-remove-punctuation-marks-from-a-string-in-python-3-x-using-translate\n",
    "word_dict = {}\n",
    "punc_trans = str.maketrans('', '', string.punctuation)\n",
    "num_trans = str.maketrans('', '', string.digits)\n",
    "for sentence in amazon_raw['sentence']:\n",
    "    words = [word.lower() \\\n",
    "             .translate(punc_trans) \\\n",
    "             .translate(num_trans) \\\n",
    "             .strip()\n",
    "             for word in sentence.split(' ')]\n",
    "    for word in words:\n",
    "        word_dict[word] = word_dict.get(word, 0) + 1"
   ]
  },
  {
   "cell_type": "code",
   "execution_count": 72,
   "metadata": {
    "scrolled": true
   },
   "outputs": [
    {
     "data": {
      "text/plain": [
       "                 128\n",
       "a                218\n",
       "abhor              1\n",
       "ability            2\n",
       "able               4\n",
       "abound             1\n",
       "about             18\n",
       "above              2\n",
       "abovepretty        1\n",
       "absolutel          1\n",
       "absolutely         4\n",
       "ac                 1\n",
       "accept             2\n",
       "acceptable         1\n",
       "access             2\n",
       "accessable         1\n",
       "accessing          1\n",
       "accessory          1\n",
       "accessoryone       1\n",
       "accidentally       2\n",
       "accompanied        1\n",
       "according          1\n",
       "activate           1\n",
       "activated          1\n",
       "activesync         1\n",
       "actually           4\n",
       "ad                 1\n",
       "adapter            1\n",
       "adapters           1\n",
       "add                1\n",
       "addition           1\n",
       "additional         2\n",
       "address            1\n",
       "adhesive           1\n",
       "adorable           2\n",
       "advertised         2\n",
       "advise             2\n",
       "after             27\n",
       "again             12\n",
       "against            1\n",
       "aggravating        1\n",
       "ago                4\n",
       "alarm              1\n",
       "all               41\n",
       "allot              1\n",
       "allow              1\n",
       "allowing           1\n",
       "allows             2\n",
       "almost             3\n",
       "alone              2\n",
       "                ... \n",
       "will              15\n",
       "wind               1\n",
       "window             1\n",
       "windows            1\n",
       "windresistant      1\n",
       "winner             1\n",
       "wiping             1\n",
       "wired              2\n",
       "wirefly            1\n",
       "wireless           3\n",
       "wires              1\n",
       "wise               1\n",
       "wish               1\n",
       "wit                1\n",
       "with             112\n",
       "within             6\n",
       "without            8\n",
       "wobbly             1\n",
       "wonder             1\n",
       "wonderfully        1\n",
       "wont               3\n",
       "wood               1\n",
       "wooden             1\n",
       "word               1\n",
       "work              34\n",
       "worked            20\n",
       "working           11\n",
       "works             47\n",
       "wornout            1\n",
       "worst             14\n",
       "worth              4\n",
       "worthless          3\n",
       "worthwhile         2\n",
       "would             34\n",
       "wouldnt            2\n",
       "wow                2\n",
       "wrong              2\n",
       "wrongfirst         1\n",
       "year               8\n",
       "years              8\n",
       "yearsgreat         1\n",
       "yell               1\n",
       "yes                1\n",
       "yet                3\n",
       "you               68\n",
       "youd               1\n",
       "youll              1\n",
       "your              32\n",
       "za                 1\n",
       "zero               1\n",
       "Length: 1857, dtype: int64"
      ]
     },
     "execution_count": 72,
     "metadata": {},
     "output_type": "execute_result"
    }
   ],
   "source": [
    "word_series = pd.Series(word_dict)\n",
    "word_series"
   ]
  },
  {
   "cell_type": "code",
   "execution_count": 15,
   "metadata": {
    "scrolled": true
   },
   "outputs": [],
   "source": [
    "occur_enough = word_series.sort_values(ascending=False)/word_series.sum() > .002"
   ]
  },
  {
   "cell_type": "markdown",
   "metadata": {},
   "source": [
    "I think set up a few different keyword lists as features. The first was what I thought were most obvious, the second includes a few that occur often enough and might have interesting implications, and the last is to be used in greedy tuning to let the model decide for itself what it wants to use."
   ]
  },
  {
   "cell_type": "code",
   "execution_count": 22,
   "metadata": {},
   "outputs": [],
   "source": [
    "keywords = ['great', 'good', 'quality', 'recommend', 'excellent',\n",
    "           'best', 'like', 'nice']\n",
    "stretch_keys = ['great', 'good', 'quality', 'recommend', 'excellent',\n",
    "           'best', 'service', 'price', 'like', 'nice', 'works', 'work',\n",
    "               'dont', 'price', 'really', 'service']\n",
    "all_words = list(word_series.drop('').index)\n",
    "\n",
    "for key in all_words:\n",
    "    amazon_raw[str(key)] = amazon_raw.sentence.str.contains(\n",
    "        ' ' + str(key) + ' ',\n",
    "        case=False)"
   ]
  },
  {
   "cell_type": "code",
   "execution_count": 23,
   "metadata": {},
   "outputs": [],
   "source": [
    "amazon_raw['score'] = (amazon_raw['score'] == 1)"
   ]
  },
  {
   "cell_type": "code",
   "execution_count": 24,
   "metadata": {},
   "outputs": [
    {
     "data": {
      "text/plain": [
       "<matplotlib.axes._subplots.AxesSubplot at 0x1c70016bc50>"
      ]
     },
     "execution_count": 24,
     "metadata": {},
     "output_type": "execute_result"
    },
    {
     "data": {
      "image/png": "[encoded data removed]",
      "text/plain": [
       "<Figure size 432x288 with 2 Axes>"
      ]
     },
     "metadata": {},
     "output_type": "display_data"
    }
   ],
   "source": [
    "sns.heatmap(amazon_raw[stretch_keys].corr(), cmap=\"Reds\")"
   ]
  },
  {
   "cell_type": "markdown",
   "metadata": {},
   "source": [
    "Below I define a \"greedy tuning\" workflow, which works by starting with an empty list of words for features. It then iterates over the keywords, tries each one in turn, and adds the word as a feature to be used in the final model that ends up reducing the error rate the most. This process is continued until no successive word improves the model any further. Note that this is done with a train/test split.  "
   ]
  },
  {
   "cell_type": "code",
   "execution_count": 65,
   "metadata": {},
   "outputs": [],
   "source": [
    "target = amazon_raw['score']\n",
    "\n",
    "def greedy_tuning(start_error_rate, keys, cap=None):\n",
    "    if cap == None:\n",
    "        cap = (len(keys))\n",
    "    bnb_best = None   \n",
    "    best_error_rate = start_error_rate\n",
    "    greedy_list = []\n",
    "    best_error_rate = 1000\n",
    "    test_keys = keys.copy()\n",
    "    for i in range(cap):\n",
    "        best_add = None\n",
    "        #print(i)\n",
    "        for keyword in test_keys:\n",
    "            test_list = greedy_list.copy()\n",
    "            test_list.append(keyword)\n",
    "            data = amazon_raw[test_list]\n",
    "            X_train, X_test, y_train, y_test = train_test_split(\n",
    "                data, target, test_size=0.2, random_state=42)\n",
    "            bnb = BernoulliNB()\n",
    "            bnb.fit(X_train, y_train)\n",
    "            y_pred = bnb.predict(X_test)\n",
    "            error_rate = (y_test != y_pred).sum()\n",
    "            if error_rate < best_error_rate:\n",
    "                best_add, best_error_rate = keyword, error_rate\n",
    "                bnb_best = bnb\n",
    "                #print(best_error_rate)\n",
    "        if best_add == None:\n",
    "            break\n",
    "        else:\n",
    "            test_keys.remove(best_add)\n",
    "            greedy_list.append(best_add)\n",
    "    print(greedy_list, best_error_rate/len(y_test))\n",
    "    return greedy_list, bnb_best"
   ]
  },
  {
   "cell_type": "markdown",
   "metadata": {},
   "source": [
    "We then apply this greedy tuning algorithm to various lists of words, the first two being hand chosen and the final two ranging over all possible words ever found in a sentence."
   ]
  },
  {
   "cell_type": "code",
   "execution_count": 66,
   "metadata": {},
   "outputs": [
    {
     "name": "stdout",
     "output_type": "stream",
     "text": [
      "['good', 'quality', 'recommend', 'excellent', 'best', 'great'] 0.405\n",
      "['good', 'works', 'quality', 'recommend', 'price', 'best'] 0.355\n",
      "['not', 'get', 'buy', 'me', 'right', 'do', 'last', 'return', 'service', 'terrible', 'too', 'ask', 'bad', 'cannot'] 0.255\n",
      "['not', 'get', 'buy', 'me', 'right', 'do', 'last', 'return', 'service', 'terrible'] 0.28\n"
     ]
    }
   ],
   "source": [
    "greedy_list_min, bnb_min = greedy_tuning(1000, keywords)\n",
    "greedy_list_med, bnb_med = greedy_tuning(1000, stretch_keys)\n",
    "greedy_list_all, bnb_all = greedy_tuning(1000, all_words)\n",
    "greedy_list_cap, bnb_cap = greedy_tuning(1000, all_words, cap=10)"
   ]
  },
  {
   "cell_type": "markdown",
   "metadata": {},
   "source": [
    "Perhaps unexpectedly, the greedy tuning that finds the best model was entirely without human intervention in the initially crafted set of lists. We then end up with the entirely greedy tuned list of keywords having the best predictive power. "
   ]
  },
  {
   "cell_type": "markdown",
   "metadata": {},
   "source": [
    "We now try to apply the classifier to the yelp dataset, to see how well the classifier works on a new dataset without any extra training."
   ]
  },
  {
   "cell_type": "code",
   "execution_count": 46,
   "metadata": {},
   "outputs": [
    {
     "data": {
      "text/html": [
       "<div>\n",
       "<style scoped>\n",
       "    .dataframe tbody tr th:only-of-type {\n",
       "        vertical-align: middle;\n",
       "    }\n",
       "\n",
       "    .dataframe tbody tr th {\n",
       "        vertical-align: top;\n",
       "    }\n",
       "\n",
       "    .dataframe thead th {\n",
       "        text-align: right;\n",
       "    }\n",
       "</style>\n",
       "<table border=\"1\" class=\"dataframe\">\n",
       "  <thead>\n",
       "    <tr style=\"text-align: right;\">\n",
       "      <th></th>\n",
       "      <th>sentence</th>\n",
       "      <th>score</th>\n",
       "    </tr>\n",
       "  </thead>\n",
       "  <tbody>\n",
       "    <tr>\n",
       "      <th>0</th>\n",
       "      <td>Wow... Loved this place.</td>\n",
       "      <td>1</td>\n",
       "    </tr>\n",
       "    <tr>\n",
       "      <th>1</th>\n",
       "      <td>Crust is not good.</td>\n",
       "      <td>0</td>\n",
       "    </tr>\n",
       "    <tr>\n",
       "      <th>2</th>\n",
       "      <td>Not tasty and the texture was just nasty.</td>\n",
       "      <td>0</td>\n",
       "    </tr>\n",
       "    <tr>\n",
       "      <th>3</th>\n",
       "      <td>Stopped by during the late May bank holiday of...</td>\n",
       "      <td>1</td>\n",
       "    </tr>\n",
       "    <tr>\n",
       "      <th>4</th>\n",
       "      <td>The selection on the menu was great and so wer...</td>\n",
       "      <td>1</td>\n",
       "    </tr>\n",
       "  </tbody>\n",
       "</table>\n",
       "</div>"
      ],
      "text/plain": [
       "                                            sentence  score\n",
       "0                           Wow... Loved this place.      1\n",
       "1                                 Crust is not good.      0\n",
       "2          Not tasty and the texture was just nasty.      0\n",
       "3  Stopped by during the late May bank holiday of...      1\n",
       "4  The selection on the menu was great and so wer...      1"
      ]
     },
     "execution_count": 46,
     "metadata": {},
     "output_type": "execute_result"
    }
   ],
   "source": [
    "data_yelp = \"yelp_labelled.txt\"\n",
    "yelp_raw = pd.read_csv(data_yelp, sep='\\t', header=None)\n",
    "yelp_raw.columns = ['sentence', 'score']\n",
    "yelp_raw.head()"
   ]
  },
  {
   "cell_type": "code",
   "execution_count": 52,
   "metadata": {},
   "outputs": [],
   "source": [
    "for key in all_words:\n",
    "    yelp_raw[str(key)] = yelp_raw.sentence.str.contains(\n",
    "        ' ' + str(key) + ' ',\n",
    "        case=False)\n",
    "\n",
    "yelp_raw['score'] = (yelp_raw['score'] == 1)"
   ]
  },
  {
   "cell_type": "code",
   "execution_count": 70,
   "metadata": {},
   "outputs": [
    {
     "name": "stdout",
     "output_type": "stream",
     "text": [
      "0.419\n",
      "0.461\n",
      "0.413\n",
      "0.421\n"
     ]
    }
   ],
   "source": [
    "yelp_target = yelp_raw['score']\n",
    "\n",
    "y_pred_min = bnb_min.predict(yelp_raw[greedy_list_min])\n",
    "error_rate_min = (yelp_target != y_pred_min).sum()\n",
    "print(error_rate_min/len(yelp_target))\n",
    "\n",
    "y_pred_med = bnb_med.predict(yelp_raw[greedy_list_med])\n",
    "error_rate_med = (yelp_target != y_pred_med).sum()\n",
    "print(error_rate_med/len(yelp_target))\n",
    "\n",
    "y_pred_all = bnb_all.predict(yelp_raw[greedy_list_all])\n",
    "error_rate_all = (yelp_target != y_pred_all).sum()\n",
    "print(error_rate_all/len(yelp_target))\n",
    "\n",
    "y_pred_cap = bnb_cap.predict(yelp_raw[greedy_list_cap])\n",
    "error_rate_cap = (yelp_target != y_pred_cap).sum()\n",
    "print(error_rate_cap/len(yelp_target))"
   ]
  },
  {
   "cell_type": "markdown",
   "metadata": {},
   "source": [
    "And I'm actually really surprised that the greedy tuned list on all words of the amazon lists works the best here as well. I assumed it would overfit to the amazon data, but I guess there's more universal properties of reviews than I initially thought."
   ]
  }
 ],
 "metadata": {
  "kernelspec": {
   "display_name": "Python 3",
   "language": "python",
   "name": "python3"
  },
  "language_info": {
   "codemirror_mode": {
    "name": "ipython",
    "version": 3
   },
   "file_extension": ".py",
   "mimetype": "text/x-python",
   "name": "python",
   "nbconvert_exporter": "python",
   "pygments_lexer": "ipython3",
   "version": "3.6.5"
  }
 },
 "nbformat": 4,
 "nbformat_minor": 2
}
